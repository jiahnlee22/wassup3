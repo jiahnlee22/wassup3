{
 "cells": [
  {
   "cell_type": "code",
   "execution_count": 1,
   "id": "45895e2e-a3f7-485e-8588-48be5b4aba2a",
   "metadata": {},
   "outputs": [
    {
     "name": "stdout",
     "output_type": "stream",
     "text": [
      "hello\n"
     ]
    }
   ],
   "source": [
    "print(\"hello\")"
   ]
  },
  {
   "cell_type": "markdown",
   "id": "3a965070-b51d-4bf5-aabe-dde8b3e851d7",
   "metadata": {},
   "source": [
    "print(\"hello\")"
   ]
  },
  {
   "cell_type": "code",
   "execution_count": null,
   "id": "a3b95953-c40b-4625-a1d3-9348bd268a52",
   "metadata": {},
   "outputs": [],
   "source": [
    "pip install jupyter_nbextensions_configurator jupyter_contrib_nbextensions"
   ]
  },
  {
   "cell_type": "code",
   "execution_count": null,
   "id": "17c3cfe0-8c8e-4dc9-a6ea-24a0010e69a8",
   "metadata": {},
   "outputs": [],
   "source": []
  }
 ],
 "metadata": {
  "kernelspec": {
   "display_name": "Python 3 (ipykernel)",
   "language": "python",
   "name": "python3"
  },
  "language_info": {
   "codemirror_mode": {
    "name": "ipython",
    "version": 3
   },
   "file_extension": ".py",
   "mimetype": "text/x-python",
   "name": "python",
   "nbconvert_exporter": "python",
   "pygments_lexer": "ipython3",
   "version": "3.11.7"
  }
 },
 "nbformat": 4,
 "nbformat_minor": 5
}
