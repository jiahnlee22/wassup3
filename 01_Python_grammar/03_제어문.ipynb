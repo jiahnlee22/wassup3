{
 "cells": [
  {
   "cell_type": "markdown",
   "id": "d3fa7e3f-5a21-4a00-b22d-e8f30e410353",
   "metadata": {},
   "source": [
    "# for문"
   ]
  },
  {
   "cell_type": "code",
   "execution_count": 38,
   "id": "75c870d1-411e-456e-969e-87f81f049505",
   "metadata": {},
   "outputs": [
    {
     "name": "stdout",
     "output_type": "stream",
     "text": [
      "1번 학생 합격\n",
      "2번 학생 불합격\n",
      "3번 학생 합격\n",
      "4번 학생 불합격\n",
      "5번 학생 합격\n"
     ]
    }
   ],
   "source": [
    "mark = [90,25,67,45,80]\n",
    "num = 0\n",
    "for marks in mark:\n",
    "    num = num +1\n",
    "    if marks >= 60: print(f'{num}번 학생 합격')\n",
    "    else: print(f'{num}번 학생 불합격')"
   ]
  },
  {
   "cell_type": "code",
   "execution_count": 33,
   "id": "ccc5df2c-aea8-45f1-9170-da83d7ed56c2",
   "metadata": {},
   "outputs": [
    {
     "data": {
      "text/plain": [
       "range(0, 10)"
      ]
     },
     "execution_count": 33,
     "metadata": {},
     "output_type": "execute_result"
    }
   ],
   "source": [
    "range(10)"
   ]
  },
  {
   "cell_type": "code",
   "execution_count": 34,
   "id": "f044467a-610c-48a1-bdd7-2de1bae8ce83",
   "metadata": {},
   "outputs": [
    {
     "name": "stdout",
     "output_type": "stream",
     "text": [
      "0\n",
      "1\n",
      "2\n",
      "3\n",
      "4\n",
      "5\n",
      "6\n",
      "7\n",
      "8\n",
      "9\n"
     ]
    }
   ],
   "source": [
    "# range 함수 = 반복작업 특화 a~b-1까지\n",
    "for i in range(10):\n",
    "    print(i)"
   ]
  },
  {
   "cell_type": "code",
   "execution_count": 32,
   "id": "24c03102-a969-45f1-8d10-ee92cea3e7ac",
   "metadata": {},
   "outputs": [
    {
     "name": "stdout",
     "output_type": "stream",
     "text": [
      "1\n",
      "3\n",
      "6\n",
      "10\n",
      "15\n",
      "21\n",
      "28\n",
      "36\n",
      "45\n",
      "55\n"
     ]
    }
   ],
   "source": [
    "# 1부터 10까지 더하기\n",
    "## sum이라는 변수를 만들어 증가하는 값을 더할 수 있게 함\n",
    "sum = 0\n",
    "for i in range(1,11):\n",
    "    sum +=i\n",
    "    print(sum)"
   ]
  },
  {
   "cell_type": "code",
   "execution_count": 43,
   "id": "c5ded4a7-eae1-4b2d-8c5a-95443f8cdd1f",
   "metadata": {},
   "outputs": [
    {
     "name": "stdout",
     "output_type": "stream",
     "text": [
      "1번 학생 합격 ㅊㅊ\n",
      "3번 학생 합격 ㅊㅊ\n",
      "5번 학생 합격 ㅊㅊ\n"
     ]
    }
   ],
   "source": [
    "# continue로 첫 문제에서 축하 문자보내기\n",
    "# continue(다시시작)을 쓰면 해당 항목을 건너 뛰게 된다\n",
    "\n",
    "mark = [90,25,67,45,80]\n",
    "num = 0\n",
    "for marks in mark:\n",
    "    num = num +1\n",
    "    if marks < 60: \n",
    "        continue\n",
    "    print(f'{num}번 학생 합격 ㅊㅊ')"
   ]
  },
  {
   "cell_type": "code",
   "execution_count": null,
   "id": "0589ce28-455a-4caa-8b68-9c30dab12f76",
   "metadata": {},
   "outputs": [],
   "source": [
    "# pass와 continue\n",
    "# 패스는 아랫줄 조건으로 통과하고 컨티뉴는 윗줄 조건으로 건너뛰기"
   ]
  },
  {
   "cell_type": "markdown",
   "id": "17486d58-7562-44d0-9238-9d79111c216c",
   "metadata": {},
   "source": [
    "------------"
   ]
  },
  {
   "cell_type": "code",
   "execution_count": 53,
   "id": "20d21995-0247-4de6-a421-11bab5f580a2",
   "metadata": {},
   "outputs": [
    {
     "name": "stdout",
     "output_type": "stream",
     "text": [
      "2 4 6 8 10 12 14 16 18 \n",
      "3 6 9 12 15 18 21 24 27 \n",
      "4 8 12 16 20 24 28 32 36 \n",
      "5 10 15 20 25 30 35 40 45 \n",
      "6 12 18 24 30 36 42 48 54 \n",
      "7 14 21 28 35 42 49 56 63 \n",
      "8 16 24 32 40 48 56 64 72 \n",
      "9 18 27 36 45 54 63 72 81 \n"
     ]
    }
   ],
   "source": [
    "#구구단 프로그램\n",
    "for i in range(2,10):\n",
    "    for u in range(1,10):\n",
    "        print((i)*(u), end=\" \")\n",
    "    print('')"
   ]
  },
  {
   "cell_type": "code",
   "execution_count": 55,
   "id": "9d3be535-a610-4180-8107-a719b8c04342",
   "metadata": {},
   "outputs": [
    {
     "name": "stdout",
     "output_type": "stream",
     "text": [
      "List Comprehension Time: 0.4052774906158447\n",
      "For loop Time: 0.7075121402740479\n"
     ]
    }
   ],
   "source": [
    "# 리스트 컴프리핸션 - 프로그램 쉽게 만들기\n",
    "# 시간을 단축하는데에 효과적\n",
    "import time #각각의 걸리는 시간을 보자\n",
    "\n",
    "#리스트 컴프리핸션\n",
    "start = time.time() \n",
    "numbers = [i for i in range(1000000)] \n",
    "end = time.time() \n",
    "print('List Comprehension Time:', end-start)\n",
    "\n",
    "#일반\n",
    "start = time.time() \n",
    "numbers = []\n",
    "for i in range(1000000):\n",
    "    numbers.append(i)\n",
    "end = time.time() \n",
    "print('For loop Time:', end-start)"
   ]
  },
  {
   "cell_type": "code",
   "execution_count": null,
   "id": "439cf645-86d5-4329-ae5c-accce7bfbb86",
   "metadata": {},
   "outputs": [],
   "source": []
  },
  {
   "cell_type": "code",
   "execution_count": null,
   "id": "a4533374-64da-4271-866f-72a3d8116150",
   "metadata": {},
   "outputs": [],
   "source": []
  },
  {
   "cell_type": "code",
   "execution_count": null,
   "id": "c6344b39-cbee-4d1a-8166-7f4a9f7196cc",
   "metadata": {},
   "outputs": [],
   "source": []
  },
  {
   "cell_type": "code",
   "execution_count": null,
   "id": "ec1eefed-2871-4833-954a-e166c05e428f",
   "metadata": {},
   "outputs": [],
   "source": []
  },
  {
   "cell_type": "code",
   "execution_count": null,
   "id": "0a610ae7-4664-4026-853e-5b3dfe14ce89",
   "metadata": {},
   "outputs": [],
   "source": []
  }
 ],
 "metadata": {
  "kernelspec": {
   "display_name": "Python 3 (ipykernel)",
   "language": "python",
   "name": "python3"
  },
  "language_info": {
   "codemirror_mode": {
    "name": "ipython",
    "version": 3
   },
   "file_extension": ".py",
   "mimetype": "text/x-python",
   "name": "python",
   "nbconvert_exporter": "python",
   "pygments_lexer": "ipython3",
   "version": "3.11.7"
  }
 },
 "nbformat": 4,
 "nbformat_minor": 5
}
