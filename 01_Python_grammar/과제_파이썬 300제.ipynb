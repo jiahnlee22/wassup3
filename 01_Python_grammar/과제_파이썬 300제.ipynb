{
 "cells": [
  {
   "cell_type": "markdown",
   "id": "12184894-ff5e-4369-b7d4-3a31098e2d08",
   "metadata": {},
   "source": [
    "# 파이썬 시작하기 001~010"
   ]
  },
  {
   "cell_type": "code",
   "execution_count": 4,
   "id": "61cde3b2-aaa5-49fa-b6b8-6e0df3c0eac3",
   "metadata": {},
   "outputs": [
    {
     "name": "stdout",
     "output_type": "stream",
     "text": [
      "Hello World\n"
     ]
    }
   ],
   "source": [
    "print('Hello World')"
   ]
  },
  {
   "cell_type": "code",
   "execution_count": 5,
   "id": "3eee1a29-35d8-4c7b-83a8-47c80bac5a65",
   "metadata": {},
   "outputs": [
    {
     "name": "stdout",
     "output_type": "stream",
     "text": [
      "Mary's cosmetics\n"
     ]
    }
   ],
   "source": [
    "print(\"Mary's cosmetics\")"
   ]
  },
  {
   "cell_type": "code",
   "execution_count": 7,
   "id": "06c52fe1-5b78-40a8-b8c1-968e23664bfa",
   "metadata": {},
   "outputs": [
    {
     "name": "stdout",
     "output_type": "stream",
     "text": [
      "신씨가 소리질렀다. \"도둑이야\".\n"
     ]
    }
   ],
   "source": [
    "print('신씨가 소리질렀다. \"도둑이야\".')"
   ]
  },
  {
   "cell_type": "code",
   "execution_count": 8,
   "id": "4e9ef092-cfab-4582-b303-7e258bc7f263",
   "metadata": {},
   "outputs": [
    {
     "name": "stdout",
     "output_type": "stream",
     "text": [
      "C:\\Windows\n"
     ]
    }
   ],
   "source": [
    "print('C:\\Windows')"
   ]
  },
  {
   "cell_type": "code",
   "execution_count": 9,
   "id": "e8130cdc-0aee-4f5b-9208-d30d268f116c",
   "metadata": {},
   "outputs": [
    {
     "name": "stdout",
     "output_type": "stream",
     "text": [
      "안녕하세요.\n",
      "만나서\t\t반갑습니다.\n"
     ]
    }
   ],
   "source": [
    "print(\"안녕하세요.\\n만나서\\t\\t반갑습니다.\")\n",
    "# \\n 줄바꿈 , \\t 들여쓰기"
   ]
  },
  {
   "cell_type": "code",
   "execution_count": 11,
   "id": "84bcbf59-9880-44fb-9f11-895ec76d0add",
   "metadata": {},
   "outputs": [
    {
     "name": "stdout",
     "output_type": "stream",
     "text": [
      "오늘은 일요일\n"
     ]
    }
   ],
   "source": [
    "print (\"오늘은\", \"일요일\")\n",
    "# 오늘은 일요일"
   ]
  },
  {
   "cell_type": "code",
   "execution_count": 13,
   "id": "b705f85c-c30c-45ae-b242-eae8165ecce5",
   "metadata": {},
   "outputs": [
    {
     "name": "stdout",
     "output_type": "stream",
     "text": [
      "naver;kakao;sk;samsung\n"
     ]
    }
   ],
   "source": [
    "print('naver','kakao','sk','samsung',sep=';')"
   ]
  },
  {
   "cell_type": "code",
   "execution_count": 14,
   "id": "664a4aed-1f41-4e6d-9570-4cbac3ada000",
   "metadata": {},
   "outputs": [
    {
     "name": "stdout",
     "output_type": "stream",
     "text": [
      "naver/kakao/sk/samsung\n"
     ]
    }
   ],
   "source": [
    "print('naver','kakao','sk','samsung',sep='/')"
   ]
  },
  {
   "cell_type": "code",
   "execution_count": 24,
   "id": "ad0a1f8b-7cdb-4965-a47e-5eb3c003ccd9",
   "metadata": {},
   "outputs": [
    {
     "name": "stdout",
     "output_type": "stream",
     "text": [
      "firstsecond\n"
     ]
    }
   ],
   "source": [
    "print(\"first\", end=\"\");print(\"second\")"
   ]
  },
  {
   "cell_type": "code",
   "execution_count": 25,
   "id": "e13b3bfb-de07-4cdc-aa41-eac1ee59fadf",
   "metadata": {},
   "outputs": [
    {
     "name": "stdout",
     "output_type": "stream",
     "text": [
      "1.6666666666666667\n"
     ]
    }
   ],
   "source": [
    "print(5/3)"
   ]
  },
  {
   "cell_type": "code",
   "execution_count": null,
   "id": "6ab4b906-e101-4d02-bc7c-c6d053c51444",
   "metadata": {},
   "outputs": [],
   "source": []
  },
  {
   "cell_type": "markdown",
   "id": "45cf68a2-b2dd-43f3-866e-d1807ea842a7",
   "metadata": {},
   "source": [
    "# 파이썬 변수 011~020"
   ]
  },
  {
   "cell_type": "code",
   "execution_count": 33,
   "id": "923576ec-4b1f-44eb-a5d8-f3163841821c",
   "metadata": {},
   "outputs": [
    {
     "name": "stdout",
     "output_type": "stream",
     "text": [
      "500000\n"
     ]
    }
   ],
   "source": [
    "삼성전자 = 50000\n",
    "총평가금액 = 삼성전자 * 10\n",
    "print(총평가금액)"
   ]
  },
  {
   "cell_type": "code",
   "execution_count": 44,
   "id": "0b9c66fe-e385-4a54-baa7-215479222f9f",
   "metadata": {},
   "outputs": [
    {
     "name": "stdout",
     "output_type": "stream",
     "text": [
      "298000000000000\n",
      "50000\n",
      "15.79\n"
     ]
    }
   ],
   "source": [
    "시가총액 = 298000000000000\n",
    "현재가 =50000\n",
    "PER = 15.79\n",
    "\n",
    "print(시가총액)\n",
    "print(현재가)\n",
    "print(PER)"
   ]
  },
  {
   "cell_type": "code",
   "execution_count": 51,
   "id": "68748bbb-2283-4f93-938c-08375b31f950",
   "metadata": {},
   "outputs": [
    {
     "name": "stdout",
     "output_type": "stream",
     "text": [
      "hello! python\n"
     ]
    }
   ],
   "source": [
    "s = \"hello\"\n",
    "t = \"python\"\n",
    "print (s+'!',t)"
   ]
  },
  {
   "cell_type": "code",
   "execution_count": 54,
   "id": "140cfa5f-4122-46f6-8fae-49bf5d8a7700",
   "metadata": {},
   "outputs": [
    {
     "data": {
      "text/plain": [
       "8"
      ]
     },
     "execution_count": 54,
     "metadata": {},
     "output_type": "execute_result"
    }
   ],
   "source": [
    "2 + 2 * 3\n",
    "#8"
   ]
  },
  {
   "cell_type": "code",
   "execution_count": 57,
   "id": "ec5ea50d-7588-4c7c-9cfe-98e5cc540dd9",
   "metadata": {},
   "outputs": [
    {
     "name": "stdout",
     "output_type": "stream",
     "text": [
      "<class 'str'>\n"
     ]
    }
   ],
   "source": [
    "a = \"132\"\n",
    "print (type(a))\n",
    "#str"
   ]
  },
  {
   "cell_type": "code",
   "execution_count": 68,
   "id": "54b33d18-0ed5-4ab7-b3a5-c0e0c8f8c845",
   "metadata": {},
   "outputs": [
    {
     "name": "stdout",
     "output_type": "stream",
     "text": [
      "<class 'int'>\n"
     ]
    }
   ],
   "source": [
    "num_str = \"720\"\n",
    "num_int = int(num_str)\n",
    "print (type(num_int))"
   ]
  },
  {
   "cell_type": "code",
   "execution_count": 71,
   "id": "ff060d78-273a-4703-bb7d-0200a728da9d",
   "metadata": {},
   "outputs": [
    {
     "name": "stdout",
     "output_type": "stream",
     "text": [
      "<class 'str'>\n"
     ]
    }
   ],
   "source": [
    "num = 100\n",
    "num_str = str(num)\n",
    "print (type(num_str))"
   ]
  },
  {
   "cell_type": "code",
   "execution_count": 75,
   "id": "ef4f5eaf-3518-486b-b372-2613491d1112",
   "metadata": {},
   "outputs": [
    {
     "name": "stdout",
     "output_type": "stream",
     "text": [
      "<class 'float'>\n"
     ]
    }
   ],
   "source": [
    "num = '15.79'\n",
    "num_1 = float(num)\n",
    "print (type(num_1))"
   ]
  },
  {
   "cell_type": "code",
   "execution_count": 82,
   "id": "bf17e02e-304b-4de9-aa74-f909f955ab66",
   "metadata": {},
   "outputs": [
    {
     "name": "stdout",
     "output_type": "stream",
     "text": [
      "2017 2018 2019\n"
     ]
    }
   ],
   "source": [
    "year = \"2020\"\n",
    "year_int=int(year)\n",
    "print(year_int-3,year_int-2,year_int-1)"
   ]
  },
  {
   "cell_type": "code",
   "execution_count": 84,
   "id": "a38834e6-a43e-4e14-b1c6-2f8feeb767cf",
   "metadata": {},
   "outputs": [
    {
     "name": "stdout",
     "output_type": "stream",
     "text": [
      "1749024\n"
     ]
    }
   ],
   "source": [
    "cool = 48584\n",
    "총금액 = cool*36\n",
    "print(총금액)"
   ]
  },
  {
   "cell_type": "code",
   "execution_count": null,
   "id": "aa9250b9-4c18-45be-9c23-9ffd386e181f",
   "metadata": {},
   "outputs": [],
   "source": []
  },
  {
   "cell_type": "markdown",
   "id": "7a6cc19d-193c-4d5e-a050-0f61aee7ecfa",
   "metadata": {},
   "source": [
    "# 파이썬 문자열 021~030"
   ]
  },
  {
   "cell_type": "code",
   "execution_count": 89,
   "id": "24727719-fa87-48df-b8c5-58a2e57f4cba",
   "metadata": {},
   "outputs": [
    {
     "name": "stdout",
     "output_type": "stream",
     "text": [
      "p t\n"
     ]
    }
   ],
   "source": [
    "letters = 'python'\n",
    "print (letters[0],letters[2])"
   ]
  },
  {
   "cell_type": "code",
   "execution_count": 91,
   "id": "3b6d7748-9268-4497-a71b-24473172894e",
   "metadata": {},
   "outputs": [
    {
     "name": "stdout",
     "output_type": "stream",
     "text": [
      "2210\n"
     ]
    }
   ],
   "source": [
    "license_plate = \"24가 2210\"\n",
    "print (license_plate[4:])"
   ]
  },
  {
   "cell_type": "code",
   "execution_count": 94,
   "id": "4d86e5b3-5da6-4795-b83b-7dcb2d994d7d",
   "metadata": {},
   "outputs": [
    {
     "name": "stdout",
     "output_type": "stream",
     "text": [
      "홀홀홀\n"
     ]
    }
   ],
   "source": [
    "string = \"홀짝홀짝홀짝\"\n",
    "print (string[::2])"
   ]
  },
  {
   "cell_type": "code",
   "execution_count": 97,
   "id": "6d702dc8-ed23-4299-86bb-637e48e7505a",
   "metadata": {},
   "outputs": [
    {
     "name": "stdout",
     "output_type": "stream",
     "text": [
      "NOHTYP\n"
     ]
    }
   ],
   "source": [
    "string = \"PYTHON\"\n",
    "print (string[::-1])"
   ]
  },
  {
   "cell_type": "code",
   "execution_count": 106,
   "id": "f5a84398-0248-489a-8536-0c82eda3eb9e",
   "metadata": {},
   "outputs": [
    {
     "name": "stdout",
     "output_type": "stream",
     "text": [
      "010 1111 2222\n"
     ]
    }
   ],
   "source": [
    "phone_number = \"010-1111-2222\"\n",
    "phone_number1 = phone_number.replace(\"-\", \" \")\n",
    "print(phone_number1)"
   ]
  },
  {
   "cell_type": "code",
   "execution_count": 108,
   "id": "2c648b0a-584d-492c-afba-9a6b12cd3279",
   "metadata": {},
   "outputs": [
    {
     "name": "stdout",
     "output_type": "stream",
     "text": [
      "01011112222\n"
     ]
    }
   ],
   "source": [
    "phone_number2 = phone_number1.replace(\" \", \"\")\n",
    "print(phone_number2)"
   ]
  },
  {
   "cell_type": "code",
   "execution_count": 110,
   "id": "18d60681-e2df-4fa0-9531-64431a3d348c",
   "metadata": {},
   "outputs": [
    {
     "name": "stdout",
     "output_type": "stream",
     "text": [
      "kr\n"
     ]
    }
   ],
   "source": [
    "url = \"http://sharebook.kr\"\n",
    "url1 = url.split('.')\n",
    "print(url1[-1])"
   ]
  },
  {
   "cell_type": "code",
   "execution_count": 116,
   "id": "f6163779-b12f-4d66-ad13-172bc50c462b",
   "metadata": {},
   "outputs": [
    {
     "ename": "TypeError",
     "evalue": "'str' object does not support item assignment",
     "output_type": "error",
     "traceback": [
      "\u001b[1;31m---------------------------------------------------------------------------\u001b[0m",
      "\u001b[1;31mTypeError\u001b[0m                                 Traceback (most recent call last)",
      "Cell \u001b[1;32mIn[116], line 2\u001b[0m\n\u001b[0;32m      1\u001b[0m lang \u001b[38;5;241m=\u001b[39m \u001b[38;5;124m'\u001b[39m\u001b[38;5;124mpython\u001b[39m\u001b[38;5;124m'\u001b[39m\n\u001b[1;32m----> 2\u001b[0m lang[\u001b[38;5;241m0\u001b[39m] \u001b[38;5;241m=\u001b[39m \u001b[38;5;124m'\u001b[39m\u001b[38;5;124mP\u001b[39m\u001b[38;5;124m'\u001b[39m\n\u001b[0;32m      3\u001b[0m \u001b[38;5;28mprint\u001b[39m(lang)\n",
      "\u001b[1;31mTypeError\u001b[0m: 'str' object does not support item assignment"
     ]
    }
   ],
   "source": [
    "lang = 'python'\n",
    "lang[0] = 'P'\n",
    "print(lang)\n",
    "\n",
    "#Error"
   ]
  },
  {
   "cell_type": "code",
   "execution_count": 122,
   "id": "373fe482-ae20-4e1f-835e-eda5375961b2",
   "metadata": {},
   "outputs": [
    {
     "name": "stdout",
     "output_type": "stream",
     "text": [
      "Abcdfe2A354A32A\n"
     ]
    }
   ],
   "source": [
    "string = 'abcdfe2a354a32a'\n",
    "print(string.replace('a','A'))"
   ]
  },
  {
   "cell_type": "code",
   "execution_count": 124,
   "id": "25ccd3d2-cdab-49be-8523-e7ceea3b2c35",
   "metadata": {},
   "outputs": [
    {
     "name": "stdout",
     "output_type": "stream",
     "text": [
      "abcd\n"
     ]
    }
   ],
   "source": [
    "string = 'abcd'\n",
    "string.replace('b', 'B')\n",
    "print(string)\n",
    "# abcd"
   ]
  },
  {
   "cell_type": "code",
   "execution_count": null,
   "id": "bb5a78f9-deaa-4341-b12f-dfaf4cd362f1",
   "metadata": {},
   "outputs": [],
   "source": []
  },
  {
   "cell_type": "markdown",
   "id": "4720734a-0dec-465c-bfb9-ff9e748fdef7",
   "metadata": {},
   "source": [
    "# 파이썬 문자열 031~040"
   ]
  },
  {
   "cell_type": "code",
   "execution_count": 129,
   "id": "fe859376-b50a-4256-890d-0f5e3b82fb89",
   "metadata": {},
   "outputs": [
    {
     "name": "stdout",
     "output_type": "stream",
     "text": [
      "34\n"
     ]
    }
   ],
   "source": [
    "a = \"3\"\n",
    "b = \"4\"\n",
    "print(a + b)\n",
    "#34"
   ]
  },
  {
   "cell_type": "code",
   "execution_count": 131,
   "id": "5879cfc4-1166-43f1-8ef9-7a370232c2ee",
   "metadata": {},
   "outputs": [
    {
     "name": "stdout",
     "output_type": "stream",
     "text": [
      "HiHiHi\n"
     ]
    }
   ],
   "source": [
    "print(\"Hi\" * 3)\n",
    "#HiHiHi"
   ]
  },
  {
   "cell_type": "code",
   "execution_count": 134,
   "id": "8c12a22c-d38e-4d18-86c3-cfa18e13752d",
   "metadata": {},
   "outputs": [
    {
     "name": "stdout",
     "output_type": "stream",
     "text": [
      "--------------------------------------------------------------------------------\n"
     ]
    }
   ],
   "source": [
    "a = '-'\n",
    "print(a *80)"
   ]
  },
  {
   "cell_type": "code",
   "execution_count": 137,
   "id": "2f83127c-a40f-478f-88ed-a243cce7be7c",
   "metadata": {},
   "outputs": [
    {
     "name": "stdout",
     "output_type": "stream",
     "text": [
      "python java python java python java python java \n"
     ]
    }
   ],
   "source": [
    "t1 = 'python'\n",
    "t2 = 'java'\n",
    "print((t1+' '+t2+' ')*4)"
   ]
  },
  {
   "cell_type": "code",
   "execution_count": 153,
   "id": "498ae8e4-f898-400c-af88-cb7a40a7bb68",
   "metadata": {},
   "outputs": [
    {
     "name": "stdout",
     "output_type": "stream",
     "text": [
      "이름: 김민수 나이:10\n",
      "이름: 이철희 나이:13\n"
     ]
    }
   ],
   "source": [
    "name1 = \"김민수\" \n",
    "age1 = 10\n",
    "name2 = \"이철희\"\n",
    "age2 = 13\n",
    "print('이름: %s 나이:%d'%(name1,age1))\n",
    "print('이름: %s 나이:%d'%(name2,age2))"
   ]
  },
  {
   "cell_type": "code",
   "execution_count": 158,
   "id": "c5ec34e9-0ed4-43f5-99b5-eeeb7f6fdb8d",
   "metadata": {},
   "outputs": [
    {
     "name": "stdout",
     "output_type": "stream",
     "text": [
      "이름: 김민수 나이:10\n",
      "이름: 이철희 나이:13\n"
     ]
    }
   ],
   "source": [
    "name1 = \"김민수\" \n",
    "age1 = 10\n",
    "name2 = \"이철희\"\n",
    "age2 = 13\n",
    "print('이름: {} 나이:{}'.format(name1,age1))\n",
    "print('이름: {} 나이:{}'.format(name2,age2))"
   ]
  },
  {
   "cell_type": "code",
   "execution_count": 151,
   "id": "9c2220c9-356f-4bdc-bbb7-1a617d3b3673",
   "metadata": {},
   "outputs": [
    {
     "name": "stdout",
     "output_type": "stream",
     "text": [
      "이름: 김민수 나이:10\n",
      "이름: 이철희 나이:13\n"
     ]
    }
   ],
   "source": [
    "name1 = \"김민수\" \n",
    "age1 = 10\n",
    "name2 = \"이철희\"\n",
    "age2 = 13\n",
    "print(f'이름: {name1} 나이:{age1}')\n",
    "print(f'이름: {name2} 나이:{age2}')"
   ]
  },
  {
   "cell_type": "code",
   "execution_count": 163,
   "id": "a057d1e2-b28e-4a20-9489-fc9f8f7ca93d",
   "metadata": {},
   "outputs": [
    {
     "name": "stdout",
     "output_type": "stream",
     "text": [
      "5969782550 <class 'int'>\n"
     ]
    }
   ],
   "source": [
    "상장주식수 = \"5,969,782,550\"\n",
    "상장주식수1 = 상장주식수.replace(',','')\n",
    "상장주식수2 = int(상장주식수1)\n",
    "print(상장주식수2,type(상장주식수2))"
   ]
  },
  {
   "cell_type": "code",
   "execution_count": 166,
   "id": "e2363130-fb49-4abf-8dec-d4cfae5db6bd",
   "metadata": {},
   "outputs": [
    {
     "name": "stdout",
     "output_type": "stream",
     "text": [
      "2020/03\n"
     ]
    }
   ],
   "source": [
    "분기 = \"2020/03(E) (IFRS연결)\"\n",
    "print(분기[:7])"
   ]
  },
  {
   "cell_type": "code",
   "execution_count": 167,
   "id": "0794d97a-39d7-4c3e-b893-81508e22390c",
   "metadata": {},
   "outputs": [
    {
     "data": {
      "text/plain": [
       "'삼성전자'"
      ]
     },
     "execution_count": 167,
     "metadata": {},
     "output_type": "execute_result"
    }
   ],
   "source": [
    "data = \"   삼성전자    \"\n",
    "data.replace(' ','')"
   ]
  },
  {
   "cell_type": "markdown",
   "id": "a11f2326-c382-4e21-b050-5a58d224ccf6",
   "metadata": {},
   "source": []
  },
  {
   "cell_type": "markdown",
   "id": "a4a5b741-8f57-41a7-ad2d-a37523126fc4",
   "metadata": {},
   "source": [
    "# 파이썬 문자열 041~050"
   ]
  },
  {
   "cell_type": "code",
   "execution_count": 170,
   "id": "d9146d89-93f6-43a4-85e6-04dfbc3cab50",
   "metadata": {},
   "outputs": [
    {
     "name": "stdout",
     "output_type": "stream",
     "text": [
      "BTC_KRW\n"
     ]
    }
   ],
   "source": [
    "ticker = \"btc_krw\"\n",
    "print(ticker.upper())"
   ]
  },
  {
   "cell_type": "code",
   "execution_count": 177,
   "id": "38dddcd0-d7e8-4cc5-b72b-5fa4fe6999bd",
   "metadata": {},
   "outputs": [
    {
     "name": "stdout",
     "output_type": "stream",
     "text": [
      "btc_krw\n"
     ]
    }
   ],
   "source": [
    "ticker = \"BTC_KRW\"\n",
    "print(ticker.lower())"
   ]
  },
  {
   "cell_type": "code",
   "execution_count": 181,
   "id": "9b2d7ca8-bb5b-405f-a817-3b027ff3a022",
   "metadata": {},
   "outputs": [
    {
     "name": "stdout",
     "output_type": "stream",
     "text": [
      "Hello\n"
     ]
    }
   ],
   "source": [
    "ticker = \"hello\"\n",
    "print(ticker.capitalize())"
   ]
  },
  {
   "cell_type": "code",
   "execution_count": 183,
   "id": "c5f5af11-7bb3-4498-a5ae-1c1ae3120754",
   "metadata": {},
   "outputs": [
    {
     "data": {
      "text/plain": [
       "True"
      ]
     },
     "execution_count": 183,
     "metadata": {},
     "output_type": "execute_result"
    }
   ],
   "source": [
    "file_name = \"보고서.xlsx\"\n",
    "file_name.endswith(\"xlsx\")"
   ]
  },
  {
   "cell_type": "code",
   "execution_count": 185,
   "id": "446ef681-d6c5-44eb-bcd9-46706003e40c",
   "metadata": {},
   "outputs": [
    {
     "data": {
      "text/plain": [
       "True"
      ]
     },
     "execution_count": 185,
     "metadata": {},
     "output_type": "execute_result"
    }
   ],
   "source": [
    "file_name = \"보고서.xlsx\"\n",
    "file_name.endswith((\"xlsx\",\"xls\"))"
   ]
  },
  {
   "cell_type": "code",
   "execution_count": 186,
   "id": "27ad7052-ac60-476f-b110-64dbaedeeefa",
   "metadata": {},
   "outputs": [
    {
     "data": {
      "text/plain": [
       "True"
      ]
     },
     "execution_count": 186,
     "metadata": {},
     "output_type": "execute_result"
    }
   ],
   "source": [
    "file_name = \"2020_보고서.xlsx\"\n",
    "file_name.startswith(\"2020\")"
   ]
  },
  {
   "cell_type": "code",
   "execution_count": 188,
   "id": "fe5f5bf3-fc1b-4392-8b07-175f02637f60",
   "metadata": {},
   "outputs": [
    {
     "data": {
      "text/plain": [
       "['hello', 'world']"
      ]
     },
     "execution_count": 188,
     "metadata": {},
     "output_type": "execute_result"
    }
   ],
   "source": [
    "a = \"hello world\"\n",
    "a.split()"
   ]
  },
  {
   "cell_type": "code",
   "execution_count": 189,
   "id": "4eb684b1-4924-42df-a4c1-45b234aa35e4",
   "metadata": {},
   "outputs": [
    {
     "data": {
      "text/plain": [
       "['btc', 'krw']"
      ]
     },
     "execution_count": 189,
     "metadata": {},
     "output_type": "execute_result"
    }
   ],
   "source": [
    "ticker = \"btc_krw\"\n",
    "ticker.split(\"_\")"
   ]
  },
  {
   "cell_type": "code",
   "execution_count": 190,
   "id": "c4794e34-b867-4854-8987-f873497d5c64",
   "metadata": {},
   "outputs": [
    {
     "data": {
      "text/plain": [
       "['2020', '05', '01']"
      ]
     },
     "execution_count": 190,
     "metadata": {},
     "output_type": "execute_result"
    }
   ],
   "source": [
    "date = \"2020-05-01\"\n",
    "date.split(\"-\")"
   ]
  },
  {
   "cell_type": "code",
   "execution_count": 195,
   "id": "1bc60952-cda4-4647-9f96-6c9dce9ca852",
   "metadata": {},
   "outputs": [
    {
     "data": {
      "text/plain": [
       "'039490'"
      ]
     },
     "execution_count": 195,
     "metadata": {},
     "output_type": "execute_result"
    }
   ],
   "source": [
    "data = \"039490     \"\n",
    "data.rstrip()"
   ]
  },
  {
   "cell_type": "code",
   "execution_count": null,
   "id": "e8e3274c-69d2-46de-9bac-bc500a326930",
   "metadata": {},
   "outputs": [],
   "source": []
  },
  {
   "cell_type": "markdown",
   "id": "d1d9fe64-a4bc-4fea-b7af-f4dfb83e5d3a",
   "metadata": {},
   "source": [
    "# 파이썬 리스트 051~060"
   ]
  },
  {
   "cell_type": "code",
   "execution_count": 200,
   "id": "281dfba7-4c34-47ac-9134-75b1ff14e7e1",
   "metadata": {},
   "outputs": [
    {
     "data": {
      "text/plain": [
       "['닥터 스트레인지', '스플릿', '럭키']"
      ]
     },
     "execution_count": 200,
     "metadata": {},
     "output_type": "execute_result"
    }
   ],
   "source": [
    "movie_rank = [\"닥터 스트레인지\", \"스플릿\", \"럭키\"]\n",
    "movie_rank"
   ]
  },
  {
   "cell_type": "code",
   "execution_count": 205,
   "id": "06b7ffc9-b080-48d6-a81b-46914302486e",
   "metadata": {},
   "outputs": [
    {
     "data": {
      "text/plain": [
       "['닥터 스트레인지', '스플릿', '럭키', '배트맨']"
      ]
     },
     "execution_count": 205,
     "metadata": {},
     "output_type": "execute_result"
    }
   ],
   "source": [
    "movie_rank = [\"닥터 스트레인지\", \"스플릿\", \"럭키\"]\n",
    "movie_rank.append('배트맨')\n",
    "movie_rank"
   ]
  },
  {
   "cell_type": "code",
   "execution_count": 207,
   "id": "7cf9e085-0156-45d3-8dc7-2a8e83d2957c",
   "metadata": {},
   "outputs": [
    {
     "data": {
      "text/plain": [
       "['닥터 스트레인지', '슈퍼맨', '스플릿', '럭키', '배트맨']"
      ]
     },
     "execution_count": 207,
     "metadata": {},
     "output_type": "execute_result"
    }
   ],
   "source": [
    "movie_rank = ['닥터 스트레인지', '스플릿', '럭키', '배트맨']\n",
    "movie_rank.insert(1,'슈퍼맨')\n",
    "movie_rank"
   ]
  },
  {
   "cell_type": "code",
   "execution_count": 209,
   "id": "de4977a9-97ea-42e9-9d04-673008594a49",
   "metadata": {},
   "outputs": [
    {
     "name": "stdout",
     "output_type": "stream",
     "text": [
      "['닥터 스트레인지', '슈퍼맨', '스플릿', '배트맨']\n"
     ]
    }
   ],
   "source": [
    "movie_rank = ['닥터 스트레인지', '슈퍼맨', '스플릿', '럭키', '배트맨']\n",
    "del movie_rank [3]\n",
    "print(movie_rank)"
   ]
  },
  {
   "cell_type": "code",
   "execution_count": 213,
   "id": "139a7c42-17c5-4961-bda8-475f1ab398cf",
   "metadata": {},
   "outputs": [
    {
     "name": "stdout",
     "output_type": "stream",
     "text": [
      "['닥터 스트레인지', '슈퍼맨']\n"
     ]
    }
   ],
   "source": [
    "movie_rank = ['닥터 스트레인지', '슈퍼맨', '스플릿', '배트맨']\n",
    "del movie_rank [2:]\n",
    "print(movie_rank)"
   ]
  },
  {
   "cell_type": "code",
   "execution_count": 214,
   "id": "0e7bcdff-f060-4aa2-9df0-f3f98a9cc1e9",
   "metadata": {},
   "outputs": [
    {
     "data": {
      "text/plain": [
       "['C', 'C++', 'JAVA', 'Python', 'Go', 'C#']"
      ]
     },
     "execution_count": 214,
     "metadata": {},
     "output_type": "execute_result"
    }
   ],
   "source": [
    "lang1 = [\"C\", \"C++\", \"JAVA\"]\n",
    "lang2 = [\"Python\", \"Go\", \"C#\"]\n",
    "lang1 + lang2"
   ]
  },
  {
   "cell_type": "code",
   "execution_count": 218,
   "id": "0315f028-368a-4596-94fa-09305315e0bb",
   "metadata": {},
   "outputs": [
    {
     "name": "stdout",
     "output_type": "stream",
     "text": [
      "max:  7\n",
      "min:  1\n"
     ]
    }
   ],
   "source": [
    "nums = [1, 2, 3, 4, 5, 6, 7]\n",
    "print(\"max: \",max(nums))\n",
    "print(\"min: \",min(nums))"
   ]
  },
  {
   "cell_type": "code",
   "execution_count": 219,
   "id": "64772e5c-cd2f-4883-9e9d-86df2eb70a0c",
   "metadata": {},
   "outputs": [
    {
     "name": "stdout",
     "output_type": "stream",
     "text": [
      "15\n"
     ]
    }
   ],
   "source": [
    "nums = [1, 2, 3, 4, 5]\n",
    "print(sum(nums))"
   ]
  },
  {
   "cell_type": "code",
   "execution_count": 220,
   "id": "7cdd0967-9c39-4ec6-b79b-4088a581cd41",
   "metadata": {},
   "outputs": [
    {
     "data": {
      "text/plain": [
       "12"
      ]
     },
     "execution_count": 220,
     "metadata": {},
     "output_type": "execute_result"
    }
   ],
   "source": [
    "cook = [\"피자\", \"김밥\", \"만두\", \"양념치킨\", \"족발\", \"피자\", \"김치만두\", \"쫄면\", \"소시지\", \"라면\", \"팥빙수\", \"김치전\"]\n",
    "len(cook)"
   ]
  },
  {
   "cell_type": "code",
   "execution_count": 222,
   "id": "89493a86-c035-4578-9c74-232e6d14d758",
   "metadata": {},
   "outputs": [
    {
     "name": "stdout",
     "output_type": "stream",
     "text": [
      "3.0\n"
     ]
    }
   ],
   "source": [
    "nums = [1, 2, 3, 4, 5]\n",
    "print(sum(nums)/len(nums))"
   ]
  },
  {
   "cell_type": "code",
   "execution_count": null,
   "id": "988bc7bf-b477-4c5c-99f6-a14967c41dd5",
   "metadata": {},
   "outputs": [],
   "source": []
  },
  {
   "cell_type": "markdown",
   "id": "4791b798-a708-4079-824e-d46c8b6cf899",
   "metadata": {},
   "source": [
    "# 파이썬 리스트 061~070"
   ]
  },
  {
   "cell_type": "code",
   "execution_count": 223,
   "id": "17837e08-83e5-4e0a-a889-07e4a41ba574",
   "metadata": {},
   "outputs": [
    {
     "name": "stdout",
     "output_type": "stream",
     "text": [
      "[100, 130, 140, 150, 160, 170]\n"
     ]
    }
   ],
   "source": [
    "price = ['20180728', 100, 130, 140, 150, 160, 170]\n",
    "print(price[1:])"
   ]
  },
  {
   "cell_type": "code",
   "execution_count": 224,
   "id": "4d05286c-94a5-47bf-a42f-6d9187f9bcf8",
   "metadata": {},
   "outputs": [
    {
     "name": "stdout",
     "output_type": "stream",
     "text": [
      "[1, 3, 5, 7, 9]\n"
     ]
    }
   ],
   "source": [
    "nums = [1, 2, 3, 4, 5, 6, 7, 8, 9, 10]\n",
    "print(nums[0::2])"
   ]
  },
  {
   "cell_type": "code",
   "execution_count": 225,
   "id": "55ea6167-df51-4ab5-bcd3-d0e6f3e5de8e",
   "metadata": {},
   "outputs": [
    {
     "name": "stdout",
     "output_type": "stream",
     "text": [
      "[2, 4, 6, 8, 10]\n"
     ]
    }
   ],
   "source": [
    "nums = [1, 2, 3, 4, 5, 6, 7, 8, 9, 10]\n",
    "print(nums[1::2])"
   ]
  },
  {
   "cell_type": "code",
   "execution_count": 226,
   "id": "535a4155-9352-4629-a728-0f1022a0ef16",
   "metadata": {},
   "outputs": [
    {
     "name": "stdout",
     "output_type": "stream",
     "text": [
      "[5, 4, 3, 2, 1]\n"
     ]
    }
   ],
   "source": [
    "nums = [1, 2, 3, 4, 5]\n",
    "print(nums[::-1])"
   ]
  },
  {
   "cell_type": "code",
   "execution_count": 233,
   "id": "0856e0ac-4cce-4c49-9553-236dad4d2d11",
   "metadata": {},
   "outputs": [
    {
     "name": "stdout",
     "output_type": "stream",
     "text": [
      "삼성전자 Naver\n"
     ]
    }
   ],
   "source": [
    "interest = ['삼성전자', 'LG전자', 'Naver']\n",
    "print(interest[0],interest[2])"
   ]
  },
  {
   "cell_type": "code",
   "execution_count": 235,
   "id": "15755b6a-5ef0-41f6-83fd-47090b317eb7",
   "metadata": {},
   "outputs": [
    {
     "name": "stdout",
     "output_type": "stream",
     "text": [
      "삼성전자 LG전자 Naver SK하이닉스 미래에셋대우\n"
     ]
    }
   ],
   "source": [
    "interest = ['삼성전자', 'LG전자', 'Naver', 'SK하이닉스', '미래에셋대우']\n",
    "print(\" \".join(interest))"
   ]
  },
  {
   "cell_type": "code",
   "execution_count": 236,
   "id": "f198369c-ed90-45c7-8a0d-fc9a5f8cb40d",
   "metadata": {},
   "outputs": [
    {
     "name": "stdout",
     "output_type": "stream",
     "text": [
      "삼성전자/LG전자/Naver/SK하이닉스/미래에셋대우\n"
     ]
    }
   ],
   "source": [
    "interest = ['삼성전자', 'LG전자', 'Naver', 'SK하이닉스', '미래에셋대우']\n",
    "print(\"/\".join(interest))"
   ]
  },
  {
   "cell_type": "code",
   "execution_count": 237,
   "id": "6e20ba9e-59e8-45d1-8597-b0f43776ed03",
   "metadata": {},
   "outputs": [
    {
     "name": "stdout",
     "output_type": "stream",
     "text": [
      "삼성전자\n",
      "LG전자\n",
      "Naver\n",
      "SK하이닉스\n",
      "미래에셋대우\n"
     ]
    }
   ],
   "source": [
    "interest = ['삼성전자', 'LG전자', 'Naver', 'SK하이닉스', '미래에셋대우']\n",
    "print(\"\\n\".join(interest))"
   ]
  },
  {
   "cell_type": "code",
   "execution_count": 239,
   "id": "81553b18-dca6-4252-913d-a1906d835fd8",
   "metadata": {},
   "outputs": [
    {
     "data": {
      "text/plain": [
       "['삼성전자', 'LG전자', 'Naver']"
      ]
     },
     "execution_count": 239,
     "metadata": {},
     "output_type": "execute_result"
    }
   ],
   "source": [
    "string = \"삼성전자/LG전자/Naver\"\n",
    "a=string.split('/')\n",
    "a"
   ]
  },
  {
   "cell_type": "code",
   "execution_count": 245,
   "id": "7c795538-e59b-4ea1-9633-cb4a57e21b67",
   "metadata": {},
   "outputs": [
    {
     "name": "stdout",
     "output_type": "stream",
     "text": [
      "[1, 2, 3, 4, 5, 9, 10]\n"
     ]
    }
   ],
   "source": [
    "data = [2, 4, 3, 1, 5, 10, 9]\n",
    "data.sort()\n",
    "print(data)"
   ]
  },
  {
   "cell_type": "code",
   "execution_count": null,
   "id": "ba5b6da8-b196-412f-9d0d-e254fc52ed8b",
   "metadata": {},
   "outputs": [],
   "source": []
  },
  {
   "cell_type": "markdown",
   "id": "5342d461-5460-41e8-ae28-22a4f46612e8",
   "metadata": {},
   "source": [
    "# 파이썬 튜플 071~080"
   ]
  },
  {
   "cell_type": "code",
   "execution_count": 249,
   "id": "81496615-1c99-4e7e-886e-9f89e9c8b1b7",
   "metadata": {},
   "outputs": [
    {
     "name": "stdout",
     "output_type": "stream",
     "text": [
      "<class 'tuple'>\n"
     ]
    }
   ],
   "source": [
    "my_variable = ()\n",
    "print(type(my_variable))"
   ]
  },
  {
   "cell_type": "code",
   "execution_count": 252,
   "id": "4fd547ff-cd0c-416c-bc48-2b645f270e17",
   "metadata": {},
   "outputs": [
    {
     "data": {
      "text/plain": [
       "('닥터 스트레인지', '스플릿', '럭키')"
      ]
     },
     "execution_count": 252,
     "metadata": {},
     "output_type": "execute_result"
    }
   ],
   "source": [
    "movie_rank = ('닥터 스트레인지', '스플릿', '럭키')\n",
    "movie_rank"
   ]
  },
  {
   "cell_type": "code",
   "execution_count": 258,
   "id": "39b5ae00-ff2e-40a2-a09f-52ae30b44aa4",
   "metadata": {},
   "outputs": [
    {
     "data": {
      "text/plain": [
       "(1,)"
      ]
     },
     "execution_count": 258,
     "metadata": {},
     "output_type": "execute_result"
    }
   ],
   "source": [
    "a = (1, )\n",
    "a"
   ]
  },
  {
   "cell_type": "code",
   "execution_count": 259,
   "id": "6defbbd6-e179-43a1-b795-697c0f3c3e1d",
   "metadata": {},
   "outputs": [
    {
     "ename": "TypeError",
     "evalue": "'tuple' object does not support item assignment",
     "output_type": "error",
     "traceback": [
      "\u001b[1;31m---------------------------------------------------------------------------\u001b[0m",
      "\u001b[1;31mTypeError\u001b[0m                                 Traceback (most recent call last)",
      "Cell \u001b[1;32mIn[259], line 2\u001b[0m\n\u001b[0;32m      1\u001b[0m t \u001b[38;5;241m=\u001b[39m (\u001b[38;5;241m1\u001b[39m, \u001b[38;5;241m2\u001b[39m, \u001b[38;5;241m3\u001b[39m)\n\u001b[1;32m----> 2\u001b[0m t[\u001b[38;5;241m0\u001b[39m] \u001b[38;5;241m=\u001b[39m \u001b[38;5;124m'\u001b[39m\u001b[38;5;124ma\u001b[39m\u001b[38;5;124m'\u001b[39m\n",
      "\u001b[1;31mTypeError\u001b[0m: 'tuple' object does not support item assignment"
     ]
    }
   ],
   "source": [
    "t = (1, 2, 3)\n",
    "t[0] = 'a'\n",
    "# 리스트와 달리 원소값을 바꿀 수 없다"
   ]
  },
  {
   "cell_type": "code",
   "execution_count": 260,
   "id": "a307c59f-2be5-4b00-afff-4b821154ad3a",
   "metadata": {},
   "outputs": [],
   "source": [
    "t = 1, 2, 3, 4\n",
    "#튜플-소괄호없이 동작가능"
   ]
  },
  {
   "cell_type": "code",
   "execution_count": 263,
   "id": "0ab8dfdb-8d3e-4702-ae99-7f45dae629a5",
   "metadata": {},
   "outputs": [
    {
     "data": {
      "text/plain": [
       "('A', 'b', 'c')"
      ]
     },
     "execution_count": 263,
     "metadata": {},
     "output_type": "execute_result"
    }
   ],
   "source": [
    "t = ('A', 'b', 'c')\n",
    "t"
   ]
  },
  {
   "cell_type": "code",
   "execution_count": 268,
   "id": "3a0d159b-e684-4cbb-a740-8beee9f335e7",
   "metadata": {},
   "outputs": [
    {
     "data": {
      "text/plain": [
       "list"
      ]
     },
     "execution_count": 268,
     "metadata": {},
     "output_type": "execute_result"
    }
   ],
   "source": [
    "interest = ('삼성전자', 'LG전자', 'SK Hynix')\n",
    "interest1= list(interest)\n",
    "type(interest1)"
   ]
  },
  {
   "cell_type": "code",
   "execution_count": 269,
   "id": "68049711-8a0a-463b-bf11-5664622de0dc",
   "metadata": {},
   "outputs": [
    {
     "data": {
      "text/plain": [
       "tuple"
      ]
     },
     "execution_count": 269,
     "metadata": {},
     "output_type": "execute_result"
    }
   ],
   "source": [
    "interest = ['삼성전자', 'LG전자', 'SK Hynix']\n",
    "interest1=tuple(interest)\n",
    "type(interest1)"
   ]
  },
  {
   "cell_type": "code",
   "execution_count": 272,
   "id": "6853854b-1909-4595-8d9e-643f501fe654",
   "metadata": {},
   "outputs": [
    {
     "name": "stdout",
     "output_type": "stream",
     "text": [
      "apple banana cake\n"
     ]
    }
   ],
   "source": [
    "temp = ('apple', 'banana', 'cake')\n",
    "a, b, c = temp\n",
    "print(a, b, c)\n",
    "\n",
    "#temp ??왜지"
   ]
  },
  {
   "cell_type": "code",
   "execution_count": 273,
   "id": "0d1d5c9b-1861-49fe-aff0-c6daed0e09e9",
   "metadata": {},
   "outputs": [
    {
     "name": "stdout",
     "output_type": "stream",
     "text": [
      "(2, 4, 6, 8, 10, 12, 14, 16, 18, 20, 22, 24, 26, 28, 30, 32, 34, 36, 38, 40, 42, 44, 46, 48, 50, 52, 54, 56, 58, 60, 62, 64, 66, 68, 70, 72, 74, 76, 78, 80, 82, 84, 86, 88, 90, 92, 94, 96, 98)\n"
     ]
    }
   ],
   "source": [
    "data = tuple(range(2, 100, 2))\n",
    "print( data )"
   ]
  },
  {
   "cell_type": "markdown",
   "id": "793bd82c-61a8-4bef-be35-6d3b50e63339",
   "metadata": {},
   "source": []
  },
  {
   "cell_type": "markdown",
   "id": "81c7a2ae-217e-47f5-a967-dc60852a4f4f",
   "metadata": {},
   "source": [
    "# 파이썬 딕셔너리 081~100"
   ]
  },
  {
   "cell_type": "code",
   "execution_count": 2,
   "id": "be7b6c50-9fb3-437d-9f52-686859e0d5ca",
   "metadata": {},
   "outputs": [
    {
     "data": {
      "text/plain": [
       "[8.8, 8.9, 8.7, 9.2, 9.3, 9.7, 9.9, 9.5]"
      ]
     },
     "execution_count": 2,
     "metadata": {},
     "output_type": "execute_result"
    }
   ],
   "source": [
    "scores = [8.8, 8.9, 8.7, 9.2, 9.3, 9.7, 9.9, 9.5, 7.8, 9.4]\n",
    "*valid_score, b,c = scores\n",
    "valid_score"
   ]
  },
  {
   "cell_type": "code",
   "execution_count": 3,
   "id": "29aa9284-329a-4996-ba2d-a10d5943f628",
   "metadata": {},
   "outputs": [
    {
     "data": {
      "text/plain": [
       "[8.7, 9.2, 9.3, 9.7, 9.9, 9.5, 7.8, 9.4]"
      ]
     },
     "execution_count": 3,
     "metadata": {},
     "output_type": "execute_result"
    }
   ],
   "source": [
    "scores = [8.8, 8.9, 8.7, 9.2, 9.3, 9.7, 9.9, 9.5, 7.8, 9.4]\n",
    "a, b, *valid_score = scores\n",
    "valid_score"
   ]
  },
  {
   "cell_type": "code",
   "execution_count": 4,
   "id": "832f6575-800a-422c-94a2-458d1e9f0a4a",
   "metadata": {},
   "outputs": [
    {
     "data": {
      "text/plain": [
       "[8.9, 8.7, 9.2, 9.3, 9.7, 9.9, 9.5, 7.8]"
      ]
     },
     "execution_count": 4,
     "metadata": {},
     "output_type": "execute_result"
    }
   ],
   "source": [
    "scores = [8.8, 8.9, 8.7, 9.2, 9.3, 9.7, 9.9, 9.5, 7.8, 9.4]\n",
    "a, *valid_score, b = scores\n",
    "valid_score"
   ]
  },
  {
   "cell_type": "code",
   "execution_count": 7,
   "id": "d17f8f7f-e8a5-4035-80a4-fba6b4c0c7b0",
   "metadata": {},
   "outputs": [
    {
     "data": {
      "text/plain": [
       "{}"
      ]
     },
     "execution_count": 7,
     "metadata": {},
     "output_type": "execute_result"
    }
   ],
   "source": [
    "#temp 이름의 비어있는 딕셔너리를 만들라.\n",
    "temp ={}\n",
    "temp"
   ]
  },
  {
   "cell_type": "code",
   "execution_count": 9,
   "id": "eeda26e3-a828-4e65-ada3-d0da1073d0e7",
   "metadata": {},
   "outputs": [
    {
     "data": {
      "text/plain": [
       "{'메로나': 1000, '폴라포': 1200, '빵빠레': 1800}"
      ]
     },
     "execution_count": 9,
     "metadata": {},
     "output_type": "execute_result"
    }
   ],
   "source": [
    "a = {'메로나':1000, '폴라포':1200, '빵빠레':1800 }\n",
    "a"
   ]
  },
  {
   "cell_type": "code",
   "execution_count": 10,
   "id": "008ca09c-20e8-44ba-9347-2a5c064bc3cf",
   "metadata": {},
   "outputs": [
    {
     "data": {
      "text/plain": [
       "{'메로나': 1000, '폴라포': 1200, '빵빠레': 1800, '죠스바': 1200, '월드콘': 1500}"
      ]
     },
     "execution_count": 10,
     "metadata": {},
     "output_type": "execute_result"
    }
   ],
   "source": [
    "a['죠스바']=1200\n",
    "a['월드콘']=1500\n",
    "a"
   ]
  },
  {
   "cell_type": "code",
   "execution_count": 22,
   "id": "3f7d1b48-b642-4f2d-b0f9-abdb27fc2f63",
   "metadata": {},
   "outputs": [
    {
     "name": "stdout",
     "output_type": "stream",
     "text": [
      "1000\n"
     ]
    }
   ],
   "source": [
    "ice = {'메로나': 1000,\n",
    "       '폴로포': 1200,\n",
    "       '빵빠레': 1800,\n",
    "       '죠스바': 1200,\n",
    "       '월드콘': 1500}\n",
    "print(ice['메로나'])"
   ]
  },
  {
   "cell_type": "code",
   "execution_count": 24,
   "id": "2995a304-5aee-4114-9446-6e1b293a67ae",
   "metadata": {},
   "outputs": [
    {
     "data": {
      "text/plain": [
       "{'메로나': 1300, '폴로포': 1200, '빵빠레': 1800, '죠스바': 1200, '월드콘': 1500}"
      ]
     },
     "execution_count": 24,
     "metadata": {},
     "output_type": "execute_result"
    }
   ],
   "source": [
    "ice['메로나']=1300\n",
    "ice"
   ]
  },
  {
   "cell_type": "code",
   "execution_count": 25,
   "id": "7cc9b0bc-9437-4ee7-9a71-63d304f9a77f",
   "metadata": {},
   "outputs": [
    {
     "name": "stdout",
     "output_type": "stream",
     "text": [
      "{'폴로포': 1200, '빵빠레': 1800, '죠스바': 1200, '월드콘': 1500}\n"
     ]
    }
   ],
   "source": [
    "del ice['메로나']\n",
    "print(ice)"
   ]
  },
  {
   "cell_type": "code",
   "execution_count": 27,
   "id": "a7d0d86b-6015-4428-959b-4a9ef7ac078a",
   "metadata": {},
   "outputs": [
    {
     "ename": "KeyError",
     "evalue": "'누가바'",
     "output_type": "error",
     "traceback": [
      "\u001b[1;31m---------------------------------------------------------------------------\u001b[0m",
      "\u001b[1;31mKeyError\u001b[0m                                  Traceback (most recent call last)",
      "Cell \u001b[1;32mIn[27], line 2\u001b[0m\n\u001b[0;32m      1\u001b[0m icecream \u001b[38;5;241m=\u001b[39m {\u001b[38;5;124m'\u001b[39m\u001b[38;5;124m폴라포\u001b[39m\u001b[38;5;124m'\u001b[39m: \u001b[38;5;241m1200\u001b[39m, \u001b[38;5;124m'\u001b[39m\u001b[38;5;124m빵빠레\u001b[39m\u001b[38;5;124m'\u001b[39m: \u001b[38;5;241m1800\u001b[39m, \u001b[38;5;124m'\u001b[39m\u001b[38;5;124m월드콘\u001b[39m\u001b[38;5;124m'\u001b[39m: \u001b[38;5;241m1500\u001b[39m, \u001b[38;5;124m'\u001b[39m\u001b[38;5;124m메로나\u001b[39m\u001b[38;5;124m'\u001b[39m: \u001b[38;5;241m1000\u001b[39m}\n\u001b[1;32m----> 2\u001b[0m icecream[\u001b[38;5;124m'\u001b[39m\u001b[38;5;124m누가바\u001b[39m\u001b[38;5;124m'\u001b[39m]\n",
      "\u001b[1;31mKeyError\u001b[0m: '누가바'"
     ]
    }
   ],
   "source": [
    "icecream = {'폴라포': 1200, '빵빠레': 1800, '월드콘': 1500, '메로나': 1000}\n",
    "icecream['누가바']\n",
    "# 에러원인 : 누가바가 없잔슴"
   ]
  },
  {
   "cell_type": "code",
   "execution_count": 30,
   "id": "3d5fedf7-8b21-4225-837f-84b0797400c0",
   "metadata": {},
   "outputs": [
    {
     "data": {
      "text/plain": [
       "{'메로나': [300, 20], '비비빅': [400, 3], '죠스바': [250, 100]}"
      ]
     },
     "execution_count": 30,
     "metadata": {},
     "output_type": "execute_result"
    }
   ],
   "source": [
    "인벤토리 = {'메로나' : [300,20],\n",
    "        '비비빅' : [400,3],\n",
    "        '죠스바' : [250, 100]}\n",
    "인벤토리"
   ]
  },
  {
   "cell_type": "code",
   "execution_count": 34,
   "id": "d680f7b8-5dfd-461b-8f5a-3eab775ea6e6",
   "metadata": {},
   "outputs": [
    {
     "name": "stdout",
     "output_type": "stream",
     "text": [
      "300 원\n"
     ]
    }
   ],
   "source": [
    "print(인벤토리['메로나'][0],\"원\")"
   ]
  },
  {
   "cell_type": "code",
   "execution_count": 35,
   "id": "86b04b1f-df4d-4428-8e83-1c5e9b136922",
   "metadata": {},
   "outputs": [
    {
     "name": "stdout",
     "output_type": "stream",
     "text": [
      "20 개\n"
     ]
    }
   ],
   "source": [
    "print(인벤토리['메로나'][1],\"개\")"
   ]
  },
  {
   "cell_type": "code",
   "execution_count": 37,
   "id": "9626e563-237d-4d06-8f20-5a07e023d63f",
   "metadata": {},
   "outputs": [
    {
     "data": {
      "text/plain": [
       "{'메로나': [300, 20], '비비빅': [400, 3], '죠스바': [250, 100], '월드콘': [500, 7]}"
      ]
     },
     "execution_count": 37,
     "metadata": {},
     "output_type": "execute_result"
    }
   ],
   "source": [
    "인벤토리['월드콘']=[500,7]\n",
    "인벤토리"
   ]
  },
  {
   "cell_type": "code",
   "execution_count": 44,
   "id": "85c3dae1-1863-400c-917d-c2d1a0036b7c",
   "metadata": {},
   "outputs": [
    {
     "data": {
      "text/plain": [
       "['탱크보이', '폴라포', '빵빠레', '월드콘', '메로나']"
      ]
     },
     "execution_count": 44,
     "metadata": {},
     "output_type": "execute_result"
    }
   ],
   "source": [
    "icecream = {'탱크보이': 1200, '폴라포': 1200, '빵빠레': 1800, '월드콘': 1500, '메로나': 1000}\n",
    "ice = list(icecream.keys())\n",
    "ice"
   ]
  },
  {
   "cell_type": "code",
   "execution_count": 45,
   "id": "59d8937f-a885-4b8d-9350-8512d9d5202c",
   "metadata": {},
   "outputs": [
    {
     "data": {
      "text/plain": [
       "[1200, 1200, 1800, 1500, 1000]"
      ]
     },
     "execution_count": 45,
     "metadata": {},
     "output_type": "execute_result"
    }
   ],
   "source": [
    "icecream = {'탱크보이': 1200, '폴라포': 1200, '빵빠레': 1800, '월드콘': 1500, '메로나': 1000}\n",
    "ice = list(icecream.values())\n",
    "ice"
   ]
  },
  {
   "cell_type": "code",
   "execution_count": 46,
   "id": "2374180f-b06c-43fe-90ca-69dd9c93a986",
   "metadata": {},
   "outputs": [
    {
     "data": {
      "text/plain": [
       "6700"
      ]
     },
     "execution_count": 46,
     "metadata": {},
     "output_type": "execute_result"
    }
   ],
   "source": [
    "icecream = {'탱크보이': 1200, '폴라포': 1200, '빵빠레': 1800, '월드콘': 1500, '메로나': 1000}\n",
    "ice = list(icecream.values())\n",
    "sum(ice)"
   ]
  },
  {
   "cell_type": "code",
   "execution_count": 52,
   "id": "72b3c9a8-bd8b-4f7f-b088-3ba5f116cbe3",
   "metadata": {},
   "outputs": [
    {
     "data": {
      "text/plain": [
       "{'탱크보이': 1200,\n",
       " '폴라포': 1200,\n",
       " '빵빠레': 1800,\n",
       " '월드콘': 1500,\n",
       " '메로나': 1000,\n",
       " '팥빙수': 2700,\n",
       " '아맛나': 1000}"
      ]
     },
     "execution_count": 52,
     "metadata": {},
     "output_type": "execute_result"
    }
   ],
   "source": [
    "icecream = {'탱크보이': 1200, '폴라포': 1200, '빵빠레': 1800, '월드콘': 1500, '메로나': 1000}\n",
    "new_product = {'팥빙수':2700, '아맛나':1000}\n",
    "icecream.update(new_product)\n",
    "icecream"
   ]
  },
  {
   "cell_type": "code",
   "execution_count": 62,
   "id": "8e9ffb2c-3150-4010-81fd-018233873ab1",
   "metadata": {},
   "outputs": [
    {
     "data": {
      "text/plain": [
       "{'apple': 300, 'pear': 250, 'peach': 400}"
      ]
     },
     "execution_count": 62,
     "metadata": {},
     "output_type": "execute_result"
    }
   ],
   "source": [
    "keys = (\"apple\", \"pear\", \"peach\")\n",
    "vals = (300, 250, 400)\n",
    "결과 = dict(zip(keys,vals))\n",
    "결과"
   ]
  },
  {
   "cell_type": "code",
   "execution_count": 67,
   "id": "afaf2b66-b810-4d3b-93fb-325129ae3fac",
   "metadata": {},
   "outputs": [
    {
     "name": "stdout",
     "output_type": "stream",
     "text": [
      "{'09/05': 10500, '09/06': 10300, '09/07': 10100, '09/08': 10800, '09/09': 11000}\n"
     ]
    }
   ],
   "source": [
    "date = ['09/05', '09/06', '09/07', '09/08', '09/09']\n",
    "close_price = [10500, 10300, 10100, 10800, 11000]\n",
    "close_table = dict(zip(date,close_price))\n",
    "close_table\n",
    "print(close_table)"
   ]
  },
  {
   "cell_type": "code",
   "execution_count": null,
   "id": "7224369b-fa8f-4f30-81c8-b3715e88fe0c",
   "metadata": {},
   "outputs": [],
   "source": []
  },
  {
   "cell_type": "markdown",
   "id": "86f47262-9b12-46c9-bc17-aa2bcfea179f",
   "metadata": {},
   "source": [
    "# 파이썬 분기문 101~130"
   ]
  },
  {
   "cell_type": "code",
   "execution_count": 69,
   "id": "a0c025a3-02bc-47a4-a5da-1bedff352344",
   "metadata": {},
   "outputs": [],
   "source": [
    "#파이썬에서 True 혹은 False를 갖는 데이터 타입은 무엇인가?\n",
    "#bool"
   ]
  },
  {
   "cell_type": "code",
   "execution_count": 70,
   "id": "b1c20b82-c5b7-476b-b445-44fa1245708c",
   "metadata": {},
   "outputs": [
    {
     "name": "stdout",
     "output_type": "stream",
     "text": [
      "False\n"
     ]
    }
   ],
   "source": [
    "print(3 == 5)\n",
    "#False"
   ]
  },
  {
   "cell_type": "code",
   "execution_count": 72,
   "id": "db828628-7969-4cd9-bf09-25a3aad739ed",
   "metadata": {},
   "outputs": [
    {
     "name": "stdout",
     "output_type": "stream",
     "text": [
      "True\n"
     ]
    }
   ],
   "source": [
    "print(3 < 5)\n",
    "#True"
   ]
  },
  {
   "cell_type": "code",
   "execution_count": 73,
   "id": "0b668e08-5e05-4c12-a225-ac0a88541f8a",
   "metadata": {},
   "outputs": [
    {
     "name": "stdout",
     "output_type": "stream",
     "text": [
      "True\n"
     ]
    }
   ],
   "source": [
    "x = 4\n",
    "print(1 < x < 5)\n",
    "#True"
   ]
  },
  {
   "cell_type": "code",
   "execution_count": 74,
   "id": "1d371b03-8e47-460e-9012-df9bc8aac257",
   "metadata": {},
   "outputs": [
    {
     "name": "stdout",
     "output_type": "stream",
     "text": [
      "True\n"
     ]
    }
   ],
   "source": [
    "print ((3 == 3) and (4 != 3))\n",
    "#True"
   ]
  },
  {
   "cell_type": "code",
   "execution_count": 77,
   "id": "c970ba18-ddb6-4b01-a11e-ede9debf9a2b",
   "metadata": {},
   "outputs": [
    {
     "name": "stdout",
     "output_type": "stream",
     "text": [
      "False\n"
     ]
    }
   ],
   "source": [
    "print(3 => 4)\n",
    "#>=가 맞음"
   ]
  },
  {
   "cell_type": "code",
   "execution_count": 80,
   "id": "530d4a01-74b3-4d2d-8e52-29788974b591",
   "metadata": {},
   "outputs": [],
   "source": [
    "if 4 < 3:\n",
    "    print(\"Hello World\")\n",
    "#아무것도 안나옴"
   ]
  },
  {
   "cell_type": "code",
   "execution_count": 81,
   "id": "0cfed495-42ac-4b19-83fe-28a15fa9362a",
   "metadata": {},
   "outputs": [
    {
     "name": "stdout",
     "output_type": "stream",
     "text": [
      "Hi, there.\n"
     ]
    }
   ],
   "source": [
    "if 4 < 3:\n",
    "    print(\"Hello World.\")\n",
    "else:\n",
    "    print(\"Hi, there.\")\n",
    "#Hi, there."
   ]
  },
  {
   "cell_type": "code",
   "execution_count": 82,
   "id": "013f2b08-b2cb-47ca-9fbf-fcb1008f22aa",
   "metadata": {},
   "outputs": [
    {
     "name": "stdout",
     "output_type": "stream",
     "text": [
      "1\n",
      "2\n",
      "4\n"
     ]
    }
   ],
   "source": [
    "if True :\n",
    "    print (\"1\")\n",
    "    print (\"2\")\n",
    "else :\n",
    "    print(\"3\")\n",
    "print(\"4\")\n",
    "#3"
   ]
  },
  {
   "cell_type": "code",
   "execution_count": 83,
   "id": "3b4812b9-e0a1-4a4a-b56d-6144373605bc",
   "metadata": {},
   "outputs": [
    {
     "name": "stdout",
     "output_type": "stream",
     "text": [
      "3\n",
      "5\n"
     ]
    }
   ],
   "source": [
    "if True :\n",
    "    if False:\n",
    "        print(\"1\")\n",
    "        print(\"2\")\n",
    "    else:\n",
    "        print(\"3\")\n",
    "else :\n",
    "    print(\"4\")\n",
    "print(\"5\")\n",
    "#3,5"
   ]
  },
  {
   "cell_type": "code",
   "execution_count": 84,
   "id": "4238cb6c-174a-4b2e-986b-9593af01243d",
   "metadata": {},
   "outputs": [
    {
     "name": "stdin",
     "output_type": "stream",
     "text": [
      " 안녕하세요\n"
     ]
    },
    {
     "name": "stdout",
     "output_type": "stream",
     "text": [
      "안녕하세요안녕하세요\n"
     ]
    }
   ],
   "source": [
    "사용자입력 = input()\n",
    "print(사용자입력*2)"
   ]
  },
  {
   "cell_type": "code",
   "execution_count": 94,
   "id": "238a0fd3-78d7-48d4-874f-68e9728ca3e6",
   "metadata": {},
   "outputs": [
    {
     "name": "stdin",
     "output_type": "stream",
     "text": [
      "숫자를 입력하세요: 30\n"
     ]
    },
    {
     "name": "stdout",
     "output_type": "stream",
     "text": [
      "40\n"
     ]
    }
   ],
   "source": [
    "사용자입력 = int(input('숫자를 입력하세요:'))\n",
    "print(사용자입력+10)"
   ]
  },
  {
   "cell_type": "code",
   "execution_count": 110,
   "id": "2742f40b-ab5b-4ddf-8cb5-4e427946b794",
   "metadata": {},
   "outputs": [
    {
     "name": "stdin",
     "output_type": "stream",
     "text": [
      " 30\n"
     ]
    },
    {
     "name": "stdout",
     "output_type": "stream",
     "text": [
      "짝수\n"
     ]
    }
   ],
   "source": [
    "사용자입력 = input()\n",
    "if int(사용자입력)%2 == 0 :\n",
    "    print('짝수')\n",
    "else :\n",
    "    print('홀수')"
   ]
  },
  {
   "cell_type": "code",
   "execution_count": 121,
   "id": "5f056df9-fb55-4101-9105-7941ad4a3d1c",
   "metadata": {},
   "outputs": [
    {
     "name": "stdin",
     "output_type": "stream",
     "text": [
      " 255\n"
     ]
    },
    {
     "name": "stdout",
     "output_type": "stream",
     "text": [
      "255\n"
     ]
    }
   ],
   "source": [
    "사용자입력 = int(input())\n",
    "이십더하기 = 사용자입력+20\n",
    "\n",
    "if 이십더하기 > 255 :\n",
    "    print(255)\n",
    "else :\n",
    "    print(이십더하기)"
   ]
  },
  {
   "cell_type": "code",
   "execution_count": 133,
   "id": "478dc926-b647-40ae-a7a3-d4440fac63c3",
   "metadata": {},
   "outputs": [
    {
     "name": "stdin",
     "output_type": "stream",
     "text": [
      " 3000\n"
     ]
    },
    {
     "name": "stdout",
     "output_type": "stream",
     "text": [
      "255\n"
     ]
    }
   ],
   "source": [
    "사용자입력 = int(input())\n",
    "이십빼기 = 사용자입력-20\n",
    "\n",
    "if 이십빼기 < 0 :\n",
    "    print(0)\n",
    "elif 이십빼기 > 255 :\n",
    "    print(255)\n",
    "else :\n",
    "    print(이십빼기)"
   ]
  },
  {
   "cell_type": "code",
   "execution_count": 137,
   "id": "f6c8f208-2ed0-47ca-a7bd-5241ecbc4585",
   "metadata": {},
   "outputs": [
    {
     "name": "stdin",
     "output_type": "stream",
     "text": [
      "시: 12\n",
      "분: 0\n"
     ]
    },
    {
     "name": "stdout",
     "output_type": "stream",
     "text": [
      "정각입니다.\n"
     ]
    }
   ],
   "source": [
    "사용자시입력 = int(input('시:'))\n",
    "사용자분입력 = int(input('분:'))\n",
    "if 사용자분입력 == 0 :\n",
    "    print ('정각입니다.')\n",
    "else :\n",
    "    print('정각이 아닙니다.')"
   ]
  },
  {
   "cell_type": "code",
   "execution_count": 148,
   "id": "a9140eaf-5963-4720-be00-7cd945589de8",
   "metadata": {},
   "outputs": [
    {
     "name": "stdin",
     "output_type": "stream",
     "text": [
      "정답인 과일은? 포도\n"
     ]
    },
    {
     "name": "stdout",
     "output_type": "stream",
     "text": [
      "정답입니다\n"
     ]
    }
   ],
   "source": [
    "fruit = [\"사과\", \"포도\", \"홍시\"]\n",
    "사용자입력 = input('정답인 과일은?')\n",
    "\n",
    "if 사용자입력 in fruit :\n",
    "    print ('정답입니다')\n",
    "else :\n",
    "    print ('오답입니다')"
   ]
  },
  {
   "cell_type": "code",
   "execution_count": 149,
   "id": "92af9c26-e367-44a6-9523-dea78738f209",
   "metadata": {},
   "outputs": [
    {
     "name": "stdin",
     "output_type": "stream",
     "text": [
      "원하는 종목은? Microsoft\n"
     ]
    },
    {
     "name": "stdout",
     "output_type": "stream",
     "text": [
      "투자 경고 종목입니다\n"
     ]
    }
   ],
   "source": [
    "warn_investment_list = [\"Microsoft\", \"Google\", \"Naver\", \"Kakao\", \"SAMSUNG\", \"LG\"]\n",
    "사용자입력 = input('원하는 종목은?')\n",
    "\n",
    "if 사용자입력 in warn_investment_list :\n",
    "    print ('투자 경고 종목입니다')\n",
    "else :\n",
    "    print ('투자 경고 종목이 아닙니다.')"
   ]
  },
  {
   "cell_type": "code",
   "execution_count": 159,
   "id": "2befccd3-ee63-4c07-a67c-025e97e268b6",
   "metadata": {},
   "outputs": [
    {
     "name": "stdin",
     "output_type": "stream",
     "text": [
      "제가좋아하는계절은: 봄\n"
     ]
    },
    {
     "name": "stdout",
     "output_type": "stream",
     "text": [
      "정답입니다\n"
     ]
    }
   ],
   "source": [
    "fruit = {\"봄\" : \"딸기\", \"여름\" : \"토마토\", \"가을\" : \"사과\"}\n",
    "사용자입력 = input('제가좋아하는계절은:')\n",
    "\n",
    "if 사용자입력 in list(fruit.keys()):\n",
    "    print ('정답입니다')\n",
    "else :\n",
    "    print ('오답입니다')"
   ]
  },
  {
   "cell_type": "code",
   "execution_count": 161,
   "id": "f8c44c77-a602-4963-b594-e6031e3619f8",
   "metadata": {},
   "outputs": [
    {
     "name": "stdin",
     "output_type": "stream",
     "text": [
      "좋아하는과일은? 사과\n"
     ]
    },
    {
     "name": "stdout",
     "output_type": "stream",
     "text": [
      "정답입니다\n"
     ]
    }
   ],
   "source": [
    "fruit = {\"봄\" : \"딸기\", \"여름\" : \"토마토\", \"가을\" : \"사과\"}\n",
    "사용자입력 = input('좋아하는과일은?')\n",
    "\n",
    "if 사용자입력 in fruit.values():\n",
    "    print ('정답입니다')\n",
    "else :\n",
    "    print ('오답입니다')"
   ]
  },
  {
   "cell_type": "code",
   "execution_count": 181,
   "id": "dc457184-8e66-4838-a819-d48c15fc968e",
   "metadata": {},
   "outputs": [
    {
     "name": "stdin",
     "output_type": "stream",
     "text": [
      " A\n"
     ]
    },
    {
     "name": "stdout",
     "output_type": "stream",
     "text": [
      "a\n"
     ]
    }
   ],
   "source": [
    "사용자입력 = input()\n",
    "if 사용자입력.islower() == True:\n",
    "    print(사용자입력.upper())\n",
    "else :\n",
    "    print(사용자입력.lower())"
   ]
  },
  {
   "cell_type": "code",
   "execution_count": 194,
   "id": "9f842cc2-09b1-4caf-8e76-3f4a2a664f15",
   "metadata": {},
   "outputs": [
    {
     "name": "stdin",
     "output_type": "stream",
     "text": [
      "score:  90\n"
     ]
    },
    {
     "name": "stdout",
     "output_type": "stream",
     "text": [
      "grade is A\n"
     ]
    }
   ],
   "source": [
    "사용자입력 = int(input('score: '))\n",
    "if 81<=사용자입력<=100 :\n",
    "    print ('grade is A')\n",
    "elif 61<=사용자입력<=80 :\n",
    "    print ('grade is B')\n",
    "elif 41<=사용자입력<=60 :\n",
    "    print ('grade is C')\n",
    "elif 21<=사용자입력<=40 :\n",
    "    print ('grade is D')\n",
    "elif 0<=사용자입력<=20 :\n",
    "    print ('grade is F')"
   ]
  },
  {
   "cell_type": "code",
   "execution_count": 204,
   "id": "f44fc414-3476-4196-9256-83dfec142f08",
   "metadata": {},
   "outputs": [
    {
     "name": "stdin",
     "output_type": "stream",
     "text": [
      "입력: 100 위안\n"
     ]
    },
    {
     "name": "stdout",
     "output_type": "stream",
     "text": [
      "17100 원\n"
     ]
    }
   ],
   "source": [
    "사용자입력 = input('입력:')\n",
    "if 사용자입력[-2:] == '달러' :\n",
    "    print (int(사용자입력[:-3])*1167,'원')\n",
    "elif 사용자입력[-1:] == '엔' :\n",
    "    print (int(사용자입력[:-2])*1.096,'원')\n",
    "elif 사용자입력[-1:] == '유로' :\n",
    "    print (int(사용자입력[:-3])*1268,'원')\n",
    "elif 사용자입력[-2:] == '위안' :\n",
    "    print (int(사용자입력[:-3])*171,'원')"
   ]
  },
  {
   "cell_type": "code",
   "execution_count": 211,
   "id": "1cbdd558-b4a7-4d94-930e-543d0533f577",
   "metadata": {},
   "outputs": [
    {
     "name": "stdin",
     "output_type": "stream",
     "text": [
      "입력: 1\n",
      "입력: 23\n",
      "입력: 3\n"
     ]
    },
    {
     "name": "stdout",
     "output_type": "stream",
     "text": [
      "23\n"
     ]
    }
   ],
   "source": [
    "숫자1 = int(input('입력:'))\n",
    "숫자2 = int(input('입력:'))\n",
    "숫자3 = int(input('입력:'))\n",
    "숫자들 = 숫자1, 숫자2, 숫자3\n",
    "print(max(숫자들))"
   ]
  },
  {
   "cell_type": "code",
   "execution_count": 226,
   "id": "2d38199b-e81c-432b-b6d4-d30b3204e22e",
   "metadata": {},
   "outputs": [
    {
     "name": "stdin",
     "output_type": "stream",
     "text": [
      "휴대전화 번호 입력: 017-123-123\n"
     ]
    }
   ],
   "source": [
    "통신사앞자리 = {'011':'SKT','016':'KT','019':'LGU','010':'알수없음'}\n",
    "전화번호 = input('휴대전화 번호 입력:')\n",
    "고객전화번호앞자리 = 전화번호[:3]\n",
    "\n",
    "if 고객전화번호앞자리 in 통신사앞자리:\n",
    "    고객통신사 = 통신사앞자리[고객전화번호앞자리]\n",
    "    print('당신은',고객통신사,'사용자입니다')"
   ]
  },
  {
   "cell_type": "code",
   "execution_count": 243,
   "id": "ce02ede9-b41b-4523-9ca5-1acfcc9ed3a8",
   "metadata": {},
   "outputs": [
    {
     "name": "stdin",
     "output_type": "stream",
     "text": [
      "우편번호 01689\n"
     ]
    },
    {
     "name": "stdout",
     "output_type": "stream",
     "text": [
      "노원구\n"
     ]
    }
   ],
   "source": [
    "우편번호 = str(input('우편번호'))\n",
    "앞세자리 = 우편번호[2]\n",
    "if 앞세자리 in ['1','2','0'] :\n",
    "    print ('강북구')\n",
    "elif 앞세자리 in ['3','4','5'] :\n",
    "    print ('도봉구')\n",
    "elif 앞세자리 in ['6','7','8','9'] :\n",
    "    print ('노원구')"
   ]
  },
  {
   "cell_type": "code",
   "execution_count": 249,
   "id": "3e67b9b1-44ba-43e7-b786-28216308e42c",
   "metadata": {},
   "outputs": [
    {
     "name": "stdin",
     "output_type": "stream",
     "text": [
      "주민번호 960814-3333011\n"
     ]
    },
    {
     "name": "stdout",
     "output_type": "stream",
     "text": [
      "남자\n"
     ]
    }
   ],
   "source": [
    "주민번호 = str(input('주민번호'))\n",
    "일곱자리 = 주민번호[7]\n",
    "if 일곱자리 in ['1','3'] :\n",
    "    print ('남자')\n",
    "else :\n",
    "    print ('여자')"
   ]
  },
  {
   "cell_type": "code",
   "execution_count": 264,
   "id": "8eb9b492-7713-4ecb-97b3-f6bd591ba692",
   "metadata": {},
   "outputs": [
    {
     "name": "stdin",
     "output_type": "stream",
     "text": [
      "주민번호 960814-3003011\n"
     ]
    },
    {
     "name": "stdout",
     "output_type": "stream",
     "text": [
      "서울 입니다.\n"
     ]
    }
   ],
   "source": [
    "주민번호 = str(input('주민번호'))\n",
    "팔구자리 = 주민번호[8:10]\n",
    "if 팔구자리 in ['00','01','02','03','04','05','06','07','08']:\n",
    "    print ('서울 입니다.')\n",
    "else :\n",
    "    print ('서울이 아닙니다')"
   ]
  },
  {
   "cell_type": "code",
   "execution_count": 287,
   "id": "2284e23e-d8d5-470c-abb0-2ef1f01e5807",
   "metadata": {},
   "outputs": [
    {
     "name": "stdin",
     "output_type": "stream",
     "text": [
      "주민번호 821010-1635214\n"
     ]
    },
    {
     "name": "stdout",
     "output_type": "stream",
     "text": [
      "유효한 주민등록번호입니다.\n"
     ]
    }
   ],
   "source": [
    "주민번호 = input('주민번호')\n",
    "계산1 = int(주민번호[0])*2+int(주민번호[1])*3+int(주민번호[2])*4+int(주민번호[3])*5+int(주민번호[4])*6+int(주민번호[5])*7+int(주민번호[7])*8+int(주민번호[8])*9+int(주민번호[9])*2+int(주민번호[10])*3+int(주민번호[11])*4+int(주민번호[12])*5\n",
    "계산2 = 계산1 % 11\n",
    "계산3 = str(11 - 계산2)\n",
    "\n",
    "if 주민번호[-1] == 계산3[-1]:\n",
    "    print('유효한 주민등록번호입니다.' )\n",
    "else :\n",
    "    print('유효하지 않은 주민등록번호입니다.' )"
   ]
  },
  {
   "cell_type": "code",
   "execution_count": 301,
   "id": "22689349-c343-42c2-a09c-dab354b54b72",
   "metadata": {},
   "outputs": [
    {
     "name": "stdout",
     "output_type": "stream",
     "text": [
      "상승장\n"
     ]
    }
   ],
   "source": [
    "import requests\n",
    "btc = requests.get(\"https://api.bithumb.com/public/ticker/\").json()['data']\n",
    "변동폭 = int(btc['max_price'])-int(btc['min_price'])\n",
    "if int(btc['opening_price']) + 변동폭 > int(btc['max_price']):\n",
    "    print ('상승장')\n",
    "else:\n",
    "    print('하락장')"
   ]
  },
  {
   "cell_type": "code",
   "execution_count": null,
   "id": "549a337f-3102-4d4a-9e9f-c0277ed32821",
   "metadata": {},
   "outputs": [],
   "source": []
  },
  {
   "cell_type": "markdown",
   "id": "70384f07-7f3a-4c38-8cba-c803e8654bdd",
   "metadata": {},
   "source": [
    "# 파이썬 반복문 131~200"
   ]
  },
  {
   "cell_type": "code",
   "execution_count": 304,
   "id": "6f6029c9-956f-499d-ab87-daba4173a5ac",
   "metadata": {},
   "outputs": [
    {
     "name": "stdout",
     "output_type": "stream",
     "text": [
      "사과\n",
      "귤\n",
      "수박\n"
     ]
    }
   ],
   "source": [
    "과일 = [\"사과\", \"귤\", \"수박\"]\n",
    "for 변수 in 과일:\n",
    "    print(변수)\n",
    "#사과\n",
    "#귤\n",
    "#수박"
   ]
  },
  {
   "cell_type": "code",
   "execution_count": 305,
   "id": "7dcc2852-e1ba-48dc-bf22-ba9f5287941a",
   "metadata": {},
   "outputs": [
    {
     "name": "stdout",
     "output_type": "stream",
     "text": [
      "#####\n",
      "#####\n",
      "#####\n"
     ]
    }
   ],
   "source": [
    "과일 = [\"사과\", \"귤\", \"수박\"]\n",
    "for 변수 in 과일:\n",
    "  print(\"#####\")"
   ]
  },
  {
   "cell_type": "code",
   "execution_count": 307,
   "id": "79240937-f24d-4228-b784-71f0a6439870",
   "metadata": {},
   "outputs": [
    {
     "name": "stdout",
     "output_type": "stream",
     "text": [
      "A\n",
      "B\n",
      "C\n",
      "A\n",
      "B\n",
      "C\n"
     ]
    }
   ],
   "source": [
    "for 변수 in [\"A\", \"B\", \"C\"]:\n",
    "  print(변수)\n",
    "\n",
    "print(\"A\")\n",
    "print(\"B\")\n",
    "print(\"C\")"
   ]
  },
  {
   "cell_type": "code",
   "execution_count": 315,
   "id": "4c3badd7-4e88-4583-8d7e-ea8179230f09",
   "metadata": {},
   "outputs": [
    {
     "name": "stdout",
     "output_type": "stream",
     "text": [
      "변환: a\n",
      "변환: b\n",
      "변환: c\n"
     ]
    }
   ],
   "source": [
    "for 변수 in [\"A\", \"B\", \"C\"]:\n",
    "  b = 변수.lower()\n",
    "  print(\"변환:\", b)"
   ]
  },
  {
   "cell_type": "code",
   "execution_count": 318,
   "id": "4e8cb738-c250-44b1-9001-79a808b1725e",
   "metadata": {},
   "outputs": [
    {
     "name": "stdout",
     "output_type": "stream",
     "text": [
      "10\n",
      "20\n",
      "30\n"
     ]
    }
   ],
   "source": [
    "for 변수 in [10,20,30]:\n",
    "    print(변수)"
   ]
  },
  {
   "cell_type": "code",
   "execution_count": 319,
   "id": "38e6575e-f2b4-48dc-a5d5-ab56a25d22f1",
   "metadata": {},
   "outputs": [
    {
     "name": "stdout",
     "output_type": "stream",
     "text": [
      "10\n",
      "20\n",
      "30\n"
     ]
    }
   ],
   "source": [
    "for 변수 in [10,20,30]:\n",
    "    print(변수)"
   ]
  },
  {
   "cell_type": "code",
   "execution_count": 321,
   "id": "51088c20-ed68-46b4-8fe6-971535dfc3cd",
   "metadata": {},
   "outputs": [
    {
     "name": "stdout",
     "output_type": "stream",
     "text": [
      "10\n",
      "-------\n",
      "20\n",
      "-------\n",
      "30\n",
      "-------\n"
     ]
    }
   ],
   "source": [
    "for 변수 in [10, 20, 30]:\n",
    "  print(변수)\n",
    "  print(\"-------\")"
   ]
  },
  {
   "cell_type": "code",
   "execution_count": 323,
   "id": "24f045a3-9eea-4cdc-8a38-8559edafd4fb",
   "metadata": {},
   "outputs": [
    {
     "name": "stdout",
     "output_type": "stream",
     "text": [
      "++++\n",
      "10\n",
      "20\n",
      "30\n"
     ]
    }
   ],
   "source": [
    "for 변수 in [\"++++\",10,20,30]:\n",
    "    print(변수)"
   ]
  },
  {
   "cell_type": "code",
   "execution_count": 327,
   "id": "433298ed-956b-4cdb-9642-10e0ac12ee79",
   "metadata": {},
   "outputs": [
    {
     "name": "stdout",
     "output_type": "stream",
     "text": [
      "-------\n",
      "-------\n",
      "-------\n",
      "-------\n"
     ]
    }
   ],
   "source": [
    "for 변수 in [1,2,3,4]:\n",
    "    print(\"-------\")"
   ]
  },
  {
   "cell_type": "code",
   "execution_count": 328,
   "id": "d03e6e19-3ff9-42ae-8001-f13251808b06",
   "metadata": {},
   "outputs": [
    {
     "name": "stdout",
     "output_type": "stream",
     "text": [
      "110\n",
      "210\n",
      "310\n"
     ]
    }
   ],
   "source": [
    "리스트 = [100, 200, 300]\n",
    "for a in 리스트:\n",
    "    print(a+10)"
   ]
  },
  {
   "cell_type": "code",
   "execution_count": 329,
   "id": "6fe08f14-3458-49aa-a04d-d0d777537135",
   "metadata": {},
   "outputs": [
    {
     "name": "stdout",
     "output_type": "stream",
     "text": [
      "오늘의 메뉴: 김밥\n",
      "오늘의 메뉴: 라면\n",
      "오늘의 메뉴: 튀김\n"
     ]
    }
   ],
   "source": [
    "리스트 = [\"김밥\", \"라면\", \"튀김\"]\n",
    "for a in 리스트:\n",
    "    print('오늘의 메뉴:',a)"
   ]
  },
  {
   "cell_type": "code",
   "execution_count": 330,
   "id": "db43f797-ee6d-43e2-a5e8-f22f7ab2bb31",
   "metadata": {},
   "outputs": [
    {
     "name": "stdout",
     "output_type": "stream",
     "text": [
      "6\n",
      "4\n",
      "4\n"
     ]
    }
   ],
   "source": [
    "리스트 = [\"SK하이닉스\", \"삼성전자\", \"LG전자\"]\n",
    "for a in 리스트 :\n",
    "    print(len(a))"
   ]
  },
  {
   "cell_type": "code",
   "execution_count": 334,
   "id": "7e31958c-69da-4ae3-98a4-a4a766007e05",
   "metadata": {},
   "outputs": [
    {
     "name": "stdout",
     "output_type": "stream",
     "text": [
      "dog 3\n",
      "cat 3\n",
      "parrot 6\n"
     ]
    }
   ],
   "source": [
    "리스트 = ['dog', 'cat', 'parrot']\n",
    "for a in 리스트 :\n",
    "    print(a, len(a)) "
   ]
  },
  {
   "cell_type": "code",
   "execution_count": 335,
   "id": "bb9d4cd2-78f3-4633-93a6-e617a98ab618",
   "metadata": {},
   "outputs": [
    {
     "name": "stdout",
     "output_type": "stream",
     "text": [
      "d\n",
      "c\n",
      "p\n"
     ]
    }
   ],
   "source": [
    "리스트 = ['dog', 'cat', 'parrot']\n",
    "for a in 리스트 :\n",
    "    print(a[0])"
   ]
  },
  {
   "cell_type": "code",
   "execution_count": 338,
   "id": "b3badd5a-151d-44cd-8190-809f3adf4300",
   "metadata": {},
   "outputs": [
    {
     "name": "stdout",
     "output_type": "stream",
     "text": [
      "3 x 1\n",
      "3 x 2\n",
      "3 x 3\n"
     ]
    }
   ],
   "source": [
    "리스트 = [1, 2, 3]\n",
    "for a in 리스트 :\n",
    "    print('3 x',a)"
   ]
  },
  {
   "cell_type": "code",
   "execution_count": 340,
   "id": "4cdecf9f-237a-47ab-9382-c74934aa253b",
   "metadata": {},
   "outputs": [
    {
     "name": "stdout",
     "output_type": "stream",
     "text": [
      "3 x 1 = 3\n",
      "3 x 2 = 6\n",
      "3 x 3 = 9\n"
     ]
    }
   ],
   "source": [
    "리스트 = [1, 2, 3]\n",
    "for a in 리스트 :\n",
    "    print('3 x',a,'=',3*a)"
   ]
  },
  {
   "cell_type": "code",
   "execution_count": 344,
   "id": "3932109b-c3df-459b-bc94-23f093ece240",
   "metadata": {},
   "outputs": [
    {
     "name": "stdout",
     "output_type": "stream",
     "text": [
      "나\n",
      "다\n",
      "라\n"
     ]
    }
   ],
   "source": [
    "리스트 = [\"가\", \"나\", \"다\", \"라\"]\n",
    "리스트0 = 리스트[1:]\n",
    "for a in 리스트0 :\n",
    "    print (a)"
   ]
  },
  {
   "cell_type": "code",
   "execution_count": 345,
   "id": "44d70e97-379c-4d7b-94eb-d88826559cf8",
   "metadata": {},
   "outputs": [
    {
     "name": "stdout",
     "output_type": "stream",
     "text": [
      "가\n",
      "다\n"
     ]
    }
   ],
   "source": [
    "리스트 = [\"가\", \"나\", \"다\", \"라\"]\n",
    "리스트0 = 리스트[0],리스트[2]\n",
    "for a in 리스트0 :\n",
    "    print (a)"
   ]
  },
  {
   "cell_type": "code",
   "execution_count": 350,
   "id": "3e6813c7-d334-4b11-b182-441e48ed6689",
   "metadata": {},
   "outputs": [
    {
     "name": "stdout",
     "output_type": "stream",
     "text": [
      "라\n",
      "다\n",
      "나\n",
      "가\n"
     ]
    }
   ],
   "source": [
    "리스트 = [\"가\", \"나\", \"다\", \"라\"]\n",
    "리스트1 = 리스트[::-1]\n",
    "\n",
    "for a in 리스트1 :\n",
    "    print (a)"
   ]
  },
  {
   "cell_type": "code",
   "execution_count": 352,
   "id": "b92cfb7a-b590-4547-bcf8-9bd89e2a1408",
   "metadata": {},
   "outputs": [
    {
     "name": "stdout",
     "output_type": "stream",
     "text": [
      "-20\n",
      "-3\n"
     ]
    }
   ],
   "source": [
    "리스트 = [3, -20, -3, 44]\n",
    "for a in 리스트 :\n",
    "    if a < 0:\n",
    "        print(a)"
   ]
  },
  {
   "cell_type": "code",
   "execution_count": 353,
   "id": "20137168-f2cb-4640-811e-831a9b92a451",
   "metadata": {},
   "outputs": [
    {
     "name": "stdout",
     "output_type": "stream",
     "text": [
      "3\n"
     ]
    }
   ],
   "source": [
    "리스트 = [3, 100, 23, 44]\n",
    "for a in 리스트 :\n",
    "    if a % 3 == 0:\n",
    "        print(a)"
   ]
  },
  {
   "cell_type": "code",
   "execution_count": 356,
   "id": "79e8db1b-ce8c-4995-ad84-bab64491f8c3",
   "metadata": {},
   "outputs": [
    {
     "name": "stdout",
     "output_type": "stream",
     "text": [
      "12\n",
      "18\n"
     ]
    }
   ],
   "source": [
    "리스트 = [13, 21, 12, 14, 30, 18]\n",
    "for a in 리스트 :\n",
    "    if (a % 3 == 0) and (a<20):\n",
    "        print(a)"
   ]
  },
  {
   "cell_type": "code",
   "execution_count": 357,
   "id": "ebf4efe6-cd32-4a4f-9112-f6d47eedde89",
   "metadata": {},
   "outputs": [
    {
     "name": "stdout",
     "output_type": "stream",
     "text": [
      "study\n",
      "python\n",
      "language\n"
     ]
    }
   ],
   "source": [
    "리스트 = [\"I\", \"study\", \"python\", \"language\", \"!\"]\n",
    "for a in 리스트 :\n",
    "    if len(a)>3:\n",
    "        print(a)"
   ]
  },
  {
   "cell_type": "code",
   "execution_count": 358,
   "id": "ffbb0f52-6ce5-4306-a417-8869f9362caa",
   "metadata": {},
   "outputs": [
    {
     "name": "stdout",
     "output_type": "stream",
     "text": [
      "A\n",
      "D\n"
     ]
    }
   ],
   "source": [
    "리스트 = [\"A\", \"b\", \"c\", \"D\"]\n",
    "for a in 리스트 :\n",
    "    if a.isupper():\n",
    "        print(a)"
   ]
  },
  {
   "cell_type": "code",
   "execution_count": 360,
   "id": "d3b5c09e-9d98-44af-be9c-9e525d3af617",
   "metadata": {},
   "outputs": [
    {
     "name": "stdout",
     "output_type": "stream",
     "text": [
      "b\n",
      "c\n"
     ]
    }
   ],
   "source": [
    "리스트 = [\"A\", \"b\", \"c\", \"D\"]\n",
    "for a in 리스트 :\n",
    "    if a.isupper() == False:\n",
    "        print(a)"
   ]
  },
  {
   "cell_type": "code",
   "execution_count": 367,
   "id": "6b518f56-137e-46ee-a41e-1ef7cc3257dc",
   "metadata": {},
   "outputs": [
    {
     "name": "stdout",
     "output_type": "stream",
     "text": [
      "Dog\n",
      "Cat\n",
      "Parrot\n"
     ]
    }
   ],
   "source": [
    "리스트 = ['dog', 'cat', 'parrot']\n",
    "for a in 리스트 :\n",
    "    print(a[0].upper()+a[1:])"
   ]
  },
  {
   "cell_type": "code",
   "execution_count": 380,
   "id": "bcfa6930-23ad-4a94-8e15-205ef2c3eede",
   "metadata": {},
   "outputs": [
    {
     "name": "stdout",
     "output_type": "stream",
     "text": [
      "hello\n",
      "ex01\n",
      "intro\n"
     ]
    }
   ],
   "source": [
    "리스트 = ['hello.py', 'ex01.py', 'intro.hwp']\n",
    "for a in 리스트 :\n",
    "    파일이름 = a.split(\".\")[0]\n",
    "    print(파일이름)"
   ]
  },
  {
   "cell_type": "code",
   "execution_count": 387,
   "id": "5d27b559-0ffc-4adc-89e5-b6bd77514c23",
   "metadata": {},
   "outputs": [
    {
     "name": "stdout",
     "output_type": "stream",
     "text": [
      "intra.h\n",
      "define.h\n"
     ]
    }
   ],
   "source": [
    "리스트 = ['intra.h', 'intra.c', 'define.h', 'run.py']\n",
    "for a in 리스트 :\n",
    "    b = a.split('.')[1]\n",
    "    if b == 'h' :\n",
    "        print(a)"
   ]
  },
  {
   "cell_type": "code",
   "execution_count": 392,
   "id": "d57ed9e0-0240-4684-9dc3-dbf930c45886",
   "metadata": {},
   "outputs": [
    {
     "name": "stdout",
     "output_type": "stream",
     "text": [
      "intra.h\n",
      "intra.c\n",
      "define.h\n"
     ]
    }
   ],
   "source": [
    "리스트 = ['intra.h', 'intra.c', 'define.h', 'run.py']\n",
    "for a in 리스트 :\n",
    "    b = a.split('.')[1]\n",
    "    if (b == 'h') or (b == 'c') :\n",
    "        print(a)"
   ]
  },
  {
   "cell_type": "code",
   "execution_count": null,
   "id": "d2a43bbf-4178-4d09-b733-1761b5bf08a0",
   "metadata": {},
   "outputs": [],
   "source": [
    "for a in range(0,100):\n",
    "    print (a)"
   ]
  },
  {
   "cell_type": "code",
   "execution_count": 398,
   "id": "fad736ea-ef9b-4327-9af0-0b03c907cc6f",
   "metadata": {},
   "outputs": [
    {
     "name": "stdout",
     "output_type": "stream",
     "text": [
      "2002\n",
      "2006\n",
      "2010\n",
      "2014\n",
      "2018\n",
      "2022\n",
      "2026\n",
      "2030\n",
      "2034\n",
      "2038\n",
      "2042\n",
      "2046\n",
      "2050\n"
     ]
    }
   ],
   "source": [
    "for a in range(2002,2051,4):\n",
    "    print (a)"
   ]
  },
  {
   "cell_type": "code",
   "execution_count": 399,
   "id": "4bd1fbeb-61a7-4648-938a-be362e9d4b37",
   "metadata": {},
   "outputs": [
    {
     "name": "stdout",
     "output_type": "stream",
     "text": [
      "3\n",
      "6\n",
      "9\n",
      "12\n",
      "15\n",
      "18\n",
      "21\n",
      "24\n",
      "27\n",
      "30\n"
     ]
    }
   ],
   "source": [
    "for a in range(3,31,3):\n",
    "    print (a)"
   ]
  },
  {
   "cell_type": "code",
   "execution_count": null,
   "id": "17a70119-1a68-4745-ba10-404818037c0a",
   "metadata": {},
   "outputs": [],
   "source": [
    "for a in range(99,-1,-1):\n",
    "    print (a)"
   ]
  },
  {
   "cell_type": "code",
   "execution_count": 402,
   "id": "e8a8b675-6306-4460-8bb6-e98c69ec4ef3",
   "metadata": {},
   "outputs": [
    {
     "name": "stdout",
     "output_type": "stream",
     "text": [
      "0.0\n",
      "0.1\n",
      "0.2\n",
      "0.3\n",
      "0.4\n",
      "0.5\n",
      "0.6\n",
      "0.7\n",
      "0.8\n",
      "0.9\n"
     ]
    }
   ],
   "source": [
    "for a in range(0,10):\n",
    "    print (a/10)"
   ]
  },
  {
   "cell_type": "code",
   "execution_count": 405,
   "id": "516b5599-59db-425c-a95c-108d62af6a58",
   "metadata": {},
   "outputs": [
    {
     "name": "stdout",
     "output_type": "stream",
     "text": [
      "3 x 1 = 3\n",
      "3 x 2 = 6\n",
      "3 x 3 = 9\n",
      "3 x 4 = 12\n",
      "3 x 5 = 15\n",
      "3 x 6 = 18\n",
      "3 x 7 = 21\n",
      "3 x 8 = 24\n",
      "3 x 9 = 27\n"
     ]
    }
   ],
   "source": [
    "x = range(1,10)\n",
    "for a in x :\n",
    "    print(3,'x',a,'=',3*a)"
   ]
  },
  {
   "cell_type": "code",
   "execution_count": 406,
   "id": "04c80e54-8b38-45b4-b7a9-82fafdeef869",
   "metadata": {},
   "outputs": [
    {
     "name": "stdout",
     "output_type": "stream",
     "text": [
      "3 x 1 = 3\n",
      "3 x 3 = 9\n",
      "3 x 5 = 15\n",
      "3 x 7 = 21\n",
      "3 x 9 = 27\n"
     ]
    }
   ],
   "source": [
    "x = range(1,10,2)\n",
    "for a in x :\n",
    "    print(3,'x',a,'=',3*a)"
   ]
  },
  {
   "cell_type": "code",
   "execution_count": 411,
   "id": "39951fad-9279-444f-bc27-ee9684af7904",
   "metadata": {},
   "outputs": [
    {
     "name": "stdout",
     "output_type": "stream",
     "text": [
      "합 : 55\n"
     ]
    }
   ],
   "source": [
    "hab = 0\n",
    "for i in range(1, 11):\n",
    "    hab += i\n",
    "print (\"합 :\", hab)"
   ]
  },
  {
   "cell_type": "code",
   "execution_count": 412,
   "id": "eb7ea4ed-40fd-4867-b580-881499309d0e",
   "metadata": {},
   "outputs": [
    {
     "name": "stdout",
     "output_type": "stream",
     "text": [
      "합 : 25\n"
     ]
    }
   ],
   "source": [
    "hab = 0\n",
    "for i in range(1, 11,2):\n",
    "    hab += i\n",
    "print (\"합 :\", hab)"
   ]
  },
  {
   "cell_type": "code",
   "execution_count": 415,
   "id": "73a9eb90-cecb-43e0-b5d0-55bbb55ab712",
   "metadata": {},
   "outputs": [
    {
     "name": "stdout",
     "output_type": "stream",
     "text": [
      "곱 : 3628800\n"
     ]
    }
   ],
   "source": [
    "hab = 1\n",
    "for i in range(1, 11):\n",
    "    hab *= i\n",
    "print (\"곱 :\", hab)"
   ]
  },
  {
   "cell_type": "code",
   "execution_count": 417,
   "id": "b48ff62f-9494-4a47-a09c-8a7ec2b8c768",
   "metadata": {},
   "outputs": [
    {
     "name": "stdout",
     "output_type": "stream",
     "text": [
      "32100\n",
      "32150\n",
      "32000\n",
      "32500\n"
     ]
    }
   ],
   "source": [
    "price_list = [32100, 32150, 32000, 32500]\n",
    "for a in range(4):\n",
    "    print(price_list[a])"
   ]
  },
  {
   "cell_type": "code",
   "execution_count": 418,
   "id": "11f09ee1-d159-45fe-8be5-563f03534b06",
   "metadata": {},
   "outputs": [
    {
     "name": "stdout",
     "output_type": "stream",
     "text": [
      "0 32100\n",
      "1 32150\n",
      "2 32000\n",
      "3 32500\n"
     ]
    }
   ],
   "source": [
    "price_list = [32100, 32150, 32000, 32500]\n",
    "\n",
    "for a in range(4):\n",
    "    print(a,price_list[a])"
   ]
  },
  {
   "cell_type": "code",
   "execution_count": 425,
   "id": "6eb9b606-6e17-4db1-9fad-18510b5c94e6",
   "metadata": {},
   "outputs": [
    {
     "name": "stdout",
     "output_type": "stream",
     "text": [
      "3 32100\n",
      "2 32150\n",
      "1 32000\n",
      "0 32500\n"
     ]
    }
   ],
   "source": [
    "price_list = [32100, 32150, 32000, 32500]\n",
    "for a in range(4):\n",
    "    print(3-a,price_list[a])"
   ]
  },
  {
   "cell_type": "code",
   "execution_count": 431,
   "id": "835c93c4-6255-401d-b27f-c2cd20eaa178",
   "metadata": {},
   "outputs": [
    {
     "name": "stdout",
     "output_type": "stream",
     "text": [
      "100 32150\n",
      "110 32000\n",
      "120 32500\n"
     ]
    }
   ],
   "source": [
    "price_list = [32100, 32150, 32000, 32500]\n",
    "for a in range(1, 4):\n",
    "    print(100+(a-1)*10,price_list[a])"
   ]
  },
  {
   "cell_type": "code",
   "execution_count": 433,
   "id": "06402d88-f3e0-4fc2-8532-ba418dda64d5",
   "metadata": {},
   "outputs": [
    {
     "name": "stdout",
     "output_type": "stream",
     "text": [
      "가 나\n",
      "나 다\n",
      "다 라\n"
     ]
    }
   ],
   "source": [
    "my_list = [\"가\", \"나\", \"다\", \"라\"]\n",
    "for a in range(0,3):\n",
    "    print(my_list[a],my_list[a+1])"
   ]
  },
  {
   "cell_type": "code",
   "execution_count": 434,
   "id": "05fe116b-b0d4-4767-aca3-1271551bf78e",
   "metadata": {},
   "outputs": [
    {
     "name": "stdout",
     "output_type": "stream",
     "text": [
      "가 나 다\n",
      "나 다 라\n",
      "다 라 마\n"
     ]
    }
   ],
   "source": [
    "my_list = [\"가\", \"나\", \"다\", \"라\", \"마\"]\n",
    "for a in range(0,3):\n",
    "    print(my_list[a],my_list[a+1],my_list[a+2])"
   ]
  },
  {
   "cell_type": "code",
   "execution_count": 445,
   "id": "8323c761-ae66-447e-92ed-e935112b7b5c",
   "metadata": {},
   "outputs": [
    {
     "name": "stdout",
     "output_type": "stream",
     "text": [
      "라 다\n",
      "다 나\n",
      "나 가\n"
     ]
    }
   ],
   "source": [
    "my_list = [\"가\", \"나\", \"다\", \"라\"]\n",
    "for a in range(3,0,-1):\n",
    "    print(my_list[a],my_list[a-1])"
   ]
  },
  {
   "cell_type": "code",
   "execution_count": 446,
   "id": "9fef5a5a-ced7-4148-8d53-d5e36551f80c",
   "metadata": {},
   "outputs": [
    {
     "name": "stdout",
     "output_type": "stream",
     "text": [
      "100\n",
      "200\n",
      "400\n"
     ]
    }
   ],
   "source": [
    "my_list = [100, 200, 400, 800]\n",
    "for a in range(0,3):\n",
    "    print(my_list[a+1]-my_list[a])"
   ]
  },
  {
   "cell_type": "code",
   "execution_count": 449,
   "id": "2c672865-a3b7-401b-a70e-6994c1ffe044",
   "metadata": {},
   "outputs": [
    {
     "name": "stdout",
     "output_type": "stream",
     "text": [
      "233.33333333333334\n",
      "466.6666666666667\n",
      "733.3333333333334\n",
      "1033.3333333333333\n"
     ]
    },
    {
     "ename": "IndexError",
     "evalue": "list index out of range",
     "output_type": "error",
     "traceback": [
      "\u001b[1;31m---------------------------------------------------------------------------\u001b[0m",
      "\u001b[1;31mIndexError\u001b[0m                                Traceback (most recent call last)",
      "Cell \u001b[1;32mIn[449], line 3\u001b[0m\n\u001b[0;32m      1\u001b[0m my_list \u001b[38;5;241m=\u001b[39m [\u001b[38;5;241m100\u001b[39m, \u001b[38;5;241m200\u001b[39m, \u001b[38;5;241m400\u001b[39m, \u001b[38;5;241m800\u001b[39m, \u001b[38;5;241m1000\u001b[39m, \u001b[38;5;241m1300\u001b[39m]\n\u001b[0;32m      2\u001b[0m \u001b[38;5;28;01mfor\u001b[39;00m a \u001b[38;5;129;01min\u001b[39;00m \u001b[38;5;28mrange\u001b[39m(\u001b[38;5;241m0\u001b[39m,\u001b[38;5;241m5\u001b[39m):\n\u001b[1;32m----> 3\u001b[0m     \u001b[38;5;28mprint\u001b[39m(\u001b[38;5;28mabs\u001b[39m(my_list[a]\u001b[38;5;241m+\u001b[39mmy_list[a\u001b[38;5;241m+\u001b[39m\u001b[38;5;241m1\u001b[39m]\u001b[38;5;241m+\u001b[39mmy_list[a\u001b[38;5;241m+\u001b[39m\u001b[38;5;241m2\u001b[39m])\u001b[38;5;241m/\u001b[39m\u001b[38;5;241m3\u001b[39m)\n",
      "\u001b[1;31mIndexError\u001b[0m: list index out of range"
     ]
    }
   ],
   "source": [
    "my_list = [100, 200, 400, 800, 1000, 1300]\n",
    "for a in range(0,5):\n",
    "    print(abs(my_list[a]+my_list[a+1]+my_list[a+2])/3)"
   ]
  },
  {
   "cell_type": "code",
   "execution_count": 456,
   "id": "88fcdcb1-1564-4f25-ad5d-889566e64d7e",
   "metadata": {},
   "outputs": [
    {
     "name": "stdout",
     "output_type": "stream",
     "text": [
      "[50, 100, 30, 80, 0]\n"
     ]
    }
   ],
   "source": [
    "low_prices  = [100, 200, 400, 800, 1000]\n",
    "high_prices = [150, 300, 430, 880, 1000]\n",
    "volatility = []\n",
    "for a in range(0,5):\n",
    "    volatility.append(high_prices[a]-low_prices[a])\n",
    "print(volatility)"
   ]
  },
  {
   "cell_type": "code",
   "execution_count": null,
   "id": "64dbbf4b-eed6-4d68-90bd-9f81f028a6fa",
   "metadata": {},
   "outputs": [],
   "source": [
    "apart = [ [\"101호\", \"102호\"], [\"201호\", \"202호\"], [\"301호\", \"302호\"] ]"
   ]
  },
  {
   "cell_type": "code",
   "execution_count": null,
   "id": "7bf1fc21-ce97-448f-80be-c1ce005fc998",
   "metadata": {},
   "outputs": [],
   "source": [
    "stock = [ [\"시가\", 100,200,300], [\"종가\", 80,210,330] ]"
   ]
  },
  {
   "cell_type": "code",
   "execution_count": null,
   "id": "e6c08236-e789-4b92-a74d-1fe6efaa207b",
   "metadata": {},
   "outputs": [],
   "source": [
    "stock = { \"시가\": [100,200,300], \"종가\": [80,210,330] }"
   ]
  },
  {
   "cell_type": "code",
   "execution_count": null,
   "id": "3729d27d-962f-4055-9ac1-47a3c23a888d",
   "metadata": {},
   "outputs": [],
   "source": [
    "stock = { \"10/10\": [80,110,70,90], \"10/11\": [210,230,190,200] }"
   ]
  },
  {
   "cell_type": "code",
   "execution_count": 463,
   "id": "f8872514-01f9-437c-aeeb-041d294e8b92",
   "metadata": {},
   "outputs": [
    {
     "name": "stdout",
     "output_type": "stream",
     "text": [
      "101 호\n",
      "102 호\n",
      "201 호\n",
      "202 호\n",
      "301 호\n",
      "302 호\n"
     ]
    }
   ],
   "source": [
    "apart = [ [101, 102], [201, 202], [301, 302] ]\n",
    "for a in apart:\n",
    "    for b in a :\n",
    "        print(b,'호')"
   ]
  },
  {
   "cell_type": "code",
   "execution_count": 478,
   "id": "38e44b0a-e517-4d8c-a1f7-fe457145406c",
   "metadata": {},
   "outputs": [
    {
     "name": "stdout",
     "output_type": "stream",
     "text": [
      "301 호\n",
      "302 호\n",
      "201 호\n",
      "202 호\n",
      "101 호\n",
      "102 호\n"
     ]
    }
   ],
   "source": [
    "apart = [ [101, 102], [201, 202], [301, 302] ]\n",
    "for a in apart[::-1]:\n",
    "    for b in a :\n",
    "        print(b,'호')"
   ]
  },
  {
   "cell_type": "code",
   "execution_count": 479,
   "id": "e0da1dcc-c883-4e98-b71a-2f6c1658566b",
   "metadata": {},
   "outputs": [
    {
     "name": "stdout",
     "output_type": "stream",
     "text": [
      "302 호\n",
      "301 호\n",
      "202 호\n",
      "201 호\n",
      "102 호\n",
      "101 호\n"
     ]
    }
   ],
   "source": [
    "apart = [ [101, 102], [201, 202], [301, 302] ]\n",
    "for a in apart[::-1]:\n",
    "    for b in a[::-1] :\n",
    "        print(b,'호')"
   ]
  },
  {
   "cell_type": "code",
   "execution_count": 481,
   "id": "64429ff0-a5b1-4c8c-8af1-db5aec0a6cc0",
   "metadata": {},
   "outputs": [
    {
     "name": "stdout",
     "output_type": "stream",
     "text": [
      "101 호\n",
      "-----\n",
      "102 호\n",
      "-----\n",
      "201 호\n",
      "-----\n",
      "202 호\n",
      "-----\n",
      "301 호\n",
      "-----\n",
      "302 호\n",
      "-----\n"
     ]
    }
   ],
   "source": [
    "apart = [ [101, 102], [201, 202], [301, 302] ]\n",
    "for a in apart:\n",
    "    for b in a :\n",
    "        print(b,'호')\n",
    "        print('-----')"
   ]
  },
  {
   "cell_type": "code",
   "execution_count": 482,
   "id": "4ffd8531-e332-4321-8646-1a974619b6cb",
   "metadata": {},
   "outputs": [
    {
     "name": "stdout",
     "output_type": "stream",
     "text": [
      "101 호\n",
      "102 호\n",
      "-----\n",
      "201 호\n",
      "202 호\n",
      "-----\n",
      "301 호\n",
      "302 호\n",
      "-----\n"
     ]
    }
   ],
   "source": [
    "apart = [ [101, 102], [201, 202], [301, 302] ]\n",
    "for a in apart:\n",
    "    for b in a :\n",
    "        print(b,'호')\n",
    "    print('-----')"
   ]
  },
  {
   "cell_type": "code",
   "execution_count": 483,
   "id": "0e02cb86-6661-4ddb-896f-2e98706a711e",
   "metadata": {},
   "outputs": [
    {
     "name": "stdout",
     "output_type": "stream",
     "text": [
      "101 호\n",
      "102 호\n",
      "201 호\n",
      "202 호\n",
      "301 호\n",
      "302 호\n",
      "-----\n"
     ]
    }
   ],
   "source": [
    "apart = [ [101, 102], [201, 202], [301, 302] ]\n",
    "for a in apart:\n",
    "    for b in a :\n",
    "        print(b,'호')\n",
    "print('-----')"
   ]
  },
  {
   "cell_type": "code",
   "execution_count": 485,
   "id": "d19c3f11-848f-4d4b-881d-fe84806a9fed",
   "metadata": {},
   "outputs": [
    {
     "name": "stdout",
     "output_type": "stream",
     "text": [
      "2000.28\n",
      "3050.427\n",
      "2050.2870000000003\n",
      "1980.2772\n",
      "7501.05\n",
      "2050.2870000000003\n",
      "2050.2870000000003\n",
      "1980.2772\n",
      "15452.163\n",
      "15052.107\n",
      "15552.177\n",
      "14902.086000000001\n"
     ]
    }
   ],
   "source": [
    "data = [\n",
    "    [ 2000,  3050,  2050,  1980],\n",
    "    [ 7500,  2050,  2050,  1980],\n",
    "    [15450, 15050, 15550, 14900]\n",
    "]\n",
    "for a in data :\n",
    "    for b in a :\n",
    "        print (b*1.00014)"
   ]
  },
  {
   "cell_type": "code",
   "execution_count": 486,
   "id": "b30a6a8b-98c7-4722-9300-e3d3e376a4fc",
   "metadata": {},
   "outputs": [
    {
     "name": "stdout",
     "output_type": "stream",
     "text": [
      "2000.28\n",
      "3050.427\n",
      "2050.2870000000003\n",
      "1980.2772\n",
      "----\n",
      "7501.05\n",
      "2050.2870000000003\n",
      "2050.2870000000003\n",
      "1980.2772\n",
      "----\n",
      "15452.163\n",
      "15052.107\n",
      "15552.177\n",
      "14902.086000000001\n",
      "----\n"
     ]
    }
   ],
   "source": [
    "for a in data :\n",
    "    for b in a :\n",
    "        print (b*1.00014)\n",
    "    print ('----')"
   ]
  },
  {
   "cell_type": "code",
   "execution_count": 493,
   "id": "93ca9ce7-b59a-4128-aa78-fd0902d8f820",
   "metadata": {},
   "outputs": [
    {
     "name": "stdout",
     "output_type": "stream",
     "text": [
      "[2000.28, 3050.427, 2050.2870000000003, 1980.2772, 7501.05, 2050.2870000000003, 2050.2870000000003, 1980.2772, 15452.163, 15052.107, 15552.177, 14902.086000000001]\n"
     ]
    }
   ],
   "source": [
    "result =[]\n",
    "for a in data :\n",
    "    for b in a :\n",
    "        result.append(b*1.00014)\n",
    "print (result)"
   ]
  },
  {
   "cell_type": "code",
   "execution_count": 503,
   "id": "40d47864-7dd2-4a53-bddd-7ea0d08265b4",
   "metadata": {},
   "outputs": [
    {
     "name": "stdout",
     "output_type": "stream",
     "text": [
      "[[2000.28, 3050.427, 2050.2870000000003, 1980.2772], [7501.05, 2050.2870000000003, 2050.2870000000003, 1980.2772], [15452.163, 15052.107, 15552.177, 14902.086000000001]]\n"
     ]
    }
   ],
   "source": [
    "result = []\n",
    "for line in data:\n",
    "    sub = []\n",
    "    for column in line:\n",
    "        sub.append(column * 1.00014)\n",
    "    result.append(sub)\n",
    "print(result)"
   ]
  },
  {
   "cell_type": "code",
   "execution_count": 522,
   "id": "adbd61db-2094-4009-8e3a-43f15084a90c",
   "metadata": {},
   "outputs": [
    {
     "name": "stdout",
     "output_type": "stream",
     "text": [
      "100\n",
      "190\n",
      "310\n"
     ]
    }
   ],
   "source": [
    "ohlc = [[\"open\", \"high\", \"low\", \"close\"],\n",
    "        [100, 110, 70, 100],\n",
    "        [200, 210, 180, 190],\n",
    "        [300, 310, 300, 310]]\n",
    "for a in ohlc[1:] :\n",
    "    b = a[-1]\n",
    "    print(b)"
   ]
  },
  {
   "cell_type": "code",
   "execution_count": 530,
   "id": "0f29828d-62ca-4028-8e41-5ff0a1412825",
   "metadata": {},
   "outputs": [
    {
     "name": "stdout",
     "output_type": "stream",
     "text": [
      "100\n",
      "310\n"
     ]
    }
   ],
   "source": [
    "ohlc = [[\"open\", \"high\", \"low\", \"close\"],\n",
    "        [100, 110, 70, 100],\n",
    "        [200, 210, 180, 190],\n",
    "        [300, 310, 300, 310]]\n",
    "for a in ohlc[1:] :\n",
    "    if a[-1] >= a[0] :\n",
    "        print(a[-1])"
   ]
  },
  {
   "cell_type": "code",
   "execution_count": 539,
   "id": "5433b305-4481-4e86-86f5-ca8aa7d0636a",
   "metadata": {},
   "outputs": [
    {
     "name": "stdout",
     "output_type": "stream",
     "text": [
      "10\n"
     ]
    }
   ],
   "source": [
    "for a in ohlc[1:] :\n",
    "    b = a[-1] - a[0]\n",
    "    if b > 0 :\n",
    "        print (b)"
   ]
  },
  {
   "cell_type": "code",
   "execution_count": 550,
   "id": "68b98dd4-6d5b-4b6c-8b67-096a0c5fd78d",
   "metadata": {},
   "outputs": [
    {
     "name": "stdout",
     "output_type": "stream",
     "text": [
      "0\n"
     ]
    }
   ],
   "source": [
    "c = 0\n",
    "for a in ohlc[1:] :\n",
    "    b = a[-1] - a[0]\n",
    "    c += b\n",
    "print(c)"
   ]
  },
  {
   "cell_type": "code",
   "execution_count": null,
   "id": "59ac508a-743c-481d-b04f-cc8ad76470d8",
   "metadata": {},
   "outputs": [],
   "source": []
  },
  {
   "cell_type": "markdown",
   "id": "7b2d954c-d1e2-46be-82d6-95329791a5f7",
   "metadata": {},
   "source": [
    "# 파이썬 함수 201~240"
   ]
  },
  {
   "cell_type": "code",
   "execution_count": 554,
   "id": "060a1f9d-b588-4849-9e65-ce83526e772c",
   "metadata": {},
   "outputs": [],
   "source": [
    "def print_coin():\n",
    "    print(\"비트코인\")"
   ]
  },
  {
   "cell_type": "code",
   "execution_count": 558,
   "id": "d03c1829-f5b3-4b38-bee6-f731cb87edee",
   "metadata": {},
   "outputs": [
    {
     "name": "stdout",
     "output_type": "stream",
     "text": [
      "비트코인\n"
     ]
    }
   ],
   "source": [
    "print_coin()"
   ]
  },
  {
   "cell_type": "code",
   "execution_count": 561,
   "id": "e35bcb50-e5e7-40a0-9e2f-ea40ab926f30",
   "metadata": {
    "collapsed": true,
    "jupyter": {
     "outputs_hidden": true
    }
   },
   "outputs": [
    {
     "name": "stdout",
     "output_type": "stream",
     "text": [
      "비트코인\n",
      "비트코인\n",
      "비트코인\n",
      "비트코인\n",
      "비트코인\n",
      "비트코인\n",
      "비트코인\n",
      "비트코인\n",
      "비트코인\n",
      "비트코인\n",
      "비트코인\n",
      "비트코인\n",
      "비트코인\n",
      "비트코인\n",
      "비트코인\n",
      "비트코인\n",
      "비트코인\n",
      "비트코인\n",
      "비트코인\n",
      "비트코인\n",
      "비트코인\n",
      "비트코인\n",
      "비트코인\n",
      "비트코인\n",
      "비트코인\n",
      "비트코인\n",
      "비트코인\n",
      "비트코인\n",
      "비트코인\n",
      "비트코인\n",
      "비트코인\n",
      "비트코인\n",
      "비트코인\n",
      "비트코인\n",
      "비트코인\n",
      "비트코인\n",
      "비트코인\n",
      "비트코인\n",
      "비트코인\n",
      "비트코인\n",
      "비트코인\n",
      "비트코인\n",
      "비트코인\n",
      "비트코인\n",
      "비트코인\n",
      "비트코인\n",
      "비트코인\n",
      "비트코인\n",
      "비트코인\n",
      "비트코인\n",
      "비트코인\n",
      "비트코인\n",
      "비트코인\n",
      "비트코인\n",
      "비트코인\n",
      "비트코인\n",
      "비트코인\n",
      "비트코인\n",
      "비트코인\n",
      "비트코인\n",
      "비트코인\n",
      "비트코인\n",
      "비트코인\n",
      "비트코인\n",
      "비트코인\n",
      "비트코인\n",
      "비트코인\n",
      "비트코인\n",
      "비트코인\n",
      "비트코인\n",
      "비트코인\n",
      "비트코인\n",
      "비트코인\n",
      "비트코인\n",
      "비트코인\n",
      "비트코인\n",
      "비트코인\n",
      "비트코인\n",
      "비트코인\n",
      "비트코인\n",
      "비트코인\n",
      "비트코인\n",
      "비트코인\n",
      "비트코인\n",
      "비트코인\n",
      "비트코인\n",
      "비트코인\n",
      "비트코인\n",
      "비트코인\n",
      "비트코인\n",
      "비트코인\n",
      "비트코인\n",
      "비트코인\n",
      "비트코인\n",
      "비트코인\n",
      "비트코인\n",
      "비트코인\n",
      "비트코인\n",
      "비트코인\n",
      "비트코인\n"
     ]
    }
   ],
   "source": [
    "for a in range(100):\n",
    "    print_coin()"
   ]
  },
  {
   "cell_type": "code",
   "execution_count": 564,
   "id": "a4f693cb-1597-4ea3-88b5-e4ea134f7f7b",
   "metadata": {},
   "outputs": [],
   "source": [
    "def print_coins() :\n",
    "    for a in range(100):\n",
    "        print('비트코인')"
   ]
  },
  {
   "cell_type": "code",
   "execution_count": null,
   "id": "a3f176bc-d49f-4a77-bcfa-d75f81af25ae",
   "metadata": {},
   "outputs": [],
   "source": [
    "#함수가 정의되기 전에 먼저 실행되었음"
   ]
  },
  {
   "cell_type": "code",
   "execution_count": null,
   "id": "564219b8-7fa3-49b9-936b-bb43e7880cc8",
   "metadata": {},
   "outputs": [],
   "source": [
    "A\n",
    "B\n",
    "C\n",
    "A\n",
    "B"
   ]
  },
  {
   "cell_type": "code",
   "execution_count": null,
   "id": "9e1d161b-62fe-4b44-ab48-0825fd805bba",
   "metadata": {},
   "outputs": [],
   "source": [
    "A\n",
    "C\n",
    "B"
   ]
  },
  {
   "cell_type": "code",
   "execution_count": null,
   "id": "8e4584b6-f422-4a92-b6c7-eee3ac83beb6",
   "metadata": {},
   "outputs": [],
   "source": [
    "A\n",
    "C\n",
    "B\n",
    "E\n",
    "D"
   ]
  },
  {
   "cell_type": "code",
   "execution_count": null,
   "id": "46a4af7f-dd15-4fc9-8041-0c57c52099b3",
   "metadata": {},
   "outputs": [],
   "source": [
    "B\n",
    "A"
   ]
  },
  {
   "cell_type": "code",
   "execution_count": null,
   "id": "6bab3ba2-4417-4365-967b-1290cadee354",
   "metadata": {},
   "outputs": [],
   "source": [
    "B\n",
    "C\n",
    "B\n",
    "C\n",
    "B\n",
    "C\n",
    "A"
   ]
  },
  {
   "cell_type": "code",
   "execution_count": null,
   "id": "228a2034-9344-444b-98c9-477b4f35bbd9",
   "metadata": {},
   "outputs": [],
   "source": [
    "안녕 \n",
    "Hi"
   ]
  },
  {
   "cell_type": "code",
   "execution_count": null,
   "id": "bbc258df-9a5a-4464-92f8-58f4e6349aa4",
   "metadata": {},
   "outputs": [],
   "source": [
    "7\n",
    "15"
   ]
  },
  {
   "cell_type": "code",
   "execution_count": null,
   "id": "6532df3f-d855-489e-bfec-64b14b3c5049",
   "metadata": {},
   "outputs": [],
   "source": [
    "() 안에 문자열이 있어야하는데 없어서"
   ]
  },
  {
   "cell_type": "code",
   "execution_count": null,
   "id": "d7e42c84-e8a3-4421-b121-ebb00483af3a",
   "metadata": {},
   "outputs": [],
   "source": [
    "str과 int를 더할 수가 없어서"
   ]
  },
  {
   "cell_type": "code",
   "execution_count": 567,
   "id": "9d676384-6774-422e-8848-2c90cc498bd6",
   "metadata": {},
   "outputs": [],
   "source": [
    "def print_with_smile(문자열) :\n",
    "    print(문자열,':D')"
   ]
  },
  {
   "cell_type": "code",
   "execution_count": 569,
   "id": "b83d8825-1692-4181-86e2-ec5beb622df5",
   "metadata": {},
   "outputs": [
    {
     "name": "stdout",
     "output_type": "stream",
     "text": [
      "안녕하세요 :D\n"
     ]
    }
   ],
   "source": [
    "print_with_smile('안녕하세요')"
   ]
  },
  {
   "cell_type": "code",
   "execution_count": 571,
   "id": "d295acce-1edf-4fb2-9531-df03e96a244b",
   "metadata": {},
   "outputs": [],
   "source": [
    "def print_upper_price(가격) :\n",
    "    print(가격*1.3)"
   ]
  },
  {
   "cell_type": "code",
   "execution_count": 578,
   "id": "7ec96cf2-aae2-4f44-a0ef-8cf2c817ee12",
   "metadata": {},
   "outputs": [],
   "source": [
    "def print_sum (a,b):\n",
    "    print (a+b)"
   ]
  },
  {
   "cell_type": "code",
   "execution_count": 581,
   "id": "6d8a9a00-3be2-4ff7-8433-0a3e5b442062",
   "metadata": {},
   "outputs": [],
   "source": [
    "def print_arithmetic_operation (a,b):\n",
    "    print (a+b)\n",
    "    print (a-b)\n",
    "    print (a*b)\n",
    "    print (a/b)"
   ]
  },
  {
   "cell_type": "code",
   "execution_count": 582,
   "id": "6e20bed0-610e-49d1-ba1e-7b19a4996637",
   "metadata": {},
   "outputs": [],
   "source": [
    "def print_max (a,v,c):\n",
    "    print (max(a,v,c))"
   ]
  },
  {
   "cell_type": "code",
   "execution_count": 585,
   "id": "7a8ce602-edad-4b8d-a582-7e7dfe4757da",
   "metadata": {},
   "outputs": [],
   "source": [
    "def print_reverse(문자열):\n",
    "    print(문자열[::-1])"
   ]
  },
  {
   "cell_type": "code",
   "execution_count": 590,
   "id": "cca41bcd-a1e4-4eb2-9485-9f9386e09e0c",
   "metadata": {},
   "outputs": [
    {
     "name": "stdout",
     "output_type": "stream",
     "text": [
      "2.0\n"
     ]
    }
   ],
   "source": [
    "def print_score(문자열):\n",
    "    합계 = sum(문자열)\n",
    "    수 = len(문자열)\n",
    "    print(합계/수)\n",
    "print_score ([1, 2, 3])"
   ]
  },
  {
   "cell_type": "code",
   "execution_count": 595,
   "id": "090a0c5d-e1c4-46e9-94cd-a092574cf702",
   "metadata": {},
   "outputs": [],
   "source": [
    "def print_even(text):\n",
    "    for a in text :\n",
    "        if a % 2 == 0 :\n",
    "            print(a)"
   ]
  },
  {
   "cell_type": "code",
   "execution_count": 605,
   "id": "3441f0dd-a40d-435e-8a26-f87d137ffec3",
   "metadata": {},
   "outputs": [
    {
     "name": "stdout",
     "output_type": "stream",
     "text": [
      "이름\n",
      "나이\n",
      "성별\n"
     ]
    }
   ],
   "source": [
    "def print_keys(dict):\n",
    "    for a in dict.keys():\n",
    "        print(a)\n",
    "print_keys ({\"이름\":\"김말똥\", \"나이\":30, \"성별\":0})"
   ]
  },
  {
   "cell_type": "code",
   "execution_count": 606,
   "id": "48f9476d-1b9a-4352-a3c0-54a389553810",
   "metadata": {},
   "outputs": [],
   "source": [
    "my_dict = {\"10/26\" : [100, 130, 100, 100],\n",
    "           \"10/27\" : [10, 12, 10, 11]}\n",
    "def print_value_by_key (my_dict,날짜):\n",
    "    print (my_dict.get(날짜))"
   ]
  },
  {
   "cell_type": "code",
   "execution_count": 617,
   "id": "ec0993f7-16ba-4d74-b60d-272aa0818bbe",
   "metadata": {},
   "outputs": [
    {
     "name": "stdout",
     "output_type": "stream",
     "text": [
      "아이엠어보\n",
      "이유알어걸\n",
      "\n"
     ]
    }
   ],
   "source": [
    "def print_5xn(line):\n",
    "    chunk_num = int(len(line) / 5)\n",
    "    for x in range(chunk_num + 1) :\n",
    "        print(line[x * 5: x * 5 + 5])\n",
    "\n",
    "print_5xn(\"아이엠어보이유알어걸\")"
   ]
  },
  {
   "cell_type": "code",
   "execution_count": 619,
   "id": "4bc8e194-29da-4445-b57e-5d8fa3417d3b",
   "metadata": {},
   "outputs": [
    {
     "name": "stdout",
     "output_type": "stream",
     "text": [
      "[15450, 15050, 15550]\n",
      "[14900]\n",
      "[]\n",
      "[]\n"
     ]
    }
   ],
   "source": [
    "def print_mxn(line, num):\n",
    "    chunk_num = int(len(line) / num)\n",
    "    for x in range(chunk_num + 1) :\n",
    "        print(line[x * num: x * num + num])\n",
    "\n",
    "printmxn(\"아이엠어보이유알어걸\", 3)"
   ]
  },
  {
   "cell_type": "code",
   "execution_count": 624,
   "id": "4fd37ba0-7f7f-4d91-b92e-bdbe6305c086",
   "metadata": {},
   "outputs": [
    {
     "name": "stdout",
     "output_type": "stream",
     "text": [
      "1000000\n"
     ]
    }
   ],
   "source": [
    "def calc_monthly_salary(annual_salary):\n",
    "    print (int(annual_salary/12))\n",
    "calc_monthly_salary(12000000)"
   ]
  },
  {
   "cell_type": "code",
   "execution_count": null,
   "id": "c1be7a3d-af8d-425f-a8a9-273631c579dd",
   "metadata": {},
   "outputs": [],
   "source": [
    "왼쪽:100\n",
    "오른쪽:200"
   ]
  },
  {
   "cell_type": "code",
   "execution_count": 625,
   "id": "811a5874-2035-451c-bba2-b4170e371fc1",
   "metadata": {},
   "outputs": [],
   "source": [
    "왼쪽:200\n",
    "오른쪽:100"
   ]
  },
  {
   "cell_type": "code",
   "execution_count": null,
   "id": "b58c1df2-7379-43db-9f1a-16bd5c0b653d",
   "metadata": {},
   "outputs": [],
   "source": [
    "#에러. 함수 안의 변수는 외부사용 불가. 리턴을 써야함"
   ]
  },
  {
   "cell_type": "code",
   "execution_count": 627,
   "id": "3b0ab6ec-3f89-4567-96ea-71f004371e26",
   "metadata": {},
   "outputs": [
    {
     "data": {
      "text/plain": [
       "'www.naver.com'"
      ]
     },
     "execution_count": 627,
     "metadata": {},
     "output_type": "execute_result"
    }
   ],
   "source": [
    "def make_url(a):\n",
    "    url = 'www.'+ a + '.com'\n",
    "    return url\n",
    "make_url(\"naver\")"
   ]
  },
  {
   "cell_type": "code",
   "execution_count": 629,
   "id": "6284c08f-d9d6-4abf-be34-4cfdb6b6563b",
   "metadata": {},
   "outputs": [
    {
     "data": {
      "text/plain": [
       "['a', 'b', 'c', 'd']"
      ]
     },
     "execution_count": 629,
     "metadata": {},
     "output_type": "execute_result"
    }
   ],
   "source": [
    "def make_list(a):\n",
    "    return list(a)\n",
    "make_list(\"abcd\")"
   ]
  },
  {
   "cell_type": "code",
   "execution_count": 644,
   "id": "a642679d-b3c9-4954-84dc-b3fec0771954",
   "metadata": {},
   "outputs": [
    {
     "data": {
      "text/plain": [
       "[4, 6, 8]"
      ]
     },
     "execution_count": 644,
     "metadata": {},
     "output_type": "execute_result"
    }
   ],
   "source": [
    "def pickup_even(a):\n",
    "    result = []\n",
    "    for x in a:\n",
    "        if x % 2 == 0 :\n",
    "            result.append(x)\n",
    "    return result\n",
    "pickup_even([3, 4, 5, 6, 7, 8])"
   ]
  },
  {
   "cell_type": "code",
   "execution_count": 651,
   "id": "34ce3737-c1d9-42b1-a8d6-54f6b84f82e6",
   "metadata": {},
   "outputs": [
    {
     "data": {
      "text/plain": [
       "1234567"
      ]
     },
     "execution_count": 651,
     "metadata": {},
     "output_type": "execute_result"
    }
   ],
   "source": [
    "def convert_int(a):\n",
    "    return int(a.replace(',',''))\n",
    "convert_int(\"1,234,567\")"
   ]
  },
  {
   "cell_type": "code",
   "execution_count": null,
   "id": "ef2b8fd5-6495-4362-9044-3d17c434169d",
   "metadata": {},
   "outputs": [],
   "source": [
    "22"
   ]
  },
  {
   "cell_type": "code",
   "execution_count": null,
   "id": "2d852748-d3f2-4f71-81da-f4ee0e3375f2",
   "metadata": {},
   "outputs": [],
   "source": [
    "22"
   ]
  },
  {
   "cell_type": "code",
   "execution_count": null,
   "id": "77ff5539-695f-4a1a-aede-c60d40754a8a",
   "metadata": {},
   "outputs": [],
   "source": [
    "140"
   ]
  },
  {
   "cell_type": "code",
   "execution_count": null,
   "id": "0bc5350e-c3bc-409a-aaee-fe351ed8457c",
   "metadata": {},
   "outputs": [],
   "source": [
    "16"
   ]
  },
  {
   "cell_type": "code",
   "execution_count": null,
   "id": "bf50d9c2-c5cc-43ad-8c97-86aa4cbecf4d",
   "metadata": {},
   "outputs": [],
   "source": [
    "28"
   ]
  },
  {
   "cell_type": "markdown",
   "id": "1288a04f-7930-4e43-9005-05fbaef4dd8b",
   "metadata": {},
   "source": [
    "# 파이썬 모듈 - 제외"
   ]
  },
  {
   "cell_type": "markdown",
   "id": "0101cbed-4605-474c-8797-3c01c42116fd",
   "metadata": {},
   "source": [
    "# 파이썬 클래스"
   ]
  },
  {
   "cell_type": "code",
   "execution_count": null,
   "id": "9790a17d-9f4c-4699-a2f5-7bbb4dbf4dc3",
   "metadata": {},
   "outputs": [],
   "source": [
    "클래스 = 함수들의 제목, 객체 = 클래스의 결과"
   ]
  },
  {
   "cell_type": "code",
   "execution_count": 653,
   "id": "575ad83a-3234-4c33-b85c-cc27c4aae5d6",
   "metadata": {},
   "outputs": [],
   "source": [
    "class Human:\n",
    "    pass"
   ]
  },
  {
   "cell_type": "code",
   "execution_count": 655,
   "id": "f938248b-9735-41e3-953d-b83cb44cf0cc",
   "metadata": {},
   "outputs": [],
   "source": [
    "class Human:\n",
    "    pass\n",
    "areum = Human()"
   ]
  },
  {
   "cell_type": "code",
   "execution_count": 663,
   "id": "0a7e8e53-285b-4324-9fbc-6dda43ffbd2e",
   "metadata": {},
   "outputs": [
    {
     "name": "stdout",
     "output_type": "stream",
     "text": [
      "응애응애\n"
     ]
    }
   ],
   "source": [
    "class Human:\n",
    "    print ('응애응애')\n",
    "areum = Human()"
   ]
  },
  {
   "cell_type": "code",
   "execution_count": 667,
   "id": "53340176-c9df-45af-81bf-63310ba9871f",
   "metadata": {},
   "outputs": [
    {
     "name": "stdout",
     "output_type": "stream",
     "text": [
      "이름: 아름 , 나이: 25 , 성별: 여자\n"
     ]
    }
   ],
   "source": [
    "class Human:\n",
    "    def __init__(self, 이름, 나이, 성별):\n",
    "        self.이름 = 이름\n",
    "        self.나이 = 나이\n",
    "        self.성별 = 성별\n",
    "areum = Human(\"아름\", 25, \"여자\")\n",
    "print('이름:',areum.이름,',','나이:',areum.나이,',','성별:',areum.성별)"
   ]
  },
  {
   "cell_type": "code",
   "execution_count": 671,
   "id": "0d6046d0-4a5d-404a-941c-3393a5f42666",
   "metadata": {},
   "outputs": [
    {
     "name": "stdout",
     "output_type": "stream",
     "text": [
      "이름: 아름, 나이: 25, 성별: 여자\n"
     ]
    }
   ],
   "source": [
    "class Human:\n",
    "    def __init__(self, 이름, 나이, 성별):\n",
    "        self.이름 = 이름\n",
    "        self.나이 = 나이\n",
    "        self.성별 = 성별\n",
    "    def who(self):\n",
    "        print(f'이름: {self.이름}, 나이: {self.나이}, 성별: {self.성별}')\n",
    "areum = Human(\"아름\", 25, \"여자\")\n",
    "areum.who()"
   ]
  },
  {
   "cell_type": "code",
   "execution_count": 673,
   "id": "289a1a9a-c4dc-4175-b3f9-c3592f86e092",
   "metadata": {},
   "outputs": [
    {
     "name": "stdout",
     "output_type": "stream",
     "text": [
      "이름: 모름, 나이: 0, 성별: 모름\n",
      "이름: 아름, 나이: 25, 성별: 여자\n"
     ]
    }
   ],
   "source": [
    "class Human:\n",
    "    def __init__(self, 이름, 나이, 성별):\n",
    "        self.이름 = 이름\n",
    "        self.나이 = 나이\n",
    "        self.성별 = 성별\n",
    "    def who(self):\n",
    "        print(f'이름: {self.이름}, 나이: {self.나이}, 성별: {self.성별}')\n",
    "    def setInfo(self, 이름, 나이, 성별):\n",
    "        self.이름 = 이름\n",
    "        self.나이 = 나이\n",
    "        self.성별 = 성별\n",
    "areum = Human(\"모름\", 0, \"모름\")\n",
    "areum.who()\n",
    "areum.setInfo(\"아름\", 25, \"여자\")\n",
    "areum.who()"
   ]
  },
  {
   "cell_type": "code",
   "execution_count": null,
   "id": "8fd47ad3-e82a-4c3a-8480-bc91f688eb98",
   "metadata": {},
   "outputs": [],
   "source": [
    "class Stock:\n",
    "    pass"
   ]
  },
  {
   "cell_type": "code",
   "execution_count": 679,
   "id": "d99a737e-a905-4daa-a940-f3f78876ec2d",
   "metadata": {},
   "outputs": [
    {
     "name": "stdout",
     "output_type": "stream",
     "text": [
      "삼성전자\n"
     ]
    }
   ],
   "source": [
    "class Stock:\n",
    "    def __init__(self,종목명,종목코드):\n",
    "        self.종목명 = 종목명\n",
    "        self.종목코드 = 종목코드\n",
    "\n",
    "삼성 = Stock(\"삼성전자\", \"005930\")\n",
    "print(삼성.종목명)"
   ]
  },
  {
   "cell_type": "code",
   "execution_count": 687,
   "id": "50a9b5a9-a09b-47bf-b481-9eff5c34a0a1",
   "metadata": {},
   "outputs": [
    {
     "name": "stdout",
     "output_type": "stream",
     "text": [
      "삼성전자\n",
      "005930\n",
      "삼성전자\n",
      "005930\n"
     ]
    }
   ],
   "source": [
    "class Stock:\n",
    "    def __init__(self,종목명,종목코드):\n",
    "        self.종목명 = 종목명\n",
    "        self.종목코드 = 종목코드\n",
    "    def set_name(self,종목명):\n",
    "        self.종목명 = 종목명\n",
    "    def set_code(self,종목코드):\n",
    "        self.종목코드 = 종목코드\n",
    "    def get_name(self):\n",
    "        return self.종목명\n",
    "    def get_code(self):\n",
    "        return self.종목코드\n",
    "\n",
    "삼성 = Stock(\"삼성전자\", \"005930\")\n",
    "print(삼성.종목명)\n",
    "print(삼성.종목코드)\n",
    "print(삼성.get_name())\n",
    "print(삼성.get_code())"
   ]
  },
  {
   "cell_type": "code",
   "execution_count": 690,
   "id": "b3b3bbdc-f559-4d92-9d15-022df3655364",
   "metadata": {},
   "outputs": [],
   "source": [
    "class Stock:\n",
    "    def __init__(self,종목명,종목코드,PER,PBR,배당수익률):\n",
    "        self.종목명 = 종목명\n",
    "        self.종목코드 = 종목코드\n",
    "        self.PER = PER\n",
    "        self.PBR = PBR\n",
    "        self.배당수익률 = 배당수익률\n",
    "    def set_name(self,종목명):\n",
    "        self.종목명 = 종목명\n",
    "    def set_code(self,종목코드):\n",
    "        self.종목코드 = 종목코드\n",
    "    def get_name(self):\n",
    "        return self.종목명\n",
    "    def get_code(self):\n",
    "        return self.종목코드\n",
    "삼성 = Stock(\"삼성전자\", \"005930\",15.79,1.33,2.83)"
   ]
  },
  {
   "cell_type": "code",
   "execution_count": 704,
   "id": "fb7c78af-56a7-41de-afb9-56897b56663c",
   "metadata": {},
   "outputs": [
    {
     "name": "stdout",
     "output_type": "stream",
     "text": [
      "005930 15.79\n",
      "005380 8.7\n",
      "066570 317.34\n"
     ]
    }
   ],
   "source": [
    "class Stock:\n",
    "    def __init__(self,종목명,종목코드,PER,PBR,배당수익률):\n",
    "        self.종목명 = 종목명\n",
    "        self.종목코드 = 종목코드\n",
    "        self.PER = PER\n",
    "        self.PBR = PBR\n",
    "        self.배당수익률 = 배당수익률\n",
    "    def set_name(self,종목명):\n",
    "        self.종목명 = 종목명\n",
    "    def set_code(self,종목코드):\n",
    "        self.종목코드 = 종목코드\n",
    "    def get_name(self):\n",
    "        return self.종목명\n",
    "    def get_code(self):\n",
    "        return self.종목코드\n",
    "    def set_per(self,PER):\n",
    "        self.PER = PER\n",
    "    def set_pbr(self,PBR):\n",
    "        self.PBR = PBR\n",
    "    def set_dividend(self,배당수익률):\n",
    "        self.배당수익률 = 배당수익률\n",
    "        \n",
    "종목 = []\n",
    "삼성 = Stock(\"삼성전자\", \"005930\",15.79,1.33,2.83)\n",
    "현대 = Stock('현대차','005380',8.70,0.35,4.27)\n",
    "LG = Stock('LG전자','066570',317.34,0.69,1.37)\n",
    "\n",
    "종목.append(삼성)\n",
    "종목.append(현대)\n",
    "종목.append(LG)\n",
    "\n",
    "for a in 종목 :\n",
    "    print(a.종목코드, a.PER)"
   ]
  },
  {
   "cell_type": "code",
   "execution_count": 768,
   "id": "e5e92b84-04a1-435a-8ac7-a110b04ad466",
   "metadata": {},
   "outputs": [
    {
     "name": "stdout",
     "output_type": "stream",
     "text": [
      "은행이름:  SC은행\n",
      "예금주:  이지안\n",
      "계좌번호:  766-01-329014\n",
      "잔고:  100,000,000\n"
     ]
    }
   ],
   "source": [
    "import random\n",
    "\n",
    "class Account:\n",
    "    account_count = 0\n",
    "    입금카운트 = 0\n",
    "    \n",
    "    def __init__(self, 예금주, 잔액):\n",
    "        self.은행이름 = \"SC은행\"\n",
    "        self.예금주 = 예금주\n",
    "        self.잔액 = 잔액\n",
    "\n",
    "        q = random.randint(0,999)\n",
    "        w = random.randint(0,99)\n",
    "        e = random.randint(0,999999)\n",
    "        q = str(q).zfill(3)\n",
    "        w = str(w).zfill(2)\n",
    "        e = str(e).zfill(6)\n",
    "        self.계좌번호 = q+'-'+w+'-'+e\n",
    "        Account.account_count +=1\n",
    "        \n",
    "    def get_account_num(cls):\n",
    "        print(cls.account_count)\n",
    "\n",
    "    def deposit(self,입금):\n",
    "        if 입금 >= 1:\n",
    "            self.잔액 += 입금\n",
    "\n",
    "            self.입금카운트 += 1\n",
    "            if self.입금카운트 % 5 ==0:\n",
    "                self.잔액 = (self.잔액 * 1.01)\n",
    "        \n",
    "    def withdraw (self,출금):\n",
    "        if 출금 <= self.잔액:\n",
    "            self.잔액 -= 출금\n",
    "        else :\n",
    "            print('출금불가')\n",
    "    def display_info(self):\n",
    "        print(\"은행이름: \", self.은행이름)\n",
    "        print(\"예금주: \", self.예금주)\n",
    "        print(\"계좌번호: \", self.계좌번호)\n",
    "        print(\"잔고: \", f\"{self.잔액:,}\")\n",
    "    def withdraw_history(self):\n",
    "        for 출금 in self.withdraw_log:\n",
    "            print(출금)\n",
    "\n",
    "    def deposit_history(self):\n",
    "        for 입금 in self.deposit_log:\n",
    "            print(입금)\n",
    "\n",
    "\n",
    "data = []\n",
    "a = Account('이지안',100000000)\n",
    "s = Account('박시준',345)\n",
    "d = Account('박미성',785)\n",
    "data.append(a)\n",
    "data.append(s)\n",
    "data.append(d)\n",
    "\n",
    "for p in data:\n",
    "    if p.잔액 > 1000000:\n",
    "        p.display_info()"
   ]
  },
  {
   "cell_type": "code",
   "execution_count": 782,
   "id": "c3f6a8c3-6fcd-4133-a2be-637ccbce2e55",
   "metadata": {},
   "outputs": [
    {
     "name": "stdout",
     "output_type": "stream",
     "text": [
      "바퀴수  2\n",
      "가격  100\n",
      "구동계  시마노\n"
     ]
    }
   ],
   "source": [
    "class 차:\n",
    "    def __init__(self,바퀴,가격):\n",
    "        self.바퀴 = 바퀴\n",
    "        self.가격 = 가격\n",
    "    def 정보(self):\n",
    "        print(\"바퀴수 \", self.바퀴)\n",
    "        print(\"가격 \", self.가격)\n",
    "\n",
    "class 자전차(차):\n",
    "    def __init__(self,바퀴,가격,구동계):\n",
    "        self.바퀴 = 바퀴\n",
    "        self.가격 = 가격\n",
    "        self.구동계 = 구동계\n",
    "    def 정보(self):\n",
    "        print(\"바퀴수 \", self.바퀴)\n",
    "        print(\"가격 \", self.가격)\n",
    "        print(\"구동계 \", self.구동계)\n",
    "\n",
    "class 자동차(차):\n",
    "    def __init__(self,바퀴,가격):\n",
    "        self.바퀴 = 바퀴\n",
    "        self.가격 = 가격\n",
    "        self.정보 = 바퀴,가격\n",
    "    \n",
    "bicycle = 자전차(2, 100, \"시마노\")\n",
    "bicycle.정보()"
   ]
  },
  {
   "cell_type": "code",
   "execution_count": 784,
   "id": "68bf299f-ccbc-41c2-b18b-27587820153f",
   "metadata": {},
   "outputs": [
    {
     "name": "stdout",
     "output_type": "stream",
     "text": [
      "자식호출\n"
     ]
    }
   ],
   "source": [
    "class 부모:\n",
    "    def 호출(self):\n",
    "        print(\"부모호출\")\n",
    "\n",
    "class 자식(부모):\n",
    "    def 호출(self):\n",
    "        print(\"자식호출\")\n",
    "\n",
    "나 = 자식()\n",
    "나.호출()"
   ]
  },
  {
   "cell_type": "code",
   "execution_count": 785,
   "id": "6fe11bf3-28ff-4677-9135-56f52b4fd59c",
   "metadata": {},
   "outputs": [
    {
     "name": "stdout",
     "output_type": "stream",
     "text": [
      "자식생성\n"
     ]
    }
   ],
   "source": [
    "class 부모:\n",
    "  def __init__(self):\n",
    "    print(\"부모생성\")\n",
    "\n",
    "class 자식(부모):\n",
    "  def __init__(self):\n",
    "    print(\"자식생성\")\n",
    "      \n",
    "나 = 자식()"
   ]
  },
  {
   "cell_type": "code",
   "execution_count": 787,
   "id": "e7e2f6b8-2706-4f3e-a39d-7f14d4540cda",
   "metadata": {},
   "outputs": [
    {
     "name": "stdout",
     "output_type": "stream",
     "text": [
      "자식생성\n",
      "부모생성\n"
     ]
    }
   ],
   "source": [
    "class 부모:\n",
    "  def __init__(self):\n",
    "    print(\"부모생성\")\n",
    "\n",
    "class 자식(부모):\n",
    "  def __init__(self):\n",
    "    print(\"자식생성\")\n",
    "    super().__init__()\n",
    "\n",
    "나 = 자식()"
   ]
  },
  {
   "cell_type": "code",
   "execution_count": null,
   "id": "0fda5898-f941-49e0-89bd-df1f99e56dc1",
   "metadata": {},
   "outputs": [],
   "source": []
  },
  {
   "cell_type": "markdown",
   "id": "1bdf2c37-a4f0-452d-a700-ffe79e7b5ed4",
   "metadata": {},
   "source": [
    "# 파일 입출력과 예외처리"
   ]
  },
  {
   "cell_type": "code",
   "execution_count": 790,
   "id": "83b8a62f-a6d0-4ea2-8b0b-a09da424775c",
   "metadata": {},
   "outputs": [],
   "source": [
    "f = open(\"매수종목1.txt\",mode = 'wt', encoding=\"utf-8\")\n",
    "f.write(\"005930\\n\")\n",
    "f.write(\"005380\\n\")\n",
    "f.write(\"035420\")\n",
    "f.close()"
   ]
  },
  {
   "cell_type": "code",
   "execution_count": 791,
   "id": "67ed474a-b5ad-4213-950e-fcd8423cc63c",
   "metadata": {},
   "outputs": [],
   "source": [
    "f = open(\"매수종목2.txt\",mode = 'wt', encoding=\"utf-8\")\n",
    "f.write(\"005930 삼성전자\\n\")\n",
    "f.write(\"005380 현대차\\n\")\n",
    "f.write(\"035420 NAVER\")\n",
    "f.close()"
   ]
  },
  {
   "cell_type": "code",
   "execution_count": 793,
   "id": "f06d4f66-61e7-4f59-b9e8-49feb713b122",
   "metadata": {},
   "outputs": [],
   "source": [
    "import csv\n",
    "\n",
    "f = open(\"매수종목.csv\", mode=\"wt\", encoding=\"cp949\", newline='')\n",
    "writer = csv.writer(f)\n",
    "writer.writerow([\"종목명\", \"종목코드\", \"PER\"])\n",
    "writer.writerow([\"삼성전자\", \"005930\", 15.59])\n",
    "writer.writerow([\"NAVER\", \"035420\", 55.82])\n",
    "f.close()"
   ]
  },
  {
   "cell_type": "code",
   "execution_count": 794,
   "id": "785d930c-edd3-480c-82f1-6abd894205ed",
   "metadata": {},
   "outputs": [
    {
     "name": "stdout",
     "output_type": "stream",
     "text": [
      "['005930', '005380', '035420']\n"
     ]
    }
   ],
   "source": [
    "f = open(\"매수종목1.txt\", encoding=\"utf-8\")\n",
    "lines = f.readlines()\n",
    "\n",
    "code = []\n",
    "for line in lines:\n",
    "    codes = line.strip()\n",
    "    code.append(codes)\n",
    "\n",
    "print(code)\n",
    "f.close()"
   ]
  },
  {
   "cell_type": "code",
   "execution_count": 795,
   "id": "3a07a73b-26e0-4218-852a-23313b661bc7",
   "metadata": {},
   "outputs": [
    {
     "name": "stdout",
     "output_type": "stream",
     "text": [
      "{'005930': '삼성전자', '005380': '현대차', '035420': 'NAVER'}\n"
     ]
    }
   ],
   "source": [
    "f = open(\"매수종목2.txt\", encoding=\"utf-8\")\n",
    "lines = f.readlines()\n",
    "\n",
    "data = {}\n",
    "for line in lines:\n",
    "    line = line.strip()     # '\\n' 제거\n",
    "    k, v = line.split()\n",
    "    #print(k, v)\n",
    "    data[k] = v\n",
    "\n",
    "print(data)\n",
    "f.close()"
   ]
  },
  {
   "cell_type": "code",
   "execution_count": 796,
   "id": "05985ff4-c43b-4d53-8f0a-d667329ff011",
   "metadata": {},
   "outputs": [
    {
     "name": "stdout",
     "output_type": "stream",
     "text": [
      "10.31\n",
      "0\n",
      "8.0\n"
     ]
    }
   ],
   "source": [
    "per = [\"10.31\", \"\", \"8.00\"]\n",
    "\n",
    "for i in per:\n",
    "    try:\n",
    "        print(float(i))\n",
    "    except:\n",
    "        print(0)"
   ]
  },
  {
   "cell_type": "code",
   "execution_count": 797,
   "id": "e8528010-56e0-48ae-810c-2d94226449b9",
   "metadata": {},
   "outputs": [
    {
     "name": "stdout",
     "output_type": "stream",
     "text": [
      "[10.31, 0, 8.0]\n"
     ]
    }
   ],
   "source": [
    "per = [\"10.31\", \"\", \"8.00\"]\n",
    "new_per = []\n",
    "\n",
    "for i in per:\n",
    "    try:\n",
    "        v = float(i)\n",
    "    except:\n",
    "        v = 0\n",
    "    new_per.append(v)\n",
    "\n",
    "print(new_per)"
   ]
  },
  {
   "cell_type": "code",
   "execution_count": 798,
   "id": "0357e7ec-9911-4417-8a94-48e459edecc9",
   "metadata": {},
   "outputs": [
    {
     "name": "stdout",
     "output_type": "stream",
     "text": [
      "0으로 나누면 안되요\n"
     ]
    }
   ],
   "source": [
    "try:\n",
    "    b = 3 / 0\n",
    "except ZeroDivisionError:\n",
    "    print(\"0으로 나누면 안되요\")\n"
   ]
  },
  {
   "cell_type": "code",
   "execution_count": 799,
   "id": "de330bc4-d2d5-4e46-833d-9be9afcc6c39",
   "metadata": {},
   "outputs": [
    {
     "name": "stdout",
     "output_type": "stream",
     "text": [
      "1\n",
      "2\n",
      "3\n",
      "list index out of range\n",
      "list index out of range\n"
     ]
    }
   ],
   "source": [
    "data = [1, 2, 3]\n",
    "\n",
    "for i in range(5):\n",
    "    try:\n",
    "        print(data[i])\n",
    "    except IndexError as e:\n",
    "        print(e)\n"
   ]
  },
  {
   "cell_type": "code",
   "execution_count": 800,
   "id": "d1f2e40b-f2b5-4e02-8c8a-e16135553867",
   "metadata": {},
   "outputs": [
    {
     "name": "stdout",
     "output_type": "stream",
     "text": [
      "10.31\n",
      "clean data\n",
      "변환 완료\n",
      "0\n",
      "변환 완료\n",
      "8.0\n",
      "clean data\n",
      "변환 완료\n"
     ]
    }
   ],
   "source": [
    "per = [\"10.31\", \"\", \"8.00\"]\n",
    "\n",
    "for i in per:\n",
    "    try:\n",
    "        print(float(i))\n",
    "    except:\n",
    "        print(0)\n",
    "    else:\n",
    "        print(\"clean data\")\n",
    "    finally:\n",
    "        print(\"변환 완료\")"
   ]
  }
 ],
 "metadata": {
  "kernelspec": {
   "display_name": "Python 3 (ipykernel)",
   "language": "python",
   "name": "python3"
  },
  "language_info": {
   "codemirror_mode": {
    "name": "ipython",
    "version": 3
   },
   "file_extension": ".py",
   "mimetype": "text/x-python",
   "name": "python",
   "nbconvert_exporter": "python",
   "pygments_lexer": "ipython3",
   "version": "3.11.7"
  }
 },
 "nbformat": 4,
 "nbformat_minor": 5
}
