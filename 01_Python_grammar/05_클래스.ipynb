{
 "cells": [
  {
   "cell_type": "markdown",
   "id": "3c97f27c-363d-423f-82bc-227dca976387",
   "metadata": {},
   "source": [
    "# 클래스\n",
    "메모리 어딘가에 기존 작업 데이터를 저장하고 이용한다"
   ]
  },
  {
   "cell_type": "code",
   "execution_count": 2,
   "id": "d4b389f8-1e19-495b-ab24-16ef305d034c",
   "metadata": {},
   "outputs": [
    {
     "name": "stdout",
     "output_type": "stream",
     "text": [
      "3\n",
      "7\n"
     ]
    }
   ],
   "source": [
    "result = 0\n",
    "\n",
    "def add(num):\n",
    "    global result\n",
    "    result += num  # 결괏값(result)에 입력값(num) 더하기\n",
    "    return result  # 결괏값 리턴\n",
    "\n",
    "print(add(3))\n",
    "print(add(4))"
   ]
  },
  {
   "cell_type": "code",
   "execution_count": 3,
   "id": "ce30930d-3e1b-4967-ba24-672aec09f947",
   "metadata": {},
   "outputs": [
    {
     "name": "stdout",
     "output_type": "stream",
     "text": [
      "3\n",
      "7\n",
      "3\n",
      "10\n"
     ]
    }
   ],
   "source": [
    "result1 = 0\n",
    "result2 = 0\n",
    "\n",
    "def add1(num):  # 계산기1\n",
    "    global result1\n",
    "    result1 += num\n",
    "    return result1\n",
    "\n",
    "def add2(num):  # 계산기2\n",
    "    global result2\n",
    "    result2 += num\n",
    "    return result2\n",
    "\n",
    "print(add1(3))\n",
    "print(add1(4))\n",
    "print(add2(3))\n",
    "print(add2(7))"
   ]
  },
  {
   "cell_type": "code",
   "execution_count": 4,
   "id": "6fe8f7ea-8382-446b-9b8b-6a4441a24823",
   "metadata": {},
   "outputs": [
    {
     "name": "stdout",
     "output_type": "stream",
     "text": [
      "3\n",
      "7\n",
      "3\n",
      "10\n"
     ]
    }
   ],
   "source": [
    "class Calculator:\n",
    "    def __init__(self):\n",
    "        self.result = 0\n",
    "\n",
    "    def add(self, num):\n",
    "        self.result += num\n",
    "        return self.result\n",
    "\n",
    "cal1 = Calculator()\n",
    "cal2 = Calculator()\n",
    "\n",
    "print(cal1.add(3))\n",
    "print(cal1.add(4))\n",
    "print(cal2.add(3))\n",
    "print(cal2.add(7))"
   ]
  },
  {
   "cell_type": "markdown",
   "id": "de3fb74e-b3df-480d-9da0-733ad3e7a63b",
   "metadata": {},
   "source": [
    "### 클래스와 객체\n",
    "과자틀=클래스=엔티티타입, 과자틀로 찍어낸 과자=객체=엔티티\n",
    "인스턴스는 객체 안에 포함됨, 관계 설명을 위해 쓰임(ex. a는 Cookie의 인스턴스이다.)\n",
    "클래스는 변수와 구분하기 위해 대문자로 시작함"
   ]
  },
  {
   "cell_type": "code",
   "execution_count": 6,
   "id": "f4781d3a-19b3-4432-81b0-b0d02533de2d",
   "metadata": {},
   "outputs": [],
   "source": [
    "class Cookie:\n",
    "    pass"
   ]
  },
  {
   "cell_type": "markdown",
   "id": "bac19198-39a8-4751-8427-d8b4d771506b",
   "metadata": {},
   "source": [
    "# 사칙연산 클래스 만들기"
   ]
  },
  {
   "cell_type": "code",
   "execution_count": 10,
   "id": "fca7bdf6-7395-4cea-9982-40f23714a50a",
   "metadata": {},
   "outputs": [
    {
     "data": {
      "text/plain": [
       "__main__.FourCal"
      ]
     },
     "execution_count": 10,
     "metadata": {},
     "output_type": "execute_result"
    }
   ],
   "source": [
    "class FourCal:\n",
    "    pass\n",
    "a = FourCal()\n",
    "type(a)"
   ]
  },
  {
   "cell_type": "code",
   "execution_count": 23,
   "id": "e2e29295-b2b3-4d22-8258-d523d4815874",
   "metadata": {},
   "outputs": [],
   "source": [
    "class FourCal:\n",
    "    def setdata(self, first, second):\n",
    "        self.first = first\n",
    "        self.second = second\n",
    "\n",
    "    def add(self):\n",
    "        result = self.first + self.second\n",
    "        return result\n",
    "    def mul(self):\n",
    "        result = self.first * self.second\n",
    "        return result\n",
    "    def sub(self):\n",
    "        result = self.first - self.second\n",
    "        return result\n",
    "    def div(self):\n",
    "        result = self.first / self.second\n",
    "        return result        "
   ]
  },
  {
   "cell_type": "code",
   "execution_count": 24,
   "id": "127efad7-b07b-44c8-a8ff-4a81f04be72c",
   "metadata": {},
   "outputs": [],
   "source": [
    "a = FourCal()"
   ]
  },
  {
   "cell_type": "code",
   "execution_count": 60,
   "id": "ef371963-6050-4983-901b-d6553afb260a",
   "metadata": {},
   "outputs": [],
   "source": [
    "class FourCal1:\n",
    "    def __init__(self, first, second): #__매직메서드__\n",
    "        self.first = first\n",
    "        self.second = second\n",
    "    # def setdata(self, first, second):\n",
    "    #     self.first = first\n",
    "    #     self.second = second\n",
    "\n",
    "    def add(self):\n",
    "        result = self.first + self.second\n",
    "        return result\n",
    "    def mul(self):\n",
    "        result = self.first * self.second\n",
    "        return result\n",
    "    def sub(self):\n",
    "        result = self.first - self.second\n",
    "        return result\n",
    "    def div(self):\n",
    "        result = self.first / self.second\n",
    "        return result        "
   ]
  },
  {
   "cell_type": "code",
   "execution_count": 63,
   "id": "76a4acf4-a65a-443d-b31a-cbc026d635cf",
   "metadata": {},
   "outputs": [
    {
     "data": {
      "text/plain": [
       "3"
      ]
     },
     "execution_count": 63,
     "metadata": {},
     "output_type": "execute_result"
    }
   ],
   "source": [
    "a = FourCal1(2,1)\n",
    "a.add()"
   ]
  },
  {
   "cell_type": "markdown",
   "id": "d3710355-6338-4025-96e9-6a9a0ecec872",
   "metadata": {},
   "source": [
    "# 클래스의 상속"
   ]
  },
  {
   "cell_type": "code",
   "execution_count": null,
   "id": "cdde9200-3515-4556-bd9f-20f68cbbf200",
   "metadata": {},
   "outputs": [],
   "source": [
    "class MoreFourCal(FourCal):\n",
    "    def pow(self):\n",
    "        result = self.first ** self.second\n",
    "        return result\n",
    "\n",
    "a = MoreFourCal(4,2)\n",
    "a.add(), a.div(), a.mul(), a.sub(), a.pow()"
   ]
  },
  {
   "cell_type": "code",
   "execution_count": 51,
   "id": "a780ebbf-1eba-43f3-8109-a90c5f358f46",
   "metadata": {},
   "outputs": [],
   "source": []
  },
  {
   "cell_type": "code",
   "execution_count": 52,
   "id": "8bafe56c-4137-48f3-a1a8-f5ad099243e1",
   "metadata": {},
   "outputs": [
    {
     "data": {
      "text/plain": [
       "(6, 2.0, 8, 2, 16)"
      ]
     },
     "execution_count": 52,
     "metadata": {},
     "output_type": "execute_result"
    }
   ],
   "source": [
    "a.add(), a.div(), a.mul(), a.sub(), a.pow()"
   ]
  },
  {
   "cell_type": "markdown",
   "id": "73b70b25-c223-4aa1-9b9b-309fcd9f5870",
   "metadata": {},
   "source": [
    "### 메서드 오버라이딩"
   ]
  },
  {
   "cell_type": "code",
   "execution_count": 53,
   "id": "1e7be809-c41a-4c66-98bb-c5824fa502b5",
   "metadata": {},
   "outputs": [
    {
     "ename": "ZeroDivisionError",
     "evalue": "division by zero",
     "output_type": "error",
     "traceback": [
      "\u001b[1;31m---------------------------------------------------------------------------\u001b[0m",
      "\u001b[1;31mZeroDivisionError\u001b[0m                         Traceback (most recent call last)",
      "Cell \u001b[1;32mIn[53], line 2\u001b[0m\n\u001b[0;32m      1\u001b[0m a \u001b[38;5;241m=\u001b[39m FourCal(\u001b[38;5;241m4\u001b[39m,\u001b[38;5;241m0\u001b[39m)\n\u001b[1;32m----> 2\u001b[0m a\u001b[38;5;241m.\u001b[39mdiv()\n",
      "Cell \u001b[1;32mIn[26], line 19\u001b[0m, in \u001b[0;36mFourCal.div\u001b[1;34m(self)\u001b[0m\n\u001b[0;32m     18\u001b[0m \u001b[38;5;28;01mdef\u001b[39;00m \u001b[38;5;21mdiv\u001b[39m(\u001b[38;5;28mself\u001b[39m):\n\u001b[1;32m---> 19\u001b[0m     result \u001b[38;5;241m=\u001b[39m \u001b[38;5;28mself\u001b[39m\u001b[38;5;241m.\u001b[39mfirst \u001b[38;5;241m/\u001b[39m \u001b[38;5;28mself\u001b[39m\u001b[38;5;241m.\u001b[39msecond\n\u001b[0;32m     20\u001b[0m     \u001b[38;5;28;01mreturn\u001b[39;00m result\n",
      "\u001b[1;31mZeroDivisionError\u001b[0m: division by zero"
     ]
    }
   ],
   "source": [
    "a = FourCal(4,0)\n",
    "a.div()"
   ]
  },
  {
   "cell_type": "code",
   "execution_count": 57,
   "id": "7606dff1-d6d0-4c7e-8399-25039a52b04e",
   "metadata": {},
   "outputs": [],
   "source": [
    "class SafeFourCal(FourCal):\n",
    "     def div(self):\n",
    "         if self.second == 0:  # 나누는 값이 0인 경우 0을 리턴하도록 수정\n",
    "             return 0\n",
    "         else:\n",
    "             return self.first / self.second"
   ]
  },
  {
   "cell_type": "code",
   "execution_count": 56,
   "id": "665de780-82ac-42d0-aa60-41d4476ef237",
   "metadata": {},
   "outputs": [
    {
     "data": {
      "text/plain": [
       "0"
      ]
     },
     "execution_count": 56,
     "metadata": {},
     "output_type": "execute_result"
    }
   ],
   "source": [
    "a = SafeFourCal(4,0)\n",
    "a.div()"
   ]
  },
  {
   "cell_type": "markdown",
   "id": "38b6014a-87c6-49ed-a5eb-df3d7a70f610",
   "metadata": {},
   "source": [
    "### 오류 예외 처리 기법"
   ]
  },
  {
   "cell_type": "code",
   "execution_count": 67,
   "id": "b8fe52e2-53fc-4e11-819c-7c6331d821a4",
   "metadata": {},
   "outputs": [
    {
     "name": "stdout",
     "output_type": "stream",
     "text": [
      "0\n"
     ]
    }
   ],
   "source": [
    "#1 종류 무관. 모든 에러에 except문으로 대응함\n",
    "try:\n",
    "    4/0\n",
    "    f = open('없는 파일')\n",
    "except :\n",
    "    print(0)"
   ]
  },
  {
   "cell_type": "code",
   "execution_count": 70,
   "id": "24890976-3708-4734-8f1e-bbf7da5cea1c",
   "metadata": {},
   "outputs": [
    {
     "name": "stdout",
     "output_type": "stream",
     "text": [
      "0\n"
     ]
    }
   ],
   "source": [
    "#2 특정 발생오류 포함. 오류 원인을 찾기 좋음\n",
    "try:\n",
    "    4/0\n",
    "except ZeroDivisionError :\n",
    "    print(0)"
   ]
  },
  {
   "cell_type": "code",
   "execution_count": 71,
   "id": "0d7d4dde-d367-4cbc-97d0-9e63052eca29",
   "metadata": {},
   "outputs": [
    {
     "name": "stdout",
     "output_type": "stream",
     "text": [
      "division by zero\n"
     ]
    }
   ],
   "source": [
    "#3 변수와 오류 변수까지 포함\n",
    "try:\n",
    "    4/0\n",
    "except ZeroDivisionError as e:\n",
    "    print(e)"
   ]
  },
  {
   "cell_type": "code",
   "execution_count": null,
   "id": "1c308204-34b6-4f85-8933-698c3f0c158e",
   "metadata": {},
   "outputs": [],
   "source": [
    "# 작업 수행 중에 오류가 나도 무조건 실행!\n",
    "try:\n",
    "    f = open('foo.txt', 'w')\n",
    "    # 무언가를 수행한다.\n",
    "finally:\n",
    "    f.close()  # 중간에 오류가 발생하더라도 무조건 실행된다."
   ]
  },
  {
   "cell_type": "code",
   "execution_count": 72,
   "id": "52a32d51-70d5-439c-b717-4098050c87f1",
   "metadata": {},
   "outputs": [
    {
     "name": "stdout",
     "output_type": "stream",
     "text": [
      "인덱싱 할 수 없습니다.\n"
     ]
    }
   ],
   "source": [
    "# 오류 여럿 해결\n",
    "try:\n",
    "    a = [1,2]\n",
    "    print(a[3])\n",
    "    4/0\n",
    "except ZeroDivisionError:\n",
    "    print(\"0으로 나눌 수 없습니다.\")\n",
    "except IndexError:\n",
    "    print(\"인덱싱 할 수 없습니다.\")"
   ]
  },
  {
   "cell_type": "code",
   "execution_count": 74,
   "id": "51e2913e-f3f7-4bfd-add1-2a9fc17a23e3",
   "metadata": {},
   "outputs": [
    {
     "name": "stdin",
     "output_type": "stream",
     "text": [
      "나이를 입력하세요:  ㅇㄹ\n"
     ]
    },
    {
     "name": "stdout",
     "output_type": "stream",
     "text": [
      "입력이 정확하지 않습니다.\n"
     ]
    }
   ],
   "source": [
    "# 에러가 없을 때 쓰는 정상 코드\n",
    "try:\n",
    "    age=int(input('나이를 입력하세요: '))\n",
    "except:\n",
    "    print('입력이 정확하지 않습니다.')\n",
    "else:\n",
    "    if age <= 18:\n",
    "        print('미성년자는 출입금지입니다.')\n",
    "    else:\n",
    "        print('환영합니다.')"
   ]
  },
  {
   "cell_type": "code",
   "execution_count": 76,
   "id": "c497a6df-536e-4bac-aa98-f122a795e8e9",
   "metadata": {},
   "outputs": [],
   "source": [
    "# 오류 회피 pass\n",
    "try:\n",
    "    f = open(\"나없는파일\", 'r')\n",
    "except FileNotFoundError:\n",
    "    pass"
   ]
  },
  {
   "cell_type": "code",
   "execution_count": 79,
   "id": "3a210536-4a8a-4e30-bb84-1007f1484c73",
   "metadata": {},
   "outputs": [],
   "source": [
    "# 일부러 오류내기\n",
    "class Bird:\n",
    "    def fly(self):\n",
    "        raise NotImplementedError"
   ]
  },
  {
   "cell_type": "code",
   "execution_count": 84,
   "id": "9abd535a-c605-4944-9c15-cd1b5fd3532f",
   "metadata": {},
   "outputs": [],
   "source": [
    "# 예외 만들기\n",
    "class MyError(Exception):\n",
    "    pass"
   ]
  },
  {
   "cell_type": "code",
   "execution_count": 85,
   "id": "ec48b1fb-d476-415a-8913-a9b6517b9430",
   "metadata": {},
   "outputs": [
    {
     "ename": "NameError",
     "evalue": "name 'nick' is not defined",
     "output_type": "error",
     "traceback": [
      "\u001b[1;31m---------------------------------------------------------------------------\u001b[0m",
      "\u001b[1;31mNameError\u001b[0m                                 Traceback (most recent call last)",
      "Cell \u001b[1;32mIn[85], line 4\u001b[0m\n\u001b[0;32m      2\u001b[0m     \u001b[38;5;28;01mif\u001b[39;00m nick \u001b[38;5;241m==\u001b[39m \u001b[38;5;124m'\u001b[39m\u001b[38;5;124m바보\u001b[39m\u001b[38;5;124m'\u001b[39m:\n\u001b[0;32m      3\u001b[0m         \u001b[38;5;28;01mraise\u001b[39;00m MyError()\n\u001b[1;32m----> 4\u001b[0m \u001b[38;5;28mprint\u001b[39m(nick)\n",
      "\u001b[1;31mNameError\u001b[0m: name 'nick' is not defined"
     ]
    }
   ],
   "source": [
    "    def say_nick(nick):\n",
    "        if nick == '바보':\n",
    "            raise MyError()\n",
    "    print(nick)"
   ]
  },
  {
   "cell_type": "code",
   "execution_count": null,
   "id": "6a8e4fde-7f91-46af-8bb6-3168c6db29ae",
   "metadata": {},
   "outputs": [],
   "source": []
  },
  {
   "cell_type": "code",
   "execution_count": null,
   "id": "75da88f5-eee9-4891-a938-a21178e59114",
   "metadata": {},
   "outputs": [],
   "source": []
  }
 ],
 "metadata": {
  "kernelspec": {
   "display_name": "Python 3 (ipykernel)",
   "language": "python",
   "name": "python3"
  },
  "language_info": {
   "codemirror_mode": {
    "name": "ipython",
    "version": 3
   },
   "file_extension": ".py",
   "mimetype": "text/x-python",
   "name": "python",
   "nbconvert_exporter": "python",
   "pygments_lexer": "ipython3",
   "version": "3.11.7"
  }
 },
 "nbformat": 4,
 "nbformat_minor": 5
}
