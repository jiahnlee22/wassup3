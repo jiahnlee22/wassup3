{
 "cells": [
  {
   "cell_type": "code",
   "execution_count": 4,
   "id": "aefbcbd0-524e-48b6-9d62-2cda727baf87",
   "metadata": {},
   "outputs": [
    {
     "data": {
      "text/plain": [
       "7"
      ]
     },
     "execution_count": 4,
     "metadata": {},
     "output_type": "execute_result"
    }
   ],
   "source": [
    "# def 함수사용예약어\n",
    "def add(a,b):\n",
    "    return a+b\n",
    "# 값을 안넣어서 실행안됨\n",
    "\n",
    "a = 3\n",
    "b = 4\n",
    "add (3, 4)"
   ]
  },
  {
   "cell_type": "code",
   "execution_count": 6,
   "id": "2d388261-7951-4591-8f24-c7008b2c27f3",
   "metadata": {},
   "outputs": [],
   "source": [
    "# 입력값과 리턴값\n",
    "# 일반 함수 형태\n",
    "def add(a,b):\n",
    "    result = a+b\n",
    "    return result"
   ]
  },
  {
   "cell_type": "code",
   "execution_count": 7,
   "id": "bf38315d-05da-4a2f-a93f-1ed5cbcf3a96",
   "metadata": {},
   "outputs": [
    {
     "data": {
      "text/plain": [
       "'Hi'"
      ]
     },
     "execution_count": 7,
     "metadata": {},
     "output_type": "execute_result"
    }
   ],
   "source": [
    "# 입력값이 없는 함수\n",
    "def say():\n",
    "    return 'Hi'\n",
    "say()"
   ]
  },
  {
   "cell_type": "code",
   "execution_count": 16,
   "id": "c1f3c245-68eb-4f88-9e1e-d7d40a06baa6",
   "metadata": {},
   "outputs": [],
   "source": [
    "# 리턴값이 없는 함수\n",
    "def add(a,b):\n",
    "    print('%d, %d의 합은 %입니다.' %(a,b,a+b))"
   ]
  },
  {
   "cell_type": "code",
   "execution_count": 17,
   "id": "eae64e11-27d9-467b-a1ad-10c7ba005726",
   "metadata": {},
   "outputs": [
    {
     "ename": "ValueError",
     "evalue": "unsupported format character '?' (0xc785) at index 12",
     "output_type": "error",
     "traceback": [
      "\u001b[1;31m---------------------------------------------------------------------------\u001b[0m",
      "\u001b[1;31mValueError\u001b[0m                                Traceback (most recent call last)",
      "Cell \u001b[1;32mIn[17], line 1\u001b[0m\n\u001b[1;32m----> 1\u001b[0m add(\u001b[38;5;241m1\u001b[39m,\u001b[38;5;241m2\u001b[39m)\n",
      "Cell \u001b[1;32mIn[16], line 3\u001b[0m, in \u001b[0;36madd\u001b[1;34m(a, b)\u001b[0m\n\u001b[0;32m      2\u001b[0m \u001b[38;5;28;01mdef\u001b[39;00m \u001b[38;5;21madd\u001b[39m(a,b):\n\u001b[1;32m----> 3\u001b[0m     \u001b[38;5;28mprint\u001b[39m(\u001b[38;5;124m'\u001b[39m\u001b[38;5;132;01m%d\u001b[39;00m\u001b[38;5;124m, \u001b[39m\u001b[38;5;132;01m%d\u001b[39;00m\u001b[38;5;124m의 합은 \u001b[39m\u001b[38;5;124m%\u001b[39m\u001b[38;5;124m입니다.\u001b[39m\u001b[38;5;124m'\u001b[39m \u001b[38;5;241m%\u001b[39m(a,b,a\u001b[38;5;241m+\u001b[39mb))\n",
      "\u001b[1;31mValueError\u001b[0m: unsupported format character '?' (0xc785) at index 12"
     ]
    }
   ],
   "source": [
    "add(1,2)"
   ]
  },
  {
   "cell_type": "code",
   "execution_count": null,
   "id": "8508cd06-77cb-494c-9aca-5ae7e883083f",
   "metadata": {},
   "outputs": [],
   "source": []
  },
  {
   "cell_type": "code",
   "execution_count": 15,
   "id": "a57740bc-acef-4938-b44e-61f0a809a2cb",
   "metadata": {},
   "outputs": [],
   "source": [
    "#매개변수를 지정하여 호출하기\n",
    "def sub(a, b):\n",
    "    return a - b"
   ]
  },
  {
   "cell_type": "code",
   "execution_count": null,
   "id": "2d115ee4-66ed-4402-8321-b478fe18b2d5",
   "metadata": {},
   "outputs": [],
   "source": []
  },
  {
   "cell_type": "code",
   "execution_count": 27,
   "id": "7deda09f-c7cb-4f78-97b2-9df3c9dd80e6",
   "metadata": {},
   "outputs": [],
   "source": [
    "# 입력값이 몇개일 지 모를 때\n",
    "def add_many(*args):\n",
    "    result = 1\n",
    "    for i in args:\n",
    "        result = result +i\n",
    "    return result"
   ]
  },
  {
   "cell_type": "code",
   "execution_count": 13,
   "id": "2934d929-9d0e-40de-83eb-a9ce9a49a874",
   "metadata": {},
   "outputs": [],
   "source": [
    "def add_mul(choice, *args):\n",
    "    if choice == 'add':\n",
    "        result = 0\n",
    "        for i in args:\n",
    "            result = result + i\n",
    "    elif choice == 'mul':\n",
    "        result = 1\n",
    "        for i in args:\n",
    "            result = result * i\n",
    "    return result"
   ]
  },
  {
   "cell_type": "code",
   "execution_count": 15,
   "id": "17d35636-9a60-4d28-8761-503aa05dea5a",
   "metadata": {},
   "outputs": [
    {
     "data": {
      "text/plain": [
       "6"
      ]
     },
     "execution_count": 15,
     "metadata": {},
     "output_type": "execute_result"
    }
   ],
   "source": [
    "add_mul('mul', 1,2,3)"
   ]
  },
  {
   "cell_type": "code",
   "execution_count": 2,
   "id": "24b9305b-ed52-4702-ac13-a6dd89b4811f",
   "metadata": {},
   "outputs": [],
   "source": [
    "def print_kwargs(**kwargs):\n",
    "    print(kwargs)"
   ]
  },
  {
   "cell_type": "code",
   "execution_count": 3,
   "id": "60adbfaa-d74e-4db9-a0ce-a29781c2afeb",
   "metadata": {},
   "outputs": [
    {
     "name": "stdout",
     "output_type": "stream",
     "text": [
      "{'a': 1}\n"
     ]
    }
   ],
   "source": [
    "print_kwargs(a=1)"
   ]
  },
  {
   "cell_type": "code",
   "execution_count": null,
   "id": "a2087c0a-4463-42a8-b8d5-0c3c4bb6937e",
   "metadata": {},
   "outputs": [],
   "source": [
    "items?"
   ]
  },
  {
   "cell_type": "code",
   "execution_count": null,
   "id": "b1ce77fa-7914-4c82-a51c-a04f25db1a19",
   "metadata": {},
   "outputs": [],
   "source": []
  },
  {
   "cell_type": "code",
   "execution_count": null,
   "id": "dcc06325-72de-487b-9f71-2332f5632080",
   "metadata": {},
   "outputs": [],
   "source": []
  },
  {
   "cell_type": "code",
   "execution_count": null,
   "id": "b33455da-42d6-48ad-b7c9-3ad5d49672ea",
   "metadata": {},
   "outputs": [],
   "source": []
  },
  {
   "cell_type": "code",
   "execution_count": null,
   "id": "852a82aa-b3f0-445e-8b65-d74e2b27759f",
   "metadata": {},
   "outputs": [],
   "source": []
  },
  {
   "cell_type": "code",
   "execution_count": null,
   "id": "87f6010a-f044-4cce-bcdb-74ccf371750e",
   "metadata": {},
   "outputs": [],
   "source": [
    "contacts = {}  # 연락처를 저장할 딕셔너리\n",
    "\n",
    "def add_contact(): #1추가\n",
    "    name = input(\"이름을 입력하세요: \")\n",
    "    number = input(\"전화번호를 입력하세요: \")\n",
    "    contacts[name] = number\n",
    "    print(\"연락처가 추가되었습니다.\")\n",
    "\n",
    "def view_all_contacts(): #2보기\n",
    "    if contacts:\n",
    "        print(\"전체 연락처:\")\n",
    "        for name, number in contacts.items():\n",
    "            print(f\"{name}: {number}\")\n",
    "    else:\n",
    "        print(\"저장된 연락처가 없습니다.\")\n",
    "\n",
    "def search_contact(): #3검색\n",
    "    name = input(\"검색할 이름을 입력하세요: \")\n",
    "    if name in contacts:\n",
    "        print(f\"{name}의 전화번호는 {contacts[name]}입니다.\")\n",
    "    else:\n",
    "        print(f\"{name}의 연락처를 찾을 수 없습니다.\")\n",
    "\n",
    "def edit_contact(): #4수정\n",
    "    name = input(\"수정할 연락처의 이름을 입력하세요: \")\n",
    "    if name in contacts:\n",
    "        new_number = input(f\"{name}의 새로운 전화번호를 입력하세요: \")\n",
    "        contacts[name] = new_number\n",
    "        print(f\"{name}의 전화번호가 수정되었습니다.\")\n",
    "    else:\n",
    "        print(f\"{name}의 연락처를 찾을 수 없습니다.\")\n",
    "\n",
    "def delete_contact(): #5삭제\n",
    "    name = input(\"삭제할 연락처의 이름을 입력하세요: \")\n",
    "    if name in contacts:\n",
    "        del contacts[name]\n",
    "        print(f\"{name}의 연락처가 삭제되었습니다.\")\n",
    "    else:\n",
    "        print(f\"{name}의 연락처를 찾을 수 없습니다.\")\n",
    "\n",
    "def main(): \n",
    "    while True:\n",
    "        print(' < 전화번호부 프로그램 > ')\n",
    "        print(\"1.추가   2.보기   3.검색   4.수정   5.삭제   9.종료\")\n",
    "        choice = input(\"메뉴를 선택해주세요!(숫자only): \")\n",
    "\n",
    "        if choice == '1':\n",
    "            add_contact()\n",
    "        elif choice == '2':\n",
    "            view_all_contacts()\n",
    "        elif choice == '3':\n",
    "            search_contact()\n",
    "        elif choice == '4':\n",
    "            edit_contact()\n",
    "        elif choice == '5':\n",
    "            delete_contact()\n",
    "        elif choice == '9': #9종료\n",
    "            print(\"프로그램을 종료합니다.\")\n",
    "            break\n",
    "        else:\n",
    "            print(\"올바른 번호를 입력하세요.\")\n",
    "\n",
    "\n",
    "if __name__ == \"__main__\":\n",
    "    main()\n",
    "\n"
   ]
  },
  {
   "cell_type": "code",
   "execution_count": null,
   "id": "1b5ecb62-676e-4a13-9933-dc59aac7d0f6",
   "metadata": {},
   "outputs": [
    {
     "name": "stdout",
     "output_type": "stream",
     "text": [
      " < 전화번호부 프로그램 > \n",
      "1.추가   2.보기   3.검색   4.수정   5.삭제   9.종료\n"
     ]
    },
    {
     "name": "stdin",
     "output_type": "stream",
     "text": [
      "메뉴를 선택해주세요!(숫자only):  1\n"
     ]
    }
   ],
   "source": [
    "f = main()\n",
    "contacts = {}\n",
    "\n",
    "def add_contact(name, number):\n",
    "    if '011' in number:\n",
    "        print(\"011을 요즘 누가 쓰니?\")\n",
    "        return\n",
    "    contacts[name] = number\n",
    "    print(f\"연락처에 {name}의 번호 {number}가 추가되었습니다.\")\n",
    "\n",
    "def show_all_contacts():\n",
    "    if contacts:\n",
    "        print(\"전체 연락처:\")\n",
    "        for name, number in contacts.items():\n",
    "            print(f\"{name}: {number}\")\n",
    "    else:\n",
    "        print(\"연락처가 비어 있습니다.\")\n",
    "\n",
    "def search_contact(name):\n",
    "    if name in contacts:\n",
    "        print(f\"{name}의 번호는 {contacts[name]}입니다.\")\n",
    "    else:\n",
    "        print(f\"{name}을(를) 찾을 수 없습니다.\")\n",
    "\n",
    "def edit_contact(name, new_number):\n",
    "    if '011' in new_number:\n",
    "        print(\"011을 요즘 누가 쓰니?\")\n",
    "        return\n",
    "    if name in contacts:\n",
    "        contacts[name] = new_number\n",
    "        print(f\"{name}의 번호가 {new_number}로 수정되었습니다.\")\n",
    "    else:\n",
    "        print(f\"{name}을(를) 찾을 수 없습니다.\")\n",
    "\n",
    "def delete_contact(name):\n",
    "    if name in contacts:\n",
    "        del contacts[name]\n",
    "        print(f\"{name}의 연락처가 삭제되었습니다.\")\n",
    "    else:\n",
    "        print(f\"{name}을(를) 찾을 수 없습니다.\")\n",
    "\n",
    "def main():\n",
    "    while True:\n",
    "        print(' < 전화번호부 프로그램 > ')\n",
    "        print('1.추가   2.보기   3.검색   4.수정   5.삭제   9.종료')\n",
    "        choice = input('메뉴를 선택해주세요!(숫자only): ')\n",
    "\n",
    "        if choice == '1':\n",
    "            name = input(\"이름을 입력하세요: \")\n",
    "            number = input(\"전화번호를 입력하세요: \")\n",
    "            add_contact(name, number)\n",
    "        elif choice == '2':\n",
    "            show_all_contacts()\n",
    "        elif choice == '3':\n",
    "            name = input(\"검색할 이름을 입력하세요: \")\n",
    "            search_contact(name)\n",
    "        elif choice == '4':\n",
    "            name = input(\"수정할 연락처의 이름을 입력하세요: \")\n",
    "            new_number = input(\"새로운 전화번호를 입력하세요: \")\n",
    "            edit_contact(name, new_number)\n",
    "        elif choice == '5':\n",
    "            name = input(\"삭제할 연락처의 이름을 입력하세요: \")\n",
    "            delete_contact(name)\n",
    "        elif choice == '6':\n",
    "            print(\"프로그램을 종료합니다.\")\n",
    "            break\n",
    "        else:\n",
    "            print(\"올바른 기능을 선택해주세요.\")\n",
    "\n",
    "if __name__ == \"__main__\":\n",
    "    main()\n",
    "\n",
    "f.close()"
   ]
  }
 ],
 "metadata": {
  "kernelspec": {
   "display_name": "Python 3 (ipykernel)",
   "language": "python",
   "name": "python3"
  },
  "language_info": {
   "codemirror_mode": {
    "name": "ipython",
    "version": 3
   },
   "file_extension": ".py",
   "mimetype": "text/x-python",
   "name": "python",
   "nbconvert_exporter": "python",
   "pygments_lexer": "ipython3",
   "version": "3.11.7"
  }
 },
 "nbformat": 4,
 "nbformat_minor": 5
}
