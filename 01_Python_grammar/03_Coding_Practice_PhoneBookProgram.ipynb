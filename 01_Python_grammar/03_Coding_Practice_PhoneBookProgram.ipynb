{
 "cells": [
  {
   "cell_type": "markdown",
   "metadata": {},
   "source": [
    "# 전화번호 프로그램 만들기\n",
    "\n",
    "* 홍길동 010-123-4567\n",
    "* 기능1 : 연락처 추가\n",
    "* 기능2 : 연락처 전체 보기\n",
    "* 기능3 : 검색, 이름을 입력받아서 전화번호 조회\n",
    "* 기능4 : 수정, 이름을 입력받아서 전화번호 입력수정\n",
    "* 기능5 : 삭제, 이름 입력받아서 삭제\n",
    "* 기능6 : 프로그램 종료"
   ]
  },
  {
   "cell_type": "markdown",
   "metadata": {},
   "source": [
    "1. 인풋과 아웃풋 : 문자열, 딕셔너리\n",
    "2. 데이터 : 사용자 입력 input()\n",
    "3. 구조 : 프로그램 while반복문, 기능 if분기문\n",
    "4. 기능 + 인터페이스\n",
    "- 1번 연락처 추가 : dict[key]=value\n",
    "- 2번 연락처 전체 보기 : print(dict)\n",
    "- 3번 검색 : get메서드, dict[key]\n",
    "- 4번 수정 : update메서드, dict[key]=value\n",
    "- 5번 삭제 : del\n",
    "- 6번 종료 : break"
   ]
  },
  {
   "cell_type": "code",
   "execution_count": 12,
   "metadata": {},
   "outputs": [
    {
     "name": "stdout",
     "output_type": "stream",
     "text": [
      " < 전화번호부 프로그램 > \n",
      "1.추가   2.보기   3.검색   4.수정   5.삭제   9.종료\n"
     ]
    },
    {
     "name": "stdin",
     "output_type": "stream",
     "text": [
      "메뉴를 선택해주세용.(숫자only):  1\n"
     ]
    },
    {
     "name": "stdout",
     "output_type": "stream",
     "text": [
      "연락처를 추가합니다.\n"
     ]
    },
    {
     "name": "stdin",
     "output_type": "stream",
     "text": [
      "이름:  파월\n",
      "전화번호:  010-연준연준-금리금리\n"
     ]
    },
    {
     "name": "stdout",
     "output_type": "stream",
     "text": [
      "파월 010-연준연준-금리금리\n",
      " < 전화번호부 프로그램 > \n",
      "1.추가   2.보기   3.검색   4.수정   5.삭제   9.종료\n"
     ]
    },
    {
     "name": "stdin",
     "output_type": "stream",
     "text": [
      "메뉴를 선택해주세용.(숫자only):  3\n"
     ]
    },
    {
     "name": "stdout",
     "output_type": "stream",
     "text": [
      "연락처를 검색합니다.\n"
     ]
    },
    {
     "name": "stdin",
     "output_type": "stream",
     "text": [
      "검색 이름:  파월\n"
     ]
    },
    {
     "name": "stdout",
     "output_type": "stream",
     "text": [
      "010-연준연준-금리금리\n",
      " < 전화번호부 프로그램 > \n",
      "1.추가   2.보기   3.검색   4.수정   5.삭제   9.종료\n"
     ]
    },
    {
     "name": "stdin",
     "output_type": "stream",
     "text": [
      "메뉴를 선택해주세용.(숫자only):  2\n"
     ]
    },
    {
     "name": "stdout",
     "output_type": "stream",
     "text": [
      "연락처를 조회합니다.\n",
      "파월 = 010-연준연준-금리금리\n",
      " < 전화번호부 프로그램 > \n",
      "1.추가   2.보기   3.검색   4.수정   5.삭제   9.종료\n"
     ]
    },
    {
     "name": "stdin",
     "output_type": "stream",
     "text": [
      "메뉴를 선택해주세용.(숫자only):  9\n"
     ]
    },
    {
     "name": "stdout",
     "output_type": "stream",
     "text": [
      "연락처를 종료합니다.\n"
     ]
    }
   ],
   "source": [
    "contact = {}\n",
    "\n",
    "while True:\n",
    "    print(' < 전화번호부 프로그램 > ')\n",
    "    print('1.추가   2.보기   3.검색   4.수정   5.삭제   9.종료')\n",
    "    menu = int(input('메뉴를 선택해주세용.(숫자only): ' ))\n",
    "\n",
    "    if menu == 1:\n",
    "        print('연락처를 추가합니다.')\n",
    "        new_name = input('이름: ')\n",
    "        new_tel = input('전화번호: ')\n",
    "        print(new_name, new_tel)\n",
    "        # contact[new_name] = new_tel\n",
    "        contact.setdefault(new_name, new_tel)\n",
    "\n",
    "    elif menu == 2: \n",
    "        print('연락처를 조회합니다.')\n",
    "        # print(contact)\n",
    "        for name, tel in contact.items():\n",
    "            print(name, '=', tel )\n",
    "\n",
    "    elif menu == 3: \n",
    "        print('연락처를 검색합니다.')\n",
    "        search_name = input('검색 이름: ')\n",
    "        # print(contact[search_name])\n",
    "        print(contact.get(search_name, '없는 이름입니다.'))\n",
    "\n",
    "\n",
    "    elif menu == 4: \n",
    "        print('연락처를 수정합니다.')\n",
    "        mod_name = input('수정 이름 : ')\n",
    "\n",
    "        if mod_name in contact:\n",
    "            mod_tel = input('새 전화번호 : ')\n",
    "            contact[mod_name] = mod_tel\n",
    "        else :\n",
    "            print('등록되지 않은 이름입니다.')\n",
    "\n",
    "    elif menu == 5: \n",
    "        print('연락처를 삭제합니다.')\n",
    "        del_name = input('삭제 이름: ')\n",
    "\n",
    "        if del_name in contact:\n",
    "            del contact[del_name]\n",
    "        else :\n",
    "            print('등록되지 않은 이름입니다.')\n",
    "\n",
    "\n",
    "    elif menu == 9: \n",
    "        print('연락처를 종료합니다.')\n",
    "        break\n",
    "\n",
    "    else :\n",
    "        print('잘못된 입력입니다.')"
   ]
  },
  {
   "cell_type": "code",
   "execution_count": null,
   "metadata": {},
   "outputs": [],
   "source": []
  },
  {
   "cell_type": "code",
   "execution_count": null,
   "metadata": {},
   "outputs": [],
   "source": []
  },
  {
   "cell_type": "code",
   "execution_count": null,
   "metadata": {},
   "outputs": [],
   "source": []
  },
  {
   "cell_type": "code",
   "execution_count": null,
   "metadata": {},
   "outputs": [],
   "source": []
  },
  {
   "cell_type": "code",
   "execution_count": null,
   "metadata": {},
   "outputs": [],
   "source": []
  },
  {
   "cell_type": "code",
   "execution_count": null,
   "metadata": {},
   "outputs": [],
   "source": []
  }
 ],
 "metadata": {
  "kernelspec": {
   "display_name": "Python 3 (ipykernel)",
   "language": "python",
   "name": "python3"
  },
  "language_info": {
   "codemirror_mode": {
    "name": "ipython",
    "version": 3
   },
   "file_extension": ".py",
   "mimetype": "text/x-python",
   "name": "python",
   "nbconvert_exporter": "python",
   "pygments_lexer": "ipython3",
   "version": "3.11.7"
  },
  "toc": {
   "base_numbering": 1,
   "nav_menu": {},
   "number_sections": true,
   "sideBar": true,
   "skip_h1_title": false,
   "title_cell": "Table of Contents",
   "title_sidebar": "Contents",
   "toc_cell": false,
   "toc_position": {},
   "toc_section_display": true,
   "toc_window_display": false
  },
  "varInspector": {
   "cols": {
    "lenName": 16,
    "lenType": 16,
    "lenVar": 40
   },
   "kernels_config": {
    "python": {
     "delete_cmd_postfix": "",
     "delete_cmd_prefix": "del ",
     "library": "var_list.py",
     "varRefreshCmd": "print(var_dic_list())"
    },
    "r": {
     "delete_cmd_postfix": ") ",
     "delete_cmd_prefix": "rm(",
     "library": "var_list.r",
     "varRefreshCmd": "cat(var_dic_list()) "
    }
   },
   "types_to_exclude": [
    "module",
    "function",
    "builtin_function_or_method",
    "instance",
    "_Feature"
   ],
   "window_display": false
  }
 },
 "nbformat": 4,
 "nbformat_minor": 4
}
