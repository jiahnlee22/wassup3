{
 "cells": [
  {
   "cell_type": "code",
   "execution_count": 1,
   "id": "8de89bd5-2b11-4aa4-b841-a56bd8ce4d05",
   "metadata": {
    "collapsed": true,
    "jupyter": {
     "outputs_hidden": true
    }
   },
   "outputs": [
    {
     "name": "stdout",
     "output_type": "stream",
     "text": [
      "Collecting selenium\n",
      "  Downloading selenium-4.22.0-py3-none-any.whl.metadata (7.0 kB)\n",
      "Requirement already satisfied: urllib3<3,>=1.26 in c:\\users\\ai3_jiahn\\anaconda3\\lib\\site-packages (from urllib3[socks]<3,>=1.26->selenium) (2.0.7)\n",
      "Collecting trio~=0.17 (from selenium)\n",
      "  Downloading trio-0.25.1-py3-none-any.whl.metadata (8.7 kB)\n",
      "Collecting trio-websocket~=0.9 (from selenium)\n",
      "  Downloading trio_websocket-0.11.1-py3-none-any.whl.metadata (4.7 kB)\n",
      "Requirement already satisfied: certifi>=2021.10.8 in c:\\users\\ai3_jiahn\\anaconda3\\lib\\site-packages (from selenium) (2024.2.2)\n",
      "Requirement already satisfied: typing_extensions>=4.9.0 in c:\\users\\ai3_jiahn\\anaconda3\\lib\\site-packages (from selenium) (4.9.0)\n",
      "Collecting websocket-client>=1.8.0 (from selenium)\n",
      "  Downloading websocket_client-1.8.0-py3-none-any.whl.metadata (8.0 kB)\n",
      "Collecting attrs>=23.2.0 (from trio~=0.17->selenium)\n",
      "  Downloading attrs-23.2.0-py3-none-any.whl.metadata (9.5 kB)\n",
      "Requirement already satisfied: sortedcontainers in c:\\users\\ai3_jiahn\\anaconda3\\lib\\site-packages (from trio~=0.17->selenium) (2.4.0)\n",
      "Requirement already satisfied: idna in c:\\users\\ai3_jiahn\\anaconda3\\lib\\site-packages (from trio~=0.17->selenium) (3.4)\n",
      "Collecting outcome (from trio~=0.17->selenium)\n",
      "  Downloading outcome-1.3.0.post0-py2.py3-none-any.whl.metadata (2.6 kB)\n",
      "Requirement already satisfied: sniffio>=1.3.0 in c:\\users\\ai3_jiahn\\anaconda3\\lib\\site-packages (from trio~=0.17->selenium) (1.3.0)\n",
      "Requirement already satisfied: cffi>=1.14 in c:\\users\\ai3_jiahn\\anaconda3\\lib\\site-packages (from trio~=0.17->selenium) (1.16.0)\n",
      "Collecting wsproto>=0.14 (from trio-websocket~=0.9->selenium)\n",
      "  Downloading wsproto-1.2.0-py3-none-any.whl.metadata (5.6 kB)\n",
      "Requirement already satisfied: pysocks!=1.5.7,<2.0,>=1.5.6 in c:\\users\\ai3_jiahn\\anaconda3\\lib\\site-packages (from urllib3[socks]<3,>=1.26->selenium) (1.7.1)\n",
      "Requirement already satisfied: pycparser in c:\\users\\ai3_jiahn\\anaconda3\\lib\\site-packages (from cffi>=1.14->trio~=0.17->selenium) (2.21)\n",
      "Collecting h11<1,>=0.9.0 (from wsproto>=0.14->trio-websocket~=0.9->selenium)\n",
      "  Downloading h11-0.14.0-py3-none-any.whl.metadata (8.2 kB)\n",
      "Downloading selenium-4.22.0-py3-none-any.whl (9.4 MB)\n",
      "   ---------------------------------------- 0.0/9.4 MB ? eta -:--:--\n",
      "   --- ------------------------------------ 0.9/9.4 MB 18.5 MB/s eta 0:00:01\n",
      "   ------- -------------------------------- 1.7/9.4 MB 18.1 MB/s eta 0:00:01\n",
      "   --------- ------------------------------ 2.3/9.4 MB 16.2 MB/s eta 0:00:01\n",
      "   ------------ --------------------------- 2.9/9.4 MB 15.2 MB/s eta 0:00:01\n",
      "   -------------- ------------------------- 3.4/9.4 MB 14.5 MB/s eta 0:00:01\n",
      "   ---------------- ----------------------- 4.0/9.4 MB 14.1 MB/s eta 0:00:01\n",
      "   ------------------- -------------------- 4.6/9.4 MB 13.9 MB/s eta 0:00:01\n",
      "   --------------------- ------------------ 5.1/9.4 MB 13.6 MB/s eta 0:00:01\n",
      "   ------------------------ --------------- 5.7/9.4 MB 13.5 MB/s eta 0:00:01\n",
      "   -------------------------- ------------- 6.3/9.4 MB 13.4 MB/s eta 0:00:01\n",
      "   ----------------------------- ---------- 6.9/9.4 MB 13.7 MB/s eta 0:00:01\n",
      "   ------------------------------- -------- 7.5/9.4 MB 13.6 MB/s eta 0:00:01\n",
      "   --------------------------------- ------ 8.0/9.4 MB 13.5 MB/s eta 0:00:01\n",
      "   ------------------------------------ --- 8.6/9.4 MB 13.4 MB/s eta 0:00:01\n",
      "   -------------------------------------- - 9.1/9.4 MB 13.3 MB/s eta 0:00:01\n",
      "   ---------------------------------------  9.4/9.4 MB 13.4 MB/s eta 0:00:01\n",
      "   ---------------------------------------- 9.4/9.4 MB 12.3 MB/s eta 0:00:00\n",
      "Downloading trio-0.25.1-py3-none-any.whl (467 kB)\n",
      "   ---------------------------------------- 0.0/467.7 kB ? eta -:--:--\n",
      "   --------------------------------------- 467.7/467.7 kB 14.8 MB/s eta 0:00:00\n",
      "Downloading trio_websocket-0.11.1-py3-none-any.whl (17 kB)\n",
      "Downloading websocket_client-1.8.0-py3-none-any.whl (58 kB)\n",
      "   ---------------------------------------- 0.0/58.8 kB ? eta -:--:--\n",
      "   ---------------------------------------- 58.8/58.8 kB 1.6 MB/s eta 0:00:00\n",
      "Downloading attrs-23.2.0-py3-none-any.whl (60 kB)\n",
      "   ---------------------------------------- 0.0/60.8 kB ? eta -:--:--\n",
      "   ---------------------------------------- 60.8/60.8 kB 3.4 MB/s eta 0:00:00\n",
      "Downloading wsproto-1.2.0-py3-none-any.whl (24 kB)\n",
      "Downloading outcome-1.3.0.post0-py2.py3-none-any.whl (10 kB)\n",
      "Downloading h11-0.14.0-py3-none-any.whl (58 kB)\n",
      "   ---------------------------------------- 0.0/58.3 kB ? eta -:--:--\n",
      "   ---------------------------------------- 58.3/58.3 kB 3.0 MB/s eta 0:00:00\n",
      "Installing collected packages: websocket-client, h11, attrs, wsproto, outcome, trio, trio-websocket, selenium\n",
      "  Attempting uninstall: websocket-client\n",
      "    Found existing installation: websocket-client 0.58.0\n",
      "    Uninstalling websocket-client-0.58.0:\n",
      "      Successfully uninstalled websocket-client-0.58.0\n",
      "  Attempting uninstall: attrs\n",
      "    Found existing installation: attrs 23.1.0\n",
      "    Uninstalling attrs-23.1.0:\n",
      "      Successfully uninstalled attrs-23.1.0\n",
      "Successfully installed attrs-23.2.0 h11-0.14.0 outcome-1.3.0.post0 selenium-4.22.0 trio-0.25.1 trio-websocket-0.11.1 websocket-client-1.8.0 wsproto-1.2.0\n"
     ]
    }
   ],
   "source": [
    "# 셀레니움 라이브러리 설치\n",
    "!pip install selenium"
   ]
  },
  {
   "cell_type": "code",
   "execution_count": 17,
   "id": "a86d40d3-9e47-4a67-b9ab-72170e4bf92f",
   "metadata": {},
   "outputs": [],
   "source": [
    "from selenium import webdriver\n",
    "from selenium.webdriver.common.by import By\n",
    "from selenium.webdriver.chrome.options import Options\n",
    "import time\n",
    "\n",
    "options = Options()\n",
    "options.add_experimental_option(\"detach\", True)"
   ]
  },
  {
   "cell_type": "code",
   "execution_count": 5,
   "id": "777cafd8-b4f7-4277-82d5-df36887e32d9",
   "metadata": {},
   "outputs": [],
   "source": [
    "url = 'http://naver.com'\n",
    "driver = webdriver.Chrome(options=options)"
   ]
  },
  {
   "cell_type": "code",
   "execution_count": 7,
   "id": "e365efbd-4956-46ba-aa66-d6a49c161d54",
   "metadata": {},
   "outputs": [],
   "source": [
    "driver.get(url)\n",
    "time.sleep(2) "
   ]
  },
  {
   "cell_type": "code",
   "execution_count": null,
   "id": "a020cef7-5fa0-4ba8-b416-6f676ff19dcd",
   "metadata": {
    "jupyter": {
     "source_hidden": true
    }
   },
   "outputs": [],
   "source": []
  },
  {
   "cell_type": "code",
   "execution_count": 9,
   "id": "7f0509aa-d56c-4a73-a577-0c2be38782ba",
   "metadata": {},
   "outputs": [],
   "source": [
    "driver.back()"
   ]
  },
  {
   "cell_type": "code",
   "execution_count": 10,
   "id": "baeceeab-ce23-490e-b339-9a15788a31bb",
   "metadata": {},
   "outputs": [],
   "source": [
    "driver.forward()"
   ]
  },
  {
   "cell_type": "code",
   "execution_count": 11,
   "id": "09a529db-1672-4a10-b4f4-90857e4b92c3",
   "metadata": {},
   "outputs": [],
   "source": [
    "driver.refresh()"
   ]
  },
  {
   "cell_type": "code",
   "execution_count": 12,
   "id": "edb451e7-a4ed-4781-8df6-56537a073e19",
   "metadata": {},
   "outputs": [
    {
     "name": "stdout",
     "output_type": "stream",
     "text": [
      "NAVER https://www.naver.com/ 3C5861B39885B31F6FAFCC82BCE074F9\n"
     ]
    }
   ],
   "source": [
    "title = driver.title\n",
    "url = driver.current_url\n",
    "handle = driver.current_window_handle\n",
    "print(title, url, handle)"
   ]
  },
  {
   "cell_type": "code",
   "execution_count": 13,
   "id": "aa776e4e-12dd-4418-9e65-f976204f6d3c",
   "metadata": {},
   "outputs": [
    {
     "data": {
      "text/plain": [
       "<selenium.webdriver.remote.webelement.WebElement (session=\"d64dcb2b9da92022f20a34b7a4bd705d\", element=\"f.3C5861B39885B31F6FAFCC82BCE074F9.d.5CF0EA5357F5DEBF00C5FE5A8BD35F82.e.2655\")>"
      ]
     },
     "execution_count": 13,
     "metadata": {},
     "output_type": "execute_result"
    }
   ],
   "source": [
    "driver.find_element(By.ID, \"query\")"
   ]
  },
  {
   "cell_type": "code",
   "execution_count": 14,
   "id": "99ffdf13-678e-41e1-91e5-1a61d85747d2",
   "metadata": {},
   "outputs": [],
   "source": [
    "driver.find_element(By.ID, \"query\").send_keys('뉴진스')"
   ]
  },
  {
   "cell_type": "code",
   "execution_count": 15,
   "id": "4102f5ca-4f4b-4890-8094-f6338eadab33",
   "metadata": {},
   "outputs": [],
   "source": [
    "driver.find_element(By.CLASS_NAME, \"search_input\").send_keys('블랙핑크')"
   ]
  },
  {
   "cell_type": "code",
   "execution_count": 16,
   "id": "3f3ee0a4-acec-4212-a11d-c17d772055a1",
   "metadata": {},
   "outputs": [],
   "source": [
    "driver.find_element(By.NAME, \"query\").send_keys('르세라핌')"
   ]
  },
  {
   "cell_type": "code",
   "execution_count": 17,
   "id": "63f87909-1b6b-4b4c-9a9f-7d20a67c6367",
   "metadata": {},
   "outputs": [],
   "source": [
    "driver.find_element(By.CSS_SELECTOR, \".search_input\").send_keys('세븐틴')"
   ]
  },
  {
   "cell_type": "code",
   "execution_count": 18,
   "id": "fd1b911e-e15c-44dc-b91d-77ed0dd4f16c",
   "metadata": {},
   "outputs": [],
   "source": [
    "driver.find_element(By.CSS_SELECTOR, \"#query\").send_keys('에스파')"
   ]
  },
  {
   "cell_type": "code",
   "execution_count": 20,
   "id": "11c1653a-db37-4e4f-bd5e-33090bb70da3",
   "metadata": {},
   "outputs": [],
   "source": [
    "driver.find_element(By.CSS_SELECTOR, \"[title='검색어를 입력해 주세요.']\").send_keys('트와이스')"
   ]
  },
  {
   "cell_type": "code",
   "execution_count": 21,
   "id": "85bd72c5-6918-4e7c-a36f-ec53ecc41517",
   "metadata": {},
   "outputs": [],
   "source": [
    "driver.find_element(By.XPATH,\"//*[@id='query']\").send_keys('BTS')"
   ]
  },
  {
   "cell_type": "code",
   "execution_count": 22,
   "id": "6fb490bc-d26c-4d3a-bb84-b7acdc55fd5c",
   "metadata": {},
   "outputs": [
    {
     "data": {
      "text/plain": [
       "<selenium.webdriver.remote.webelement.WebElement (session=\"d64dcb2b9da92022f20a34b7a4bd705d\", element=\"f.3C5861B39885B31F6FAFCC82BCE074F9.d.40727CC5AE3D69210B690D7A2DE3D446.e.19347\")>"
      ]
     },
     "execution_count": 22,
     "metadata": {},
     "output_type": "execute_result"
    }
   ],
   "source": [
    "driver.find_element(By.LINK_TEXT, '쇼핑')"
   ]
  },
  {
   "cell_type": "code",
   "execution_count": 23,
   "id": "cbb13ef9-300c-473a-a179-0af6254fa959",
   "metadata": {},
   "outputs": [],
   "source": [
    "driver.find_element(By.LINK_TEXT, '쇼핑').click()"
   ]
  },
  {
   "cell_type": "code",
   "execution_count": 24,
   "id": "e47bf9c8-7bf3-4f97-9775-63c36da8e601",
   "metadata": {},
   "outputs": [],
   "source": [
    "driver.find_element(By.PARTIAL_LINK_TEXT, '쇼').click()"
   ]
  },
  {
   "cell_type": "code",
   "execution_count": 25,
   "id": "4e572e2a-ba6f-4623-a9e1-aea7fc39b891",
   "metadata": {},
   "outputs": [
    {
     "data": {
      "text/plain": [
       "<selenium.webdriver.remote.webelement.WebElement (session=\"d64dcb2b9da92022f20a34b7a4bd705d\", element=\"f.3C5861B39885B31F6FAFCC82BCE074F9.d.40727CC5AE3D69210B690D7A2DE3D446.e.18039\")>"
      ]
     },
     "execution_count": 25,
     "metadata": {},
     "output_type": "execute_result"
    }
   ],
   "source": [
    "driver.find_element(By.TAG_NAME, 'div')"
   ]
  },
  {
   "cell_type": "code",
   "execution_count": 30,
   "id": "a29b0405-1a52-476c-b222-042a266ccee9",
   "metadata": {
    "collapsed": true,
    "jupyter": {
     "outputs_hidden": true
    }
   },
   "outputs": [
    {
     "name": "stdout",
     "output_type": "stream",
     "text": [
      "https://mail.naver.com/\n",
      "https://cafe.naver.com/\n",
      "https://blog.naver.com/\n",
      "https://shopping.naver.com/home\n",
      "https://news.naver.com/\n",
      "https://finance.naver.com/\n",
      "https://land.naver.com/\n",
      "https://map.naver.com/\n",
      "https://comic.naver.com/\n",
      "https://chzzk.naver.com/\n",
      "https://www.naver.com/#\n",
      "https://siape.veta.naver.com/rd?rk=YYs4H7oHa9-IDwzbzqJw_g&eltts=YfOheR%2BnLFSBEvKK2y%2FTsA%3D%3D&elu=5BA297C9C3C09BC2A363AD20A2AF2280AA600BB0F1224856B1E3B0CD8C7D5F6341BB3F4A77A5F39CD5816E901BFB74C92B046500D36C473274A2DF28B9D9C604F0D8675FDAF22A996AAEFDEE92BA1FCD697E5F7ECC82BD74C279AA95D9F31FA9106C54B228F25590EF823CA4768D621930DE9513FAD9CD3EC5D5F708FBFC00BDA1F5B03C00EADE3421C9D4FE1E658652E8C5A37BBB18D79B4D542EF9B859195A8B5F3CB5F7D17DF7D63104BA36F5191223192AE294E03593BF7CA3B054BF55FF7DF70D50D25D1F0D4D87A7831487FDC2AFB8FEA841F79F16EA53276AF68816C7A149514203E223A19FA55EAAC4E98561256439BD31A8DEFDBC8CEF82F716E628B23F8C3BFA407A51086748714615D78698A603B1B20D8157A049045EADF303C7C90C945E9B6678B41330B37AAA80FDCE0589F05E39A2DECC900ED27DE4327494D8CC07C1B67CE038EFBDA44E52E5B715A3EC5A3F07FD7CCDECDFCA955A7B6FCB11DFA46E51BA4203609299CFB488F993296C5387E386A488064288B95F527FA540946C8672D26BA42D643227D77736CF&tr=ndp\n"
     ]
    }
   ],
   "source": [
    "links = driver.find_elements(By.CSS_SELECTOR, '.link_service')\n",
    "for link in links:\n",
    "    print(link.get_attribute('href'))"
   ]
  },
  {
   "cell_type": "code",
   "execution_count": 31,
   "id": "6d7bfbb1-6159-47bd-8df4-c8376e194e2a",
   "metadata": {},
   "outputs": [],
   "source": [
    "url = 'file:///C:/workspace/wassup3/02_Python_collection/sample/signin.html'\n",
    "driver = webdriver.Chrome(options=options)\n",
    "driver.get(url)\n",
    "time.sleep(2) "
   ]
  },
  {
   "cell_type": "code",
   "execution_count": 50,
   "id": "348408b9-b3dc-478e-9c37-1de1925cacde",
   "metadata": {},
   "outputs": [],
   "source": [
    "u = driver.find_element(By.NAME, \"username\").send_keys('boomstar814')\n",
    "up = driver.find_element(By.NAME, \"password\").send_keys('12341234')"
   ]
  },
  {
   "cell_type": "code",
   "execution_count": 43,
   "id": "5de8445f-96af-4871-a58c-4dbfbbea790e",
   "metadata": {},
   "outputs": [],
   "source": [
    "login =  driver.find_element(By.XPATH, '//*[@id=\"loginForm\"]/input[3]')\n",
    "login.click()"
   ]
  },
  {
   "cell_type": "code",
   "execution_count": 46,
   "id": "1175c1a1-21e3-4e3e-99fa-7c9fab6bce2d",
   "metadata": {},
   "outputs": [],
   "source": [
    "driver.back()"
   ]
  },
  {
   "cell_type": "code",
   "execution_count": 45,
   "id": "7c1751dd-7031-4eee-aecb-78966482f02c",
   "metadata": {},
   "outputs": [],
   "source": [
    "login =  driver.find_element(By.CSS_SELECTOR, \"#loginForm > input[type=submit]:nth-child(5)\")\n",
    "login.click()"
   ]
  },
  {
   "cell_type": "code",
   "execution_count": 58,
   "id": "fc8053fb-9824-4682-b8e6-dac69a11095f",
   "metadata": {},
   "outputs": [
    {
     "data": {
      "text/plain": [
       "'Are you sure you want to do this?'"
      ]
     },
     "execution_count": 58,
     "metadata": {},
     "output_type": "execute_result"
    }
   ],
   "source": [
    "driver.find_element(By.TAG_NAME, 'p').text"
   ]
  },
  {
   "cell_type": "code",
   "execution_count": 18,
   "id": "c9d9e410-1e8a-4a11-878d-2cb9fa7bdc5d",
   "metadata": {},
   "outputs": [],
   "source": [
    "from selenium import webdriver\n",
    "from selenium.webdriver.common.by import By\n",
    "from selenium.webdriver.chrome.options import Options\n",
    "import time\n",
    "\n",
    "options = Options()\n",
    "options.add_argument(\"--headless=new\") \n",
    "# options.add_argument('--window-size= x, y') #실행되는 브라우저 크기를 지정할 수 있습니다.\n",
    "# options.add_argument('--start-maximized') #브라우저가 최대화된 상태로 실행됩니다.\n",
    "# options.add_argument('--start-fullscreen') #브라우저가 풀스크린 모드(F11)로 실행됩니다.\n",
    "# options.add_argument('--blink-settings=imagesEnabled=false') #브라우저에서 이미지 로딩을 하지 않습니다.\n",
    "# options.add_argument('--mute-audio') #브라우저에 음소거 옵션을 적용합니다.\n",
    "# options.add_argument('incognito') #시크릿 모드의 브라우저가 실행됩니다.\n",
    "options.add_experimental_option(\"detach\", True) #특정함수안에서  드라이버 생성시 함수종료될 때 브라우저 같이 종료되는 "
   ]
  },
  {
   "cell_type": "code",
   "execution_count": 5,
   "id": "ae9b8dc0-95a4-4fd6-a553-9bae6680b568",
   "metadata": {},
   "outputs": [],
   "source": [
    "url = 'http://naver.com'\n",
    "driver = webdriver.Chrome(options=options)\n",
    "driver.get(url)\n",
    "time.sleep(2)\n",
    "#UI가 없고 백그라운드에서 동작. 속도와 메모리를 위한 방법."
   ]
  },
  {
   "cell_type": "code",
   "execution_count": 6,
   "id": "6c3d2f4b-635d-43fc-902a-edae80346bfd",
   "metadata": {},
   "outputs": [
    {
     "name": "stdout",
     "output_type": "stream",
     "text": [
      "NAVER\n"
     ]
    }
   ],
   "source": [
    "print(driver.title)"
   ]
  },
  {
   "cell_type": "code",
   "execution_count": 7,
   "id": "19fd1991-4a3c-455e-a195-757a3a9799fa",
   "metadata": {},
   "outputs": [],
   "source": [
    "driver.quit() # 탭 닫기 #전체 종료는 close"
   ]
  },
  {
   "cell_type": "code",
   "execution_count": 9,
   "id": "e4060dc4-743d-4b7f-8302-5fe529118359",
   "metadata": {},
   "outputs": [],
   "source": [
    "from selenium import webdriver\n",
    "from selenium.webdriver.common.by import By\n",
    "from selenium.webdriver.chrome.options import Options\n",
    "import time\n",
    "\n",
    "options = Options()\n",
    "# options.add_argument(\"--start-maximized\")\n",
    "# options.add_argument(\"--headless=new\") \n",
    "options.add_experimental_option(\"detach\", True) #\n",
    "\n",
    "url = 'http://naver.com'\n",
    "driver = webdriver.Chrome(options=options)\n",
    "driver.get(url)\n",
    "time.sleep(2)"
   ]
  },
  {
   "cell_type": "code",
   "execution_count": 18,
   "id": "8c5de2ad-12a7-4393-b750-f2be6ca86557",
   "metadata": {},
   "outputs": [
    {
     "name": "stdout",
     "output_type": "stream",
     "text": [
      "945px 418px\n"
     ]
    }
   ],
   "source": [
    "size = driver.get_window_size()\n",
    "width = size.get(\"width\")\n",
    "height = size.get(\"height\")\n",
    "\n",
    "print(str(width)+\"px\"+\" \"+str(height)+\"px\")"
   ]
  },
  {
   "cell_type": "code",
   "execution_count": 19,
   "id": "e7b77ffd-cf42-4ed9-a3a2-12431ca430e2",
   "metadata": {},
   "outputs": [],
   "source": [
    "driver.set_window_size(800, 600)"
   ]
  },
  {
   "cell_type": "code",
   "execution_count": 20,
   "id": "97908813-cf78-4fc3-800f-1b87641503f0",
   "metadata": {},
   "outputs": [
    {
     "name": "stdout",
     "output_type": "stream",
     "text": [
      "x : 930 y : 62\n"
     ]
    }
   ],
   "source": [
    "position = driver.get_window_position()\n",
    "x = position.get('x')\n",
    "y = position.get('y')\n",
    "\n",
    "print(\"x : \"+str(x)+\" \"+\"y : \"+str(y))"
   ]
  },
  {
   "cell_type": "code",
   "execution_count": 23,
   "id": "40353373-694f-4320-ac2a-1270ade1255f",
   "metadata": {},
   "outputs": [
    {
     "data": {
      "text/plain": [
       "{'height': 600, 'width': 800, 'x': 200, 'y': 200}"
      ]
     },
     "execution_count": 23,
     "metadata": {},
     "output_type": "execute_result"
    }
   ],
   "source": [
    "driver.set_window_position(200,200)"
   ]
  },
  {
   "cell_type": "code",
   "execution_count": 22,
   "id": "f83d5e63-8a15-41be-8e46-619fb697d393",
   "metadata": {},
   "outputs": [],
   "source": [
    "# 창 크기 최대화\n",
    "driver.maximize_window()"
   ]
  },
  {
   "cell_type": "code",
   "execution_count": 24,
   "id": "926e3d61-1423-4fcf-a096-d2d872b28870",
   "metadata": {},
   "outputs": [
    {
     "data": {
      "text/plain": [
       "True"
      ]
     },
     "execution_count": 24,
     "metadata": {},
     "output_type": "execute_result"
    }
   ],
   "source": [
    "# 스크린 샷\n",
    "driver.save_screenshot('./image.png')"
   ]
  },
  {
   "cell_type": "code",
   "execution_count": 25,
   "id": "f41c3625-c2d0-4038-b350-69e78ad9803e",
   "metadata": {},
   "outputs": [],
   "source": [
    "driver.close()"
   ]
  },
  {
   "cell_type": "code",
   "execution_count": 19,
   "id": "62c00b0d-664a-49f9-9073-7d8605808c64",
   "metadata": {},
   "outputs": [],
   "source": [
    "from selenium import webdriver\n",
    "from selenium.webdriver.common.by import By\n",
    "from selenium.webdriver.chrome.options import Options\n",
    "import time, random, pandas as pd\n",
    "\n",
    "options = Options()\n",
    "options.add_argument('--window-size=974,1047')\n",
    "options.add_argument('--window-position=-7,0')\n",
    "options.add_experimental_option(\"detach\", True)"
   ]
  },
  {
   "cell_type": "code",
   "execution_count": 20,
   "id": "7f163dbf-7f77-4497-8682-3e97e50281d0",
   "metadata": {},
   "outputs": [],
   "source": [
    "# 웹드라이버 로드\n",
    "driver = webdriver.Chrome( options = options)"
   ]
  },
  {
   "cell_type": "code",
   "execution_count": 28,
   "id": "3b132616-0f7d-496f-8e01-d4a287224299",
   "metadata": {},
   "outputs": [],
   "source": [
    "# 조건 설정\n",
    "where = 'blog'\n",
    "query = '인공지능'\n",
    "dateform = '20240101to20240625'\n",
    "url = f'https://search.naver.com/search.naver?ssc=tab.{where}.all&query={query}&sm=tab_opt&nso=so%3Ar%2Cp%3Afrom{dateform}'\n",
    "# url = f'https://search.naver.com/search.naver?where={where}&query={query}&sm=tab_op&nso=so:r,p:from{dateform}'\n",
    "fname = f'{where}_{query}_{dateform}'"
   ]
  },
  {
   "cell_type": "code",
   "execution_count": 29,
   "id": "dcde5eca-3fa4-40f7-bd24-3d3ccfe76f47",
   "metadata": {},
   "outputs": [],
   "source": [
    "# url 접속\n",
    "driver.get(url)\n",
    "time.sleep(random.randint(2,3))"
   ]
  },
  {
   "cell_type": "code",
   "execution_count": 30,
   "id": "b1363a03-558e-40e1-8e0e-fe043fcc40ea",
   "metadata": {},
   "outputs": [],
   "source": [
    "#네이버 뷰는 최대 1050까지만 노출\n",
    "# 스크롤 10번\n",
    "for i in range(10):\n",
    "    driver.execute_script('window.scrollTo(0, document.body.scrollHeight);')\n",
    "    time.sleep(random.randint(2, 3))"
   ]
  },
  {
   "cell_type": "code",
   "execution_count": 34,
   "id": "5080173d-231e-41e6-aa8d-e78ba0c824bb",
   "metadata": {
    "scrolled": true
   },
   "outputs": [
    {
     "name": "stdout",
     "output_type": "stream",
     "text": [
      "{'title': '엔비디아 주가 전망 시가총액 버블일까 실적 인공지능 가속기', 'text': '엔비디아 주가 전망 시가총액 버블일까 실적 인공지능 가속기 인공지능 AI열풍의 최전선에 있는 엔비디아는 1일간 시가총액 1위를 하고 다시 밀려났습니다. 최근들어서 거품이라는 이야기도 나오고 있죠. 과거 1999년 IT열풍이 한창일때, 나스닥 지수는 5000선까지 올랐었습니다. 그 거품의 중심에는 시스코가 있었죠. 닷컴 버블 붕괴 직전 시스코는 마이크로소프트(MSFT)...', 'date': '7시간 전'}\n",
      "{'title': '구글 알파벳 주가 전망, 1주만 사고 후회(feat. 배당금, 역투자, 인공지능)', 'text': '배당금, 역투자, 인공지능) 투자를 하면 항상 후회를 하게되죠. 그때 샀어야해, 팔았어야해, 더 떨어지면 살걸 등.. 매 순간마다 선택에 따라 수익률이 크게 차이날 수 있기... 인공지능 테마가 정말 무서울정도로 긴시간 지속되고 있습니다. 구글은 계속 긴장하고 있다 구글이 지금처럼 상승하기까지 어려움이 없었던 것은 아닙니다. 2022년부터 정리해고를 해왔고...', 'date': '2주 전'}\n",
      "{'title': '인공지능 삼성 노트북 갤럭시북4 엣지 가벼운 14인치 노트북 스펙 가격', 'text': '오늘은 인공지능 더해진 14인치 노트북 갤럭시북4 엣지 가격 스펙을 간단히 소개해 드리겠습니다. 갤럭시북4 엣지 14인치 갤럭시북4 엣지는 14인치와 16인치 두 종류로 출시됐으며... 에 초점을 둔 기기답게 윈도우 코파일럿(Copilot) 버튼이 키보드에 배정되어 있습니다. 텍스트와 대략적인 스케치만 있으면 알아서 예술 작품을 완성시켜주는 Cocreator...', 'date': '2일 전'}\n",
      "{'title': '[인공지능 개발자] 석사가 아닌 고졸도 취업이 가능한 루트', 'text': '인공지능 개발자 석사가 아닌 고졸도 취업이 가능한 루트 현재, IT 산업에서 가장 주목받고 있는 기술, AI(Artificial Intelligence)는 얼마 전까지만 하더라도, 유용한 기술인 건 맞지만... 하지만, 현재에는 관련 프로젝트를 수행하는 과정에서 활용할 수 있는 API, 라이브러리 등이 굉장히 많아졌고, 기술의 수준 또한 높기 때문에 과거에는 AI 프로젝트를 0%부터...', 'date': '3주 전'}\n",
      "{'title': '인공지능 VS 인간, 주식투자 대결 승자는? 로보어드바이저 투자 수익률 공개', 'text': \"인간과 인공지능(AI) 중 누가 더 투자를 잘할까요? AI는 빅데이터 분석, 머신러닝 알고리즘 등을 활용하여 인간보다 더 정확하고 수익성 높은 투자를 할 수 있다는 주장이... 'AI vs 인간' 주식 투자 대결 (2023년) ① 주최: 한국거래소 ② 참가자: 투자 플랫폼 10곳 vs 개인 투자자 100명 ③ 투자 기간: 6개월 ④ 투자 대상: KOSPI 200 지수 구성 종목 ⑤ 결과...\", 'date': '2024.05.10.'}\n",
      "{'title': '삼성전자 갤럭시북4 프로360 AI 인공지능 노트북 리뷰', 'text': 'AI 인공지능 관련된 기능들을 확실히 쾌적하게 사용이 가능했습니다. 보통 가성비를 생각하여 적당한 사양에서 타협을 보고 구입을 할건데 지금까지 갤럭시북 프로를 구형부터... 키보드의 숫자키는 생산성을 높였고, 상단의 지문인식 전원키는 보안성 강화해서 인가된 사용자외엔 철저하게 배제 해주니 이같은 AI 활용하기 편리한 노트북이...', 'date': '4주 전'}\n",
      "{'title': '애플 주가 인공지능 AI 아이폰 통화녹음 WWDC 내용 정리', 'text': '애플 주가 인공지능 AI 아이폰 통화녹음 WWDC 내용 정리 매년 6월이면 WWDC 가 열립니다. 매번 어떤 아이디어를 가지고 나타날까 궁금해지는데, 이번에는 애플도 AI 인공지능이라는 타이틀을 들고 나왔습니다. 드디어 애플도 시장에 참전하려는가 봅니다. 내용을 다 보진 못했지만 일부 확인후 요약본을 추가로 본 결과 애플이 어떤 생각으로 을 대하고...', 'date': '2주 전'}\n",
      "{'title': '인공지능AI와 ETF투자하는 법 feat. 핀트 후기', 'text': \"그 중 오늘은 AI 인공지능을 기반으로 투자에 투여하는 시간과 어려운 투자 의사결정을 대신해주고 개인 맞춤 포트폴리오 제공을 통해 자동으로 매수매수를 진행하는 [핀트] 에 대하여 알아보고자 한다. AI 투자 서비스 '핀트' 핀트는 모바일 1:1 맞춤형 간편투자 서비스로, 자체 개발한 투자 운용플랫폼 프레퍼스와 AI 간편투자 엔진 아이작이 개인의 투자...\", 'date': '2024.05.01.'}\n",
      "{'title': '앱제작 인공지능 기술이 비용을 확 낮춰드림', 'text': '하지만, 인공지능 기술로 앱제작을 하게 되면 이런 문제들을 전혀 신경 쓰지 않아도 됩니다. 인공지능 기술은 C, Java, Javascript 등 낡은 프로그램 언어와 똑같이 구현 대상에 아무런 제약이 없을 뿐만 아니라 표현 자유도(UI, UX)까지 매우 높으며 개발된 앱 제품은 오류 발생이 없습니다. Android, iOS 용 모바일 앱과 PC Windows, WebApp 프로그램까지 한 번에 제작할 수 있어...', 'date': '6일 전'}\n",
      "{'title': '데이터베이스 뜻 인공지능 코딩 데이터분석 취업 빅데이터학원', 'text': '인공지능분석 기술은 요즘에 4차산업혁명 새로운 직업군중에 고액 연봉 복지 대우를 받을 수 있는 직무 입니다. 빅데이터학원 에서 요즘 AI 국비지원 수업이 가능한데 어떤... 요즘에는 이런걸 이용해서 마케팅 영업 , 새로운 신기술 사업에 응용 할 수 있기 때문에 취업 AI 분야가 떠오르고 있다는 것 입니다. 뜻 같은 경우도 비슷하다고 보시면...', 'date': '4주 전'}\n",
      "{'title': '릴리스 AI , 유튜브 영상 자동 요약 인공지능', 'text': '아무리 인공지능 AI인들 그 긴 영상을 어떻게 깔끔하게 요약한단 말인가. 그런데 사용해보면, 이 기능들 진짜 미.쳤.다. 일단 아래 화면은 요약본이다. 영상은 22분짜리인데, 그냥 몇 초만에 요약해낸다. 요약본을 읽는데는 채 5분도 걸리지 않았다. 요약 상태도, 오, 훌륭하다. 서비스는 다양하다. 전체 스크립트를 볼 수 도 있게 되어있다. 요약본보다 더 자세한 내용을...', 'date': '3일 전'}\n",
      "{'title': '2024 월드IT쇼 LG전자 부스 방문 인공지능 AI 가전 새로운 미래를 만나다', 'text': '2024 월드IT쇼 LG전자 부스 방문 인공지능 AI 가전 새로운 미래를 만나다 안녕하세요. 사진&IT 크리에이터 자유분방입니다. 2024년 월드IT쇼 World IT Show 2024가 2024년 4월 17일(수)~19일(금)... LG전자 인공지능, AI가 보여주는 가전의 미래 LG전자부스는 빛의선율, 물의 순환, 바람의 시선, 흙 그리고 삶, 초월적 연결 5가지 테마로 되어 있었어요. 그리고 입구에는 LG 알파블...', 'date': '2024.04.19.'}\n",
      "{'title': '골프, 야구, 축구 등 스포츠에도 활용되는 인공지능(AI)', 'text': '인공지능(AI) 기술이 골프, 야구, 축구 등 다양한 스포츠 영역에 활용되고 있습니다. AI가 골프 경기 결과를 예측하고, 야구 경기에선 사람 대신 투구를 심판하고, 심지어 AI가 축구... [축구] 코너킥 전술 짜는 AI 구글 산하 인공지능(AI) 조직인 딥마인드는 지난 3월 영국 프로축구 구단 리버풀FC와 함께 AI 기반 축구 전술 코칭 프로그램을 개발했다고 발표했습니다....', 'date': '4주 전'}\n",
      "{'title': '애플 주가전망 미국주식 인공지능 시총1위 아이폰판매 기대', 'text': '애플 주가전망 미국주식 인공지능 시총1위 아이폰판매 기대 애플의 시가총액이 마이크로소프트를 다시 제치고 1위가 되었습니다. 생성형인공지능 애플인텔리전스 발표이후 시장의 반응이 상당히 뜨겁습니다. 애플시총1위 애플 주가전망 미국주식 시총 1위 유지 그렇지만 주가에 대한부담감도 상당합니다. 결국 앞으로 좋아질 애플의실적이 선 반영된 것이죠. 이주가를...', 'date': '2주 전'}\n",
      "{'title': '애플 주가 급등, AI 인공지능 애플 인텔리전스 게임 체인저 될까? 국내 관련주', 'text': 'AI 인공지능 관련주로 부각 애플 인텔리전스(Apple Intelligence)라는 인공지능 전략을 공개되면서 게임 체인저가 될 것으로 기대되고 있습니다. 회사는 WWDC(연례 세계 개발자 회의)에서 아이폰, 아이패드, 맥 컴퓨터에 AI를 적용하는 계획을 자세히 설명했는데요. 이제 각 디바이스에는 OpenAI의 ChatGPT를 시작으로 자체 및 타사 모델이 사용될...', 'date': '2주 전'}\n",
      "{'title': '무료 이미지 생성 AI 사이트 (인공지능이 자동으로 그림 그려주는 사이트)', 'text': '무료 이미지 생성 AI 사이트 (인공지능이 자동으로 그림 그려주는 사이트) 도비호 | 2024년 05월 28일 | 댓글 없음 카테고리: 인공지능, ChatGPT | 태그: 인공지능 블로그에 쓸 원하는 사진이 유료 밖에 없어 인공지능한테 그림을 그리라고해서 사용했다. 이 그림이나 사진을 그려주는 사이트를 모아 보았다. 목차 1 (AI)이 그림을 그려준다...', 'date': '4주 전'}\n",
      "{'title': '인공지능 감성 AI로봇 리쿠 리뷰, 가격 미운우리새끼 김승우 로봇', 'text': \"얼리어답터 리뷰/IT정보 인공지능 감성 AI로봇 리쿠 리뷰, 가격 미운우리새끼 김승우 로봇 by 엔돌슨 2024. 5. 22. 인공지능 감성 AI로봇 리쿠 리뷰, 가격 미운우리새끼 김승우 로봇 안녕하세요. 오늘은 국내 최초로 인공지능 감성 로봇으로 인정받은 '리쿠'에 대해 리뷰해보려고 합니다. 최근 방송된 미운우리새끼에서 김승수가 리쿠 로봇을 소개하는...\", 'date': '2024.05.22.'}\n",
      "{'title': '연금저축보험 이전 후 수익 인증, 인공지능 투자 성과 어떨까?', 'text': '최근엔 인공지능이 운영하는 상품을 추천하고 있습니다. 가입 후 연금을 받기까지 또는 연금을 받으면서도 상품을 운용해야 초장기 상품이기 때문에 상품 하나 가입하면 끝이 아니라 상황에 맞게 운용을 해야 합니다. 가입자가 직접 펀드를 바꾸고, ETF를 매수할 수 있다면 좋겠지만 쉽지 않죠. 적어도 제 주변에는 없었습니다. 은 연금저축계좌에 넣은...', 'date': '2024.04.08.'}\n",
      "{'title': 'AI 엑스포 인공지능 트렌드 기술 적용 사례 셀바스AI 기업 탐방기', 'text': 'GPT 서비스 시작으로 다양한 인공지능 서비스가 빠르게 성장하기 시작하였습니다. 물론, 일부 아쉬운점이 있었는데요. 스타트 기업 및 론칭 예정에 가까운 사업들이 많다는... 4) CO-Assistance 업무 생산성 SELVAS는 자체적 개발 음성 지능, 필기 지능 솔루션을 개발하였는데요. 복잡한 문서 및 이미지 파일을 텍스트로 전환하는 Selvy OCR, 대화 내용을 기록할 수 있는 Selvy...', 'date': '2024.05.14.'}\n",
      "{'title': '인공지능과 생명공학의 만남, 디지털 육종 기술', 'text': '따라서 디지털 육종이라는 것은 유전체 분석 및 인공지능 기술을 활용해 더 효율적으로 원하는 기능을 가진 고품질의 종자를 생산할 수 있는 융합 기술로 볼 수 있습니다. 2024년 10대... 빅데이터와 인공지능 기술의 적용이 아예 없는 0단계부터 육종가의 개입 없이 완전 자동화된 5단계까지 총 6단계로 나눌 수 있습니다. 디지털 육종의 단계별 기술을 자세히 살펴보면...', 'date': '2024.04.27.'}\n",
      "{'title': 'AI 인공지능 엔비디아 주가 국내 반도체 관련주 - SK하이닉스 KODEX 핵심장비 ETF', 'text': 'AI 인공지능 엔비디아 주가 국내 반도체 관련주 - SK하이닉스 KODEX 핵심장비 ETF 금리가 떨어지지 않고 있지만, 파월 의장의 비둘기파 발언으로 미국 주식시장은 활기를 되찾았습니다. 지금 주식시장의 가장 큰 화두는 바로 AI 입니다. 엔비디아는 그 중심에 서 있죠. 최근 좀 지지부진하긴 했지만, 2년전과 비교해보면 500% 이상 상승한 것을 볼 수 있습니다....', 'date': '2024.05.10.'}\n",
      "{'title': '소프트웨어 SW 코딩 엔트리 인공지능 with 햄스터로봇', 'text': '오늘 제가 읽은 책은 영진닷컴의 엔트리 인공지능 with 햄스터로봇 개정판인데요. 엔트리와 햄스터 로봇으로 쉽게 배우는 인공지능 교육 교재입니다. 엔트리는 우리나라에서 만든 소프트웨어 프로그램입니다. 누구나 무료로 사용할 수 있는 SW 교육 프로그램인데요. 대부분의 학교에서 이 SW를 사용해서 소프트웨어 학습을 진행하고 있습니다. 작품을 만드는 과정이...', 'date': '2주 전'}\n",
      "{'title': '인공지능이 변화시킬 미래, 주거환경엔 어떤 영향을 미칠까? 2024 AI EXPO', 'text': \"작년 초, 거대언어모델(LLM)의 상용화를 현실화시킨 Open AI사의 'Chat GPT'는 인공지능이 상용화되었다는 사실을 전 세계적으로 널리 알린 신호탄이었습니다. 그리고 1년 뒤 국내 최고의... 그리고 올해 5월 Open AI사는 'Chat-GPT-4o'를 통해 거대언어모델을 넘어 이미지와 영상도 AI로 콘텐츠화할 수 있고, 이제는 이 인간의 감정까지 읽을 수 있는 무서운 현실을...\", 'date': '2주 전'}\n",
      "{'title': 'AI 인공지능 개발자 비전공자 국비지원 취업 내일배움카드 교육 학원', 'text': '오늘은 AI개발자 취업 과정 그리고 인공지능 개발자 분야 국비지원 교육 과정에 대해서 알려드리려고 합니다~! AI취업 내일배움카드 알아보시는 분들에게 좋은 소식일듯 합니다 AI... 인공지능 개발자 교육 커리큘럼 안내 3. 비전공자 기준 IT진로 고민이라면 ? 4. 내일배움카드 사용할때 주의할점 5. IT현실 조언 / 팩트정리 1. AI 개발자 취업 전망이 좋은이유 학원...', 'date': '2024.05.25.'}\n",
      "{'title': '인공지능 관련주 투자 전망 국내외 6곳', 'text': \"AI 음성 비서 'NUGU', 지능형 CCTV 등 AI 기술 기반의 제품 및 서비스를 선보이고 있습니다. 최근에는 자회사 SK쉴더스를 통해 AI 기술 기반의 보안 솔루션 사업을 강화하고 있습니다. 전문가들은 SK 텔레콤이 AI 기술을 통신, 보안, 미디어 등 다양한 분야에 적용하며 성장할 것으로 전망하고 있습니다. 이처럼 국내 주요 IT, 통신, 보안 기업들이 ...\", 'date': '4주 전'}\n",
      "{'title': '복지 서비스에도 활용되는 인공지능(AI)', 'text': \"다양한 복지 서비스에 인공지능(AI)이 활용되고 있습니다. 인공지능이 안부 전화를 거는 'AI 노인 말벗 서비스'를 비롯해 발달장애인 돌봄에도 인공지능(AI) 기술이 적용되고, AI로 전력·통신사용량 감지해 1인가구의 고독사를 예방하기도 하는데요. 복지 서비스에 활용되는 (AI)의 활용 사례를 윤커뮤니케이션즈와 함께 살펴보세요! 이 안부 전화 거는...\", 'date': '2주 전'}\n",
      "{'title': '한미반도체 주가 전망 주식 인공지능AI 테마 관련주', 'text': '한미반도체 주가 전망 주식 인공지능AI 테마 관련주 국내주식이 미국 나스닥에 비해서는 재미없고 지루하다는 평이 많습니다. 하지만 일부 몇개 종목은 몇년간 엄청난 상승률을... 인공지능 AI테마의 중심 단순히 실적이 좋아진다는 이유만으로, 이정도로 주가가 오르기는 쉽지 않습니다. 하지만 한미반도체는 (AI)수혜주로 분류되고 있어요. 그 배경에는...', 'date': '2주 전'}\n",
      "{'title': '새로운 AI 시대의 시작 Windows 11 Copilot + PC 인공지능 노트북의 등장!', 'text': '요즘 인공지능 기반 서비스가 유행입니다. 저 역시도 윈도우 및 엣지 브라우저를 통해 코파일럿을 자주 사용하고 있습니다. 무료로 사용할 수 있으면서 그림 생성은... 여느 인공지능 기반 서비스보다 더 많은 기능과 향상된 성능을 제공하는 Copilot+ PC는 앞으로 우리의 PC 사용 경험을 크게 변화시킬 것입니다. 새로운 기능들과 함께 제공되는 뛰어난...', 'date': '2주 전'}\n",
      "{'title': '인공지능으로 국방규격 품질관리 시작한다! <국방표준종합정보시스템(KDSIS) 고도화 사업 완료>', 'text': '* PLM : Product Lifecycle Management ** BOM : Bill of Materials 이 밖에 로봇처리자동화(RPA*) 및 인공지능(AI) 기술을 적용하여 단순․반복적인 업무를 자동으로 처리하고 방대한 분량의 기술 자료도 신속하게 검증하여 국방규격의 품질을 크게 높일 수 있게 되었습니다. * RPA : Robotic Process Automation 이러한 기능 개선은 최근 첨단 무기체계의 개발 추세를 반영하는...', 'date': '1일 전'}\n",
      "{'title': '애플 iOS18 아이폰 기능, 어떤 인공지능 기능들이 추가될까?', 'text': 'Siri는 물론이고, 이메일, 메시지, 사파리, 사진 편집 등에서도 인공지능을 활용한 기능들이 추가될 것으로 예상되고 있습니다. 그리고 그 중심에는 Open AI의 ChatGPT가 있을 것이라는... 그리고 메일과 메시지에서는 인공지능을 활용한 스마트 답장 기능을 사용할 수 있을 것으로 예상되고 있습니다. 대형 언어 모델 기반으로 이메일과 메시지 내용 등을 분석해...', 'date': '3주 전'}\n",
      "{'title': '신일 무소음 선풍기 BLDC 모터에 인공지능 탑재 3D14W', 'text': 'BLDC 모터를 탑재해 12단계로 세부적인 풍량 조절은 물론 소음이 거의 없고, 인공지능 기능을 탑재해 스스로 풍량을 조절하고 3D 좌우 상하 입체 자동회전이 가능해 필자에게 딱... 게다가 인공지능 탑재로 주변 온도에 맞춰 자동으로 바람세기가 설정되도록 사용할 수 있다. 각도 조절도 가능한데, 30도/60도/120도 좌우 조절은 물론 상하 105도까지 조절이 가능해 상황에...', 'date': '2024.05.16.'}\n",
      "{'title': 'AI 상담 서비스 인공지능 챗봇 고객센터 클라우드게이트 프로모션 정보', 'text': '인공지능 기술이 발전하면서 이는 고객 상담 분야에도 큰 영향력을 가져왔습니다. 사람이 직접 상담을 하던 과거와 달리 학습된 AI 솔루션을 통해 고객 응대를 하는 기업들이 많아지고 있죠. 앞으로도 인공지능 분야로는 지속적인 발전이 예상되기에 솔루션 사용은 꼭 필요해지는 상황인데요. AI 상담 고객센터 대행에 괜찮은 클라우드게이트 AI 서비스 및...', 'date': '4주 전'}\n",
      "{'title': '인공지능(AI) 시대, 늘어나는 반도체 수요, 이번 기회를 놓치면 끝이다? 26조원 규모 반도체 산업지원 방안', 'text': '이는 전세계적으로 인공지능(AI) 투자가 확대되면서 반도체 수요가 급증했고, 메모리 반도체 가격이 상승한 덕분인데요. 하지만 그만큼 경쟁이 치열하다는 것을 의미하기도... 06.07~2025.06.06)) #웰컴저축은행 #웰컴디지털뱅크 #저축은행 #반도체 #파운드리 #HBM #미니팹 #팹리스 #반도체클러스터 #삼성전자 #SK하이닉스 #메모리 #메모리반도체 # #AI', 'date': '2주 전'}\n",
      "{'title': 'AI 종류 인공지능 직업 개발자 교육 국비지원 취업 내일배움카드 학원', 'text': '오늘은 AI종류 어떤것들이 있는지 인공지능 직업 에 대해서 알아보고 AI 교육 국비지원 수업과정 커리큘럼 강의 강좌 수업 내용까지 알아보려고 합니다 요즘에 인공지능개발자 취업, AI개발자 취업 많이 하시려고 하시는데요~ 파이썬 데이터분석, 딥러닝 기술이 필수여서 이런 부분에 맞게 교육과정을 받을 수 있는지 제대로 알아보고 본인 계획 목적에 맞게 기술...', 'date': '2024.05.25.'}\n",
      "{'title': '미국 AI 인공지능 관련주 수혜주 종류', 'text': '갑자기 AI 인공지능 관련주 수혜주에는 무슨 기업이 있는지 궁금하시데요. 재설씨를 위해 부랴부랴 인공지능 관련주에 대해 공부해서 분야별로 대표 주식들 알려드렸어요~ 오늘 포스팅은 6월 23일 기준으로 상담 내용이니 참고해주세요! 목차 1. 미국 증시 분위기 2. 미국 AI 관련주 수혜주 전망 3. 관련주 종류 4. ARM 주가 추세 5. AI 인에이블링 관련주...', 'date': '6시간 전'}\n",
      "{'title': 'AI프로필 제작 캐럿으로 나만의 인공지능 사진 및 그림 만들기', 'text': '요즘은 인공지능을 기반으로 앵커를 대체하기도 하고 CF 영상에 AI 캐릭터가 등장하기도 합니다. 정말 신기한 세상에 살고 있으나, 종종 어떻게 만드는지 궁금하기도 했는데요. 예전에는 뭔가 이질적이고 어색하다는 느낌이 들었다면, 요즘은 무엇이 진짜인지 헷갈릴 정도로 사진이나 캐릭터의 퀄리티가 높더라고요. 이번 글에서는 매일 1장 누구나 무료로...', 'date': '2024.03.25.'}\n",
      "{'title': '인공지능 딥러닝 용산 조립컴퓨터 견적 출고', 'text': '24코어 32스레드를 지원하고 있는 고사양 프로세서로 인공지능 개발용 컴퓨터를 제작할때 많이 선택받고 있는 고사양 프로세서 입니다. 기본클럭 3.2GHz 이며 최대클럭 6.0GHz를... 깔끔하게 선 정리를 완료합니다. 테스트를 완료하고 작동이 잘 되는 상태로 출고 합니다. 이렇게 딥러닝 용산 조립컴퓨터 포스팅을 마칩니다. 감사합니다.', 'date': '2024.05.21.'}\n",
      "{'title': '인공지능 ai 음악 만들기 저작권 정보 및 만드는 방법', 'text': '다만, 저작권을 가지려면 창작자가 있어야 하는데 ai 음악은 장작 주체가 인공지능이기 때문에 저작권 귀속 주체를 정하기 어렵습니다. 즉, 현재까지는 ai 음악에 대한 저작권이 없는 상태이며 법적 기준이 모호한 상황입니다. 때문에 ai 음악을 생성하면 저작권 없이 사용이 가능합니다. 본 포스팅에서는 필모라 AI 음악 생성기를 통해 음악 만드는 방법...', 'date': '2시간 전'}\n",
      "{'title': '사회적 고립가구 위한 인공지능(AI) 스피커 돌봄 서비스 시범 시행, 5월 24일까지 신청 접수', 'text': '사회적 고립가구를 위한 안전망✋ 서울주택도시공사 등 4개 기관이 사회적 고립가구를 위한 인공지능(AI) 스피커 돌봄 서비스를 시범 시행하고, SH공사 강동구 소재 다가구 매입임대주택 사회적 고립가구 100세대를 대상으로 5월 13~24일 신청 접수받습니다! 서울주택도시공사, 스피커로 사회적 고립가구 24시간 돌본다 서울주택도시공사와 서울시복지재단...', 'date': '2024.05.13.'}\n",
      "{'title': '인공지능의 시대: 2016년의 붐과 그 이후 #AI강의', 'text': \"영화 속 인공지능 '사만다'의 목소리는 스칼렛 요한슨이 맡았죠. 영화의 결말은 주인공이 '사만다'에게 깊은 애정을 품게 되지만, 결국 사만다가 업그레이드되어 그를 떠나버리는 이야기로 마무리됩니다. 이 결말은 인공지능이 인간과의 관계에서 어떻게 행동할지를 생각하게 만듭니다. 이 영화는 과 인간의 관계에 대한 많은 시사점을 던집니다....\", 'date': '2주 전'}\n",
      "{'title': '구글 홈미니 네스트 미니 2세대 인공지능 AI 스피커 4년 사용후기', 'text': '현재 인공지능 ai 스피커가 많이 보편화되면서 많은 ai 기술력을 가진 스피커가 많이 나오고 있습니다! 하지만 구글에서 나온 네이스트 미니 2세대를 사용해보면서 솔직한 후기를... 좋은 인공지능 스피커라는 점입니다. 처음에 연동만 잘 해놓으면 음성을 통해 음악도 들을 수 있고 날씨도 물어볼 수 있 검색도 할 수 있고 다양하게 활용할 수 있는 게 바로 구글 홈미니...', 'date': '2024.05.11.'}\n",
      "{'title': '마사(MASA) AI 대장 코인 탈중앙화 인공지능 데이터 프로젝트 소개 및 전망', 'text': '어떤 기업이 시총 1위를 하느냐는 사실 우리에게 의미는 없고, 두 회사 모두 인공지능에 엄청나게 앞서가고 있다는 것에 집중할 필요가 있습니다. 반도체 시장은 최근 다소 부침을 겪었지만 현재 엄청난 호황이죠. 국내 기업인 하이닉스만 봐도 알 수 있는데요. 하이닉스의 경우 ATH를 지속적으로 기록하고 있습니다. 그만큼 에 대한 기대감이 얼마나...', 'date': '13시간 전'}\n",
      "{'title': '무선이어폰 갤럭시버즈3 프로 스템 생기는 이유!! 실시간 번역 방법과 탑재 그런데 배터리 용량은?', 'text': '실시간 번역 기능과 인공지능 탑재 삼성전자가 무선이어폰 최신 모델 출시를 앞두고 있는 갤럭시버즈3 프로에 갤럭시S24 울트라에 탑재된 인공지능 기능과실시간 번역 기능을 탑재할 것으로 보입니다. 외국인과 통화를 하면서 실시간으로 어떤 내용을 말하는지 번역을 해 준다는 실시간 번역 기능이 무선이어폰에도 적용된다는 것입니다. 세상이 참 빠르게 변하고...', 'date': '4주 전'}\n",
      "{'title': '인공지능(AI)과 구글의 위기??', 'text': '인공지능(AI)과 구글의 위기? 구글(Google, 알파벳A)은 이세돌과 바둑 대결로 유명한 알파고를 시작하며 인공지능 시대를 열었습니다. 또한 세계적으로 수많은 인공지능 전문가를 배출해 내면서 인공지능의 선두 주자 중에 하나로 알려져 있습니다. 그런 구글이 최근 AI를 장착한 검색엔진을 유료화를 검토하고 있다고 합니다. 구글(Google)은 그동안 검색은 무료이고...', 'date': '2024.04.15.'}\n",
      "{'title': '한글과컴퓨터가 론칭한 인공지능 AI 뉴스레터 구독해 보니', 'text': \"OpenAI가 세상에 선보인 ChatGPT를 신호탄으로 인공지능을 활용한 다양한 서비스가 빠른 속도로 등장하고 있다. 전 세계가 미래 먹거리로 부상한 AI에 모든 역량을 투자하고 있기에... 최신 인공지능 트렌드와 국내에는 잘 알려지지 않은 일상 속 도움이 되는 AI 소식을 깔끔하게 정리해서 격주에 한 번씩 발행한다. 이는 국내 오피스 프로그램 기업인 '한글과컴퓨터(한컴)...\", 'date': '2024.04.17.'}\n",
      "{'title': 'AI활용능력 시험 AICE/한국인공지능자격 시험개요 종류 방식 일정', 'text': '① 초등학생들 대상으로 하는 Future ② 중고등학생 대상으로 하는 Junior ③ 비전공자에게 권장되는 Basic ④ 코딩이 필요한 Associate ⑤ 최고급 Professional 자격증기본정보 AICE 홈페이지 링크 ↓↓↓↓↓↓↓↓ 한국인공지능자격 한국협회에서 시행중인 자격시험임. 이미 수년전 부터 시행해오고 있음. 자격증취득 절차 시험일정 한국자격센터...', 'date': '4주 전'}\n",
      "{'title': 'AI 인공지능 관련주 산업 이제는 클라우드에서 온디바이스 AI로 전환', 'text': '안녕하세요 오쿤입니다 :) 글로벌 증시를 좌우하고 있는 산업 중 하나를 말해보라 하면 역시 인공지능 관련주 산업을 빼놓을 수 없는 것 같습니다. 작년부터 벌써 2년 가까이 시장을 이끌어가고 있다 해도 과언이 아닌 것 같습니다. 이러한 AI 관련주 산업에서도 새로운 변화가 생겨나고 있습니다. 기존 클라우드 서비스 중심으로 전개되던 산업 흐름이...', 'date': '3주 전'}\n",
      "{'title': '[포토샵]최신인공지능 기능 사용하기', 'text': '포토샵의 인공지능 기능이 점점 좋아지는 것 같습니다. 이것을 사용해보려고 하면, 알아야 할 것이 있어서 포스팅 합니다. 먼저 포토샵을 띄워봅니다. 새로 시작해봅니다. 흠.. 인공지능 이미지생성 기능이 보이지 않습니다...왜 일까요? 최신 기능은 베타버전에서 사용해볼 수 있습니다. 베타버전을 사용하기 위해서 creative cloud 앱을 열어보겠습니다. 포토샵...', 'date': '4일 전'}\n",
      "{'title': '지포스 RTX 4090 AI 인공지능 개발용 최고사양 조립PC', 'text': '오늘은 인텔 14세대 I9-14900K 모델과 지포스 RTX 4090 그래픽카드로 AI 인공지능 개발용 최고사양 조립PC를 제작 하였습니다. 충분한 사양과 성능으로 AI 개발용으로 사용하기... AI 인공지능 개발용 조립PC를 제작할때 많이 선택받고 있는 최고사양 그래픽카드 지포스 RTX 4090 입니다. 이번에 사용된 제조사는 기가바이트 회사 모델로 화이트 색상에 AERO 모델을 넣어...', 'date': '2주 전'}\n",
      "{'title': '감성 인공지능 AI 로봇 리쿠', 'text': '▸ 재미톡톡 동화구연 ▸ 율동, 동요 ▸ 안전 교육 7대 영역 ▸ 한글 사전으로 하는 단어 알기 ▸ 로봇 코딩 수업 활용 ▸ 영어 학습 ▸ 달콤 감성 ART ▸한국사 ▸기후와 환경 ▸AI 로봇 리쿠는 단순한 로봇이 아니라 인공지능 기능을 갖추고 있습니다. ▸감성 대화 ▸얼굴 인식 ▸원 운영 관리 프로그램 ▸ 수업 AI로봇 리쿠의 활용 지원 프로그램으로는...', 'date': '2주 전'}\n",
      "{'title': '인공지능 때문에 사라질 직업들, 현실은?', 'text': \"흥미로운 것은 '인공지능 때문에'라는 단서가 붙어 있다는 점입니다. 02 약 8년 전, 인공지능이 아직은 머나먼 미래로만 여겨지던 시점에 우리는 예술, 창작, 심리와 같은 '고차원적'인 정신 활동이 인간의 전유물이자 최후의 보루라 생각했네요. 실제 현실은 어떻게 됐을까요? AI 시대의 초입을 사는 우리는 이제야 봅니다. 재미(?)있게도 2016년 당시 '이 대체...\", 'date': '2024.05.04.'}\n",
      "{'title': '강원특별자치도, 2024년 인공지능(AI) 바우처 지원사업 역대 최대 성과 달성', 'text': '안녕하세요~ 강원특별자치도입니다~ 인공지능(AI)!!! 여러분은 AI 잘 활용하고 계시나요? 강원에서는 여러 산업 분야에서 인공지능의 도입과 확산을 위한 노력을 기울이고 있는데요. 강원의 산업 인공지능 역량이 빛을 발해 역대급 국비를 확보하는 성과를 거두었어요. 과학기술정보통신부 주관 2024년 (AI) 바우처 지원사업에서 국비 13억 원을 확보하며 총...', 'date': '5일 전'}\n",
      "{'title': '인공지능 로봇과 그림그리기 대회를 할 수 있는 어린이과학관', 'text': '로봇이 우리 생활에 일상적으로 자리 잡는다는 게 아직 상상이 가지 않지만, 불이 난 건물에서 로봇으로 사람을 구하는 시뮬레이션 게임 등을 통해 앞으로 인공지능 기계와 함께하는 우리 삶이 어떻게 변화할지 간접적으로나마 느낄 수 있습니다. 이곳에서 가장 인기 있었던 전시는 로봇과 낱말맞추기 대결하거나 그림 그리기 대결을 하는 것이었습니다. 사람과...', 'date': '2024.05.22.'}\n",
      "{'title': '페르소나 AI 부스 AICC 인공지능 체험 후기.', 'text': \"인공지능 기술이 하루가 멀다 하고 빠르게 발전하고 있어서 속도를 제대로 따라가지 못하면 소외를 받고 있는듯한 기분을 느끼고 있는데요. 그래서 오늘 미래를 선도할 기술을 한자리에서 만나볼 수 있는 IT 전시회 '스마트테크 코리아'를 다녀왔습니다. 그중에서 챗봇과 콜봇으로 각광을 받고 있는 페르소나AI 부스를 방문해서 직접 AICC 을 체험해 봤는데요....\", 'date': '5일 전'}\n",
      "{'title': '인공지능과 함께 디지털 인재로! AI, 학교 수업에 들어오다!?', 'text': '2022년 초·중등학교 교육과정 총론에서는 인공지능 기술 발전, 사회적 문제 해결을 위한 협력, 학생의 특성과 진로를 고려한 맞춤형 교육 수요 상승 등을 변화된 모습으로 보고... _AI와 인공지능 리터러시 인공지능 리터러시는 기술을 이해하고 적절하게 활용하는 능력을 의미합니다. 디지털 대전환 시대에 살고 있는 우리는 산업 전 분야를 넘어...', 'date': '2024.03.26.'}\n",
      "{'title': '챗GPT 관련주로 본 인공지능 투자 전략 Open AI 전망', 'text': '최근 인공지능 기술의 급격한 발전과 함께 챗GPT는 투자자들 사이에서 큰 관심을 받고 있다. 특히 OpenAI가 발표한 GPT-4o는 인공지능의 새로운 시대를 여는 중요한 전환점으로 평가받고 있다. 이 글에서는 챗GPT 관련주를 중심으로 투자 전략과 Open AI의 미래를 살펴보고자 한다. 초보 투자자들이 투자에 접근할 때 유용한 정보를 제공하는...', 'date': '2024.05.22.'}\n",
      "{'title': '충청 교육 - [ICT인공지능 온라인 교육] 플랫폼 기반 AI과정·IoT메이커 과정 교육생 모집', 'text': '충청 교육 - [ICT인공지능 온라인 교육] 플랫폼 기반 AI과정·IoT메이커 과정 교육생 모집 안녕하세요. 취업비서 인크루트 입니다. 충청권 지역 거점을 통해 신기술 인력을 양성하고 개발자를 지원하여 특화산업에 AI 등 신기술 도입 및 활용 활성화 도모를 위해서 진행되는 충청권 ICT이노베이션스퀘어, 충청 교육 - [ICT 온라인 교육] 플랫폼 기반...', 'date': '2주 전'}\n",
      "{'title': 'AI발명, 권리는 누구에게? 인공지능 지식재산권', 'text': '인공지능(artificial intelligence, A.I.) 인간의 지적 능력 중 일부 또는 전체를 인공적으로 구현하는 기술 인공지능은 인간의 지능을 대신해서 일을 할 수 있는 소프트웨어나 하드웨어를 모두 포함하는 큰 개념입니다. 기계학습은 기존의 데이터를 분석하여 자체적으로 동작하는 것을 말하는데요. 이때, 기존의 데이터를 만드는 방법에 따라 지도 학습, 비지도 학습, 강화...', 'date': '2024.05.14.'}\n",
      "{'title': 'AI(조류 독감/인플루엔자) 관련주이면서 AI(인공지능) 수혜주들.. 꿈틀하나? (ft. 노바백스, 모더나, 화이자...', 'text': \"미국 증시 인공지능 테마의 중심에 있는 엔비디아가 뜨거운 가운데 또 다른 ‘AI'에 관한 뉴스들도 보여 가져와 봤습니다. 또 다른 AI는 ’조류 인플루엔자(조류 독감)‘을 말하는... 신약 개발사들이 인공지능(AI)으로 인해 신약 개발 기간 및 비용을 줄일 수 있는 대표적인 향후 수혜 업종으로도 언급이 많이들 되고 있으니 ‘AI+AI’ 테마로 관심을 받을 가능성도 있지...\", 'date': '3주 전'}\n",
      "{'title': '애플 WWDC 앞두고 주가는 하락 / MS의 인공지능과 Xbox', 'text': \"마이크로소프트는 인공지능 연구개발을 OpenAI에 효과적으로 아웃소싱하고 있다고 말했다. 사티아 나델라의 말은 아니고 Okta의 CEO인 토드 맥키논의 말.... 답인지, 아무것도 확신할 수 없기 때문이다. 인공지능 외에도 Xbox 콘솔 신제품도 공개했다. Microsoft’s Xbox refresh can't compete with its leaked roadmap © billyfreeman, 출처 Unsplash\", 'date': '3주 전'}\n",
      "{'title': \"[ChatGPT 교육] '생성형 인공지능의 이해 및 사용법' 실습 강의 진행(5회차)\", 'text': \"한국폴리텍대학 인재개발원(남원시 소재) 직급별 교육에서 일반직 3급 약 50명의 직원분들을 대상으로 '생성형 인공지능의 이해 및 사용법'에 관한 주제로 실습형 강의를 했습니다.... 듀얼 모니터와 헤드셋이 갖추어진 전산실에서, LLM을 이용한 텍스트 생성, 음악 생성, 이미지 및 동영상 생성 등 다양한 생성형 툴의 이론부터 실습까지 콘텐츠를 만드는...\", 'date': '1일 전'}\n",
      "{'title': '간단한 인공지능으로 앱 만들기 하자', 'text': '(nocode)와 인공지능(AI) 기술의 발전으로 누구나 쉽게 자신만의 앱을 만들 수 있는 시대가 도래했습니다. 노코드란? 프로그래밍 언어를 모르는 사람들도 복잡한 코드를 작성하지 않고도 앱이나 웹사이트를 만들 수 있게 해주는 기술입니다. 사용자는 드래그 앤 드롭 같은 간단한 인터페이스를 통해 앱의 구성 요소를 선택하고 조합할 수 있습니다. 의 역할...', 'date': '2024.05.14.'}\n",
      "{'title': '[인공지능] 당신의 뇌를 바꾸시겠습니까? (EBS 지식채널, 머스크의 개발)', 'text': '인간 vs 인공지능대비 일론 머스크의 도전(BCI 개발) 지금 인류 최고의 관심사는 인공지능(AI, Artificial Intelligence) 개발. 이세돌과 AI 바둑대결 인류 수준의 학습능력, 문제해결능력을 넘어 창의적 사고까지 만들어낼 것이라는 기대감은 우리보다 나은 인류를 지배할 수 있을만큼 빠르게 발전하고 있는 #개발 #발전 에 대한 경계감 이미...', 'date': '2024.05.25.'}\n",
      "{'title': '국내 ai 관련주 전망, 인공지능 주식 top3', 'text': '오늘은 국내 ai 관련주 전망, 인공지능 주식 top3에 대해 알아보겠습니다. 미국 빅테크들의 인공지능 투자 확대 소식이 불거지면서 국내에서도 ai 관련주가 강세를 보이고 있습니다. 안그래도 요즘 계속해서 인공지능에 대한 여러 가지 시스템들이 공개가 되면서 많은 관심이 쏠리고 있는데요. 관련주들에는 어떤 것들이 있는지 살펴보도록 하겠습니다. 국내 ai...', 'date': '2024.05.01.'}\n",
      "{'title': '인공지능 AI 블루투스 스피커 하만카돈 스펙 기능 추천', 'text': '하만카돈 스피커 특징 하만카돈 PVS400A-S의 가장 큰 특징은 360도 전 방향으로 음성을 인식할 수 있는 인공지능 기능입니다. 이를 통해 지니뮤직 뿐만 아니라 라디오, 팟캐스트, 날씨... 지금까지 살펴본 하만카돈 인공지능 AI 스피커 하만카돈은 가격 대비 탁월한 성능을 제공하기 때문에 우리 일상생활속에서 다양한 공간에서 좋은 음악을 제공받고 싶은...', 'date': '2024.04.25.'}\n",
      "{'title': '한컴AI 인공지능 IA기업으로 발돋움', 'text': '한컴에서 한국판 코파일럿이라고 할 수 있는 인공지능 AI 프로그램인 한컴 어시스턴트를 내년 상반기에 출시한다고 합니다. 이번 한컴 어시스턴트는 스마트 문서 작성 엔진을 기반으로 여러 LLM(대형언어모델)과 연결되어 동작하는 AI 지능형 문서 작성 도구로 자연어로 명령하면 LLM을 거쳐 내용을 이해하고 의도를 분석해 자동으로 문서 생성을 도와주는 기술입니다....', 'date': '2024.01.11.'}\n",
      "{'title': '대구시교육청, 인공지능(AI)·에듀테크 활용 초등 영어수업교사 역량 강화 연수', 'text': '대구시교육청, 인공지능(AI)·에듀테크 활용 초등 영어수업교사 역량 강화 연수 대구 뉴스/교육 2024. 5. 8. 16:55 대구시교육청은 5월 8일(수) 대구교육연수원에서 관내 초등 영어수업교사 및 영어회화전문강사 80여 명을 대상으로 ‘(AI)·에듀테크 활용 역량 강화 연수’를 개최한다. 대구시교육청 이번 연수는 디지털 대전환 시대에 대응하여 초등...', 'date': '2024.05.08.'}\n",
      "{'title': '인공지능의 폐해, 기사의 완성도 저하가 우려', 'text': '요즘 뉴스 기사들을 보면 (인터넷 기사겠죠) 인공지능, 특히 ChatGPT를 활용한 이미지가 눈에 많이 띄입니다. 문제는... 바로 문제는요. 그 이미지들이 기사와는... #인공지능 #ChatGPT #AI활용 #뉴스기사 #금융감독원 #직원이탈 #조직쇄신 #딜로이트컨설팅 #연봉 #업무강도 #조직문화 #AI생산성 #AI이미지 #뉴스품질 #AI결과물활용...', 'date': '2일 전'}\n",
      "{'title': '인공지능 작곡 사이트 SOUNDRAW AI작곡 프로그램 사용 후기', 'text': '얼리어답터 리뷰/IT정보 인공지능 작곡 사이트 SOUNDRAW AI작곡 프로그램 사용 후기 by 엔돌슨 2024. 4. 7. 인공지능 작곡 사이트 SOUNDRAW AI작곡 프로그램 사용 후기 SOUNDRAW는 AI 기술을 이용한 작곡 프로그램 중 하나로 영어를 기반으로 제작되었지만 홈페이지에서 한글 자동 번역 기능을 활성화할 수 있습니다. 복잡한 부분은 영어와 한글이 섞여 나오기도 하지만...', 'date': '2024.04.07.'}\n",
      "{'title': 'ETRI, 『감성 인공지능 : 인간 이해와 감성 증강』 발간', 'text': '본 도서는 ETRI 휴먼증강연구실 기획으로 KAIST, 중앙대학교, 한양대학교, 상명대학교, 숙명여자대학교, 서경대학교, 한국지능정보사회진흥원, ㈜이모셔니스트, ㈜디스퀘어 등 감성 인공지능 분야에서 활발히 활동하고 있는 산·학·연 전문가 13명이 참여해 공동 집필한 것으로, 율곡출판사에서 펴냈습니다.', 'date': '2024.05.20.'}\n",
      "{'title': '공공·민간 맞춤형 일자리 정보 추천 ··· ‘인공지능(AI) 일자리 매칭’ 서비스', 'text': 'AI가 일자리 추천 민간취업포털 전 직종으로 확대 6월부터 구직자는 고용서비스 통합포털 고용24에서 ‘인공지능(AI) 일자리 매칭’ 서비스를 통해 나에게 맞는 맞춤형 일자리를 추천받을 수 있습니다. 특히 일자리 정보도 현재 워크넷 및 민간취업포털 정보기술(IT) 직종에서 민간취업포털 전 직종으로 확대됩니다. 오는 10월까지 단계적으로 늘려갈 계획으로 앞으로...', 'date': '2주 전'}\n",
      "{'title': '화원고, 교육과정 연계 인공지능 융합 프로그램···인공지능·에듀테크 활용 수업 진행', 'text': '화원고, 교육과정 연계 인공지능 융합 프로그램···인공지능·에듀테크 활용 수업 진행 카테고리 없음 2024. 5. 16. 15:50 화원고등학교는 오는 5월 24일(금)까지 교육과정과 연계한 인공지능 융합 프로그램을 운영한다고 16일(목) 밝혔다. 올해 처음 선보이는 이 프로그램은 영어, 수학, 과학, 역사, 기술, 음악, 체육, 중국어, 정보 등 9개 교과, 11명의 교사가 생성형 AI와...', 'date': '2024.05.16.'}\n",
      "{'title': '[주기동] 설명가능 인공지능 기술 동향 및 핵심 과제 (2134, 20240522) (1/2)', 'text': '서론 지난 몇 년간 인공지능(Artificial Intelligence: AI)의 비약적인 발전은 실생활의 여러 응용 분야에 AI 시스템의 활용을 촉진하였다. 특히, 기계학습(Machine Learning: ML) 및... 학습한 인공물이나 개념의 품질을 추론할 수 있는지 여부는 아직 미해결 과제 생성형 모델을 설명하기 위한 유망한 방법으로는 기계론적 해석 가능성(mechanistic interpretability)...', 'date': '1일 전'}\n",
      "{'title': 'LG 유플러스 AI 혁신 가속화 인공지능 AX 익시 Company로 도약', 'text': '이번 시간에는 LG유플러스 AI 혁신 가속화 인공지능 익시 AX Company로 도약에대해 알아보도록하겠습니다. AI 인공지능 기술은 이제 일상 속에 자리잡아 가고 있는데요. 스마트폰의 음성 인식 기능부터 가정용 로봇 청소기에 이르기까지, AI 기술은 다양한 형태로 우리 생활 곳곳에 스며들고 있고요. 디지털 기술이 발전함에 따라 AI의 역할은 앞으로 더욱 확대될...', 'date': '3주 전'}\n",
      "{'title': '\"AI(인공지능)가 연령대별 일자리 추천\"… \\'고용24\\' 맞춤서비스 강화', 'text': '* (잡케어) 노동시장 정보 추가 제공 (현재 8종 → 13종, 5종 추가) 전 생애에 걸친 경력단계에서 진로탐색·설계를 지원하기 위해 인공지능(AI)·빅데이터 기반으로 ①직무역량 분석 ②... 편도인 고용지원정책관은 “최근 온라인·디지털 서비스 이용이 증가하는 만큼 앞으로도 (AI) 기술을 접목한 새로운 서비스를 수요자의 의견을 반영해 지속 확대해...', 'date': '3주 전'}\n",
      "{'title': '인공지능과의 안전한 공존, 서울에서 묻다 AI 서울 정상회의', 'text': '인공지능에게 지배당하는 미래, 영화에서 한 번쯤은 보셨을 겁니다. 인공지능이 발전하면서 수많은 가짜 뉴스와 가짜 영상들이 만들어지고 있는 지금, 더 이상 SF 영화 속 허무맹랑한 이야기만은 아닌데요. 인공지능에 의해 미래가 위험해지는 것을 막고자 지난 11월 영국 블레츨리에서는 AI 안전 회의가 진행되었습니다. 미국, 독일, 일본, 프랑스 등 우리나라를...', 'date': '4주 전'}\n",
      "{'title': '직장에서 쓰기 좋은 AI 챗봇 인공지능 챗 GPT 종류 총 정리!', 'text': '직장에서 쓰기 좋은 AI 챗봇 인공지능 챗 GPT 종류 총 정리! 요즘 인공지능 챗 GPT 등을 많이 사용하고 있습니다. 대학생들이 과제를 할 때 맞춤법이나 개요를 잡아주기도 하고, 직장인들이 업무 관련 파일을 만들거나 메일을 쓸 때에도 챗 GPT가 아주 멋지게 도와주곤 하죠. 챗 GPT의 유용함이 잘 알려진 이후로 여기저기서 AI 챗봇을 출시하고 있는데요. 오늘은 AI...', 'date': '3주 전'}\n",
      "{'title': '인공지능과 코딩으로 꿈꾸던 북튜버 되기', 'text': \"광명도서관 이야기가 있는 코딩 책 읽기를 통해 확장된 사고력과 상상력을 인공지능, 코딩 등의 디지털 기술로 직접 구현해 보는 특색있는 프로그램이 찾아옵니다.... '를 읽은 후 다양한 독후 활동으로 책의 내용을 파악하고 창의적인 생각들로 발전시킨 후 전문 강사의 지도 아래 , 메타버스, 코딩 등의 디지털 기술을 배우게 됩니다. 그리고 이를...\", 'date': '4일 전'}\n",
      "{'title': 'DX 디지털 대전환 시대 AX 인공지능 대전환 AI Home과 UI, UX의 변화는?', 'text': '오늘의 책, 인공지능관련된 책인데요. 어렵지 않은 아주 쉽고 일상생활에 접목된 얘기가 가득 준비되어있어요. 바로 출발해볼까요? 책 제목은 <DX 디지털 대전환 시대 AX 인공지능 대전환> 시작합니다! 컨티뉴언 독서 인사이트 이 책의 프롤로그에서 볼 수 있듯이 변화를 말하고 있습니다. , 지금 2024년의 가장 큰 변화의 핵이라 할 수 있죠. 여러분들은 어떻게...', 'date': '4주 전'}\n",
      "{'title': '과기정통부, 인공지능-반도체 전략 구상 연구개발 현장 점검', 'text': '방문하여 인공지능(AI)·디지털 분야 연구자들과 소통하고 AI, AI반도체 등 이니셔티브 관련 R&D 추진현황을 점검하였습니다. 이번 방문은 지난 4월 9일 윤석열 대통령의 AI-반도체 이니셔티브 추진 방향 제시 이후 정부가 최근 발표한 게임체인저 기술 분야의 이니셔티브 실현을 위한 ETRI의 연구개발(R&D) 현황을 살펴보고, 지난 5월에 열린 AI 서울 정상회의에서 다룬...', 'date': '2주 전'}\n",
      "{'title': '[과학향기 Story] 딥러닝, 똑똑한 인공지능을 만든 비밀', 'text': '사람처럼 지능을 가진 기계에 대한 꿈은 컴퓨터가 없던 시대까지 거슬러 올라갈 수 있을 정도로 그 역사가 오래되었다. 그러다 1950년, 영국 수학자 앨런 튜링이 기계 역시 생각할 수... 하지만, 사람들은 능동적으로 문제를 해결할 수 있는 을 원했다. 이에 인공신경망, ‘딥러닝’에 대한 관심이 커지기 시작한 것이다. 딥러닝은 인간의 신경 구조를 본떠...', 'date': '4주 전'}\n",
      "{'title': '인공지능 반려로봇 에일릭 아이들의 새로운 친구 🤖어린이 로봇 선물 추천', 'text': '얼리어답터 리뷰/IT정보 인공지능 반려로봇 에일릭 아이들의 새로운 친구 🤖어린이 로봇 선물 추천 by 엔돌슨 2024. 4. 20. 인공지능 반려로봇 에일릭 아이들의 친구 🤖어린이 로봇 선물 추천 요즘 AI 인공지능 반려로봇이 인기라서 딸아이에게 에일릭 로봇하고 루나 로봇을 사주었습니다. 그 외에도 다양한 로봇 강아지를 사주었는 데, 그중에서 에일릭 로봇은 아주...', 'date': '2024.04.20.'}\n",
      "{'title': '인공지능(AI) 디지털교과서 개발에 대해 학교 현장의 의견을 듣는다', 'text': '첨부파일 [교육부 06-14(금) 석간보도자료] 인공지능(AI) 디지털교과서 개발에 대해 학교 현장의 의견을 듣는다.pdf 2024년 인공지능(AI) 디지털교과서 현장적합성 검토 지원단 발대식 개최 현장 활용도가 높은 인공지능(AI) 디지털교과서 개발을 위해 전 과정에서 의견 제시 교육부(부총리 겸 교육부장관 이주호)와 한국교과서연구재단(이사장 전우홍)은 6월 14일(금)...', 'date': '2주 전'}\n",
      "{'title': '스마트워크 및 인공지능 활용 방법 무료 강의 안내', 'text': '인공지능 등의 활용법을 익혀서 더 스마트하고 신속한 업무 스킬을 배울 수 있는 과정이 오픈됩니다. IT 특강 [ 스마트 업무 솔루션 ] 일정 : 2024년 6월 15일 토요일 오전 10시 ~ 오후 12시 30분(2시간 30분) 장소 : Zoom(비대면) 강사 : 구기모 수강 대상 : 업무 효율 및 생산성 향상을 원하는 재직 및 구직 여성 강의 내용 : 클라우드와 을...', 'date': '2024.05.22.'}\n",
      "{'title': '인공지능융합대학 2024년 공학설계입문 작품전시회 심사 진행', 'text': '인공지능융합대학 2024년 공학설계입문 작품전시회 심사 진행 안녕하세요. 인공지능융합대학 2024년 공학설계입문 작품전시회가 있었습니다. 출강하고 있는 학교에서 작품전시회가 있어 평가 위원으로 참석했습니다. 한 학기 동안 창의설계입문 과목을 통해 디자인 싱킹을 공부하고 아이데이션을 하여 시제품을 제작합니다. 이번 학기에도 다양하고 아이디어 있는...', 'date': '3주 전'}\n",
      "{'title': 'AI 제품사진 인공지능 이미지 편집 사이트, 드랩아트 사용 후기', 'text': '그래서 오늘은 제품사진 및 이미지들을 생성형 인공지능 서비스로 깔끔한 이미지, 원하는 이미지로 변경해주는 사이트를 소개해드리려고 합니다. 제가 소개해드리는 사이트는... 스마트스토어 운영 방법 등 여러가지 꿀팁들을 공식 블로그에서 제공하고 있습니다. 참고하시면 좋을 것 같네요. 지금까지 제품사진 편집 사이트, 드랩아트 사용 후기를 알려드렸습니다.', 'date': '2024.05.08.'}\n",
      "{'title': '제품사진 이미지 촬영 인공지능 드랩아트 쇼핑몰 제작 쉽게 가능', 'text': \"제품사진 이미지 촬영 인공지능 드랩아트 쇼핑몰 제작 쉽게 가능 안녕하세요. 사진&IT 크리에이터 자유분방입니다. 예전에 아는 분이 쇼핑몰 제작 후 사진을 촬영하기 위해서... 이번 글에서는 스마트스토어, 쇼핑몰 등을 운영할 때 제품사진을 쉽게 수급할 수 있는 기반 사진 제작사이트로 '드랩아트'를 소개 드려보도록 하겠습니다. 드랩아트 Draph Art 바로...\", 'date': '2024.04.30.'}\n",
      "{'title': \"'KT 인공지능 자격증 단기 취득반' ️ 교육생 모집\", 'text': '강남구 KT 인공지능 자격증 단기 취득반 교육생 모집 신청기간 2024년 5월 29일 ~ 6월 11일 13:00까지 신청대상 강남구 거주 미취업 청년 (19세~39세) 교육기간 6/24(월)~7/5(금), 매주 월-금 10시-18시 교육장소 충현교회 제3교육관 (강남구 논현로98길 22) 교육과정 자격증 취득 교육(KT AICE Basic 과정) ✔️비전공자도, 문과생들도 쉽게 도전 가능한 Basic 과정...', 'date': '4주 전'}\n",
      "{'title': '동영상 편집 프로그램 캡컷의 생성형 인공지능AI 사용후기', 'text': '바로 생성형 인공지능AI. 코파일럿이나 미드저니에서 사용하던 것 처럼 텍스트를 입력하고 그 결과 값으로 그림을 그려주는 것이다. 캡컷 생성형 인공지능AI의 장점은 어떤 프로그램과 제휴했는지는 정확히 알 수 없지만 영어가 아닌 한글로 텍스트를 입력할 시 그림을 그려준다! 게다가 무료! 1:1 그림파일도 만들어주고 9:16 비율 그림도 만들어주고 매우 좋다! 근데...', 'date': '2024.05.05.'}\n",
      "{'title': '서빙로봇 인공지능 애완 로봇 강아지 아이보 백터', 'text': '이번 시간에는 서빙로봇 인공지능 애완 로봇 강아지 아이보 백터에 대해 알아보도록 하겠습니다. 인공지능 기술의 발달로 로봇도 진화하고 있는데요. 인공지능이란 사람처럼 학습하고 추론할 수 있는 기계의 능력을 말합니다. 은 데이터를 분석하고 패턴을 인식해 스스로 문제를 해결하고 결정을 내릴 수 있어, 음성 인식, 이미지 분석, 로봇공학 등 다양한 분야에...', 'date': '2024.05.19.'}\n",
      "{'title': '인공지능 AI 기초 상식을 통한 AI 요점 정리', 'text': '인공지능은 인간의 지능을 모방하거나 대체하기 위해 고안된 기술입니다. AI도서는 크게 3가지로 구분이 됩니다. ANI, AGI, ASI인데요. ANI는 특정 목적을 위해 제한된 범위 내에서만... 인간의 개입이 최소화되어 인공신경망이 데이터를 직접처리하고 학습합니다. 인공신경망은 인간의 신경망을 모방한 구조로 여러 층으로 이루어져 있습니다. 딥러닝 모델에서...', 'date': '2024.03.22.'}\n",
      "{'title': '초등학교 진로수업 - 인공지능 기초 코딩', 'text': '코딩하는 딩가샘입니다 인공지능 수업을 하려고 연제구에 있는 초등학교에 왔어요~~ 오늘은 KT AI 코디니로 신호등도 만들어 볼 예정입니다.! 인공지능에 대해서 배워보고 실습하는 방법도 자세히 알려 주었어요~ 신호등 만들기 시작! 간단한 신호등을 만들어 보았어요~ 2시간 안에 코딩까지 해야 해서 부지런히 키트 조립을 해야 합니다. 키트 조립이 되면 코딩을 해서...', 'date': '6일 전'}\n",
      "{'title': 'WWDC 2024, 애플의 인공지능 파트너십 계획 발표 예정', 'text': 'WWDC 2024 주요 내용 올해 WWDC의 주요 발표 내용은 인공지능(AI)에 중점을 둔 새로운 소프트웨어 업데이이트로 예상이 되고 있다. 블룸버그의 레포트에 따르면, 애플은 iOS 18애... 마무리 애플이 시리를 내놓았을 때만 해도 분야의 선도주자였다. 시리가 빠르게 이 시장을 잠식해 나가리라는 기대는 당연해 보였다. 하지만, 결과적으로 애플은 구글...', 'date': '2주 전'}\n",
      "{'title': '인공지능 조련사, 프롬프트 엔지니어', 'text': '그 사이 인공지능(AI)은 빠르게 발전해 텍스트, 이미지, 영상을 한 번에 이해해 생성하고, 농담도 던집니다. AI를 접목하고 있는 기업도 늘고 있는데요. 이에 따라 새로운 직업군이... 국내 AI 스타트업은 연봉 1억 원에, 구글이 투자한 스타트업은 연봉 3억∼4억 원에 채용하기도 했답니다. AI로 매일 우리는 새로운 세상으로 나아가고 있습니다. 여기서는...', 'date': '4주 전'}\n",
      "{'title': \"온라인 무료 공개강좌 'K-무크'···인공지능·숏폼 미디어창작·디자인 등 22개 강좌 신설\", 'text': '인공지능·디자인 등 K-무크 강좌 22개 신설 정부가 운영하는 한국형 온라인 공개강좌 ‘K-무크(K-MOOC)’에 22개 강좌가 신설됐습니다. 교육부와 국가평생교육진흥원은 4월 24일 신규... 디지털 교양분야에 선정된 ‘놀라운 증명’, 디지털 기초분야에 선정된 ‘과 캐글분석’, ‘ 활용 숏폼 미디어창작자로 수익화하기’ 등 국민의 디지털 역량을...', 'date': '2024.05.02.'}\n",
      "{'title': '[KISTI 뉴스] ‘인공지능 윤리’에 대한 이슈브리프 발간', 'text': 'KISTI, ‘인공지능 윤리’에 대한 이슈브리프 발간 - 인간과 인공지능의 조화로운 공존 방안 제시 - 한국과학기술정보연구원(원장 김재수, 이하 KISTI)은 인공지능 윤리(AI Ethics): 인간과 인공지능의 조화로운 공존 방안에 대한 KISTI 이슈브리프를 발간하였다. 전환(AI Transformation, AX) 시대로 진입하면서 AI는 일상생활과 산업 전반에 걸쳐 혁신적인...', 'date': '4주 전'}\n",
      "{'title': 'AI, 일상에 물들다. AX(인공지능 전환) 시대', 'text': \"하지만 챗GPT와 같이 기존 인공지능들과 차원이 다른 모습을 보여주는 인공지능이 등장하면서, DX를 넘어 AX(AI Transformation) 시대로의 전환이 필요하다는 목소리가 점차 나오고 있습니다. © 픽사베이 정부도 이러한 AI 트렌드의 변화를 인지하고, AI 일상화 시대를 앞당기기 위해 2024년 9,090억 원을 투입해 '대한민국 도약 방안'을 발표한 바...\", 'date': '2024.04.03.'}\n",
      "{'title': '시작되는 인공지능 법률 서비스 경쟁, 돌아봐야 할 점은?', 'text': '나만의 인공지능 변호사 최근 OpenAI사의 GPT가 업데이트되어, 사용자가 본인의 GPT를 이른바 ‘커스터마이징’(customizing)할 수 있게 되었습니다. 이에 법적인 쟁점을 분석해줄 수... 선고, 사건번호 2022구합89524)에 대한 분석) 그렇다면 변호사가 필요하면 항상 이렇게 ChatGPT를 커스터마이징해야 하는 건가요? 아예 법률만 전문으로 공부한 서비스는...', 'date': '2024.05.24.'}\n",
      "{'title': '<엔트리 인공지능 with 햄스터 로봇> 기대평 이벤트', 'text': '엔트리와 햄스터 로봇으로 시작하는 인공지능 프로그래밍 안녕하세요! 인공지능을 활용해 재미있고 유익한 프로그래밍 활동을 해볼 수 있는 <엔트리 인공지능 with 햄스터 로봇> 개정판이 출간하였습니다. 이번 개정판은 최신 버전의 엔트리로 전체를 업데이트하였고 또한 일부 챕터는 소재를 재구성하였는데요. 도서 출간을 기념하여...', 'date': '2주 전'}\n",
      "{'title': '인공지능 기술의 미래를 이끄는 챗GPT - 혁신과 발전의 중심', 'text': '인공지능 기술은 현재 우리의 삶과 사회에 놀라운 변화를 가져오고 있다. 그 중에서도 최근 몇 년간 주목을 받고 있는 기술 중 하나는 챗GPT다. 챗GPT는 자연어 처리와 이해를 위한... 인공지능 기술의 발전은 우리의 삶에 긍정적인 영향을 미치지만, 동시에 윤리적인 문제와 사회적인 영향에 대한 고려가 필요하다. 그렇기에 지속적인 논의와 연구가 필요하다....', 'date': '2주 전'}\n",
      "{'title': 'MWC24 바르셀로나 통신과 인공지능의 융합 SKT AI 가 그리는 통신사업의 미래', 'text': '특히 ‘AI의 인간화’를 전면에 부각하며 인공지능으로 달라질 일상에 주목했습니다. SK텔레콤 역시 ‘AI, 변화의 시작점’을 주제로 텔코(Telco·통신사) 중심의 인공지능(AI) 기술 및 서비스를 선보였는데요. 전시 내용에 대해 좀 더 구체적으로 살펴보겠습니다. SKT는 올해도 바르셀로나 ‘피라 그란 비아(Fira Gran Via)’의 메인 전시관인 3홀 중앙에 대형...', 'date': '2024.02.28.'}\n",
      "{'title': '인공지능 개발자 국비지원 교육 문제와 현실(비대면)', 'text': '① 인공지능 국비지원 ② 빅데이터 국비지원 과거와 다르게 웹개발 국비지원보다 위 2가지 국비 교육을 더 많이 볼 수 있는 건 최근 대부분 기업이 인공지능 개발자 채용을 늘리고 웹 개발자 채용을 축소하고 있기 때문입니다. 늘어나는 개발자 채용 그에 맞춰 늘어나는 국비지원 석사 채용 과거 개발자는 석사 급의 인력을 채용했습니다. 혹은 3년 이상...', 'date': '2주 전'}\n",
      "{'title': \"유엔 사무총장, 인류에게 '칼날' 경고, 인공지능이 핵전쟁 위험 증가\", 'text': '안토니오 구테흐스 유엔 사무총장은 인공지능(AI) 사용 확산으로 인해 핵 전쟁의 위험이 증가하고 인류는 이제 \"칼날\"에 처해 있다고 경고했다고 가디아 ( The Guardia n)가 보도했다.... 각국의 억지력 강화를 위해 인공지능(AI)을 활용해 발사 절차가 간소화될 가능성도 있다는 우려가 나온다. 따라서 이제 \"인류는 칼날 위에 있다. 구테흐스는 연설에서 핵무기 사용 위험이...', 'date': '3주 전'}\n",
      "{'title': '[인공지능CCTV] 경기 고양시 덕양구 보험대리점 빌딩 내 침입감지와 보안을 위한 cctv...', 'text': 'AI 영상보안 솔루션 자비스넷 지능형 영상분석 인공지능 cctv 이러한 지능형 영상분석 기능을 바탕으로 AI 영상감시 솔루션을 제공해 드리고 있는데요, \"AI 영상감시 솔루션\"이란 감지된 상황이 실제 위급한 상황인지 아닌지를 딥러닝서버가 2차로 빠르게 분석하여 실제 상황으로 판단 되었을 경우, 실시간 영상과 함께 고객님의 휴대폰으로 긴급 PUSH 알림을...', 'date': '6시간 전'}\n",
      "{'title': 'SK하이닉스 주가 전망...5% 하락에도 인공지능은 장기적 이슈', 'text': '엔비디아를 비롯한 미국 인공지능(AI) 반도체주의 조정으로 투자심리가 위축된 영향이다. 특히 지난 21일 엔비디아가 3% 하락한 영향이다. 24일 한국거래소에 따르면... 그리고 지속적으로 말씀드린 것과 같이 인공지능, 범용(AGI), 초(ASI)와 같은 것들은 단기적인 이슈가 아니라 매우 장기적이고 큰 이슈이다. 따라서 장기적인 관점에서...', 'date': '6시간 전'}\n",
      "{'title': \"[챗GPT특강] '생성형 인공지능의 이해 및 사용법' 실습 강의 진행(3차수)\", 'text': \"한국폴리텍대학 인재개발원(남원시 소재) 직급별 기본교육에서 일반직 6,7급(2차)을 대상으로 '생성형 인공지능의 이해 및 사용법'에 관한 주제로 실습형 강의를 했습니다. 현재 한국폴리텍대학 인재개발원에서는 직급별로 생성형 에 관한 학습이 진행되고 있습니다! 이번 강의는 3월에 이어 3차수이며, 일반직 6,7급 2차 직원분들을 대상으로...\", 'date': '2024.04.29.'}\n",
      "{'title': '파이썬 캐글 인공지능 머신러닝 가이드 사용법', 'text': '인공지능과 머신러닝을 공부하고 사용할수 있는 케글이라는 사이트를 알게 되어 공유하고자 합니다. 케글은 데이터 과학자나 머신러닝 애호가들에게 잘 알려진 플래쇼폼으로 다른... 캐글이란 캐글은 2010년 만들어져 2017년에 구글에서 인수를 하게 되면서부터 다양한 분야에서 활용되고 있습니다. 캐글은 무료이며 경진대회나 기업들이 데이터를 공개하는데...', 'date': '4일 전'}\n",
      "{'title': 'FET 페치 코인 전망 ASI 통합 일정 연기 인공지능 연합', 'text': '비트코인, 이더리움 등 전반적인 가상화폐가 하락하면서 좋지 못한 시기를 이어나가고 있으나 인공지능(AI) 테마의 경우 아쉬운 시세 대비 기대 전망을 가지고 있는 사람들이 많은... 합병을 위한 준비 단계에서 신중한 조정의 일환으로 ASI CEO는 탈 중앙화 초 지능 네트워크 구축을 위한 진전에 이번 일시적인 지연은 영향을 미치지 않는다고 밝혔으니 참고하시기...', 'date': '2주 전'}\n",
      "{'title': '인공지능 대전환(AX) 시대에 인기 있는 AI 기술, 직업, 전문가는?', 'text': '인공지능은 제조, 금융, 유통, 패션산업 등 다양한 분야에서 이미 활용되고 있으며 그 적용 범위가 빠르게 확대되고 있습니다. 이렇게 AI 기술을 다양한 분야에 적용해 새로운... 머신러닝 엔지니어는 머신러닝 핵심 알고리즘을 구현하면서 시스템 실험과 테스트를 실행하는 일을 합니다. 머신러닝 시스템을 직접 설계하고, 머신러닝 정확도를...', 'date': '2주 전'}\n",
      "{'title': '[행사 스케치] 2024 인공지능&빅데이터쇼: 천 개의 AI 고민을 듣다', 'text': \"NHN Cloud는 다양한 산업에 인프라를 제공하는 CSP(Cloud Service Provider)로써, [2024 인공지능&빅데이터쇼(스마트 테크 코리아 2024동시 개최)]에 참여하여 국내 AI 도입 관련... 부스 소개 | NHN Cloud AI 얼라이언스 with 2Digit, Vessl AI NHN Cloud AI 얼라이언스 2024년 6월 19일부터 21일까지 코엑스에서 열린 '&빅데이터쇼 2024'에서 NHN Cloud는 2Digit, Vessl AI와 함께 AI...\", 'date': '1일 전'}\n",
      "{'title': '2024 AI 엑스포 셀바스 AI 부스 방문 및 인공지능 트렌드', 'text': \"2024년 5월 1일(수)~ 5월 3일(금)까지 코엑스 D홀에서 2024 국제인공지능대전이 진행이 되었어요. 저는 첫 번째나 방문을 해보았는데요. 아무래도 2024년의 화두가 '인공지능 트렌드'이다 보니 행사장이 상당히 붐비더군요. 국내 최초이자 최대 AI 전문전시회로 국내기업들은 물론이고 큰 행사인 만큼 해외 기업들도 참여를 했더라고요. 주최는 한국협회...\", 'date': '2024.05.07.'}\n",
      "{'title': '새로운 인공지능 공개 애플 7%대 상승', 'text': '애플 새로운 인공지능 공개 7%대 상승 테슬라 -1.80 엔비디아 -0.71 테슬라 -1.85 MS 1.12% 오늘 개장전 미국 CPI 발표 예정. 내일은 FOMC 결과 발표 이벤트 정부 벨류업 추가 세제 인센티브등 세법 개정안 발표 예정. 은행, 자동차등 수익이 많이 난 기업들 유리 미국 사상최고치 경신 소식등 국내증시 우호적. 짧은 테마주 연속성 없는 흐름 감안하고 접근 현대차 밸류업...', 'date': '2주 전'}\n",
      "{'title': '전력 설비 전선 관련주 대한전선 KBI메탈 애플 AI 인공지능 관련주 브리지텍 에스피소프트 5월 13일', 'text': \"애플 음성인식 인공지능 관련주 재료 - 애플 다음 달 생성형 인공지능(AI) 탑재 음성 비서 '시리' 차세대 버전 공개 예정 소식 브리지텍 상한가 마감하지 못해 아쉬운 모습이지만 관련주 시장보다 강한 모습을 보였습니다. 브리지텍 시간 외에서 상승 모습이라 내일 오전 관심 주로 시초가 지켜볼 생각입니다. 거래 대금과 일봉 차트 위치는 추가 상승 여력이 남아 있어...\", 'date': '2024.05.13.'}\n",
      "{'title': '인공지능&챗GPT 강의 추천 3편 - 생성형AI 뭐길래 난리일까', 'text': 'AI(인공지능)가 세상을 빠르게 바꾸고 있습니다. 저는 훗날 돌아보면 스마트폰 시대를 연 아이폰 혁명 같은 일이 아닐까 생각합니다. 아니, 그 이상의 큰 변화인 것 같다고요. 그런데 막상 챗GPT를 열어보면 이게 뭔지, 이걸 어떻게 써야할지, 왜 혁명이라 하는지 감이 잘 안 오죠. 챗GPT가 그린 LLM 개념 게다가 LLM(Large Language Model, 대형언어모델)이며 생성형 ...', 'date': '2024.01.24.'}\n",
      "{'title': '한글과컴퓨터 주가 전망 : 인공지능에 진심이다.', 'text': '인공지능에 진심이 느껴지는 기업입니다. 한글과컴퓨터 주가 전망 시작하겠습니다. 1. 기업 정보 2. 한글과컴퓨터 주가 분석 3. 한글과컴퓨터 실적 4. 수급 분석 5. 한글과컴퓨터 배당금 6. 지분 현황 7. 인공지능에 진심이다. 8. 한글과컴퓨터 주가 전망 기업 정보 동사는 소프트웨어 개발 및 공급업을 목적으로 1990년 10월 11일에 설립되었으며, 1996년 9월 24일...', 'date': '3주 전'}\n",
      "{'title': '제조업에 인공지능(AI) 입힌다!', 'text': '‘인공지능(AI) 자율 제조 마스터플랜’ 수립 착수 산업통상자원부가 제조업의 공정 혁신과 생산성 제고를 통한 산업 대전환을 위해 ‘인공지능(AI) 자율 제조 마스터플랜’ 수립에... 이에 산업부는 ▲지능형 생산 ▲첨단장비 결합 ▲자율제조 시스템 등을 중심으로 한 마스터플랜을 상반기 중 수립할 계획입니다. 한편, 이날 간담회에서 참석 기업들은 산업 AI가 제조업...', 'date': '2024.03.07.'}\n",
      "{'title': '기업 컨택센터를 인공지능 IPCC, AI 고객센터로 대체한다면 효율적이지 않을까', 'text': \"혹자는 '인공지능이 대체하기엔 아직은 무리가 아닐까?' 생각하겠지만 아니다. 인공지능은 우리가 상상하는 것 이상으로 발 빠른 발전을 이뤄내고 있고 AI 컨택센터 역시 기계음만이 가득한 단순한 안내를 넘어 실제 상담원의 역할을 하는 시대가 왔으니까. 실제로 클라우드 기반 AI 기능을 제공하며 자체적인 고객센터 솔루션을 제공하는 KT A'Cen Cloud의 경우 초기 장비...\", 'date': '3주 전'}\n"
     ]
    },
    {
     "ename": "MaxRetryError",
     "evalue": "HTTPConnectionPool(host='localhost', port=50682): Max retries exceeded with url: /session/8cea155b8d69d2477df7b610c88592a6/element/f.F21C6492BC1DA8200383CD931FF264E6.d.B415E93EFC4E1D07EC6434C3D6FE4117.e.11002/text (Caused by NewConnectionError('<urllib3.connection.HTTPConnection object at 0x0000021190F68B50>: Failed to establish a new connection: [WinError 10061] 대상 컴퓨터에서 연결을 거부했으므로 연결하지 못했습니다'))",
     "output_type": "error",
     "traceback": [
      "\u001b[1;31m---------------------------------------------------------------------------\u001b[0m",
      "\u001b[1;31mConnectionRefusedError\u001b[0m                    Traceback (most recent call last)",
      "File \u001b[1;32m~\\anaconda3\\Lib\\site-packages\\urllib3\\connection.py:203\u001b[0m, in \u001b[0;36mHTTPConnection._new_conn\u001b[1;34m(self)\u001b[0m\n\u001b[0;32m    202\u001b[0m \u001b[38;5;28;01mtry\u001b[39;00m:\n\u001b[1;32m--> 203\u001b[0m     sock \u001b[38;5;241m=\u001b[39m connection\u001b[38;5;241m.\u001b[39mcreate_connection(\n\u001b[0;32m    204\u001b[0m         (\u001b[38;5;28mself\u001b[39m\u001b[38;5;241m.\u001b[39m_dns_host, \u001b[38;5;28mself\u001b[39m\u001b[38;5;241m.\u001b[39mport),\n\u001b[0;32m    205\u001b[0m         \u001b[38;5;28mself\u001b[39m\u001b[38;5;241m.\u001b[39mtimeout,\n\u001b[0;32m    206\u001b[0m         source_address\u001b[38;5;241m=\u001b[39m\u001b[38;5;28mself\u001b[39m\u001b[38;5;241m.\u001b[39msource_address,\n\u001b[0;32m    207\u001b[0m         socket_options\u001b[38;5;241m=\u001b[39m\u001b[38;5;28mself\u001b[39m\u001b[38;5;241m.\u001b[39msocket_options,\n\u001b[0;32m    208\u001b[0m     )\n\u001b[0;32m    209\u001b[0m \u001b[38;5;28;01mexcept\u001b[39;00m socket\u001b[38;5;241m.\u001b[39mgaierror \u001b[38;5;28;01mas\u001b[39;00m e:\n",
      "File \u001b[1;32m~\\anaconda3\\Lib\\site-packages\\urllib3\\util\\connection.py:85\u001b[0m, in \u001b[0;36mcreate_connection\u001b[1;34m(address, timeout, source_address, socket_options)\u001b[0m\n\u001b[0;32m     84\u001b[0m \u001b[38;5;28;01mtry\u001b[39;00m:\n\u001b[1;32m---> 85\u001b[0m     \u001b[38;5;28;01mraise\u001b[39;00m err\n\u001b[0;32m     86\u001b[0m \u001b[38;5;28;01mfinally\u001b[39;00m:\n\u001b[0;32m     87\u001b[0m     \u001b[38;5;66;03m# Break explicitly a reference cycle\u001b[39;00m\n",
      "File \u001b[1;32m~\\anaconda3\\Lib\\site-packages\\urllib3\\util\\connection.py:73\u001b[0m, in \u001b[0;36mcreate_connection\u001b[1;34m(address, timeout, source_address, socket_options)\u001b[0m\n\u001b[0;32m     72\u001b[0m     sock\u001b[38;5;241m.\u001b[39mbind(source_address)\n\u001b[1;32m---> 73\u001b[0m sock\u001b[38;5;241m.\u001b[39mconnect(sa)\n\u001b[0;32m     74\u001b[0m \u001b[38;5;66;03m# Break explicitly a reference cycle\u001b[39;00m\n",
      "\u001b[1;31mConnectionRefusedError\u001b[0m: [WinError 10061] 대상 컴퓨터에서 연결을 거부했으므로 연결하지 못했습니다",
      "\nThe above exception was the direct cause of the following exception:\n",
      "\u001b[1;31mNewConnectionError\u001b[0m                        Traceback (most recent call last)",
      "File \u001b[1;32m~\\anaconda3\\Lib\\site-packages\\urllib3\\connectionpool.py:791\u001b[0m, in \u001b[0;36mHTTPConnectionPool.urlopen\u001b[1;34m(self, method, url, body, headers, retries, redirect, assert_same_host, timeout, pool_timeout, release_conn, chunked, body_pos, preload_content, decode_content, **response_kw)\u001b[0m\n\u001b[0;32m    790\u001b[0m \u001b[38;5;66;03m# Make the request on the HTTPConnection object\u001b[39;00m\n\u001b[1;32m--> 791\u001b[0m response \u001b[38;5;241m=\u001b[39m \u001b[38;5;28mself\u001b[39m\u001b[38;5;241m.\u001b[39m_make_request(\n\u001b[0;32m    792\u001b[0m     conn,\n\u001b[0;32m    793\u001b[0m     method,\n\u001b[0;32m    794\u001b[0m     url,\n\u001b[0;32m    795\u001b[0m     timeout\u001b[38;5;241m=\u001b[39mtimeout_obj,\n\u001b[0;32m    796\u001b[0m     body\u001b[38;5;241m=\u001b[39mbody,\n\u001b[0;32m    797\u001b[0m     headers\u001b[38;5;241m=\u001b[39mheaders,\n\u001b[0;32m    798\u001b[0m     chunked\u001b[38;5;241m=\u001b[39mchunked,\n\u001b[0;32m    799\u001b[0m     retries\u001b[38;5;241m=\u001b[39mretries,\n\u001b[0;32m    800\u001b[0m     response_conn\u001b[38;5;241m=\u001b[39mresponse_conn,\n\u001b[0;32m    801\u001b[0m     preload_content\u001b[38;5;241m=\u001b[39mpreload_content,\n\u001b[0;32m    802\u001b[0m     decode_content\u001b[38;5;241m=\u001b[39mdecode_content,\n\u001b[0;32m    803\u001b[0m     \u001b[38;5;241m*\u001b[39m\u001b[38;5;241m*\u001b[39mresponse_kw,\n\u001b[0;32m    804\u001b[0m )\n\u001b[0;32m    806\u001b[0m \u001b[38;5;66;03m# Everything went great!\u001b[39;00m\n",
      "File \u001b[1;32m~\\anaconda3\\Lib\\site-packages\\urllib3\\connectionpool.py:497\u001b[0m, in \u001b[0;36mHTTPConnectionPool._make_request\u001b[1;34m(self, conn, method, url, body, headers, retries, timeout, chunked, response_conn, preload_content, decode_content, enforce_content_length)\u001b[0m\n\u001b[0;32m    496\u001b[0m \u001b[38;5;28;01mtry\u001b[39;00m:\n\u001b[1;32m--> 497\u001b[0m     conn\u001b[38;5;241m.\u001b[39mrequest(\n\u001b[0;32m    498\u001b[0m         method,\n\u001b[0;32m    499\u001b[0m         url,\n\u001b[0;32m    500\u001b[0m         body\u001b[38;5;241m=\u001b[39mbody,\n\u001b[0;32m    501\u001b[0m         headers\u001b[38;5;241m=\u001b[39mheaders,\n\u001b[0;32m    502\u001b[0m         chunked\u001b[38;5;241m=\u001b[39mchunked,\n\u001b[0;32m    503\u001b[0m         preload_content\u001b[38;5;241m=\u001b[39mpreload_content,\n\u001b[0;32m    504\u001b[0m         decode_content\u001b[38;5;241m=\u001b[39mdecode_content,\n\u001b[0;32m    505\u001b[0m         enforce_content_length\u001b[38;5;241m=\u001b[39menforce_content_length,\n\u001b[0;32m    506\u001b[0m     )\n\u001b[0;32m    508\u001b[0m \u001b[38;5;66;03m# We are swallowing BrokenPipeError (errno.EPIPE) since the server is\u001b[39;00m\n\u001b[0;32m    509\u001b[0m \u001b[38;5;66;03m# legitimately able to close the connection after sending a valid response.\u001b[39;00m\n\u001b[0;32m    510\u001b[0m \u001b[38;5;66;03m# With this behaviour, the received response is still readable.\u001b[39;00m\n",
      "File \u001b[1;32m~\\anaconda3\\Lib\\site-packages\\urllib3\\connection.py:395\u001b[0m, in \u001b[0;36mHTTPConnection.request\u001b[1;34m(self, method, url, body, headers, chunked, preload_content, decode_content, enforce_content_length)\u001b[0m\n\u001b[0;32m    394\u001b[0m     \u001b[38;5;28mself\u001b[39m\u001b[38;5;241m.\u001b[39mputheader(header, value)\n\u001b[1;32m--> 395\u001b[0m \u001b[38;5;28mself\u001b[39m\u001b[38;5;241m.\u001b[39mendheaders()\n\u001b[0;32m    397\u001b[0m \u001b[38;5;66;03m# If we're given a body we start sending that in chunks.\u001b[39;00m\n",
      "File \u001b[1;32m~\\anaconda3\\Lib\\http\\client.py:1289\u001b[0m, in \u001b[0;36mHTTPConnection.endheaders\u001b[1;34m(self, message_body, encode_chunked)\u001b[0m\n\u001b[0;32m   1288\u001b[0m     \u001b[38;5;28;01mraise\u001b[39;00m CannotSendHeader()\n\u001b[1;32m-> 1289\u001b[0m \u001b[38;5;28mself\u001b[39m\u001b[38;5;241m.\u001b[39m_send_output(message_body, encode_chunked\u001b[38;5;241m=\u001b[39mencode_chunked)\n",
      "File \u001b[1;32m~\\anaconda3\\Lib\\http\\client.py:1048\u001b[0m, in \u001b[0;36mHTTPConnection._send_output\u001b[1;34m(self, message_body, encode_chunked)\u001b[0m\n\u001b[0;32m   1047\u001b[0m \u001b[38;5;28;01mdel\u001b[39;00m \u001b[38;5;28mself\u001b[39m\u001b[38;5;241m.\u001b[39m_buffer[:]\n\u001b[1;32m-> 1048\u001b[0m \u001b[38;5;28mself\u001b[39m\u001b[38;5;241m.\u001b[39msend(msg)\n\u001b[0;32m   1050\u001b[0m \u001b[38;5;28;01mif\u001b[39;00m message_body \u001b[38;5;129;01mis\u001b[39;00m \u001b[38;5;129;01mnot\u001b[39;00m \u001b[38;5;28;01mNone\u001b[39;00m:\n\u001b[0;32m   1051\u001b[0m \n\u001b[0;32m   1052\u001b[0m     \u001b[38;5;66;03m# create a consistent interface to message_body\u001b[39;00m\n",
      "File \u001b[1;32m~\\anaconda3\\Lib\\http\\client.py:986\u001b[0m, in \u001b[0;36mHTTPConnection.send\u001b[1;34m(self, data)\u001b[0m\n\u001b[0;32m    985\u001b[0m \u001b[38;5;28;01mif\u001b[39;00m \u001b[38;5;28mself\u001b[39m\u001b[38;5;241m.\u001b[39mauto_open:\n\u001b[1;32m--> 986\u001b[0m     \u001b[38;5;28mself\u001b[39m\u001b[38;5;241m.\u001b[39mconnect()\n\u001b[0;32m    987\u001b[0m \u001b[38;5;28;01melse\u001b[39;00m:\n",
      "File \u001b[1;32m~\\anaconda3\\Lib\\site-packages\\urllib3\\connection.py:243\u001b[0m, in \u001b[0;36mHTTPConnection.connect\u001b[1;34m(self)\u001b[0m\n\u001b[0;32m    242\u001b[0m \u001b[38;5;28;01mdef\u001b[39;00m \u001b[38;5;21mconnect\u001b[39m(\u001b[38;5;28mself\u001b[39m) \u001b[38;5;241m-\u001b[39m\u001b[38;5;241m>\u001b[39m \u001b[38;5;28;01mNone\u001b[39;00m:\n\u001b[1;32m--> 243\u001b[0m     \u001b[38;5;28mself\u001b[39m\u001b[38;5;241m.\u001b[39msock \u001b[38;5;241m=\u001b[39m \u001b[38;5;28mself\u001b[39m\u001b[38;5;241m.\u001b[39m_new_conn()\n\u001b[0;32m    244\u001b[0m     \u001b[38;5;28;01mif\u001b[39;00m \u001b[38;5;28mself\u001b[39m\u001b[38;5;241m.\u001b[39m_tunnel_host:\n\u001b[0;32m    245\u001b[0m         \u001b[38;5;66;03m# If we're tunneling it means we're connected to our proxy.\u001b[39;00m\n",
      "File \u001b[1;32m~\\anaconda3\\Lib\\site-packages\\urllib3\\connection.py:218\u001b[0m, in \u001b[0;36mHTTPConnection._new_conn\u001b[1;34m(self)\u001b[0m\n\u001b[0;32m    217\u001b[0m \u001b[38;5;28;01mexcept\u001b[39;00m \u001b[38;5;167;01mOSError\u001b[39;00m \u001b[38;5;28;01mas\u001b[39;00m e:\n\u001b[1;32m--> 218\u001b[0m     \u001b[38;5;28;01mraise\u001b[39;00m NewConnectionError(\n\u001b[0;32m    219\u001b[0m         \u001b[38;5;28mself\u001b[39m, \u001b[38;5;124mf\u001b[39m\u001b[38;5;124m\"\u001b[39m\u001b[38;5;124mFailed to establish a new connection: \u001b[39m\u001b[38;5;132;01m{\u001b[39;00me\u001b[38;5;132;01m}\u001b[39;00m\u001b[38;5;124m\"\u001b[39m\n\u001b[0;32m    220\u001b[0m     ) \u001b[38;5;28;01mfrom\u001b[39;00m \u001b[38;5;21;01me\u001b[39;00m\n\u001b[0;32m    222\u001b[0m \u001b[38;5;66;03m# Audit hooks are only available in Python 3.8+\u001b[39;00m\n",
      "\u001b[1;31mNewConnectionError\u001b[0m: <urllib3.connection.HTTPConnection object at 0x0000021190F68B50>: Failed to establish a new connection: [WinError 10061] 대상 컴퓨터에서 연결을 거부했으므로 연결하지 못했습니다",
      "\nThe above exception was the direct cause of the following exception:\n",
      "\u001b[1;31mMaxRetryError\u001b[0m                             Traceback (most recent call last)",
      "Cell \u001b[1;32mIn[34], line 7\u001b[0m\n\u001b[0;32m      5\u001b[0m \u001b[38;5;28;01mfor\u001b[39;00m view \u001b[38;5;129;01min\u001b[39;00m views:\n\u001b[0;32m      6\u001b[0m     con_dict \u001b[38;5;241m=\u001b[39m {}\n\u001b[1;32m----> 7\u001b[0m     con_dict[\u001b[38;5;124m'\u001b[39m\u001b[38;5;124mtitle\u001b[39m\u001b[38;5;124m'\u001b[39m] \u001b[38;5;241m=\u001b[39m view\u001b[38;5;241m.\u001b[39mfind_element(By\u001b[38;5;241m.\u001b[39mCSS_SELECTOR, \u001b[38;5;124m'\u001b[39m\u001b[38;5;124m.title_area\u001b[39m\u001b[38;5;124m'\u001b[39m)\u001b[38;5;241m.\u001b[39mtext\n\u001b[0;32m      8\u001b[0m     con_dict[\u001b[38;5;124m'\u001b[39m\u001b[38;5;124mtext\u001b[39m\u001b[38;5;124m'\u001b[39m] \u001b[38;5;241m=\u001b[39m view\u001b[38;5;241m.\u001b[39mfind_element(By\u001b[38;5;241m.\u001b[39mCSS_SELECTOR, \u001b[38;5;124m'\u001b[39m\u001b[38;5;124m.dsc_link\u001b[39m\u001b[38;5;124m'\u001b[39m)\u001b[38;5;241m.\u001b[39mtext\n\u001b[0;32m      9\u001b[0m     con_dict[\u001b[38;5;124m'\u001b[39m\u001b[38;5;124mdate\u001b[39m\u001b[38;5;124m'\u001b[39m] \u001b[38;5;241m=\u001b[39m view\u001b[38;5;241m.\u001b[39mfind_element(By\u001b[38;5;241m.\u001b[39mCSS_SELECTOR, \u001b[38;5;124m'\u001b[39m\u001b[38;5;124m.sub\u001b[39m\u001b[38;5;124m'\u001b[39m)\u001b[38;5;241m.\u001b[39mtext\n",
      "File \u001b[1;32m~\\anaconda3\\Lib\\site-packages\\selenium\\webdriver\\remote\\webelement.py:90\u001b[0m, in \u001b[0;36mWebElement.text\u001b[1;34m(self)\u001b[0m\n\u001b[0;32m     87\u001b[0m \u001b[38;5;129m@property\u001b[39m\n\u001b[0;32m     88\u001b[0m \u001b[38;5;28;01mdef\u001b[39;00m \u001b[38;5;21mtext\u001b[39m(\u001b[38;5;28mself\u001b[39m) \u001b[38;5;241m-\u001b[39m\u001b[38;5;241m>\u001b[39m \u001b[38;5;28mstr\u001b[39m:\n\u001b[0;32m     89\u001b[0m \u001b[38;5;250m    \u001b[39m\u001b[38;5;124;03m\"\"\"The text of the element.\"\"\"\u001b[39;00m\n\u001b[1;32m---> 90\u001b[0m     \u001b[38;5;28;01mreturn\u001b[39;00m \u001b[38;5;28mself\u001b[39m\u001b[38;5;241m.\u001b[39m_execute(Command\u001b[38;5;241m.\u001b[39mGET_ELEMENT_TEXT)[\u001b[38;5;124m\"\u001b[39m\u001b[38;5;124mvalue\u001b[39m\u001b[38;5;124m\"\u001b[39m]\n",
      "File \u001b[1;32m~\\anaconda3\\Lib\\site-packages\\selenium\\webdriver\\remote\\webelement.py:395\u001b[0m, in \u001b[0;36mWebElement._execute\u001b[1;34m(self, command, params)\u001b[0m\n\u001b[0;32m    393\u001b[0m     params \u001b[38;5;241m=\u001b[39m {}\n\u001b[0;32m    394\u001b[0m params[\u001b[38;5;124m\"\u001b[39m\u001b[38;5;124mid\u001b[39m\u001b[38;5;124m\"\u001b[39m] \u001b[38;5;241m=\u001b[39m \u001b[38;5;28mself\u001b[39m\u001b[38;5;241m.\u001b[39m_id\n\u001b[1;32m--> 395\u001b[0m \u001b[38;5;28;01mreturn\u001b[39;00m \u001b[38;5;28mself\u001b[39m\u001b[38;5;241m.\u001b[39m_parent\u001b[38;5;241m.\u001b[39mexecute(command, params)\n",
      "File \u001b[1;32m~\\anaconda3\\Lib\\site-packages\\selenium\\webdriver\\remote\\webdriver.py:352\u001b[0m, in \u001b[0;36mWebDriver.execute\u001b[1;34m(self, driver_command, params)\u001b[0m\n\u001b[0;32m    349\u001b[0m     \u001b[38;5;28;01melif\u001b[39;00m \u001b[38;5;124m\"\u001b[39m\u001b[38;5;124msessionId\u001b[39m\u001b[38;5;124m\"\u001b[39m \u001b[38;5;129;01mnot\u001b[39;00m \u001b[38;5;129;01min\u001b[39;00m params:\n\u001b[0;32m    350\u001b[0m         params[\u001b[38;5;124m\"\u001b[39m\u001b[38;5;124msessionId\u001b[39m\u001b[38;5;124m\"\u001b[39m] \u001b[38;5;241m=\u001b[39m \u001b[38;5;28mself\u001b[39m\u001b[38;5;241m.\u001b[39msession_id\n\u001b[1;32m--> 352\u001b[0m response \u001b[38;5;241m=\u001b[39m \u001b[38;5;28mself\u001b[39m\u001b[38;5;241m.\u001b[39mcommand_executor\u001b[38;5;241m.\u001b[39mexecute(driver_command, params)\n\u001b[0;32m    353\u001b[0m \u001b[38;5;28;01mif\u001b[39;00m response:\n\u001b[0;32m    354\u001b[0m     \u001b[38;5;28mself\u001b[39m\u001b[38;5;241m.\u001b[39merror_handler\u001b[38;5;241m.\u001b[39mcheck_response(response)\n",
      "File \u001b[1;32m~\\anaconda3\\Lib\\site-packages\\selenium\\webdriver\\remote\\remote_connection.py:302\u001b[0m, in \u001b[0;36mRemoteConnection.execute\u001b[1;34m(self, command, params)\u001b[0m\n\u001b[0;32m    300\u001b[0m trimmed \u001b[38;5;241m=\u001b[39m \u001b[38;5;28mself\u001b[39m\u001b[38;5;241m.\u001b[39m_trim_large_entries(params)\n\u001b[0;32m    301\u001b[0m LOGGER\u001b[38;5;241m.\u001b[39mdebug(\u001b[38;5;124m\"\u001b[39m\u001b[38;5;132;01m%s\u001b[39;00m\u001b[38;5;124m \u001b[39m\u001b[38;5;132;01m%s\u001b[39;00m\u001b[38;5;124m \u001b[39m\u001b[38;5;132;01m%s\u001b[39;00m\u001b[38;5;124m\"\u001b[39m, command_info[\u001b[38;5;241m0\u001b[39m], url, \u001b[38;5;28mstr\u001b[39m(trimmed))\n\u001b[1;32m--> 302\u001b[0m \u001b[38;5;28;01mreturn\u001b[39;00m \u001b[38;5;28mself\u001b[39m\u001b[38;5;241m.\u001b[39m_request(command_info[\u001b[38;5;241m0\u001b[39m], url, body\u001b[38;5;241m=\u001b[39mdata)\n",
      "File \u001b[1;32m~\\anaconda3\\Lib\\site-packages\\selenium\\webdriver\\remote\\remote_connection.py:322\u001b[0m, in \u001b[0;36mRemoteConnection._request\u001b[1;34m(self, method, url, body)\u001b[0m\n\u001b[0;32m    319\u001b[0m     body \u001b[38;5;241m=\u001b[39m \u001b[38;5;28;01mNone\u001b[39;00m\n\u001b[0;32m    321\u001b[0m \u001b[38;5;28;01mif\u001b[39;00m \u001b[38;5;28mself\u001b[39m\u001b[38;5;241m.\u001b[39mkeep_alive:\n\u001b[1;32m--> 322\u001b[0m     response \u001b[38;5;241m=\u001b[39m \u001b[38;5;28mself\u001b[39m\u001b[38;5;241m.\u001b[39m_conn\u001b[38;5;241m.\u001b[39mrequest(method, url, body\u001b[38;5;241m=\u001b[39mbody, headers\u001b[38;5;241m=\u001b[39mheaders)\n\u001b[0;32m    323\u001b[0m     statuscode \u001b[38;5;241m=\u001b[39m response\u001b[38;5;241m.\u001b[39mstatus\n\u001b[0;32m    324\u001b[0m \u001b[38;5;28;01melse\u001b[39;00m:\n",
      "File \u001b[1;32m~\\anaconda3\\Lib\\site-packages\\urllib3\\_request_methods.py:110\u001b[0m, in \u001b[0;36mRequestMethods.request\u001b[1;34m(self, method, url, body, fields, headers, json, **urlopen_kw)\u001b[0m\n\u001b[0;32m    107\u001b[0m     urlopen_kw[\u001b[38;5;124m\"\u001b[39m\u001b[38;5;124mbody\u001b[39m\u001b[38;5;124m\"\u001b[39m] \u001b[38;5;241m=\u001b[39m body\n\u001b[0;32m    109\u001b[0m \u001b[38;5;28;01mif\u001b[39;00m method \u001b[38;5;129;01min\u001b[39;00m \u001b[38;5;28mself\u001b[39m\u001b[38;5;241m.\u001b[39m_encode_url_methods:\n\u001b[1;32m--> 110\u001b[0m     \u001b[38;5;28;01mreturn\u001b[39;00m \u001b[38;5;28mself\u001b[39m\u001b[38;5;241m.\u001b[39mrequest_encode_url(\n\u001b[0;32m    111\u001b[0m         method,\n\u001b[0;32m    112\u001b[0m         url,\n\u001b[0;32m    113\u001b[0m         fields\u001b[38;5;241m=\u001b[39mfields,  \u001b[38;5;66;03m# type: ignore[arg-type]\u001b[39;00m\n\u001b[0;32m    114\u001b[0m         headers\u001b[38;5;241m=\u001b[39mheaders,\n\u001b[0;32m    115\u001b[0m         \u001b[38;5;241m*\u001b[39m\u001b[38;5;241m*\u001b[39murlopen_kw,\n\u001b[0;32m    116\u001b[0m     )\n\u001b[0;32m    117\u001b[0m \u001b[38;5;28;01melse\u001b[39;00m:\n\u001b[0;32m    118\u001b[0m     \u001b[38;5;28;01mreturn\u001b[39;00m \u001b[38;5;28mself\u001b[39m\u001b[38;5;241m.\u001b[39mrequest_encode_body(\n\u001b[0;32m    119\u001b[0m         method, url, fields\u001b[38;5;241m=\u001b[39mfields, headers\u001b[38;5;241m=\u001b[39mheaders, \u001b[38;5;241m*\u001b[39m\u001b[38;5;241m*\u001b[39murlopen_kw\n\u001b[0;32m    120\u001b[0m     )\n",
      "File \u001b[1;32m~\\anaconda3\\Lib\\site-packages\\urllib3\\_request_methods.py:143\u001b[0m, in \u001b[0;36mRequestMethods.request_encode_url\u001b[1;34m(self, method, url, fields, headers, **urlopen_kw)\u001b[0m\n\u001b[0;32m    140\u001b[0m \u001b[38;5;28;01mif\u001b[39;00m fields:\n\u001b[0;32m    141\u001b[0m     url \u001b[38;5;241m+\u001b[39m\u001b[38;5;241m=\u001b[39m \u001b[38;5;124m\"\u001b[39m\u001b[38;5;124m?\u001b[39m\u001b[38;5;124m\"\u001b[39m \u001b[38;5;241m+\u001b[39m urlencode(fields)\n\u001b[1;32m--> 143\u001b[0m \u001b[38;5;28;01mreturn\u001b[39;00m \u001b[38;5;28mself\u001b[39m\u001b[38;5;241m.\u001b[39murlopen(method, url, \u001b[38;5;241m*\u001b[39m\u001b[38;5;241m*\u001b[39mextra_kw)\n",
      "File \u001b[1;32m~\\anaconda3\\Lib\\site-packages\\urllib3\\poolmanager.py:443\u001b[0m, in \u001b[0;36mPoolManager.urlopen\u001b[1;34m(self, method, url, redirect, **kw)\u001b[0m\n\u001b[0;32m    441\u001b[0m     response \u001b[38;5;241m=\u001b[39m conn\u001b[38;5;241m.\u001b[39murlopen(method, url, \u001b[38;5;241m*\u001b[39m\u001b[38;5;241m*\u001b[39mkw)\n\u001b[0;32m    442\u001b[0m \u001b[38;5;28;01melse\u001b[39;00m:\n\u001b[1;32m--> 443\u001b[0m     response \u001b[38;5;241m=\u001b[39m conn\u001b[38;5;241m.\u001b[39murlopen(method, u\u001b[38;5;241m.\u001b[39mrequest_uri, \u001b[38;5;241m*\u001b[39m\u001b[38;5;241m*\u001b[39mkw)\n\u001b[0;32m    445\u001b[0m redirect_location \u001b[38;5;241m=\u001b[39m redirect \u001b[38;5;129;01mand\u001b[39;00m response\u001b[38;5;241m.\u001b[39mget_redirect_location()\n\u001b[0;32m    446\u001b[0m \u001b[38;5;28;01mif\u001b[39;00m \u001b[38;5;129;01mnot\u001b[39;00m redirect_location:\n",
      "File \u001b[1;32m~\\anaconda3\\Lib\\site-packages\\urllib3\\connectionpool.py:875\u001b[0m, in \u001b[0;36mHTTPConnectionPool.urlopen\u001b[1;34m(self, method, url, body, headers, retries, redirect, assert_same_host, timeout, pool_timeout, release_conn, chunked, body_pos, preload_content, decode_content, **response_kw)\u001b[0m\n\u001b[0;32m    870\u001b[0m \u001b[38;5;28;01mif\u001b[39;00m \u001b[38;5;129;01mnot\u001b[39;00m conn:\n\u001b[0;32m    871\u001b[0m     \u001b[38;5;66;03m# Try again\u001b[39;00m\n\u001b[0;32m    872\u001b[0m     log\u001b[38;5;241m.\u001b[39mwarning(\n\u001b[0;32m    873\u001b[0m         \u001b[38;5;124m\"\u001b[39m\u001b[38;5;124mRetrying (\u001b[39m\u001b[38;5;132;01m%r\u001b[39;00m\u001b[38;5;124m) after connection broken by \u001b[39m\u001b[38;5;124m'\u001b[39m\u001b[38;5;132;01m%r\u001b[39;00m\u001b[38;5;124m'\u001b[39m\u001b[38;5;124m: \u001b[39m\u001b[38;5;132;01m%s\u001b[39;00m\u001b[38;5;124m\"\u001b[39m, retries, err, url\n\u001b[0;32m    874\u001b[0m     )\n\u001b[1;32m--> 875\u001b[0m     \u001b[38;5;28;01mreturn\u001b[39;00m \u001b[38;5;28mself\u001b[39m\u001b[38;5;241m.\u001b[39murlopen(\n\u001b[0;32m    876\u001b[0m         method,\n\u001b[0;32m    877\u001b[0m         url,\n\u001b[0;32m    878\u001b[0m         body,\n\u001b[0;32m    879\u001b[0m         headers,\n\u001b[0;32m    880\u001b[0m         retries,\n\u001b[0;32m    881\u001b[0m         redirect,\n\u001b[0;32m    882\u001b[0m         assert_same_host,\n\u001b[0;32m    883\u001b[0m         timeout\u001b[38;5;241m=\u001b[39mtimeout,\n\u001b[0;32m    884\u001b[0m         pool_timeout\u001b[38;5;241m=\u001b[39mpool_timeout,\n\u001b[0;32m    885\u001b[0m         release_conn\u001b[38;5;241m=\u001b[39mrelease_conn,\n\u001b[0;32m    886\u001b[0m         chunked\u001b[38;5;241m=\u001b[39mchunked,\n\u001b[0;32m    887\u001b[0m         body_pos\u001b[38;5;241m=\u001b[39mbody_pos,\n\u001b[0;32m    888\u001b[0m         preload_content\u001b[38;5;241m=\u001b[39mpreload_content,\n\u001b[0;32m    889\u001b[0m         decode_content\u001b[38;5;241m=\u001b[39mdecode_content,\n\u001b[0;32m    890\u001b[0m         \u001b[38;5;241m*\u001b[39m\u001b[38;5;241m*\u001b[39mresponse_kw,\n\u001b[0;32m    891\u001b[0m     )\n\u001b[0;32m    893\u001b[0m \u001b[38;5;66;03m# Handle redirect?\u001b[39;00m\n\u001b[0;32m    894\u001b[0m redirect_location \u001b[38;5;241m=\u001b[39m redirect \u001b[38;5;129;01mand\u001b[39;00m response\u001b[38;5;241m.\u001b[39mget_redirect_location()\n",
      "File \u001b[1;32m~\\anaconda3\\Lib\\site-packages\\urllib3\\connectionpool.py:875\u001b[0m, in \u001b[0;36mHTTPConnectionPool.urlopen\u001b[1;34m(self, method, url, body, headers, retries, redirect, assert_same_host, timeout, pool_timeout, release_conn, chunked, body_pos, preload_content, decode_content, **response_kw)\u001b[0m\n\u001b[0;32m    870\u001b[0m \u001b[38;5;28;01mif\u001b[39;00m \u001b[38;5;129;01mnot\u001b[39;00m conn:\n\u001b[0;32m    871\u001b[0m     \u001b[38;5;66;03m# Try again\u001b[39;00m\n\u001b[0;32m    872\u001b[0m     log\u001b[38;5;241m.\u001b[39mwarning(\n\u001b[0;32m    873\u001b[0m         \u001b[38;5;124m\"\u001b[39m\u001b[38;5;124mRetrying (\u001b[39m\u001b[38;5;132;01m%r\u001b[39;00m\u001b[38;5;124m) after connection broken by \u001b[39m\u001b[38;5;124m'\u001b[39m\u001b[38;5;132;01m%r\u001b[39;00m\u001b[38;5;124m'\u001b[39m\u001b[38;5;124m: \u001b[39m\u001b[38;5;132;01m%s\u001b[39;00m\u001b[38;5;124m\"\u001b[39m, retries, err, url\n\u001b[0;32m    874\u001b[0m     )\n\u001b[1;32m--> 875\u001b[0m     \u001b[38;5;28;01mreturn\u001b[39;00m \u001b[38;5;28mself\u001b[39m\u001b[38;5;241m.\u001b[39murlopen(\n\u001b[0;32m    876\u001b[0m         method,\n\u001b[0;32m    877\u001b[0m         url,\n\u001b[0;32m    878\u001b[0m         body,\n\u001b[0;32m    879\u001b[0m         headers,\n\u001b[0;32m    880\u001b[0m         retries,\n\u001b[0;32m    881\u001b[0m         redirect,\n\u001b[0;32m    882\u001b[0m         assert_same_host,\n\u001b[0;32m    883\u001b[0m         timeout\u001b[38;5;241m=\u001b[39mtimeout,\n\u001b[0;32m    884\u001b[0m         pool_timeout\u001b[38;5;241m=\u001b[39mpool_timeout,\n\u001b[0;32m    885\u001b[0m         release_conn\u001b[38;5;241m=\u001b[39mrelease_conn,\n\u001b[0;32m    886\u001b[0m         chunked\u001b[38;5;241m=\u001b[39mchunked,\n\u001b[0;32m    887\u001b[0m         body_pos\u001b[38;5;241m=\u001b[39mbody_pos,\n\u001b[0;32m    888\u001b[0m         preload_content\u001b[38;5;241m=\u001b[39mpreload_content,\n\u001b[0;32m    889\u001b[0m         decode_content\u001b[38;5;241m=\u001b[39mdecode_content,\n\u001b[0;32m    890\u001b[0m         \u001b[38;5;241m*\u001b[39m\u001b[38;5;241m*\u001b[39mresponse_kw,\n\u001b[0;32m    891\u001b[0m     )\n\u001b[0;32m    893\u001b[0m \u001b[38;5;66;03m# Handle redirect?\u001b[39;00m\n\u001b[0;32m    894\u001b[0m redirect_location \u001b[38;5;241m=\u001b[39m redirect \u001b[38;5;129;01mand\u001b[39;00m response\u001b[38;5;241m.\u001b[39mget_redirect_location()\n",
      "File \u001b[1;32m~\\anaconda3\\Lib\\site-packages\\urllib3\\connectionpool.py:875\u001b[0m, in \u001b[0;36mHTTPConnectionPool.urlopen\u001b[1;34m(self, method, url, body, headers, retries, redirect, assert_same_host, timeout, pool_timeout, release_conn, chunked, body_pos, preload_content, decode_content, **response_kw)\u001b[0m\n\u001b[0;32m    870\u001b[0m \u001b[38;5;28;01mif\u001b[39;00m \u001b[38;5;129;01mnot\u001b[39;00m conn:\n\u001b[0;32m    871\u001b[0m     \u001b[38;5;66;03m# Try again\u001b[39;00m\n\u001b[0;32m    872\u001b[0m     log\u001b[38;5;241m.\u001b[39mwarning(\n\u001b[0;32m    873\u001b[0m         \u001b[38;5;124m\"\u001b[39m\u001b[38;5;124mRetrying (\u001b[39m\u001b[38;5;132;01m%r\u001b[39;00m\u001b[38;5;124m) after connection broken by \u001b[39m\u001b[38;5;124m'\u001b[39m\u001b[38;5;132;01m%r\u001b[39;00m\u001b[38;5;124m'\u001b[39m\u001b[38;5;124m: \u001b[39m\u001b[38;5;132;01m%s\u001b[39;00m\u001b[38;5;124m\"\u001b[39m, retries, err, url\n\u001b[0;32m    874\u001b[0m     )\n\u001b[1;32m--> 875\u001b[0m     \u001b[38;5;28;01mreturn\u001b[39;00m \u001b[38;5;28mself\u001b[39m\u001b[38;5;241m.\u001b[39murlopen(\n\u001b[0;32m    876\u001b[0m         method,\n\u001b[0;32m    877\u001b[0m         url,\n\u001b[0;32m    878\u001b[0m         body,\n\u001b[0;32m    879\u001b[0m         headers,\n\u001b[0;32m    880\u001b[0m         retries,\n\u001b[0;32m    881\u001b[0m         redirect,\n\u001b[0;32m    882\u001b[0m         assert_same_host,\n\u001b[0;32m    883\u001b[0m         timeout\u001b[38;5;241m=\u001b[39mtimeout,\n\u001b[0;32m    884\u001b[0m         pool_timeout\u001b[38;5;241m=\u001b[39mpool_timeout,\n\u001b[0;32m    885\u001b[0m         release_conn\u001b[38;5;241m=\u001b[39mrelease_conn,\n\u001b[0;32m    886\u001b[0m         chunked\u001b[38;5;241m=\u001b[39mchunked,\n\u001b[0;32m    887\u001b[0m         body_pos\u001b[38;5;241m=\u001b[39mbody_pos,\n\u001b[0;32m    888\u001b[0m         preload_content\u001b[38;5;241m=\u001b[39mpreload_content,\n\u001b[0;32m    889\u001b[0m         decode_content\u001b[38;5;241m=\u001b[39mdecode_content,\n\u001b[0;32m    890\u001b[0m         \u001b[38;5;241m*\u001b[39m\u001b[38;5;241m*\u001b[39mresponse_kw,\n\u001b[0;32m    891\u001b[0m     )\n\u001b[0;32m    893\u001b[0m \u001b[38;5;66;03m# Handle redirect?\u001b[39;00m\n\u001b[0;32m    894\u001b[0m redirect_location \u001b[38;5;241m=\u001b[39m redirect \u001b[38;5;129;01mand\u001b[39;00m response\u001b[38;5;241m.\u001b[39mget_redirect_location()\n",
      "File \u001b[1;32m~\\anaconda3\\Lib\\site-packages\\urllib3\\connectionpool.py:845\u001b[0m, in \u001b[0;36mHTTPConnectionPool.urlopen\u001b[1;34m(self, method, url, body, headers, retries, redirect, assert_same_host, timeout, pool_timeout, release_conn, chunked, body_pos, preload_content, decode_content, **response_kw)\u001b[0m\n\u001b[0;32m    842\u001b[0m \u001b[38;5;28;01melif\u001b[39;00m \u001b[38;5;28misinstance\u001b[39m(new_e, (\u001b[38;5;167;01mOSError\u001b[39;00m, HTTPException)):\n\u001b[0;32m    843\u001b[0m     new_e \u001b[38;5;241m=\u001b[39m ProtocolError(\u001b[38;5;124m\"\u001b[39m\u001b[38;5;124mConnection aborted.\u001b[39m\u001b[38;5;124m\"\u001b[39m, new_e)\n\u001b[1;32m--> 845\u001b[0m retries \u001b[38;5;241m=\u001b[39m retries\u001b[38;5;241m.\u001b[39mincrement(\n\u001b[0;32m    846\u001b[0m     method, url, error\u001b[38;5;241m=\u001b[39mnew_e, _pool\u001b[38;5;241m=\u001b[39m\u001b[38;5;28mself\u001b[39m, _stacktrace\u001b[38;5;241m=\u001b[39msys\u001b[38;5;241m.\u001b[39mexc_info()[\u001b[38;5;241m2\u001b[39m]\n\u001b[0;32m    847\u001b[0m )\n\u001b[0;32m    848\u001b[0m retries\u001b[38;5;241m.\u001b[39msleep()\n\u001b[0;32m    850\u001b[0m \u001b[38;5;66;03m# Keep track of the error for the retry warning.\u001b[39;00m\n",
      "File \u001b[1;32m~\\anaconda3\\Lib\\site-packages\\urllib3\\util\\retry.py:515\u001b[0m, in \u001b[0;36mRetry.increment\u001b[1;34m(self, method, url, response, error, _pool, _stacktrace)\u001b[0m\n\u001b[0;32m    513\u001b[0m \u001b[38;5;28;01mif\u001b[39;00m new_retry\u001b[38;5;241m.\u001b[39mis_exhausted():\n\u001b[0;32m    514\u001b[0m     reason \u001b[38;5;241m=\u001b[39m error \u001b[38;5;129;01mor\u001b[39;00m ResponseError(cause)\n\u001b[1;32m--> 515\u001b[0m     \u001b[38;5;28;01mraise\u001b[39;00m MaxRetryError(_pool, url, reason) \u001b[38;5;28;01mfrom\u001b[39;00m \u001b[38;5;21;01mreason\u001b[39;00m  \u001b[38;5;66;03m# type: ignore[arg-type]\u001b[39;00m\n\u001b[0;32m    517\u001b[0m log\u001b[38;5;241m.\u001b[39mdebug(\u001b[38;5;124m\"\u001b[39m\u001b[38;5;124mIncremented Retry for (url=\u001b[39m\u001b[38;5;124m'\u001b[39m\u001b[38;5;132;01m%s\u001b[39;00m\u001b[38;5;124m'\u001b[39m\u001b[38;5;124m): \u001b[39m\u001b[38;5;132;01m%r\u001b[39;00m\u001b[38;5;124m\"\u001b[39m, url, new_retry)\n\u001b[0;32m    519\u001b[0m \u001b[38;5;28;01mreturn\u001b[39;00m new_retry\n",
      "\u001b[1;31mMaxRetryError\u001b[0m: HTTPConnectionPool(host='localhost', port=50682): Max retries exceeded with url: /session/8cea155b8d69d2477df7b610c88592a6/element/f.F21C6492BC1DA8200383CD931FF264E6.d.B415E93EFC4E1D07EC6434C3D6FE4117.e.11002/text (Caused by NewConnectionError('<urllib3.connection.HTTPConnection object at 0x0000021190F68B50>: Failed to establish a new connection: [WinError 10061] 대상 컴퓨터에서 연결을 거부했으므로 연결하지 못했습니다'))"
     ]
    }
   ],
   "source": [
    "# get_view()\n",
    "views = driver.find_elements(By.CSS_SELECTOR, '.lst_view .view_wrap')\n",
    "result = []\n",
    "\n",
    "for view in views:\n",
    "    con_dict = {}\n",
    "    con_dict['title'] = view.find_element(By.CSS_SELECTOR, '.title_area').text\n",
    "    con_dict['text'] = view.find_element(By.CSS_SELECTOR, '.dsc_link').text\n",
    "    con_dict['date'] = view.find_element(By.CSS_SELECTOR, '.sub').text\n",
    "    result.append(con_dict)\n",
    "    print(con_dict)\n",
    "    \n",
    "print('완료')"
   ]
  },
  {
   "cell_type": "code",
   "execution_count": 33,
   "id": "802c05a7-8453-4a49-a4ca-ad9035694632",
   "metadata": {},
   "outputs": [
    {
     "data": {
      "text/html": [
       "<div>\n",
       "<style scoped>\n",
       "    .dataframe tbody tr th:only-of-type {\n",
       "        vertical-align: middle;\n",
       "    }\n",
       "\n",
       "    .dataframe tbody tr th {\n",
       "        vertical-align: top;\n",
       "    }\n",
       "\n",
       "    .dataframe thead th {\n",
       "        text-align: right;\n",
       "    }\n",
       "</style>\n",
       "<table border=\"1\" class=\"dataframe\">\n",
       "  <thead>\n",
       "    <tr style=\"text-align: right;\">\n",
       "      <th></th>\n",
       "      <th>title</th>\n",
       "      <th>text</th>\n",
       "      <th>date</th>\n",
       "    </tr>\n",
       "  </thead>\n",
       "  <tbody>\n",
       "    <tr>\n",
       "      <th>0</th>\n",
       "      <td>엔비디아 주가 전망 시가총액 버블일까 실적 인공지능 가속기</td>\n",
       "      <td>엔비디아 주가 전망 시가총액 버블일까 실적 인공지능 가속기 인공지능 AI열풍의 최전...</td>\n",
       "      <td>7시간 전</td>\n",
       "    </tr>\n",
       "    <tr>\n",
       "      <th>1</th>\n",
       "      <td>구글 알파벳 주가 전망, 1주만 사고 후회(feat. 배당금, 역투자, 인공지능)</td>\n",
       "      <td>배당금, 역투자, 인공지능) 투자를 하면 항상 후회를 하게되죠. 그때 샀어야해, 팔...</td>\n",
       "      <td>2주 전</td>\n",
       "    </tr>\n",
       "    <tr>\n",
       "      <th>2</th>\n",
       "      <td>인공지능 삼성 노트북 갤럭시북4 엣지 가벼운 14인치 노트북 스펙 가격</td>\n",
       "      <td>오늘은 인공지능 더해진 14인치 노트북 갤럭시북4 엣지 가격 스펙을 간단히 소개해 ...</td>\n",
       "      <td>2일 전</td>\n",
       "    </tr>\n",
       "    <tr>\n",
       "      <th>3</th>\n",
       "      <td>[인공지능 개발자] 석사가 아닌 고졸도 취업이 가능한 루트</td>\n",
       "      <td>인공지능 개발자 석사가 아닌 고졸도 취업이 가능한 루트 현재, IT 산업에서 가장 ...</td>\n",
       "      <td>3주 전</td>\n",
       "    </tr>\n",
       "    <tr>\n",
       "      <th>4</th>\n",
       "      <td>인공지능 VS 인간, 주식투자 대결 승자는? 로보어드바이저 투자 수익률 공개</td>\n",
       "      <td>인간과 인공지능(AI) 중 누가 더 투자를 잘할까요? AI는 빅데이터 분석, 머신러...</td>\n",
       "      <td>2024.05.10.</td>\n",
       "    </tr>\n",
       "    <tr>\n",
       "      <th>5</th>\n",
       "      <td>삼성전자 갤럭시북4 프로360 AI 인공지능 노트북 리뷰</td>\n",
       "      <td>AI 인공지능 관련된 기능들을 확실히 쾌적하게 사용이 가능했습니다. 보통 가성비를 ...</td>\n",
       "      <td>4주 전</td>\n",
       "    </tr>\n",
       "  </tbody>\n",
       "</table>\n",
       "</div>"
      ],
      "text/plain": [
       "                                           title  \\\n",
       "0               엔비디아 주가 전망 시가총액 버블일까 실적 인공지능 가속기   \n",
       "1  구글 알파벳 주가 전망, 1주만 사고 후회(feat. 배당금, 역투자, 인공지능)   \n",
       "2        인공지능 삼성 노트북 갤럭시북4 엣지 가벼운 14인치 노트북 스펙 가격   \n",
       "3               [인공지능 개발자] 석사가 아닌 고졸도 취업이 가능한 루트   \n",
       "4     인공지능 VS 인간, 주식투자 대결 승자는? 로보어드바이저 투자 수익률 공개   \n",
       "5                삼성전자 갤럭시북4 프로360 AI 인공지능 노트북 리뷰   \n",
       "\n",
       "                                                text         date  \n",
       "0  엔비디아 주가 전망 시가총액 버블일까 실적 인공지능 가속기 인공지능 AI열풍의 최전...        7시간 전  \n",
       "1  배당금, 역투자, 인공지능) 투자를 하면 항상 후회를 하게되죠. 그때 샀어야해, 팔...         2주 전  \n",
       "2  오늘은 인공지능 더해진 14인치 노트북 갤럭시북4 엣지 가격 스펙을 간단히 소개해 ...         2일 전  \n",
       "3  인공지능 개발자 석사가 아닌 고졸도 취업이 가능한 루트 현재, IT 산업에서 가장 ...         3주 전  \n",
       "4  인간과 인공지능(AI) 중 누가 더 투자를 잘할까요? AI는 빅데이터 분석, 머신러...  2024.05.10.  \n",
       "5  AI 인공지능 관련된 기능들을 확실히 쾌적하게 사용이 가능했습니다. 보통 가성비를 ...         4주 전  "
      ]
     },
     "execution_count": 33,
     "metadata": {},
     "output_type": "execute_result"
    }
   ],
   "source": [
    "#저장된 게시물 리스트를 데이터프레임으로 변환후 csv로 저장\n",
    "df = pd.DataFrame(result)\n",
    "df"
   ]
  },
  {
   "cell_type": "code",
   "execution_count": null,
   "id": "65616dd8-b1e5-4ada-9055-16c3e0108582",
   "metadata": {},
   "outputs": [],
   "source": [
    "#데이터 프레임 저장\n",
    "# csv는 sep 쉼표가 반드시 있어야 한글이 안깨짐\n",
    "df.to_csv(f'./naver_{fname}.csv', sep=',', encoding='utf-8-sig')"
   ]
  },
  {
   "cell_type": "code",
   "execution_count": null,
   "id": "e690c085-5a6b-4628-8e8b-dc460f661724",
   "metadata": {},
   "outputs": [],
   "source": []
  },
  {
   "cell_type": "code",
   "execution_count": 21,
   "id": "0d58c4f3-fb0f-4b9b-bc05-fba6623d8dba",
   "metadata": {},
   "outputs": [],
   "source": [
    "from selenium import webdriver\n",
    "from selenium.webdriver.common.by import By\n",
    "from selenium.webdriver.chrome.options import Options\n",
    "import time, random, pandas as pd\n",
    "\n",
    "options = Options()\n",
    "options.add_argument('--window-size=974,1047')\n",
    "options.add_argument('--window-position=-7,0')\n",
    "options.add_experimental_option(\"detach\", True)\n",
    "\n",
    "driver = webdriver.Chrome( options = options)\n",
    "url = 'https://play.google.com/store/apps/details?id=com.estsoft.picnic'\n",
    "driver.get(url)\n",
    "time.sleep(random.randint(2,3))"
   ]
  },
  {
   "cell_type": "code",
   "execution_count": 46,
   "id": "6de50265-f099-4bee-9675-0998632e0222",
   "metadata": {},
   "outputs": [],
   "source": []
  },
  {
   "cell_type": "code",
   "execution_count": 22,
   "id": "69cff7de-ab64-43f3-9025-b3613a53378d",
   "metadata": {},
   "outputs": [
    {
     "ename": "KeyboardInterrupt",
     "evalue": "",
     "output_type": "error",
     "traceback": [
      "\u001b[1;31m---------------------------------------------------------------------------\u001b[0m",
      "\u001b[1;31mKeyboardInterrupt\u001b[0m                         Traceback (most recent call last)",
      "Cell \u001b[1;32mIn[22], line 3\u001b[0m\n\u001b[0;32m      1\u001b[0m \u001b[38;5;28;01mfor\u001b[39;00m i \u001b[38;5;129;01min\u001b[39;00m \u001b[38;5;28mrange\u001b[39m(\u001b[38;5;241m10\u001b[39m):\n\u001b[0;32m      2\u001b[0m     driver\u001b[38;5;241m.\u001b[39mexecute_script(\u001b[38;5;124m'\u001b[39m\u001b[38;5;124mwindow.scrollTo(0, document.body.scrollHeight);\u001b[39m\u001b[38;5;124m'\u001b[39m)\n\u001b[1;32m----> 3\u001b[0m     time\u001b[38;5;241m.\u001b[39msleep(random\u001b[38;5;241m.\u001b[39mrandint(\u001b[38;5;241m2\u001b[39m, \u001b[38;5;241m3\u001b[39m))\n",
      "\u001b[1;31mKeyboardInterrupt\u001b[0m: "
     ]
    }
   ],
   "source": [
    "for i in range(10):\n",
    "    driver.execute_script('window.scrollTo(0, document.body.scrollHeight);')\n",
    "    time.sleep(random.randint(2, 3))"
   ]
  },
  {
   "cell_type": "code",
   "execution_count": null,
   "id": "b0800683-32f1-45ba-a104-ac292ecb6080",
   "metadata": {},
   "outputs": [],
   "source": [
    "for i in range(10):\n",
    "    review_box = driver.find_element(By.CSS_SELECTOR, 'div.fysCi')\n",
    "    driver.execute_script('arguments[0].scrollTop = arguments[0].scrollHeight', review_box )\n",
    "    time.sleep(random.randint(2, 3))"
   ]
  },
  {
   "cell_type": "code",
   "execution_count": 49,
   "id": "427e2a2c-d1ed-4e03-8158-d0b1c3bff00c",
   "metadata": {
    "collapsed": true,
    "jupyter": {
     "outputs_hidden": true
    }
   },
   "outputs": [
    {
     "data": {
      "text/plain": [
       "[<selenium.webdriver.remote.webelement.WebElement (session=\"5eaaee17b51bcfa7f4c1d840560074d2\", element=\"f.756C6F7A57EB3DD5458CD131977C334B.d.F144FC4D90717BC3049CBAD4145C1306.e.3976\")>,\n",
       " <selenium.webdriver.remote.webelement.WebElement (session=\"5eaaee17b51bcfa7f4c1d840560074d2\", element=\"f.756C6F7A57EB3DD5458CD131977C334B.d.F144FC4D90717BC3049CBAD4145C1306.e.4051\")>,\n",
       " <selenium.webdriver.remote.webelement.WebElement (session=\"5eaaee17b51bcfa7f4c1d840560074d2\", element=\"f.756C6F7A57EB3DD5458CD131977C334B.d.F144FC4D90717BC3049CBAD4145C1306.e.4126\")>,\n",
       " <selenium.webdriver.remote.webelement.WebElement (session=\"5eaaee17b51bcfa7f4c1d840560074d2\", element=\"f.756C6F7A57EB3DD5458CD131977C334B.d.F144FC4D90717BC3049CBAD4145C1306.e.4203\")>,\n",
       " <selenium.webdriver.remote.webelement.WebElement (session=\"5eaaee17b51bcfa7f4c1d840560074d2\", element=\"f.756C6F7A57EB3DD5458CD131977C334B.d.F144FC4D90717BC3049CBAD4145C1306.e.4280\")>,\n",
       " <selenium.webdriver.remote.webelement.WebElement (session=\"5eaaee17b51bcfa7f4c1d840560074d2\", element=\"f.756C6F7A57EB3DD5458CD131977C334B.d.F144FC4D90717BC3049CBAD4145C1306.e.4357\")>,\n",
       " <selenium.webdriver.remote.webelement.WebElement (session=\"5eaaee17b51bcfa7f4c1d840560074d2\", element=\"f.756C6F7A57EB3DD5458CD131977C334B.d.F144FC4D90717BC3049CBAD4145C1306.e.4438\")>,\n",
       " <selenium.webdriver.remote.webelement.WebElement (session=\"5eaaee17b51bcfa7f4c1d840560074d2\", element=\"f.756C6F7A57EB3DD5458CD131977C334B.d.F144FC4D90717BC3049CBAD4145C1306.e.4515\")>,\n",
       " <selenium.webdriver.remote.webelement.WebElement (session=\"5eaaee17b51bcfa7f4c1d840560074d2\", element=\"f.756C6F7A57EB3DD5458CD131977C334B.d.F144FC4D90717BC3049CBAD4145C1306.e.4592\")>,\n",
       " <selenium.webdriver.remote.webelement.WebElement (session=\"5eaaee17b51bcfa7f4c1d840560074d2\", element=\"f.756C6F7A57EB3DD5458CD131977C334B.d.F144FC4D90717BC3049CBAD4145C1306.e.4672\")>,\n",
       " <selenium.webdriver.remote.webelement.WebElement (session=\"5eaaee17b51bcfa7f4c1d840560074d2\", element=\"f.756C6F7A57EB3DD5458CD131977C334B.d.F144FC4D90717BC3049CBAD4145C1306.e.4749\")>,\n",
       " <selenium.webdriver.remote.webelement.WebElement (session=\"5eaaee17b51bcfa7f4c1d840560074d2\", element=\"f.756C6F7A57EB3DD5458CD131977C334B.d.F144FC4D90717BC3049CBAD4145C1306.e.4820\")>,\n",
       " <selenium.webdriver.remote.webelement.WebElement (session=\"5eaaee17b51bcfa7f4c1d840560074d2\", element=\"f.756C6F7A57EB3DD5458CD131977C334B.d.F144FC4D90717BC3049CBAD4145C1306.e.4897\")>,\n",
       " <selenium.webdriver.remote.webelement.WebElement (session=\"5eaaee17b51bcfa7f4c1d840560074d2\", element=\"f.756C6F7A57EB3DD5458CD131977C334B.d.F144FC4D90717BC3049CBAD4145C1306.e.4974\")>,\n",
       " <selenium.webdriver.remote.webelement.WebElement (session=\"5eaaee17b51bcfa7f4c1d840560074d2\", element=\"f.756C6F7A57EB3DD5458CD131977C334B.d.F144FC4D90717BC3049CBAD4145C1306.e.5045\")>,\n",
       " <selenium.webdriver.remote.webelement.WebElement (session=\"5eaaee17b51bcfa7f4c1d840560074d2\", element=\"f.756C6F7A57EB3DD5458CD131977C334B.d.F144FC4D90717BC3049CBAD4145C1306.e.5122\")>,\n",
       " <selenium.webdriver.remote.webelement.WebElement (session=\"5eaaee17b51bcfa7f4c1d840560074d2\", element=\"f.756C6F7A57EB3DD5458CD131977C334B.d.F144FC4D90717BC3049CBAD4145C1306.e.5193\")>,\n",
       " <selenium.webdriver.remote.webelement.WebElement (session=\"5eaaee17b51bcfa7f4c1d840560074d2\", element=\"f.756C6F7A57EB3DD5458CD131977C334B.d.F144FC4D90717BC3049CBAD4145C1306.e.5270\")>,\n",
       " <selenium.webdriver.remote.webelement.WebElement (session=\"5eaaee17b51bcfa7f4c1d840560074d2\", element=\"f.756C6F7A57EB3DD5458CD131977C334B.d.F144FC4D90717BC3049CBAD4145C1306.e.5347\")>,\n",
       " <selenium.webdriver.remote.webelement.WebElement (session=\"5eaaee17b51bcfa7f4c1d840560074d2\", element=\"f.756C6F7A57EB3DD5458CD131977C334B.d.F144FC4D90717BC3049CBAD4145C1306.e.5427\")>,\n",
       " <selenium.webdriver.remote.webelement.WebElement (session=\"5eaaee17b51bcfa7f4c1d840560074d2\", element=\"f.756C6F7A57EB3DD5458CD131977C334B.d.F144FC4D90717BC3049CBAD4145C1306.e.5979\")>,\n",
       " <selenium.webdriver.remote.webelement.WebElement (session=\"5eaaee17b51bcfa7f4c1d840560074d2\", element=\"f.756C6F7A57EB3DD5458CD131977C334B.d.F144FC4D90717BC3049CBAD4145C1306.e.5980\")>,\n",
       " <selenium.webdriver.remote.webelement.WebElement (session=\"5eaaee17b51bcfa7f4c1d840560074d2\", element=\"f.756C6F7A57EB3DD5458CD131977C334B.d.F144FC4D90717BC3049CBAD4145C1306.e.5981\")>,\n",
       " <selenium.webdriver.remote.webelement.WebElement (session=\"5eaaee17b51bcfa7f4c1d840560074d2\", element=\"f.756C6F7A57EB3DD5458CD131977C334B.d.F144FC4D90717BC3049CBAD4145C1306.e.5982\")>,\n",
       " <selenium.webdriver.remote.webelement.WebElement (session=\"5eaaee17b51bcfa7f4c1d840560074d2\", element=\"f.756C6F7A57EB3DD5458CD131977C334B.d.F144FC4D90717BC3049CBAD4145C1306.e.5983\")>,\n",
       " <selenium.webdriver.remote.webelement.WebElement (session=\"5eaaee17b51bcfa7f4c1d840560074d2\", element=\"f.756C6F7A57EB3DD5458CD131977C334B.d.F144FC4D90717BC3049CBAD4145C1306.e.5984\")>,\n",
       " <selenium.webdriver.remote.webelement.WebElement (session=\"5eaaee17b51bcfa7f4c1d840560074d2\", element=\"f.756C6F7A57EB3DD5458CD131977C334B.d.F144FC4D90717BC3049CBAD4145C1306.e.5985\")>,\n",
       " <selenium.webdriver.remote.webelement.WebElement (session=\"5eaaee17b51bcfa7f4c1d840560074d2\", element=\"f.756C6F7A57EB3DD5458CD131977C334B.d.F144FC4D90717BC3049CBAD4145C1306.e.5986\")>,\n",
       " <selenium.webdriver.remote.webelement.WebElement (session=\"5eaaee17b51bcfa7f4c1d840560074d2\", element=\"f.756C6F7A57EB3DD5458CD131977C334B.d.F144FC4D90717BC3049CBAD4145C1306.e.5987\")>,\n",
       " <selenium.webdriver.remote.webelement.WebElement (session=\"5eaaee17b51bcfa7f4c1d840560074d2\", element=\"f.756C6F7A57EB3DD5458CD131977C334B.d.F144FC4D90717BC3049CBAD4145C1306.e.5988\")>,\n",
       " <selenium.webdriver.remote.webelement.WebElement (session=\"5eaaee17b51bcfa7f4c1d840560074d2\", element=\"f.756C6F7A57EB3DD5458CD131977C334B.d.F144FC4D90717BC3049CBAD4145C1306.e.5989\")>,\n",
       " <selenium.webdriver.remote.webelement.WebElement (session=\"5eaaee17b51bcfa7f4c1d840560074d2\", element=\"f.756C6F7A57EB3DD5458CD131977C334B.d.F144FC4D90717BC3049CBAD4145C1306.e.5990\")>,\n",
       " <selenium.webdriver.remote.webelement.WebElement (session=\"5eaaee17b51bcfa7f4c1d840560074d2\", element=\"f.756C6F7A57EB3DD5458CD131977C334B.d.F144FC4D90717BC3049CBAD4145C1306.e.5991\")>,\n",
       " <selenium.webdriver.remote.webelement.WebElement (session=\"5eaaee17b51bcfa7f4c1d840560074d2\", element=\"f.756C6F7A57EB3DD5458CD131977C334B.d.F144FC4D90717BC3049CBAD4145C1306.e.5992\")>,\n",
       " <selenium.webdriver.remote.webelement.WebElement (session=\"5eaaee17b51bcfa7f4c1d840560074d2\", element=\"f.756C6F7A57EB3DD5458CD131977C334B.d.F144FC4D90717BC3049CBAD4145C1306.e.5993\")>,\n",
       " <selenium.webdriver.remote.webelement.WebElement (session=\"5eaaee17b51bcfa7f4c1d840560074d2\", element=\"f.756C6F7A57EB3DD5458CD131977C334B.d.F144FC4D90717BC3049CBAD4145C1306.e.5994\")>,\n",
       " <selenium.webdriver.remote.webelement.WebElement (session=\"5eaaee17b51bcfa7f4c1d840560074d2\", element=\"f.756C6F7A57EB3DD5458CD131977C334B.d.F144FC4D90717BC3049CBAD4145C1306.e.5995\")>,\n",
       " <selenium.webdriver.remote.webelement.WebElement (session=\"5eaaee17b51bcfa7f4c1d840560074d2\", element=\"f.756C6F7A57EB3DD5458CD131977C334B.d.F144FC4D90717BC3049CBAD4145C1306.e.5996\")>,\n",
       " <selenium.webdriver.remote.webelement.WebElement (session=\"5eaaee17b51bcfa7f4c1d840560074d2\", element=\"f.756C6F7A57EB3DD5458CD131977C334B.d.F144FC4D90717BC3049CBAD4145C1306.e.5997\")>,\n",
       " <selenium.webdriver.remote.webelement.WebElement (session=\"5eaaee17b51bcfa7f4c1d840560074d2\", element=\"f.756C6F7A57EB3DD5458CD131977C334B.d.F144FC4D90717BC3049CBAD4145C1306.e.5998\")>,\n",
       " <selenium.webdriver.remote.webelement.WebElement (session=\"5eaaee17b51bcfa7f4c1d840560074d2\", element=\"f.756C6F7A57EB3DD5458CD131977C334B.d.F144FC4D90717BC3049CBAD4145C1306.e.7787\")>,\n",
       " <selenium.webdriver.remote.webelement.WebElement (session=\"5eaaee17b51bcfa7f4c1d840560074d2\", element=\"f.756C6F7A57EB3DD5458CD131977C334B.d.F144FC4D90717BC3049CBAD4145C1306.e.7788\")>,\n",
       " <selenium.webdriver.remote.webelement.WebElement (session=\"5eaaee17b51bcfa7f4c1d840560074d2\", element=\"f.756C6F7A57EB3DD5458CD131977C334B.d.F144FC4D90717BC3049CBAD4145C1306.e.7789\")>,\n",
       " <selenium.webdriver.remote.webelement.WebElement (session=\"5eaaee17b51bcfa7f4c1d840560074d2\", element=\"f.756C6F7A57EB3DD5458CD131977C334B.d.F144FC4D90717BC3049CBAD4145C1306.e.7790\")>,\n",
       " <selenium.webdriver.remote.webelement.WebElement (session=\"5eaaee17b51bcfa7f4c1d840560074d2\", element=\"f.756C6F7A57EB3DD5458CD131977C334B.d.F144FC4D90717BC3049CBAD4145C1306.e.7791\")>,\n",
       " <selenium.webdriver.remote.webelement.WebElement (session=\"5eaaee17b51bcfa7f4c1d840560074d2\", element=\"f.756C6F7A57EB3DD5458CD131977C334B.d.F144FC4D90717BC3049CBAD4145C1306.e.7792\")>,\n",
       " <selenium.webdriver.remote.webelement.WebElement (session=\"5eaaee17b51bcfa7f4c1d840560074d2\", element=\"f.756C6F7A57EB3DD5458CD131977C334B.d.F144FC4D90717BC3049CBAD4145C1306.e.7793\")>,\n",
       " <selenium.webdriver.remote.webelement.WebElement (session=\"5eaaee17b51bcfa7f4c1d840560074d2\", element=\"f.756C6F7A57EB3DD5458CD131977C334B.d.F144FC4D90717BC3049CBAD4145C1306.e.7794\")>,\n",
       " <selenium.webdriver.remote.webelement.WebElement (session=\"5eaaee17b51bcfa7f4c1d840560074d2\", element=\"f.756C6F7A57EB3DD5458CD131977C334B.d.F144FC4D90717BC3049CBAD4145C1306.e.7795\")>,\n",
       " <selenium.webdriver.remote.webelement.WebElement (session=\"5eaaee17b51bcfa7f4c1d840560074d2\", element=\"f.756C6F7A57EB3DD5458CD131977C334B.d.F144FC4D90717BC3049CBAD4145C1306.e.7796\")>,\n",
       " <selenium.webdriver.remote.webelement.WebElement (session=\"5eaaee17b51bcfa7f4c1d840560074d2\", element=\"f.756C6F7A57EB3DD5458CD131977C334B.d.F144FC4D90717BC3049CBAD4145C1306.e.7797\")>,\n",
       " <selenium.webdriver.remote.webelement.WebElement (session=\"5eaaee17b51bcfa7f4c1d840560074d2\", element=\"f.756C6F7A57EB3DD5458CD131977C334B.d.F144FC4D90717BC3049CBAD4145C1306.e.7798\")>,\n",
       " <selenium.webdriver.remote.webelement.WebElement (session=\"5eaaee17b51bcfa7f4c1d840560074d2\", element=\"f.756C6F7A57EB3DD5458CD131977C334B.d.F144FC4D90717BC3049CBAD4145C1306.e.7799\")>,\n",
       " <selenium.webdriver.remote.webelement.WebElement (session=\"5eaaee17b51bcfa7f4c1d840560074d2\", element=\"f.756C6F7A57EB3DD5458CD131977C334B.d.F144FC4D90717BC3049CBAD4145C1306.e.7800\")>,\n",
       " <selenium.webdriver.remote.webelement.WebElement (session=\"5eaaee17b51bcfa7f4c1d840560074d2\", element=\"f.756C6F7A57EB3DD5458CD131977C334B.d.F144FC4D90717BC3049CBAD4145C1306.e.7801\")>,\n",
       " <selenium.webdriver.remote.webelement.WebElement (session=\"5eaaee17b51bcfa7f4c1d840560074d2\", element=\"f.756C6F7A57EB3DD5458CD131977C334B.d.F144FC4D90717BC3049CBAD4145C1306.e.7802\")>,\n",
       " <selenium.webdriver.remote.webelement.WebElement (session=\"5eaaee17b51bcfa7f4c1d840560074d2\", element=\"f.756C6F7A57EB3DD5458CD131977C334B.d.F144FC4D90717BC3049CBAD4145C1306.e.7803\")>,\n",
       " <selenium.webdriver.remote.webelement.WebElement (session=\"5eaaee17b51bcfa7f4c1d840560074d2\", element=\"f.756C6F7A57EB3DD5458CD131977C334B.d.F144FC4D90717BC3049CBAD4145C1306.e.7804\")>,\n",
       " <selenium.webdriver.remote.webelement.WebElement (session=\"5eaaee17b51bcfa7f4c1d840560074d2\", element=\"f.756C6F7A57EB3DD5458CD131977C334B.d.F144FC4D90717BC3049CBAD4145C1306.e.7805\")>,\n",
       " <selenium.webdriver.remote.webelement.WebElement (session=\"5eaaee17b51bcfa7f4c1d840560074d2\", element=\"f.756C6F7A57EB3DD5458CD131977C334B.d.F144FC4D90717BC3049CBAD4145C1306.e.7806\")>,\n",
       " <selenium.webdriver.remote.webelement.WebElement (session=\"5eaaee17b51bcfa7f4c1d840560074d2\", element=\"f.756C6F7A57EB3DD5458CD131977C334B.d.F144FC4D90717BC3049CBAD4145C1306.e.9565\")>,\n",
       " <selenium.webdriver.remote.webelement.WebElement (session=\"5eaaee17b51bcfa7f4c1d840560074d2\", element=\"f.756C6F7A57EB3DD5458CD131977C334B.d.F144FC4D90717BC3049CBAD4145C1306.e.9566\")>,\n",
       " <selenium.webdriver.remote.webelement.WebElement (session=\"5eaaee17b51bcfa7f4c1d840560074d2\", element=\"f.756C6F7A57EB3DD5458CD131977C334B.d.F144FC4D90717BC3049CBAD4145C1306.e.9567\")>,\n",
       " <selenium.webdriver.remote.webelement.WebElement (session=\"5eaaee17b51bcfa7f4c1d840560074d2\", element=\"f.756C6F7A57EB3DD5458CD131977C334B.d.F144FC4D90717BC3049CBAD4145C1306.e.9568\")>,\n",
       " <selenium.webdriver.remote.webelement.WebElement (session=\"5eaaee17b51bcfa7f4c1d840560074d2\", element=\"f.756C6F7A57EB3DD5458CD131977C334B.d.F144FC4D90717BC3049CBAD4145C1306.e.9569\")>,\n",
       " <selenium.webdriver.remote.webelement.WebElement (session=\"5eaaee17b51bcfa7f4c1d840560074d2\", element=\"f.756C6F7A57EB3DD5458CD131977C334B.d.F144FC4D90717BC3049CBAD4145C1306.e.9570\")>,\n",
       " <selenium.webdriver.remote.webelement.WebElement (session=\"5eaaee17b51bcfa7f4c1d840560074d2\", element=\"f.756C6F7A57EB3DD5458CD131977C334B.d.F144FC4D90717BC3049CBAD4145C1306.e.9571\")>,\n",
       " <selenium.webdriver.remote.webelement.WebElement (session=\"5eaaee17b51bcfa7f4c1d840560074d2\", element=\"f.756C6F7A57EB3DD5458CD131977C334B.d.F144FC4D90717BC3049CBAD4145C1306.e.9572\")>,\n",
       " <selenium.webdriver.remote.webelement.WebElement (session=\"5eaaee17b51bcfa7f4c1d840560074d2\", element=\"f.756C6F7A57EB3DD5458CD131977C334B.d.F144FC4D90717BC3049CBAD4145C1306.e.9573\")>,\n",
       " <selenium.webdriver.remote.webelement.WebElement (session=\"5eaaee17b51bcfa7f4c1d840560074d2\", element=\"f.756C6F7A57EB3DD5458CD131977C334B.d.F144FC4D90717BC3049CBAD4145C1306.e.9574\")>,\n",
       " <selenium.webdriver.remote.webelement.WebElement (session=\"5eaaee17b51bcfa7f4c1d840560074d2\", element=\"f.756C6F7A57EB3DD5458CD131977C334B.d.F144FC4D90717BC3049CBAD4145C1306.e.9575\")>,\n",
       " <selenium.webdriver.remote.webelement.WebElement (session=\"5eaaee17b51bcfa7f4c1d840560074d2\", element=\"f.756C6F7A57EB3DD5458CD131977C334B.d.F144FC4D90717BC3049CBAD4145C1306.e.9576\")>,\n",
       " <selenium.webdriver.remote.webelement.WebElement (session=\"5eaaee17b51bcfa7f4c1d840560074d2\", element=\"f.756C6F7A57EB3DD5458CD131977C334B.d.F144FC4D90717BC3049CBAD4145C1306.e.9577\")>,\n",
       " <selenium.webdriver.remote.webelement.WebElement (session=\"5eaaee17b51bcfa7f4c1d840560074d2\", element=\"f.756C6F7A57EB3DD5458CD131977C334B.d.F144FC4D90717BC3049CBAD4145C1306.e.9578\")>,\n",
       " <selenium.webdriver.remote.webelement.WebElement (session=\"5eaaee17b51bcfa7f4c1d840560074d2\", element=\"f.756C6F7A57EB3DD5458CD131977C334B.d.F144FC4D90717BC3049CBAD4145C1306.e.9579\")>,\n",
       " <selenium.webdriver.remote.webelement.WebElement (session=\"5eaaee17b51bcfa7f4c1d840560074d2\", element=\"f.756C6F7A57EB3DD5458CD131977C334B.d.F144FC4D90717BC3049CBAD4145C1306.e.9580\")>,\n",
       " <selenium.webdriver.remote.webelement.WebElement (session=\"5eaaee17b51bcfa7f4c1d840560074d2\", element=\"f.756C6F7A57EB3DD5458CD131977C334B.d.F144FC4D90717BC3049CBAD4145C1306.e.9581\")>,\n",
       " <selenium.webdriver.remote.webelement.WebElement (session=\"5eaaee17b51bcfa7f4c1d840560074d2\", element=\"f.756C6F7A57EB3DD5458CD131977C334B.d.F144FC4D90717BC3049CBAD4145C1306.e.9582\")>,\n",
       " <selenium.webdriver.remote.webelement.WebElement (session=\"5eaaee17b51bcfa7f4c1d840560074d2\", element=\"f.756C6F7A57EB3DD5458CD131977C334B.d.F144FC4D90717BC3049CBAD4145C1306.e.9583\")>,\n",
       " <selenium.webdriver.remote.webelement.WebElement (session=\"5eaaee17b51bcfa7f4c1d840560074d2\", element=\"f.756C6F7A57EB3DD5458CD131977C334B.d.F144FC4D90717BC3049CBAD4145C1306.e.9584\")>,\n",
       " <selenium.webdriver.remote.webelement.WebElement (session=\"5eaaee17b51bcfa7f4c1d840560074d2\", element=\"f.756C6F7A57EB3DD5458CD131977C334B.d.F144FC4D90717BC3049CBAD4145C1306.e.11371\")>,\n",
       " <selenium.webdriver.remote.webelement.WebElement (session=\"5eaaee17b51bcfa7f4c1d840560074d2\", element=\"f.756C6F7A57EB3DD5458CD131977C334B.d.F144FC4D90717BC3049CBAD4145C1306.e.11372\")>,\n",
       " <selenium.webdriver.remote.webelement.WebElement (session=\"5eaaee17b51bcfa7f4c1d840560074d2\", element=\"f.756C6F7A57EB3DD5458CD131977C334B.d.F144FC4D90717BC3049CBAD4145C1306.e.11373\")>,\n",
       " <selenium.webdriver.remote.webelement.WebElement (session=\"5eaaee17b51bcfa7f4c1d840560074d2\", element=\"f.756C6F7A57EB3DD5458CD131977C334B.d.F144FC4D90717BC3049CBAD4145C1306.e.11374\")>,\n",
       " <selenium.webdriver.remote.webelement.WebElement (session=\"5eaaee17b51bcfa7f4c1d840560074d2\", element=\"f.756C6F7A57EB3DD5458CD131977C334B.d.F144FC4D90717BC3049CBAD4145C1306.e.11375\")>,\n",
       " <selenium.webdriver.remote.webelement.WebElement (session=\"5eaaee17b51bcfa7f4c1d840560074d2\", element=\"f.756C6F7A57EB3DD5458CD131977C334B.d.F144FC4D90717BC3049CBAD4145C1306.e.11376\")>,\n",
       " <selenium.webdriver.remote.webelement.WebElement (session=\"5eaaee17b51bcfa7f4c1d840560074d2\", element=\"f.756C6F7A57EB3DD5458CD131977C334B.d.F144FC4D90717BC3049CBAD4145C1306.e.11377\")>,\n",
       " <selenium.webdriver.remote.webelement.WebElement (session=\"5eaaee17b51bcfa7f4c1d840560074d2\", element=\"f.756C6F7A57EB3DD5458CD131977C334B.d.F144FC4D90717BC3049CBAD4145C1306.e.11378\")>,\n",
       " <selenium.webdriver.remote.webelement.WebElement (session=\"5eaaee17b51bcfa7f4c1d840560074d2\", element=\"f.756C6F7A57EB3DD5458CD131977C334B.d.F144FC4D90717BC3049CBAD4145C1306.e.11379\")>,\n",
       " <selenium.webdriver.remote.webelement.WebElement (session=\"5eaaee17b51bcfa7f4c1d840560074d2\", element=\"f.756C6F7A57EB3DD5458CD131977C334B.d.F144FC4D90717BC3049CBAD4145C1306.e.11380\")>,\n",
       " <selenium.webdriver.remote.webelement.WebElement (session=\"5eaaee17b51bcfa7f4c1d840560074d2\", element=\"f.756C6F7A57EB3DD5458CD131977C334B.d.F144FC4D90717BC3049CBAD4145C1306.e.11381\")>,\n",
       " <selenium.webdriver.remote.webelement.WebElement (session=\"5eaaee17b51bcfa7f4c1d840560074d2\", element=\"f.756C6F7A57EB3DD5458CD131977C334B.d.F144FC4D90717BC3049CBAD4145C1306.e.11382\")>,\n",
       " <selenium.webdriver.remote.webelement.WebElement (session=\"5eaaee17b51bcfa7f4c1d840560074d2\", element=\"f.756C6F7A57EB3DD5458CD131977C334B.d.F144FC4D90717BC3049CBAD4145C1306.e.11383\")>,\n",
       " <selenium.webdriver.remote.webelement.WebElement (session=\"5eaaee17b51bcfa7f4c1d840560074d2\", element=\"f.756C6F7A57EB3DD5458CD131977C334B.d.F144FC4D90717BC3049CBAD4145C1306.e.11384\")>,\n",
       " <selenium.webdriver.remote.webelement.WebElement (session=\"5eaaee17b51bcfa7f4c1d840560074d2\", element=\"f.756C6F7A57EB3DD5458CD131977C334B.d.F144FC4D90717BC3049CBAD4145C1306.e.11385\")>,\n",
       " <selenium.webdriver.remote.webelement.WebElement (session=\"5eaaee17b51bcfa7f4c1d840560074d2\", element=\"f.756C6F7A57EB3DD5458CD131977C334B.d.F144FC4D90717BC3049CBAD4145C1306.e.11386\")>,\n",
       " <selenium.webdriver.remote.webelement.WebElement (session=\"5eaaee17b51bcfa7f4c1d840560074d2\", element=\"f.756C6F7A57EB3DD5458CD131977C334B.d.F144FC4D90717BC3049CBAD4145C1306.e.11387\")>,\n",
       " <selenium.webdriver.remote.webelement.WebElement (session=\"5eaaee17b51bcfa7f4c1d840560074d2\", element=\"f.756C6F7A57EB3DD5458CD131977C334B.d.F144FC4D90717BC3049CBAD4145C1306.e.11388\")>,\n",
       " <selenium.webdriver.remote.webelement.WebElement (session=\"5eaaee17b51bcfa7f4c1d840560074d2\", element=\"f.756C6F7A57EB3DD5458CD131977C334B.d.F144FC4D90717BC3049CBAD4145C1306.e.11389\")>,\n",
       " <selenium.webdriver.remote.webelement.WebElement (session=\"5eaaee17b51bcfa7f4c1d840560074d2\", element=\"f.756C6F7A57EB3DD5458CD131977C334B.d.F144FC4D90717BC3049CBAD4145C1306.e.11390\")>]"
      ]
     },
     "execution_count": 49,
     "metadata": {},
     "output_type": "execute_result"
    }
   ],
   "source": [
    "rv = driver.find_elements(By.CSS_SELECTOR, 'div.RHo1pe')\n",
    "rv"
   ]
  },
  {
   "cell_type": "code",
   "execution_count": 50,
   "id": "0c579b48-23d7-41c3-bd2a-7c2382e1cd20",
   "metadata": {},
   "outputs": [
    {
     "data": {
      "text/plain": [
       "100"
      ]
     },
     "execution_count": 50,
     "metadata": {},
     "output_type": "execute_result"
    }
   ],
   "source": [
    "len(rv)"
   ]
  },
  {
   "cell_type": "code",
   "execution_count": 74,
   "id": "635572e3-bbb7-4b80-a354-bb32f61a15d9",
   "metadata": {
    "collapsed": true,
    "jupyter": {
     "outputs_hidden": true
    }
   },
   "outputs": [
    {
     "name": "stdout",
     "output_type": "stream",
     "text": [
      "{'text': '많고 많은 필터어플들이 개성은 별로 없는편인데 피크닉은 독보적인 필터들이 많아서 계속 찾게되네요 ㅎㅎ 날씨 흐린날 사진찍을때 정말 최고에요😍 다만 건의드릴게있어요! 1.앱 실행시에 바로 카메라로 넘어가도록 하는 설정이 있으면 더 좋을것같아요 2.청바지 입을경우에 하늘로 인식하는경우가 있어서 난감할때가 있어요! 이부분은 개선이 필요해보여요 좋은앱 개발해주셔서 항상 감사합니다😍 사는동안 많이 버시고 행복하세요 ;)', 'star': 5, 'date': '2019년 4월 14일'}\n",
      "{'text': '진짜 이 앱은 남이 알까 무서울 정도로 좋은 앱이네요ㅠㅜㅜ 사진이 세상 예쁘게 되고 너무 깔끔하고 좋아요.....ㅠ 근데 딱 하나 셔터 속도가 좀 느리고, 사진을 한 번 찍고 나면 촬영버튼이 흐릿해져서 다시 나타나지를 않아서(촬영불가) 홈화면으로 한 번 나갔다 들어와야 합니다.... 그래서 여러 장 찍기가 너무 불편해요! 이 점만 고쳐주시면 1등앱일 거 같아요!♡!', 'star': 4, 'date': '2019년 6월 1일'}\n",
      "{'text': '일단 정말 잘 사용하고 있구요!감사합니다! 다만 최근 AI기능 on off가 있어서 off로해놔도 어플 껐다켜면 다시 on으로 되어있네요ㅠㅠ 공부인증용으로 무음카메라가 필요해서 쓰는건데 카메라 켜면 ai기능이 자동으로 작동돼서 진동이 지익지익 울리는게 조금 불편해요. 어플 다시 껐다 켜도 한번off로 설정하면 제가 다시 on으로 돌리기전엔 안켜지도록 해주실수있나요??', 'star': 4, 'date': '2019년 2월 26일'}\n",
      "{'text': '사진 화질도 아주좋고 쓸만하네요 하지만 사람들이 더 다양하게 커스텀 할수있는 기능을 추가 했으면 해요 예를 하나 들어볼게요 , 밝기조절을 통해 직접 바꾸거나 채도를 선택해 흑백이나 사진의 진하기를 해주셨으면해요 이등등 여러가지 커스텀이 있으면 좋을것같아요', 'star': 5, 'date': '2024년 1월 8일'}\n",
      "{'text': '배경이 자연스럽게 들어가 흐린날에도 사진찍기 좋고 필터 하나하나 색감도 너무 마음에 들어서 실내에서도 피크닉을 자주 써요! 한가지 아쉬운 점은 저장 전에 미리보기가 불가능하다는 거ㅠㅠ 저장 후에 사진을 볼 수 있어 흔들렸거나 마음에 안들면 삭제하고 다시 찍어야 해서 조금 불편해요... 저장 전 미리보기 기능 추가해주시면 정말 감사하겠습니다 :) 좋은 앱 만들어주셔서 감사해요💕', 'star': 5, 'date': '2019년 2월 4일'}\n",
      "{'text': '저 웬만하면 리뷰 잘 안 쓰는데 이 앱 너무 좋아서 쓰러 왔어요ㅠㅠㅠ♡♡ 평소에 사진 찍는 걸 굉장히 좋아하는데 색감이나 하늘 배경이 아쉬울 때가 있었거든요!! 근데 피크닉 다운받고 나서 그런 고민 싹 사라졌어요!! 하늘 인식도 잘하고 필터 씌워도 자연스럽고 너무 예뻐요... 기본캠으로 찍고 후필터 씌우니 화질도 안 깨지고 좋네요ㅎㅎ 사진 찍고 필터 씌워서 여러 분위기의 하늘 표현하는 재미가 쏠쏠하네요 히히 개발자님들 너무 감사하고 앞으로도 예쁜 필터 더 많이 만들어주세요~~♡♡ (한 가지 아쉬운 점은 밤하늘은 인식을 못하더라구요... 밤하늘에 별밤 필터 씌우고 싶은데ㅠㅠ 이것만 개선되면 정말 완벽할 것 같아요!ㅎㅎ)', 'star': 5, 'date': '2019년 1월 3일'}\n",
      "{'text': '마음에 쏙 드는 앱입니다ㅎㅎ 카메라 필터앱은 보통 인물 위주로 되어 있다보니 항상 아쉬웠는데... 풍경 사진을 예쁘게 만들어주는 피크닉 정말 유니크하고 많은 사람들이 알았으면 좋겠어요ㅎㅎ 다만 한가지 아쉬운 점은 기본 카메라로 찍고 후보정을 했을 때 위치 정보는 저장이 되는데 시간 정보가 저장이 안되는 게 조금 아쉽네요... 그 외에는 전부 좋아요❤️ 앞으로 추가될 필터도 기대하겠습니다~~~🥰', 'star': 5, 'date': '2022년 7월 28일'}\n",
      "{'text': '필터가 다양하고 너무 예쁘고 좋아요! 그런데 플래쉬를 사용할 때 약간 문제가 있어요 ㅠ /사진 찍을 때 손, 핸드폰 그림자가 나오는 게 싫어서 플래쉬를 키고 찍었는데 사진을 딱 찍을 때 플래쉬가 깜빡 하면서 오히려 그림자가 더 심하게 나오고 어둡고 플래쉬가 소용이 없는 것 같아요 ㅠ 예전부터 너무 잘 사용하고 있는 어플인데 최근에야 플래쉬를 써봐서 이런 문제가 있는 줄은 몰랐네요 ㅠ', 'star': 4, 'date': '2021년 8월 23일'}\n",
      "{'text': 'ESTsoft라니!! 알집 회사 맞죠!! 대박 이 어플 너무 좋아요👍👍 최고예요ㅎㅎ 앞으로 핸드폰 어플도 좋은 프로그램 많이 만들어 주세요!! 다만 부분적으로 선택 영역을 뺄 수 있는 기능이 있으면 좋겠어요. 버스 색이 파란색이라 하늘이랑 같이 색이 변합니다...ㅎㅎ 좋은 어플 만들어주셔서 감사합니다~ 이런 어플이 무료라니 개발자분들 만수무강하세요ㅎㅎㅎㅎㅎ', 'star': 5, 'date': '2021년 1월 23일'}\n",
      "{'text': '어플사용하면서 리뷰달아본적이 없는데 처음으로 남깁니다. 너무너무 좋은것 같아요. 물론 전문적인 보정작업은 컴퓨터로 다 만지긴 하지만, 이렇게 핸드폰으로도 간단하게 어색하지않고 자연스럽고 이쁘게 보정되는 다양한 필터를 쓸수있다는게 너무 놀랍습니다. 가장 좋은점은 필터의 다양한 색감과 하늘합성기능, 광고없이 편허게 쓸수있다는점 인것 겉네요! 폰카메라어플은 여태까지 이것저것 써보고 모두 삭제했는데 이 어플은 두고두고 계속 쓰게될것 같습니다!', 'star': 5, 'date': '2021년 5월 18일'}\n",
      "{'text': '설치하고 잠깐 써보면서 리뷰남겨봅니다. 일반적인 색감이나 명암만 개선하는 어플이랑 다르게 다양하고 예쁜 필터가 많아 사진느낌을 완전히 바꿀수있어 신기하네요. 다만 간혹 하늘외의 일부분이 하늘과 같이 인식되어 필터되는 경우는 있지만 큰문제는 아니라 잘 쓸수있겠어요~', 'star': 5, 'date': '2019년 8월 31일'}\n",
      "{'text': \"날씨때문에 망한 여행사진을 환하게 수정할 수 있어서 애용하고있어요❤️ 진짜 너무너무 완벽한데 딱 하나 건의드리고 싶은게 있다면 흰 옷, 흰 운동화 등 하늘로 인식해서 인물까지 필터를 입혀버리는 경우가 가끔 있어요. 그 부분을 '지우개'방식으로 해서 필터인식이 불필요한 부분을 사용자가 제거할 수 있게끔 개선된다면 더욱 좋을 것 같아요! 좋은 어플 만들어주셔서 감사합니다❤️\", 'star': 5, 'date': '2020년 9월 22일'}\n",
      "{'text': '안녕하세요 이 맵의 좋은점과 아쉬운점을 말하겠습니다 일단 아쉬운점은 필터가 많이 없다는데 옥의 티구요 좋은점은 저장하는 방법도 정말 쉽구 필터 조정도 쉽게 할수 있습니다 그리고 필터 이름도 통통 튀고 이쁘고 사진 종류별로 나눠 볼수도 있고 전체로 볼수 있어서 정말 개인적으로 좋은 앱 입니다 다만 필터가 조금 부족하다고 생각해서 힘드시겠지만 필터를 조금만 더 추가 해주시면 감사하겠습니다 그럼 긴글 읽어주셔서 감사합니다 꼭! 깔아보세요!!', 'star': 5, 'date': '2021년 10월 19일'}\n",
      "{'text': '사진 어플로는 아주좋습니다만. 특별한 경우가 아니면 사진만되는 어플은 잘안쓰고 동영상도 찍을수있는 어플을 선택할거 같네요. 그리고 사진기능하고 갤러리기능하고 분리하셔서 독립적으로 선택해서 쓸수있다면 더 유용하게 쓰일거같다는 공짜 이용자의 생각입니다', 'star': 5, 'date': '2019년 7월 18일'}\n",
      "{'text': '안뉭하세요 페이스X에서 인생샷을 남긴다길래 이쁜 하늘 사진에 무지개 한 조각이라 필터를 올려두니 너무너무 이쁩니다. 그 외 다른 필터들도 유용하게 사용하고 있습니다. 근데 사진저장이 잘 안돼더군요.. 제 기종은 note8입니다 그래도 필터가 너무너무 이쁘고 사진배경 분위기가 180° 달라져서 포커페이스가 불가능할 정도입니다.. 이맵 취향저걱입니다❤ 원래는 리뷰를 잘 안다는데 너무 놀라서 누구보다 빠르게 칩니다. 강추🥰', 'star': 5, 'date': '2020년 12월 31일'}\n",
      "{'text': '진짜 감탄 그자체입니다.. 딴카메라 설치하려고왔다가 인생카메라 가지고 돌아네요 ㅠㅠ 그카메라 지우고 이것만 평생쓰게생겼습니다 (*꒦ິ꒳꒦ີ) 하늘만 뿅하고 바뀌는게 아니라 분위기까지 바꿔줘서 너무 좋고 구름 추가된것도 좋은데 무엇보다 구름이랑 배경필터 각각 조절 가능하다는게 너무 좋았어요! 필터도 다양하고 너무 예쁘고요 ㅠㅠ 하늘 말고도 그냥 평소 카메라로 써도 너무 예뻐요 (◍ㅠᴗㅠ◍♥) 다만 아쉬운점 꼽자면은 메인화면에서처럼 다 자연스럽지는 않더라구요.. 아무것도 티안나는 필터도 한두개 있었고.. 그리고 카메라 촬영버튼 누르면 가끔 버퍼링되는데 한번 버퍼링걸리면 안끝나더라구요 재접속 해야돼요 ㅠㅠ 어쨌든 진짜 색감도 인생카메라입니다 ㅜㅜ 칙칙항 사진도 바꿔줘요 ㅠㅜ 사진 찍은거 슥슥 해보고 진짜 심정지 올뻔했습니다', 'star': 5, 'date': '2020년 7월 14일'}\n",
      "{'text': '제품사진을 찍을 화질좋은 필터앱을 찾다 평점이 제일 높길래 골랐는데 너무 예쁘네요!! 다만 딱 한 가지 건의 사항이 있다면 저는 찍힌 사진을 확인 후 저장하는 편이라 찍고 바로 자동 저장이 아닌, 찍은 걸 보여주면서 저장버튼이 활성화 됐으면 좋겠어요!!ㅠㅜ', 'star': 5, 'date': '2023년 2월 1일'}\n",
      "{'text': '너무 좋습니다👍👍 다만 하나 단점은 화질이 살짝 안좋게 저장이 됩니다 ㅜㅜ 하늘은 정말 이쁘게 적용되서 찍히는데 나중에 갤러리와서 확인해보면 찍을때처럼 똑같이 선명하게 나오지 않더라구요 ㅜㅜ 그것만 고쳐주세요!! 아 그리고 요번에 나온 새로운필터 너무 이쁩니다❤❤', 'star': 5, 'date': '2019년 1월 6일'}\n",
      "{'text': '필터도 너무 예쁘고 사진도 잘 나와서 계속 사용하고 있었는데 업데이트 이후론지 필터 조정기능이 사라졌네요 다시 복구해주시면 안될까요ㅠㅠ 하늘필터 적용할때마다 사진상단이 다 날라가서 조절하면서 보정하고있었는데 그게 없어지니까 필터를 입힐때마다 다 너무 뿌옇거나 까맣게만 나와서 사진이 부자연스럽게 되는거같아요ㅠㅠ', 'star': 5, 'date': '2018년 11월 8일'}\n",
      "{'text': '사진찍기를 좋아하는 학생입니다!! 여러가지 필터어플들을 많이 로드하고, 또 사용해봤는데 피크닉 만큼 예쁜 색감의 어플을 없는 것 같아요😍 진짜 이 어플 사용하면서 인생샷도 많이 찍었고, 친구들한테도 추천했어요!! 이 어플 쓰시면 정말 좋아요💜 강추드립니다👍🏻👍🏻', 'star': 5, 'date': '2019년 4월 28일'}\n",
      "{'text': '예전부터 사용하던 앱인데 너무 깔끔하게 잘 찍히고 하늘 사진이나 풍경 찍을 때는 항상 이 앱으로 들어와서 찍습니당..🫠 그만큼 이 앱에 관한 신뢰도가 높고!! 제가 사진을 잘 못 찍는데 이 앱은 항상 잘 나와서 sns에 올려요!!😆 앱 자체가 너무 잘 되어있고 딱딱 나뉘어 있어 하고싶은 필터 찾기에도 쉽네용☺️ 지금 배경이 필터와 잘 맞는지도 알려주기까지! 앱이 너무 좋아서 저 혼자 알고싶어 친구들한테도 얘기 안하려고 했는데 이 앱이 승승장구 하며 인기가 많아 졌음 좋겠어서 다 얘기하고 다녔네요🤭 너무 맘에들고 날씨 안이쁘면 사진 잘 못 찍는 사람에겐 천국이나 다름없어요.!! 앞으로도 계속 쓸 거 같네요☺️', 'star': 5, 'date': '2023년 4월 20일'}\n",
      "{'text': '처음 써보는 어플인데 정말 좋은것 같네요. 기존 DSLR로 찍은 사진에 적용해보니 여해시 시간을 못맞추어서 찍지 못했던 사진을 얻을수 있네요. 정말 추천할만한 어플입니다. 다만 보라색이나 흰색을 너무 흰색으로 인식하는 부분이 조금 아쉽네요. 잘쓰겠습니다.', 'star': 5, 'date': '2020년 11월 9일'}\n",
      "{'text': '다른 어플로 필터를 씌우면 화질이 깨지거나 하는데 이건 화질변형같은것도 없고 이 어플을 만드신 아이디어가 정말 좋은거같아요👍 개인적으로 밤하늘이랑 노을을 애용하고있어요 진심 인생샷 나옵니다... ㅠㅠㅠ 너무 좋아요 주변에서 물어보길래 홍보 많이 하고있어요 ㅋㅋㅋㅋ 정말 좋습니다 이렇게 마음에 드는 카메라 어플은 정말 오랜만이에요 좋은 어플 만들어주셔서 정말 감사해요 제작자님❤', 'star': 5, 'date': '2018년 9월 17일'}\n",
      "{'text': '안녕하세영 오늘 이 앱 처음 써본 유저인데용 이건 가장 먼저 칭찬해야 할께 광고가 안나와요! 다른 것들은 광고가 엄청 나오는데 이건 안나와요!! 그다음에 칭찬해야 할것은용 종류가 엄청나게 많아요 순간 엄청 놀랐어요 종류가 굉장히 많아서.놀랐구욜,다음은요 너무 이뻐효!! 광고 안 나오지,종류 많지,겁나 이쁘지 이 앱 적극추천 합니다!!♡', 'star': 5, 'date': '2021년 4월 24일'}\n",
      "{'text': '잘 쓰고 있는데, 선택영역 지우개 기능이 있었으면 좋겠습니다! 가끔 다른 파란 부분 (청바지 등)이 하늘과 함께 선택되어 그 부분에도 구름이 보이게 되는 경우가 있는데, 선택영역을 부분적으로 지울 수 있었으면 좋겠어요!', 'star': 5, 'date': '2019년 4월 28일'}\n",
      "{'text': '너무너무 감편한 조작 좋아요 .하지만 선택영역만 효과주기라던지(하늘만 선택), 각영역 다른효과주기가 가능해졋으면 좋겟습니다. 하늘은 이쁜데 옷색상이나 얼굴색이 이상한경우가 있어서 안타깝네요 ㅠㅠ🙏😭', 'star': 5, 'date': '2019년 7월 6일'}\n",
      "{'text': '필터도 많이 없는편인데 색이 다 날라가네요.. 너무 어둡거나 너무 밝거나 명암이 너무 들어가거나 색채가 많이 날라가거나 거의 배경 위주인것 같아요 인물엔 부적합.. 조절해도 배경과 인물이 있으면 중간조절이 없어요..', 'star': 2, 'date': '2021년 3월 30일'}\n",
      "{'text': '카메라 어떻게 찍는건가요ㅠㅠ 필터보정하고 화면 터치해도 찍혀지질 않습니다. 제폰이 삼성 폴드3입니다. 넓게 펼친 상태에선 카메라 버튼이 아예 없고, 접은 상태에서만 버튼이 보이더라구요ㅜㅜ', 'star': 5, 'date': '2024년 4월 11일'}\n",
      "{'text': '적용 정도를 자유롭게 조절해서 자연스러운 하늘을 만들 수 있어요! 덕분에 흐린날 찍은 아쉬운 사진을 잘 살려서 너무 좋아요~♡', 'star': 5, 'date': '2024년 4월 2일'}\n",
      "{'text': '안녕하세요 사용정보등에 접근권한 전부 다 허용했는데ㅠㅠ 갤러리 선택하구 앨범 선택해서 기존에 찍은 사진 편집하고 싶은데 아무리 해당앨범 터치를 해도 활성화가 안돼요ㅠㅠ 도와주세요ㅠ', 'star': 5, 'date': '2024년 3월 13일'}\n",
      "{'text': '정말 좋아요! 사진을 쉽게 저장할수 있는것도 좋고요! 하나하나 답글 달아주시는거 보고 엄청 대단하다 싶었네요! 요즘 겨울이 지나가는 시기라 그런지 봄 사진을 찾아서 보정하려는데 정말 쉽고 예쁜 사진으로 보정할 수 있어서 좋아요! (산택장애인데 사진들이 다 예뻐서 다 저장하다보니 벌써 5장... 1장을 5장으로 만들어내는 기적)', 'star': 5, 'date': '2021년 3월 12일'}\n",
      "{'text': '구름효과와 산뜻한필터가 너무 맘에듭니다 잘나온 사진을 화보처럼꾸며주니 너무 좋아요! 강추!', 'star': 5, 'date': '2024년 3월 31일'}\n",
      "{'text': '대충 찍고 보정하면 끝. 사람을 매우 게으르게 만드는 어플이네요.', 'star': 5, 'date': '2024년 5월 26일'}\n",
      "{'text': '너무좋은 앱입니다 사진을 아주 멋지고 예쁘게 편집할수 있어요~', 'star': 5, 'date': '2024년 4월 8일'}\n",
      "{'text': '필터 하나하나 빠짐없이 다 색감도 너무 예쁘고 디테일도 너무 좋아요ㅠㅠ 풍경에도, 하늘에도, 심지어 그림에 넣어도 다 예뻐요! 필터 하나만으로 무드가 추가된 느낌.....ㅋㅋㅋ 진짜 제 인생 필터 어플입니다ㅠㅠ 첫눈에 반했어요ㅠㅠ! 좋은 어플 너무너무 감사드려요💜', 'star': 5, 'date': '2020년 7월 8일'}\n",
      "{'text': '배경위주로 바뀌는 어플이 별로 없었는데 광고도 없고 색감도 너무 좋아요 😀 그런데 생각보다 할수있는 필터가 많이 없어서 조금 추가 해주셨으면 좋겠네요... 하늘,풍경 위주로 찍는분들한테 강추합니다 ㅎㅎ😎', 'star': 5, 'date': '2022년 8월 13일'}\n",
      "{'text': '진짜 신기한 앱이 있네요 맨날 여행갈때마다 비 몰고다니는 사람한테 필수. 구름도 엄청 자연스럽고 우충충 빛도 진짜 자연스럽게 색감넣어서 보정 잘 해줘요. 밝기랑 색상으로 편집할때 느끼는 한계를 뛰어넘는... 폰에 있는 우충충사진 다 보정할거에여 꿀잼', 'star': 5, 'date': '2020년 7월 29일'}\n",
      "{'text': '오류인지 남 몰래 패치한 내용인지는 잘 모르겠으나 과거에는 사진을 찍을때 무음이라서 좋았는데 핸드폰을 교체한 뒤에 다시 사용할려니 소리가 나네요.. 어플 설정에 있는 소리 설정을 꺼놔도, 켜놔도 똑같은데 왜 놔두셨나요 그냥 없애지..', 'star': 3, 'date': '2020년 11월 30일'}\n",
      "{'text': '리뷰 정말 안 쓰는 편인데 이건 정말 꼭 까세요 콜라주 만드려고 앱 구경하다가 이미 제 폰에 깔려있길래 이게 뭐지하면서 들어갔다가 필터 중독돼서 똑같은 사진을 필터별로 저장했네요ㅋㅋㅋㅋㅋㅋ 이거 진짜 중독성 쩔구요 너무 마음에 들어요 앱 만들어주셔서 정말 감사드려요ㅜㅠㅠ 앞으로도 잘 써서 인스타 풍경 사진 자주 업로드할게요 힘내세용!', 'star': 5, 'date': '2019년 1월 13일'}\n",
      "{'text': '별점 왜 5개 뿐이죠. 별점을 더 남기고 싶을 만큼 정말정말 애정하는 앱이랍니다:) 여행갔을 때 찍었던 하늘이 같이 나온 사진들 보정할 때마다 정말 감사한 마음으로 맨 첫 보정때마다 사용하고 있을 정도로.. 하늘 나온 사진 찍는걸 좋아하는 지인이 생긴다면 보정이나 필터 앱으론 제일 먼저 추천하고 싶은 앱이에요. 적게 일하고 많이 버시길 바래요:)', 'star': 5, 'date': '2021년 7월 26일'}\n",
      "{'text': \"색감이 너무 예쁘네요😊 여행용 사진 앱으로 요만한게 없는것 같습니당 엄지척척👍🏻 개발자님 궁금한게 있는데 앱을 껏다가 나중에 다시 실행하면 항상 '달콤한 크리스마스' 필터가 처음에 나오는데요 제가 이전에 선택,정도를 조절해 놓은 필터가 맨먼저 나오게 할수는 없나요?(자주쓰는건 정해져 있어서요) 혹시 방법이 있는데 저만 모르는 것인지 궁금합니당 ㅎㅎ 유용한앱 만들어 주셔서 감사해요^^\", 'star': 5, 'date': '2019년 1월 27일'}\n",
      "{'text': '구름이 없는 날이나 흐린 날도 예쁜 하늘로 바꿀 수 있어서 좋아요. 하지만 가끔 파란색 지붕이나 하늘색 옷 같은 게 하늘로 인식돼서 구름 필터가 씌워지는 것이 치명적인 문제점이에요 ㅠㅠ 지우개 기능으로 하늘이 아닌데 하늘로 잘못 인식된 부분의 필터 적용을 지울 수 있으면 완벽할 것 같아요! 2년 전에 이런 리뷰가 있었는데 반영이 안되었네요.. 꼭 업데이트가 필요한 기능이라고 생각합니다.', 'star': 4, 'date': '2022년 9월 8일'}\n",
      "{'text': '기본카메라로 촬영한 사진 피크닉어플에서 편집할려고하면 \"지원하지않는 이미지\"라고 뜨네요. 기본갤러리-편집에서 피크닉선택시 수정은 되는데.. 이점만 보완해주시면 감사하겠습니다. 혹시 광고제거 유료버전은 따로 계획없으신가요?', 'star': 4, 'date': '2021년 9월 26일'}\n",
      "{'text': '피크닉 앱을 잘 쓰고있는 유저입니다! 정말 다 좋지만 한가지 아쉬운 점이 있습니다... 필터가 많아서 제가 즐겨쓰는 필터를 찾을려면 오래걸리거든요.... 그래서 즐겨찾기 기능을 만들어 주셨으면 합니다!! 만들어주시면 정말 감사하겠습니다( ˘ ³˘)♥', 'star': 4, 'date': '2019년 5월 6일'}\n",
      "{'text': '필터는 개인적으로 씌우는 걸 좋아해서 쓰진 않지만, 구름이나 색갈 등 배경을 바꿀 수 있는 건 참 좋은 것 같아요!! 다만 약간 아쉬운 건 바다를 찍을 때 하늘과 바다를 구분을 잘 하지 못하더라구요!! 그 부분은 개선해 주셨으면 합니다.', 'star': 5, 'date': '2020년 4월 20일'}\n",
      "{'text': '우와앙 제 최애 카메라 앱 ㅠㅠ 너무 좋아요 ㅠㅠ 보통 앱들은 거의다 유료고 필터도 돈같은거 써야 할 수 있는건데 이건 다 무료라 너무 좋은데다가 이게 필터에 어울리는지 이 사진이 피크닉 과 어울리는지를 선택해 줘서 너무 좋고 필터도 예쁜거 너무 많아서 하늘 사진에 필터예쁜거 껴서 카카오톡 프사로 사용중이에요! 진짜 너무 예뻐서 사진 찍는 내내 행복합니다..', 'star': 5, 'date': '2019년 4월 7일'}\n",
      "{'text': '나무 좋아요 !! ❤ 제가 왠만하면 리뷰 안남기는데 이건 안남길 수 가 없어용 😭 진짜 진짜 좋아용 !! 강추 ☺ 우선 필터를 넘길 때 마다 필터 이름? 을 설명해주는게 너무 좋아요 ! 친구들한테 설명할 때도 너무 편리하구요 필터들도 너무너무 예뻐요 ! 💕 진짜 미세먼지에 극복할 수 있을 느낌 ? ㅋㅋ 하여튼 피크닉 진짜 너무 좋네요 ! 주변인한테 홍보 하러 가보겠습니다 ♡ 아 하나 더 !! 여행 사진이나 풍경사진 찍을때 좋아요 ♡인생 카메라인 것 같네요 ♡♡', 'star': 5, 'date': '2019년 3월 26일'}\n",
      "{'text': '다 좋은데 한가지 기능만 추가됐으면 좋겠어요. 필터를 전체적으로 덮다 보니까 얼굴까지 필터로 덮여지는데 지우개 기능이 있어서 지우면 원본으로 돌아오는 기능이 있었으면 좋겠어요ㅠㅠ', 'star': 4, 'date': '2019년 12월 25일'}\n",
      "{'text': '다 좋은데... 좀 아수ㅣ운점이 하나 있어요. 배경이 아닌데 하늘 색깔로 인식이 되어서 별이 날라다니는 경우가 있어용... 지우개툴같은걸로 배경아닌곳을 살짝칠한다거나 인식 안된 배경을 펜툴로 추가할수있으면 더욱조을듯해용', 'star': 5, 'date': '2018년 11월 4일'}\n",
      "{'text': '너무좋네요!! 오늘 깔아서 몇몇사진 보정해봤는데, 마음에 딱 들어서 바로 리뷰남기러 왔습니다 ㅎㅎ 피크닉이 필요한사진 추천해주어서 알맞게 보정해서 더더욱 좋은사진 만드는것도 너무좋고 필터도 다양하고 디자인도 정리가 잘 되어있어서 너무좋네요..٩(*•̀ᴗ•́*)و', 'star': 5, 'date': '2021년 2월 22일'}\n",
      "{'text': '제가 카메라 앱을 바꾸고 싶었는데요! 이게 딱이다!하고 사진 보정도 잘 되고요 필터도 많고요 사랑에 빠진 엘리쓰가 특히 좋네요ㅎㅎㅎ 여기 나온 사진이랑 진짜 똑같구요 정말 싫을것없이 💯점 만점에 💯입니다 이앱 정말로 추천드립니다 꼭 다운받아서 제 말이 무슨 말인지 알아봅시다 안 깔면 후회합니다ㅎㅎ', 'star': 5, 'date': '2021년 5월 30일'}\n",
      "{'text': '혹시 무음카메라가 안되나요? 소리설정 빼도 계속 소리가 나서 카메라 사용하다가 소리가 너무 커서 몸 계속 움찔움찔 떨리게 되네요ㅠㅠ 그거 외에는 색감이 너무 예뻐서 마음에 들어요!', 'star': 5, 'date': '2021년 3월 19일'}\n",
      "{'text': '제 최애필터 ! 최근에 ai모드가 나와서 더 편하게 찍을 수 있고 예쁘게 나와서 매우 만족합니다! 원래는 기본카메라로 찍었었는데 이제는 무조건 피크닉으로만 찍게되네요ㅎ 피크닉덕분에 인생샷이 많아졌네요ㅎㅎㅎㅎ 더 많은 필터가 얼른 추가됐으면 좋겠어요! 감사합니다!!!!!!!:)', 'star': 5, 'date': '2019년 2월 9일'}\n",
      "{'text': '이거 앱 진짜 추천드려요 ! 진짜 좋구 필터들 하나하나 다 너무 예뻐요♡ 만약에 제가 저장 공간만 더 넓었으면 필터별로 하나씩 사진에 적용 했을 것 같네용 ㅜ 근데 제가 직접 하늘을 좀 문질(?)러서 하는 것도 있었으면 좋겠어요!진짜 추천드립니다', 'star': 4, 'date': '2019년 8월 20일'}\n",
      "{'text': '진짜 너무너무 필터 예쁘고 다 좋은데요 ㅠㅠㅠ 영상 촬영도 가능하게 해주세요 ㅠㅠㅠㅠ 영상 때문에 깔았는데 영상 지원은 안돼고.., 그렇다고 너무 예뻐서 지울 수도 없는 애매한 상황이예요 ㅠㅠ 제발 빠른 시내에 영상이 생기길 ㅠㅠ', 'star': 3, 'date': '2021년 5월 8일'}\n",
      "{'text': '너무 잘 쓰고 있습니다 필터도 예쁘고요 근데 저번부터 아마 핸드폰 업데이트한 이후부터 무음 설정을 해도 소리가 나는데 어떻게 해결해야 하죠?ㅠㅠ이거 쓰는 가장 큰 이유가 무음이었는데 소리가 납니다ㅠㅠ', 'star': 5, 'date': '2020년 6월 19일'}\n",
      "{'text': '와~~~진짜 좋고 잘 사용중 입니다ㅠㅠ근데 아쉬운점이 하나 있어용ㅠㅠ 갤러리 에서 동영상을 못가져온다는게 아쉽답니다ㅠㅠ 동영상까지 가져와서 설정하면 별 5개로 다 채울수 있답니다ㅠㅠ', 'star': 4, 'date': '2020년 6월 13일'}\n",
      "{'text': '진짜 최고에요👍 흐린날을 맑은날로 보정하는게 너무 힘들었는데 필터마다 색감도 최고이고 하늘을 파랗고 예쁜구름을 넣을 수 있다는게 너무 좋은것같아요! 예쁘고 좋은 보정앱찾아서 기쁩니다 !!', 'star': 5, 'date': '2020년 7월 12일'}\n",
      "{'text': '여행사진에선 날씨가 진짜 중요한데 흐린날씨 맑게, 그리고 수정하기도 쉽고, 렌즈 안닦아서 흐리게 나온사진도 어느정도 선명하게 보이게하는 효과도 있는것 같아요. ♡여행엔 사진♡ ♡배경엔 피크닉♡', 'star': 5, 'date': '2021년 6월 14일'}\n",
      "{'text': '색감이 너무 예쁘고 밤하늘도 이쁘게 찍혀서 너무 좋아요ㅠㅠ근데 사진이 조금 늦게 찍혀서 아쉽습니다! ㅠ 그래도 저는 거의 보정만 하기도 하고 불편하진 않아요!! 추천 입니다❤', 'star': 5, 'date': '2020년 9월 11일'}\n",
      "{'text': '진짜 너무너무 좋아요!! 필터 바꿀때마다 자막이 일일이 나오는것도 그렇고 적용이 안되는 사진이 있으면 자막으로 친절하게 알려주는것도 너무 좋아요!!ㅠ 감사합니다~! 앞으로 덕분에 예쁜사진 많이 찍을 수 있을 것 같아요!!', 'star': 5, 'date': '2019년 3월 24일'}\n",
      "{'text': '처음엔 비교적 괜찬은것 같아 이 피크닉을 선택했는데 원하는 하늘색을 선택할때 마다 주위의 다른 영역까지 하늘색의 영향이 미쳐 흐리게 해버리는 큰 단점이 있네요. 좋은 앱들이 쓰는 \"mask 기능\"을 빨리 추가하세요!', 'star': 3, 'date': '2021년 8월 5일'}\n",
      "{'text': '잘 쓰고 있습니다. 근데 Auto A.I. 기능은 꺼짐이 기본으로 원할 때만 켤 수 있었으면 좋겠어요ㅠ 그리고 필터도 쓰던 필터 설정이 그대로 남아있었으면 좋겠습니다. 감사합니다.', 'star': 5, 'date': '2019년 2월 24일'}\n",
      "{'text': '밋밋한 하늘에서 감성있는 하늘로 바뀌어요~! 다만 보정을 원하지 않는 부분은 지우개로 지울 수 있는 기능이 있었으면 좋겠어요. 그리고 사진 기울기, 크기조절도 할 수 있었으면 더 좋을듯 하네요~', 'star': 5, 'date': '2022년 6월 21일'}\n",
      "{'text': '와...진짜 이런 사진편집 어플 처음 봤습니다.... 넘 좋아요!! 구름도 진짜 자연스럽게 넣어지고 우중충한 하늘도 맑고 이쁘게 만들어요ㅜㅜ 제작자님ㅜㅜ 이런 어플이 제가찾던 그 앱입니다!! 여러분들도 꼭한번 써보세요!! 진짜 강추입니다!! 벌써 제 갤러리에 이쁜 사진들로 가득찼어요!! 사진첨부하고 싶지만.... 첨부가 안되요ㅜㅜ 피크닉으로 편집한 이쁜 사진들 보여드리고 싶은데ㅜㅜ 그리고 아무생각없이 찍은사진이 작품이되요!!', 'star': 5, 'date': '2020년 6월 8일'}\n",
      "{'text': '제가 이앱을 써봤거든요 그 미리 준비된 사진3장 있잖아요 그건 필터느낌같은게 잘나더라구요 그래서 기대를한뒤 직접사진을 찍어봤거든요?근데 피크닉이랑은 안어울리는 장소라뜬데요 (전분명 하늘을 찍었어요)하지만 이건 별로문제없어요 제가 하늘에대고 필터를꼈더니 그필터감성이 사진3장보더 덜 나는거있죠ㅜ 그래도 괜찮은것도있어서 잘쓰겠지만 사진감성이 더 잘 나타났으면 좋겠어요 이앱사랑해요 ♥♥ 너무좋아서 친구한테 알려주기도 싫을정도ㅎㅎ', 'star': 5, 'date': '2019년 2월 1일'}\n",
      "{'text': '와 므친 필터가 댕이뻐요.. 나만하고시푼 어플이랄까..?☆ 하늘 편집은 안해봤는데 필터썸네일?들이 딱 느낌파악하기 좋은 사진들이라 원하는 느낌 찾기도 편할거 같더라구요 ㄹㅇㄹㅇ 글구 제가 반한 건 독특한 필터색감들이에요! 색감이 엄청 자기주장하는것도 아니고 흔치않고 특이한데 촌스럽지도 않아욧.. 필터이름도 대박..ㅠㅠ 섬세하네요 >_<♡', 'star': 5, 'date': '2021년 6월 14일'}\n",
      "{'text': '리뷰보고 계신 분들 이거 꼭 다운받으세요 사진 찍는거 좋아하시거나 그림 배경이라던지 일반 필터나 그림 배경 심심할때 쓰기도 좋고 정말 자연스럽게 잘돼요 ㅠㅠ 한 번 깔아봤다가 진짜 잘 쓰고 있어요 만들어주신분들 감사합니다 하늘 예쁘게 잘 편집되고 너무 좋아요 완전 추천!!', 'star': 5, 'date': '2020년 3월 16일'}\n",
      "{'text': '엄..일단은 좋은점이 진짜 자연스럽게된다는점이 가장좋아요ㅠ 그리고 여러 분위기도 이쁘게나타낼수있을뿐더러 칙칙한 하늘도 맑고이쁜하늘처럼 연출할수있어서 진짜 유용한 앱인것같아요 저는 이앱이 널리알려지면좋겠다고생각해요ㅠㅠ 그러면 저는 앞으로 이앱 자주사용하도록할게요❤', 'star': 5, 'date': '2018년 12월 5일'}\n",
      "{'text': '제가 제일 애정하는 어플입니다 필터도 너무 예쁘고 진짜 하늘 찍을 때 뿐 아니라 다방면으로 유용합니다 다만 AI가 하늘 인식을 잘 못하더군요 ㅜㅜ 특히 흐린날은 아예 인식을 못하고 맑은날에도 가끔 그러고 네이비컬러 아파트랑 맑은 하늘이랑 같이 인식해서 아파트에 구름이 껴지기도 해요 그리고.. 셔터소리 해제가 옛날 폰에서는 잘 됐는데 새로 바꾼 폰에서는 어쩐 일인지 계속 나더라구요 이외에는 다 정말 좋습니다 :)', 'star': 4, 'date': '2021년 1월 3일'}\n",
      "{'text': '안드로이드 파이 환경에서, 높은 빈도로 앱 실행 시 검은 화면만 뜹니다. 그럴 때마다 삭제 후 재설치를 해야 하고, 최초 실행 이후에 재차 사용 시 에러가 재발합니다. 확인 부탁드립니다.', 'star': 4, 'date': '2019년 5월 26일'}\n",
      "{'text': '감성더하기 너무 좋은앱. 모든 사진에 완벽하게 적용할 순 없으나 단순한 조건만 갖춰진 사진은 원본이라고 믿을 정도의 퀄리티를 지녔음. 선택지가 더욱 다양해지길 바람.', 'star': 5, 'date': '2019년 11월 26일'}\n",
      "{'text': '필터도 너무 이쁘고 하늘에 구름나타나는거랑,, 진짜 눈내리는거같은 필터도 있고 다 좋은데 필터에서 AI기능을 꺼놓고 수치..?를 다 바꿔놔도 다시 들어오면 똑같이 변해있더라구요.. 이것만 마음대로 조정할 수 있게해주시면 감사하겠습니다!=)', 'star': 4, 'date': '2019년 10월 24일'}\n",
      "{'text': '사진 찍을때 해상도 설정이 있으면 좋겠습니다. 편집시에도 해상도 저하는 약간 있는데 핸드폰이나 웹에서 보긴 괜찮습니다. 필터는 더할나위 없이 예쁩니다.', 'star': 4, 'date': '2019년 6월 18일'}\n",
      "{'text': '추천 받아서 사용 중이예요~ 너무 너무 잘 쓰고 있어요! 이과 만세입니다😆 오늘 눈이 와서 아침부터 산책을 하고 왔는데 찍은 사진을 보정하려고 보니 피크닉에는 눈이 담긴 장면이 없더라구요 그래서 무지 아쉬웠어요... 응원의 인사와 스노우 필터도 만들어주십사하는 부탁을 담아요~♡', 'star': 5, 'date': '2018년 11월 23일'}\n",
      "{'text': \"제가 사진을 잘 못 찍는데 이걸로 하니까 진짜 예쁘게 찍혀요 !!그리고 '봄빛에 물든 복숭아' 필터가 너무 예뻐요(ू•ᴗ•ू❁) 하나 아쉬운 점이 있다면 동영상을 찍고 싶은데 안되는게 너무 아쉬워요 ㅠㅠㅜ 동영상 기능까지 생기면 별 5점 주고 싶네요 !!\", 'star': 4, 'date': '2020년 5월 18일'}\n",
      "{'text': '오늘 깔았는데 정말 좋은것 같아요, 혹시 동영상에는 필터를 넣을 수 없을까요 ㅜ 사진보단 동영상을 좀더 많이쓰는편이라서.. 동영상도 필터를 입히면 정말 좋을것같아요, 좋은앱 만들어주셔서 감사합니다.', 'star': 5, 'date': '2018년 12월 1일'}\n",
      "{'text': '필터가 너무 많아도 별로인데 딱 필요한 것만 있고 개성 있고 광고도 없고 다 좋은데, 필터 순서를 바꿀 수 있으명 좋겠어요 자주 쓰는 것만 앞으로 오게요!', 'star': 4, 'date': '2021년 10월 24일'}\n",
      "{'text': '죽은 사진을 아.름.답.게 살려줍니다. 이 앱만 있으면 언제 어디서든 든든합니다. 그냥 하늘보다 피크닉 하늘이 더 좋아질 정도....? 그만큼 자연스럽고 색감이 예뻐요. 너무 좋은 나머지 리뷰를 한 번 더 쓰고 싶게 만드는 앱...!', 'star': 5, 'date': '2019년 5월 29일'}\n",
      "{'text': '예쁜 필터가 많아서 그때그때마다 다른 사진을 찍을수 있어서 너무 좋아요!! 그리고 광고도 거의 나오지 않아서 편하고요...ㅎㅎ 이 피크닉 앱 추천 합니다👍 별⛤⛤⛤⛤⛤5개!!👍👍', 'star': 5, 'date': '2020년 3월 23일'}\n",
      "{'text': '필터강도 조절하는 바가 사진 아래부분을 가려서 좀 답답한데 이부분 업그레이드 좀 부탁드려요.. 사진 색감 너무 이뻐서 좋은데 바 위치가 너무 불편하네요....', 'star': 3, 'date': '2020년 11월 23일'}\n",
      "{'text': '필터 너무 예쁘고 좋아요 근데 이 기능이 있는데 제가 못찾는건지는 모르겠지만 조정기능이 있으면 좋겠어요 편집할때 하늘이 아닌 부분까지 다 적용되니까 아쉽더라구요 ㅠ', 'star': 4, 'date': '2018년 10월 29일'}\n",
      "{'text': '와 이건 진짜 여태 써본것중에 최고에요♥♥ 써보면서 별다른 터치없이 클릭 한번만했는데 사진이 어엄청 예쁘게 나오네요♥ 하면서 감탄사가 절로 나왔습니다! 이런 어플은 어플 1위 해야하는데! 1년동안 설치한 어플중 가장 최고입니다!', 'star': 5, 'date': '2019년 4월 6일'}\n",
      "{'text': '제가 까먹고 이 앱의 리뷰를 아직도 안 남겼다니.. 너무 충격적입니다 이 최고의 어플을 진작부터 쓰고있었는데도... 하늘사진 보정도 장난아니지만요 일반 사진들 보정에도 필터가 정말 너무 예뻐서 좋습니다 앱 만들어주셔서 감사합니다ㅠㅠ', 'star': 5, 'date': '2023년 4월 24일'}\n",
      "{'text': '가끔 바지나 물 등, 하늘이 아닌 부분에 필터가 입혀져 곤란할 때가 있는데, 일정 부분만 필터를 지울 수 있는 기능이 있다면 정말 좋을 것 같네요.', 'star': 4, 'date': '2019년 8월 19일'}\n",
      "{'text': '사진 정말 잘 나오고.. 진정 내 실력인가 의심될거 같이 필터도 너무 예뻐요~ 근데 사진 찍을 때 나는 소리가 좀 아쉽습니다ㅠ 찰칵 소리도 진동이나 무음시 안 났으면 하는 아쉬움에...글 남겨요', 'star': 4, 'date': '2020년 6월 15일'}\n",
      "{'text': '너무 이뻐서 좋은데요ㅜㅜ 단점이 화질이 너무 깨지구 사람이랑 하늘 연결부위가 가끔씩 티나게 뜰때가 있는데 화질 안깨지는법 없나요?ㅜㅜ 그리고 하얀옷입으면 거기에도 다 입혀지고 청바지에도 필터 높일수록 청바지가 하얀바지가 되어가네요...ㅜ', 'star': 4, 'date': '2020년 7월 23일'}\n",
      "{'text': '제가요😊스노우로 항상 찍는데 이거뭐죠? 화면빨이 흐리게나오지도않구, 너무좋아요 내인생앱이될정도예요!! 사실 유튜브에서 추천받아서 왔는데 이거 진짜좋아용😭😭❤❤필터완전좋은것두많구영 여행놀러갈때 하늘찍고,풍경찍고하잖아요🌸그때 날씨가흐리거나하면 썩 사진좋게않나오고할때 완전 꿀탬이예요 흐린날에서 햇빛쨍쨍한날로 바뀌고❤이거 진짜 필수탬! 인생사진도 많이 건져가용!😭😭❤❤❤❤', 'star': 5, 'date': '2019년 10월 25일'}\n",
      "{'text': '최고입니다 말할게 없습니다! 단 아쉬운 점은, 어두운 하늘에서는 우주배경 적용이 어렵네요 ㅠㅠ 시스템 자체에서 인식을 안하는 건가요 ㅠㅠ 아무튼 이거 진짜 추천합니다 괜히 ★4.7이 아니네요', 'star': 5, 'date': '2018년 11월 23일'}\n",
      "{'text': '너무나 찾고있었던 앱이에요. 요즘 미세먼지농도가 많이 좋아졌다고 해도, 흐린날이 더 많은게 사실이죠. 그런 요즘 필터로는 제일 좋은 앱이에요. 한가지 건의드릴 점은 앱 종료시에 뜨는 광고가 거슬려요.,, 개발자님의 수익창출을 위해 광고표시가 필요하다고 생각하지만 유저들을 위해 후원하기를 추가해 광고를 안보고싶은 사람들에게 선택권을 주시는게 어떨까요. ?', 'star': 5, 'date': '2020년 6월 12일'}\n",
      "{'text': '너무 만족하고 있어요 자연물 찍는거 좋아하는데 하늘 보정이 되니까 아무리 흐린 날에 사진을 찍어도 이쁜 배경이 나타나서 좋아요 다른 어플과 다른 점이네요!!', 'star': 5, 'date': '2019년 4월 14일'}\n",
      "{'text': '왜 이제야 알게된건지...너무좋다 이어플 다만 아쉬운점은 동영상기능ㅜㅜ있었음좋겠어요 그리고 필터 즐겨찾기 기능이랑 무음이요ㅜㅜ 이것만있다면 유료어플이여도 구매할꺼같아요ㅜㅜ', 'star': 5, 'date': '2020년 3월 24일'}\n",
      "{'text': '진짜 구름 영역지정 가능한 기능만 추가되면 완전 최고 어플!! 피크닉이 구름사진이 필요없다고 인식 못하는 사진이나 구간들도 지정할수 있게 해주세요! 그리고 옷도 파란색이면 같이 적용되던데 그러한 부분도 혹시 개발자분쪽에서 수정할수 있는지 여쭤봅니댱!', 'star': 5, 'date': '2022년 2월 24일'}\n",
      "{'text': '하늘은 무조건 이걸로 보정해요 너무 예쁘게 잘나와요ㅎㅎ 그리고 하늘 표시된건 하늘을 더 만들어주는데 물론 이것도 놀랍게 자연스럽지만 더 자연스러운걸 원하시는 분들은 하늘마크 없는걸로 파랑 계열이나 아니면 더 드라마틱한걸 원하는 분들은 하늘 마크없는 파스텔 계열 필터들과 하늘 마크 있는 필터 추천!', 'star': 5, 'date': '2023년 8월 8일'}\n",
      "{'text': '필터가 걸려서 이쁘게 잘 나오네요 ㅎㅎ 그런데 저기 혹시 줌인은 어떻게 하나요?? 확대할려고 재스처하니까 필터가 바뀌고 볼륨키로 해도 안되던데.. 줌인 기능은 없는건가요???', 'star': 4, 'date': '2019년 10월 4일'}\n",
      "{'text': '칭찬받을만한 어플. 사진을 멋진 분위기로 바꿀 수 있습니다. 그리고 어플 내 모션이나 글씨체 등이 잘 되어있어 완성도가 높다고 느낍니다.', 'star': 5, 'date': '2021년 6월 10일'}\n",
      "{'text': '색감 너무 예뻐요ㅠㅠ 하늘 보정도 동화나 일러스트처럼 예쁘게 잘 되고, 특히 라라랜드 필터 진짜 애정합니다ㅠㅠ 더 많은 필터 업데이트 되었으면 좋겠어요😳 개발자님 감사합니다💞', 'star': 5, 'date': '2018년 12월 4일'}\n",
      "{'text': '배경색깔 보정하기 너무 편리하고 좋네요 좀더 디테일하게 수정과 보정도 되고 다양한 기능이 있었음하는 바램이 있네요', 'star': 5, 'date': '2021년 2월 4일'}\n",
      "{'text': '다 너무 예쁘도 좋은데 필터 선택하는 아이콘이 원본 사진을 안가리는 위치에 있으면 좋을 것 같아요! 농도 조절하는 아이콘도요!', 'star': 5, 'date': '2021년 8월 19일'}\n",
      "{'text': '헐~~징짜 완죤완젼 좋아욜!!!!👍진짜 이런앱 본적없습니다ㅠㅠㅠ제작자님 진짜ㅜㅜ감사드려요ㅎㅎ💘 필터도 예쁘장하고 친구랑 찍을때 분위기여신으로 나와서 무엇보다 만족이구요,제가 풍경샷을 되게 많이 찍는데 찍어서 카톡프사하기 딱좋은 어플입니당😆❣친구들한테도 알려주고있어요ㅋㅋ 제 사진찍는 어플중 최애 앱입니다👏👏 감사드려요♡><좋은하루되세여!☆💚', 'star': 5, 'date': '2018년 12월 4일'}\n"
     ]
    }
   ],
   "source": [
    "review_data = driver.find_elements(By.CSS_SELECTOR, 'div.RHo1pe')\n",
    "result = []\n",
    "\n",
    "\n",
    "for i in review_data:\n",
    "    review = {}\n",
    "    review['text'] = i.find_element(By.CSS_SELECTOR, '.h3YV2d').text\n",
    "    review['star'] = len(i.find_elements(By.CSS_SELECTOR, '.Z1Dz7b'))\n",
    "    review['date'] = i.find_element(By.CSS_SELECTOR, '.bp9Aid').text\n",
    "    result.append(review)\n",
    "    print(review)"
   ]
  },
  {
   "cell_type": "code",
   "execution_count": 12,
   "id": "277deac8-c6b3-42b9-8654-cdf17c4a2701",
   "metadata": {},
   "outputs": [],
   "source": [
    "from selenium import webdriver\n",
    "from selenium.webdriver.common.by import By\n",
    "from selenium.webdriver.chrome.options import Options\n",
    "import math, time\n",
    "\n",
    "options = Options()\n",
    "options.add_argument('--window-size=974,1047')\n",
    "options.add_argument('--window-position=-7,0')\n",
    "options.add_experimental_option(\"detach\", True)"
   ]
  },
  {
   "cell_type": "code",
   "execution_count": 2,
   "id": "182bbfa6-6c0b-4058-8582-e1aad6c61b73",
   "metadata": {},
   "outputs": [
    {
     "name": "stdin",
     "output_type": "stream",
     "text": [
      "검색어를 입력하세요. 제주도\n"
     ]
    }
   ],
   "source": [
    "search = input('검색어를 입력하세요.')"
   ]
  },
  {
   "cell_type": "code",
   "execution_count": 30,
   "id": "67eff5c4-7b05-4ad8-a06e-43102362e45b",
   "metadata": {},
   "outputs": [],
   "source": [
    "URL = 'https://korean.visitkorea.or.kr/search/search_list.do?keyword='+search\n",
    "\n",
    "driver = webdriver.Chrome(options=options)\n",
    "driver.get(URL)\n",
    "time.sleep(3)"
   ]
  },
  {
   "cell_type": "code",
   "execution_count": 31,
   "id": "c382d4ea-f17b-43f6-8670-0eb27e4561cb",
   "metadata": {},
   "outputs": [],
   "source": [
    "X ='//*[@id=\"s_recommend\"]/div[2]'\n",
    "driver.find_element(By.XPATH,X).click()"
   ]
  },
  {
   "cell_type": "code",
   "execution_count": 32,
   "id": "a283410b-8eed-459f-b78c-ac82cb4c031c",
   "metadata": {},
   "outputs": [
    {
     "data": {
      "text/plain": [
       "'해변산책부터 레이싱까지, 제주 반려동물 동반여행 추천 코스'"
      ]
     },
     "execution_count": 32,
     "metadata": {},
     "output_type": "execute_result"
    }
   ],
   "source": [
    "q = driver.find_element(By.XPATH,'//*[@id=\"search_result\"]/ul/li[*]/div[1]/div[1]/a').text\n",
    "q"
   ]
  },
  {
   "cell_type": "code",
   "execution_count": 33,
   "id": "0bb4c47f-e6ea-4522-8979-aaa235642964",
   "metadata": {},
   "outputs": [],
   "source": [
    "X ='/html/body/div[3]/div/div[1]/div[14]/a[2]'\n",
    "driver.find_element(By.XPATH,X).click()"
   ]
  },
  {
   "cell_type": "code",
   "execution_count": 34,
   "id": "4b29c17f-498a-4dfc-bb9f-8bb305e1b281",
   "metadata": {},
   "outputs": [
    {
     "ename": "ElementNotInteractableException",
     "evalue": "Message: element not interactable\n  (Session info: chrome=122.0.6261.96)\nStacktrace:\n\tGetHandleVerifier [0x00007FF7574DAD02+56930]\n\t(No symbol) [0x00007FF75744F602]\n\t(No symbol) [0x00007FF75730419D]\n\t(No symbol) [0x00007FF75734ACA2]\n\t(No symbol) [0x00007FF75733F798]\n\t(No symbol) [0x00007FF75736BC9A]\n\t(No symbol) [0x00007FF75733F09A]\n\t(No symbol) [0x00007FF75736BEB0]\n\t(No symbol) [0x00007FF7573881E2]\n\t(No symbol) [0x00007FF75736BA43]\n\t(No symbol) [0x00007FF75733D438]\n\t(No symbol) [0x00007FF75733E4D1]\n\tGetHandleVerifier [0x00007FF757856F8D+3711213]\n\tGetHandleVerifier [0x00007FF7578B04CD+4077101]\n\tGetHandleVerifier [0x00007FF7578A865F+4044735]\n\tGetHandleVerifier [0x00007FF757579736+706710]\n\t(No symbol) [0x00007FF75745B8DF]\n\t(No symbol) [0x00007FF757456AC4]\n\t(No symbol) [0x00007FF757456C1C]\n\t(No symbol) [0x00007FF7574468D4]\n\tBaseThreadInitThunk [0x00007FFAB774257D+29]\n\tRtlUserThreadStart [0x00007FFAB97EAF28+40]\n",
     "output_type": "error",
     "traceback": [
      "\u001b[1;31m---------------------------------------------------------------------------\u001b[0m",
      "\u001b[1;31mElementNotInteractableException\u001b[0m           Traceback (most recent call last)",
      "Cell \u001b[1;32mIn[34], line 1\u001b[0m\n\u001b[1;32m----> 1\u001b[0m driver\u001b[38;5;241m.\u001b[39mfind_element(By\u001b[38;5;241m.\u001b[39mCSS_SELECTOR, \u001b[38;5;124m\"\u001b[39m\u001b[38;5;124m#s_recommend > .more_view > a\u001b[39m\u001b[38;5;124m\"\u001b[39m)\u001b[38;5;241m.\u001b[39mclick()\n",
      "File \u001b[1;32m~\\anaconda3\\Lib\\site-packages\\selenium\\webdriver\\remote\\webelement.py:94\u001b[0m, in \u001b[0;36mWebElement.click\u001b[1;34m(self)\u001b[0m\n\u001b[0;32m     92\u001b[0m \u001b[38;5;28;01mdef\u001b[39;00m \u001b[38;5;21mclick\u001b[39m(\u001b[38;5;28mself\u001b[39m) \u001b[38;5;241m-\u001b[39m\u001b[38;5;241m>\u001b[39m \u001b[38;5;28;01mNone\u001b[39;00m:\n\u001b[0;32m     93\u001b[0m \u001b[38;5;250m    \u001b[39m\u001b[38;5;124;03m\"\"\"Clicks the element.\"\"\"\u001b[39;00m\n\u001b[1;32m---> 94\u001b[0m     \u001b[38;5;28mself\u001b[39m\u001b[38;5;241m.\u001b[39m_execute(Command\u001b[38;5;241m.\u001b[39mCLICK_ELEMENT)\n",
      "File \u001b[1;32m~\\anaconda3\\Lib\\site-packages\\selenium\\webdriver\\remote\\webelement.py:395\u001b[0m, in \u001b[0;36mWebElement._execute\u001b[1;34m(self, command, params)\u001b[0m\n\u001b[0;32m    393\u001b[0m     params \u001b[38;5;241m=\u001b[39m {}\n\u001b[0;32m    394\u001b[0m params[\u001b[38;5;124m\"\u001b[39m\u001b[38;5;124mid\u001b[39m\u001b[38;5;124m\"\u001b[39m] \u001b[38;5;241m=\u001b[39m \u001b[38;5;28mself\u001b[39m\u001b[38;5;241m.\u001b[39m_id\n\u001b[1;32m--> 395\u001b[0m \u001b[38;5;28;01mreturn\u001b[39;00m \u001b[38;5;28mself\u001b[39m\u001b[38;5;241m.\u001b[39m_parent\u001b[38;5;241m.\u001b[39mexecute(command, params)\n",
      "File \u001b[1;32m~\\anaconda3\\Lib\\site-packages\\selenium\\webdriver\\remote\\webdriver.py:354\u001b[0m, in \u001b[0;36mWebDriver.execute\u001b[1;34m(self, driver_command, params)\u001b[0m\n\u001b[0;32m    352\u001b[0m response \u001b[38;5;241m=\u001b[39m \u001b[38;5;28mself\u001b[39m\u001b[38;5;241m.\u001b[39mcommand_executor\u001b[38;5;241m.\u001b[39mexecute(driver_command, params)\n\u001b[0;32m    353\u001b[0m \u001b[38;5;28;01mif\u001b[39;00m response:\n\u001b[1;32m--> 354\u001b[0m     \u001b[38;5;28mself\u001b[39m\u001b[38;5;241m.\u001b[39merror_handler\u001b[38;5;241m.\u001b[39mcheck_response(response)\n\u001b[0;32m    355\u001b[0m     response[\u001b[38;5;124m\"\u001b[39m\u001b[38;5;124mvalue\u001b[39m\u001b[38;5;124m\"\u001b[39m] \u001b[38;5;241m=\u001b[39m \u001b[38;5;28mself\u001b[39m\u001b[38;5;241m.\u001b[39m_unwrap_value(response\u001b[38;5;241m.\u001b[39mget(\u001b[38;5;124m\"\u001b[39m\u001b[38;5;124mvalue\u001b[39m\u001b[38;5;124m\"\u001b[39m, \u001b[38;5;28;01mNone\u001b[39;00m))\n\u001b[0;32m    356\u001b[0m     \u001b[38;5;28;01mreturn\u001b[39;00m response\n",
      "File \u001b[1;32m~\\anaconda3\\Lib\\site-packages\\selenium\\webdriver\\remote\\errorhandler.py:229\u001b[0m, in \u001b[0;36mErrorHandler.check_response\u001b[1;34m(self, response)\u001b[0m\n\u001b[0;32m    227\u001b[0m         alert_text \u001b[38;5;241m=\u001b[39m value[\u001b[38;5;124m\"\u001b[39m\u001b[38;5;124malert\u001b[39m\u001b[38;5;124m\"\u001b[39m]\u001b[38;5;241m.\u001b[39mget(\u001b[38;5;124m\"\u001b[39m\u001b[38;5;124mtext\u001b[39m\u001b[38;5;124m\"\u001b[39m)\n\u001b[0;32m    228\u001b[0m     \u001b[38;5;28;01mraise\u001b[39;00m exception_class(message, screen, stacktrace, alert_text)  \u001b[38;5;66;03m# type: ignore[call-arg]  # mypy is not smart enough here\u001b[39;00m\n\u001b[1;32m--> 229\u001b[0m \u001b[38;5;28;01mraise\u001b[39;00m exception_class(message, screen, stacktrace)\n",
      "\u001b[1;31mElementNotInteractableException\u001b[0m: Message: element not interactable\n  (Session info: chrome=122.0.6261.96)\nStacktrace:\n\tGetHandleVerifier [0x00007FF7574DAD02+56930]\n\t(No symbol) [0x00007FF75744F602]\n\t(No symbol) [0x00007FF75730419D]\n\t(No symbol) [0x00007FF75734ACA2]\n\t(No symbol) [0x00007FF75733F798]\n\t(No symbol) [0x00007FF75736BC9A]\n\t(No symbol) [0x00007FF75733F09A]\n\t(No symbol) [0x00007FF75736BEB0]\n\t(No symbol) [0x00007FF7573881E2]\n\t(No symbol) [0x00007FF75736BA43]\n\t(No symbol) [0x00007FF75733D438]\n\t(No symbol) [0x00007FF75733E4D1]\n\tGetHandleVerifier [0x00007FF757856F8D+3711213]\n\tGetHandleVerifier [0x00007FF7578B04CD+4077101]\n\tGetHandleVerifier [0x00007FF7578A865F+4044735]\n\tGetHandleVerifier [0x00007FF757579736+706710]\n\t(No symbol) [0x00007FF75745B8DF]\n\t(No symbol) [0x00007FF757456AC4]\n\t(No symbol) [0x00007FF757456C1C]\n\t(No symbol) [0x00007FF7574468D4]\n\tBaseThreadInitThunk [0x00007FFAB774257D+29]\n\tRtlUserThreadStart [0x00007FFAB97EAF28+40]\n"
     ]
    }
   ],
   "source": [
    "driver.find_element(By.CSS_SELECTOR, \"#s_recommend > .more_view > a\").click()"
   ]
  },
  {
   "cell_type": "code",
   "execution_count": 35,
   "id": "9ad95621-6ac1-424d-8790-66908df45161",
   "metadata": {},
   "outputs": [
    {
     "data": {
      "text/plain": [
       "''"
      ]
     },
     "execution_count": 35,
     "metadata": {},
     "output_type": "execute_result"
    }
   ],
   "source": [
    "result = driver.find_elements(By.CSS_SELECTOR, '.tit a')\n",
    "result[0].text"
   ]
  },
  {
   "cell_type": "code",
   "execution_count": 36,
   "id": "f7ad1be3-f9c0-4754-9bde-9fc9f57cd392",
   "metadata": {},
   "outputs": [
    {
     "name": "stdout",
     "output_type": "stream",
     "text": [
      "\n",
      "\n",
      "\n",
      "\n",
      "\n",
      "\n",
      "\n",
      "\n",
      "\n",
      "\n",
      "\n",
      "\n",
      "\n",
      "\n",
      "\n",
      "\n",
      "\n",
      "\n",
      "\n",
      "\n",
      "\n",
      "\n",
      "\n",
      "\n",
      "연말연시 제주도 여행 추천 코스,\n",
      "가족여행 가볼 만한 곳\n",
      "새하얀 눈으로 덮인 제주도 설경 명소 4\n",
      "제주 6월 걷기 좋은 길, 성안올레 1코스 원도심 투어\n",
      "사계절 자연의 아름다움을 간직한 제주시 댕댕이 추천코스\n",
      "제주도 '한정'여행지,\n",
      "제주도의 이색 공간을 찾아서\n",
      "멈춤과 완보로 만나는 제주 생각하는정원\n",
      "2월 놓치지 말아야 할 제주 관광 10선\n",
      "<2월 제주, 먼저 온 봄기운에 마음 돌랑돌랑>\n",
      "제주의 아크로폴리스를 아시나요? - 제주 원도심 (제주목관아 중심)\n",
      "맛있는 음식에 여행의 기쁨은 두 배! <제주 식도락 여행>\n",
      "제주 여행, 은빛 물결이 일렁이는 제주도 억새 명소 모음\n"
     ]
    }
   ],
   "source": [
    "result = driver.find_elements(By.CSS_SELECTOR, '.tit a')\n",
    "for i in range(len(result)):\n",
    "    print(result[i].text)"
   ]
  },
  {
   "cell_type": "code",
   "execution_count": 37,
   "id": "aa9196c8-3070-4079-8ed2-6f2c5b621ac1",
   "metadata": {},
   "outputs": [
    {
     "data": {
      "text/plain": [
       "'연말연시 제주도 여행 추천 코스,\\n가족여행 가볼 만한 곳'"
      ]
     },
     "execution_count": 37,
     "metadata": {},
     "output_type": "execute_result"
    }
   ],
   "source": [
    "a = driver.find_element(By.XPATH, '//*[@id=\"search_result\"]/ul/li[1]/div[1]/div[1]/a')\n",
    "a.text"
   ]
  },
  {
   "cell_type": "code",
   "execution_count": 38,
   "id": "34938292-34f0-4d19-99f2-12f8bce5d22c",
   "metadata": {},
   "outputs": [
    {
     "data": {
      "text/plain": [
       "(10, '연말연시 제주도 여행 추천 코스,\\n가족여행 가볼 만한 곳', '새하얀 눈으로 덮인 제주도 설경 명소 4')"
      ]
     },
     "execution_count": 38,
     "metadata": {},
     "output_type": "execute_result"
    }
   ],
   "source": [
    "tit_xpath = '//*[@id=\"search_result\"]/ul/li[*]/div[1]/div[1]/a'\n",
    "result = driver.find_elements(By.XPATH, tit_xpath)\n",
    "len(result), result[0].text, result[1].text"
   ]
  },
  {
   "cell_type": "code",
   "execution_count": 39,
   "id": "564c92d1-070d-4229-b32f-bb6f75d9210c",
   "metadata": {},
   "outputs": [
    {
     "name": "stdout",
     "output_type": "stream",
     "text": [
      "1 연말연시 제주도 여행 추천 코스,\n",
      "가족여행 가볼 만한 곳\n",
      "2 새하얀 눈으로 덮인 제주도 설경 명소 4\n",
      "3 제주 6월 걷기 좋은 길, 성안올레 1코스 원도심 투어\n",
      "4 사계절 자연의 아름다움을 간직한 제주시 댕댕이 추천코스\n",
      "5 제주도 '한정'여행지,\n",
      "제주도의 이색 공간을 찾아서\n",
      "6 멈춤과 완보로 만나는 제주 생각하는정원\n",
      "7 2월 놓치지 말아야 할 제주 관광 10선\n",
      "<2월 제주, 먼저 온 봄기운에 마음 돌랑돌랑>\n",
      "8 제주의 아크로폴리스를 아시나요? - 제주 원도심 (제주목관아 중심)\n",
      "9 맛있는 음식에 여행의 기쁨은 두 배! <제주 식도락 여행>\n",
      "10 제주 여행, 은빛 물결이 일렁이는 제주도 억새 명소 모음\n"
     ]
    }
   ],
   "source": [
    "for i, title in enumerate(result, 1):\n",
    "#     print(i, title.text)\n",
    "    print(i, title.text)"
   ]
  },
  {
   "cell_type": "code",
   "execution_count": 40,
   "id": "a8a72ca0-d7e3-40fc-940d-262be065e3ed",
   "metadata": {},
   "outputs": [],
   "source": [
    "driver.find_element(By.XPATH, '/html/body/div[3]/div/div[1]/div[14]/a[2]').click()"
   ]
  },
  {
   "cell_type": "code",
   "execution_count": 41,
   "id": "3dfa0ad1-c98d-435b-937f-85e4434e421d",
   "metadata": {},
   "outputs": [
    {
     "name": "stdin",
     "output_type": "stream",
     "text": [
      "크롤링 할 건수는 몇건입니까?:  56\n"
     ]
    },
    {
     "data": {
      "text/plain": [
       "56"
      ]
     },
     "execution_count": 41,
     "metadata": {},
     "output_type": "execute_result"
    }
   ],
   "source": [
    "cnt = int(input('크롤링 할 건수는 몇건입니까?: '))\n",
    "cnt"
   ]
  },
  {
   "cell_type": "code",
   "execution_count": 42,
   "id": "6f94fa7c-b9af-4bbf-9d25-286b86a4bde8",
   "metadata": {},
   "outputs": [
    {
     "name": "stdout",
     "output_type": "stream",
     "text": [
      "6\n"
     ]
    }
   ],
   "source": [
    "page_cnt = math.ceil(cnt / 10) # 크롤링 할 전체 페이지 수 (올림)\n",
    "print(page_cnt)"
   ]
  },
  {
   "cell_type": "code",
   "execution_count": 43,
   "id": "95346b8a-3292-4da0-9821-2bd5c6ea9dcd",
   "metadata": {},
   "outputs": [
    {
     "name": "stdout",
     "output_type": "stream",
     "text": [
      "========= 1 페이지 작업 =========\n",
      "1 연말연시 제주도 여행 추천 코스,\n",
      "가족여행 가볼 만한 곳\n",
      "2 새하얀 눈으로 덮인 제주도 설경 명소 4\n",
      "3 제주 6월 걷기 좋은 길, 성안올레 1코스 원도심 투어\n",
      "4 사계절 자연의 아름다움을 간직한 제주시 댕댕이 추천코스\n",
      "5 제주도 '한정'여행지,\n",
      "제주도의 이색 공간을 찾아서\n",
      "6 멈춤과 완보로 만나는 제주 생각하는정원\n",
      "7 2월 놓치지 말아야 할 제주 관광 10선\n",
      "<2월 제주, 먼저 온 봄기운에 마음 돌랑돌랑>\n",
      "8 제주의 아크로폴리스를 아시나요? - 제주 원도심 (제주목관아 중심)\n",
      "9 맛있는 음식에 여행의 기쁨은 두 배! <제주 식도락 여행>\n",
      "10 제주 여행, 은빛 물결이 일렁이는 제주도 억새 명소 모음\n",
      "========= 2 페이지 작업 =========\n",
      "11 연말연시 제주도 여행 추천 코스,\n",
      "가족여행 가볼 만한 곳\n",
      "12 새하얀 눈으로 덮인 제주도 설경 명소 4\n",
      "13 제주 6월 걷기 좋은 길, 성안올레 1코스 원도심 투어\n",
      "14 사계절 자연의 아름다움을 간직한 제주시 댕댕이 추천코스\n",
      "15 제주도 '한정'여행지,\n",
      "제주도의 이색 공간을 찾아서\n",
      "16 멈춤과 완보로 만나는 제주 생각하는정원\n",
      "17 2월 놓치지 말아야 할 제주 관광 10선\n",
      "<2월 제주, 먼저 온 봄기운에 마음 돌랑돌랑>\n",
      "18 제주의 아크로폴리스를 아시나요? - 제주 원도심 (제주목관아 중심)\n",
      "19 맛있는 음식에 여행의 기쁨은 두 배! <제주 식도락 여행>\n",
      "20 제주 여행, 은빛 물결이 일렁이는 제주도 억새 명소 모음\n",
      "========= 3 페이지 작업 =========\n",
      "21 반려견과 떠나는 여행 <제주 반려견 숙소&카페>\n",
      "22 설렘과 여유가 가득한 제주 여행\n",
      "23 빛으로 물든 '로맨틱 제주' <제주 야간 관광지>\n",
      "24 12월 놓치지 말아야 할 제주 관광 10선\n",
      "<올해도 애쓴 당신과 나, 12월의 제주에서 쉬멍쉬멍>\n",
      "25 마음까지 화사해지는\n",
      "제주도 봄꽃 여행\n",
      "26 제주도 서쪽에서 즐기는 꽉 찬 여행 코스\n",
      "27 [팜스테이션] 제주공항과 아름다운 해안이 인접한 워케이션 공간\n",
      "28 제주의 숨겨진 구석구석을 살펴보자, 제주도 박물관 여행\n",
      "29 안심관광에 알맞은 최고의 야외 공연과 체험 - 제주 더마(馬)파크\n",
      "30 [질그랭이 거점 센터] 조용한 제주 해안마을에서 즐기는 워케이션\n",
      "========= 4 페이지 작업 =========\n",
      "31 [제주] 푸른 밤의 따뜻한 꿈\n",
      "32 1월 놓치지 말아야 할 제주 관광 10선\n",
      "<멋진 새날을 희망하며, 엄블랑한 1월 제주>\n",
      "33 섬 속의 섬 그리고 가장 제주다운 섬, 제주 우도\n",
      "34 제주 해녀들의 “호오이 호오이” 숨비소리 찾는 여행 – 제주해녀박물관과 숨비소리길\n",
      "35 제주도 서귀포 가볼 만한 곳,\n",
      "초록이 가득한 남쪽 여행 코스\n",
      "36 돌이 나에게 말을 걸어오는 시적(詩的)인 곳– 제주돌문화공원\n",
      "37 [디어먼데이 제주] 월요병이 없는 세상을 꿈꾸는 이들의 제주 워케이션\n",
      "38 비움과 채움의 조화로 완성한 웰니스 라이프, 제주901\n",
      "39 제주의 자연과 제주인의 삶을 최단시간에 알 수 있는 곳! - 제주민속자연사박물관\n",
      "40 환경생태가 살아있는 진짜 제주의 숲을 만나다 – 제주절물자연휴양림과 장생의 숲길\n",
      "========= 5 페이지 작업 =========\n",
      "41 [제주도 가볼 만한 곳] 섬 안에 섬을 여행하는 방법, 가파도 여행 코스\n",
      "42 제주 가볼만한 곳. 가족과 함께 제주도 구석구석, 당일치기 필수 코스 4\n",
      "43 [번아웃 트래블 EP.1] 넉살 발성에 귀가 뚫렸습니다! | 제주도여행\n",
      "44 [김녕 어촌체험휴양마을] 제주 김녕바다를 바라보며 업무를 즐기는 워케이션\n",
      "45 엄마 아빠에겐 쉼표, 아이에겐 느낌표! 아이와 떠나는 제주 여행\n",
      "46 [온실(프립캠프)] 업무와 휴식, 액티비티까지 한 번에 즐기는 제주도 워케이션\n",
      "47 랜선으로 먼저 온 봄 맞이하기!\n",
      "일출로 시작하는 제주도 동쪽 코스\n",
      "48 [국내여행 버킷리스트 3탄] 올 여름엔 제주도 자전거 여행이다!\n",
      "49 2월 제주 여행, 성산일출봉 근처 인생사진 명소로 유명한 제주 동쪽 핫플레이스 4\n",
      "50 [코사이어티 빌리지] 녹음이 우거진 제주 동쪽 영감의 공간\n",
      "========= 6 페이지 작업 =========\n",
      "51 식재료 수확체험부터 시작하는 완벽한 쿠킹클래스 - 제주 토토아뜰리에\n",
      "52 나만 알고 싶은 제주 액티비티 ①\n",
      "원시 숲과 벵뒤못과 밀리터리 카,\n",
      "어디에도 없던 리얼 오프로드의 세계\n",
      "53 탄소 없는 섬, 제주의 미래를 만나다_제주CFI에너지미래관\n",
      "54 자연 속에서 더욱 단단해지는 가족애, 제주돌문화공원과 교래자연휴양림\n",
      "55 감성 넘치는 인생 사진, 가을 제주 120% 즐기기\n",
      "56 [제주] 연말을 조금 더 특별하게 제주도의 방\n",
      "========= 작업 완료 =========\n"
     ]
    }
   ],
   "source": [
    "#숙제\n",
    "tit_xpath = '//*[@id=\"search_result\"]/ul/li[*]/div[1]/div[1]/a'\n",
    "no = 0\n",
    "\n",
    "for x in range(1, page_cnt+1):\n",
    "    print(f'========= {x} 페이지 작업 =========')\n",
    "    mylist = driver.find_elements(By.XPATH, tit_xpath)\n",
    "    \n",
    "    for item in mylist:\n",
    "        no += 1\n",
    "        if no > cnt:\n",
    "            break\n",
    "        print(no, item.text)\n",
    "    \n",
    "    if no <= cnt:\n",
    "        next_button = driver.find_element(By.CSS_SELECTOR, f\"a[id='{x+1}']\")\n",
    "        driver.execute_script(\"arguments[0].click();\", next_button)\n",
    "        time.sleep(2)\n",
    "        \n",
    "print('========= 작업 완료 =========')\n",
    "driver.close()"
   ]
  },
  {
   "cell_type": "code",
   "execution_count": null,
   "id": "f13bf9bc-921f-48df-a93f-8747df292241",
   "metadata": {},
   "outputs": [],
   "source": []
  },
  {
   "cell_type": "code",
   "execution_count": null,
   "id": "a133557d-9714-4b99-95a8-902ebefce035",
   "metadata": {},
   "outputs": [],
   "source": []
  },
  {
   "cell_type": "code",
   "execution_count": null,
   "id": "1eefb0b5-c75a-4df4-a0a9-fc492c27ca0c",
   "metadata": {},
   "outputs": [],
   "source": []
  },
  {
   "cell_type": "code",
   "execution_count": null,
   "id": "b485a31e-033b-4482-93fa-7e502795178b",
   "metadata": {},
   "outputs": [],
   "source": []
  },
  {
   "cell_type": "code",
   "execution_count": null,
   "id": "40cacd7e-10f3-47d6-93c9-f3d3d3cb9734",
   "metadata": {},
   "outputs": [],
   "source": []
  },
  {
   "cell_type": "code",
   "execution_count": null,
   "id": "a91b840c-11a1-4ad7-b4ed-5ad65406e31d",
   "metadata": {},
   "outputs": [],
   "source": []
  },
  {
   "cell_type": "code",
   "execution_count": null,
   "id": "c95e583c-1cbe-4242-96fd-014b2c364bcc",
   "metadata": {},
   "outputs": [],
   "source": []
  },
  {
   "cell_type": "code",
   "execution_count": null,
   "id": "9353aaef-d030-4ba4-a7c8-8cc192b2bdcd",
   "metadata": {},
   "outputs": [],
   "source": []
  },
  {
   "cell_type": "code",
   "execution_count": null,
   "id": "e7f8b6fb-717c-41af-927f-ea7d1c5ad0f4",
   "metadata": {},
   "outputs": [],
   "source": []
  }
 ],
 "metadata": {
  "kernelspec": {
   "display_name": "Python 3 (ipykernel)",
   "language": "python",
   "name": "python3"
  },
  "language_info": {
   "codemirror_mode": {
    "name": "ipython",
    "version": 3
   },
   "file_extension": ".py",
   "mimetype": "text/x-python",
   "name": "python",
   "nbconvert_exporter": "python",
   "pygments_lexer": "ipython3",
   "version": "3.11.7"
  }
 },
 "nbformat": 4,
 "nbformat_minor": 5
}
