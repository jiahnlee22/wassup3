


class Calculator:
    def __init__(self):
        self.value = 0
    def add(self, val):
        self.value += val


class UpgradeCalculator(Calculator):
    def minus(self, val):
        self.value -= val


cal = UpgradeCalculator()
cal.add(10)
cal.minus(7)
print(cal.value)





class Calculator:
    def __init__(self):
        self.value = 0
    def add(self, val):
        self.value += val


class MaxLimitCalculator(Calculator):
    def add(self, val):
        self.value += val
        if self.value > 100:
            self.value = 100        


cal = MaxLimitCalculator()
cal.add(50) # 50 더하기
cal.add(60) # 60 더하기

print(cal.value) # 100 출력





#1 False
#2 True





a = [1, -2, 3, -5, 8, -3]
list(filter(lambda x : x >0, a))





print(int('0xea', 16))





list(map(lambda x:x*3,[1, 2, 3, 4]))





a = [-8, 2, 7, 5, -3, 5, 0, 1]
result = max(a)+min(a)
print(result)





a=17 / 3
round(a,4)





모듈 건너뜀





모듈 건너뜀





모듈 건너뜀





모듈 건너뜀





import random
random.seed(240618)
data = range(1,46)
로또 = random.sample(data, 6)
로또.sort()
print(로또)


import random
random.seed(240618)
data = list(range(1, 46))
random.shuffle(data)
로또 = data[:6]
로또.sort()
print(로또)



