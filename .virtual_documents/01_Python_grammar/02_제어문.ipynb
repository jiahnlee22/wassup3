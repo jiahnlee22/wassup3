money = 1000
card = True
if money>= 3000 or card:
     print("택시를 타고 가라")
else:
     print("걸어 가라")


money = 1000
card = True
if money>= 3000 or card:
     print("택시를 타고 가라")
else:
     print("걸어 가라")


p = ['money', 'phone']
if 'money' in p:
     print("택시를 타고 가라")
else:
     print("걸어 가라")


p = ['money', 'phone']
if 'money' in p:
     print("택시를 타고 가라")
elif 'card' in p:
     print("택시를 타고 가라")
else:
     print("걸어가라")


treeHit = 0
while treeHit < 10:
     treeHit = treeHit +1
     print("나무를 %d번 찍었습니다." % treeHit)
     if treeHit == 10:
         print("나무 넘어갑니다.")





















