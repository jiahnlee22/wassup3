


a = 123


a


a=-178


a


a=789
a


a=3
b=2
a+b


a-b


a/b


a**b


a%b


a//b


"hello world"


'"I am Jiahn." She says.'


'Jiahn\'s bag'


"hello \n world"


a = "hello \nworld"
a


print(a)


a = '''
hello
world
'''


print(a)


a= 'hello world'
a[3]


a = 'hello'
b = 'world'
a+b


a = 'hello world'
a[0:5]


a = 'hello world'
a[6:]


a= "20240101goood"
a[0:8], a[-5:]


a = "pithon"
b = a[0]+'y'+a[2:]
b


"I have %a dog" %2


"p %i thon" %'y'


num = 10
day = 'three'
"I have %d years old, %o dogs."%(num,day)


num = 10
day = "three"
"I have {} years old, {} dogs.".format(num, day)


"I eat {} apples".format(3)


name = "홍길동"
age = 30
f'나의 이름은 {name}입니다. 나이는 {age}입니다.'


name = "홍길동"
age = 30
f'나의 이름은 {name}입니다. 나이는 {age+1}입니다.'


a = 'hobby'
a.count('b')


a = "This apple is good"
a.find('a')


a = "This apple is good"
a.index('b')


a = 'hi'
a.upper()


a = "This apple is good"
a.split(' ')


a = 1
a, type(a)


a = [1, 2, 3]
b = a
id(a), id(b)


from copy import copy
a = [1, 2, 3]
b = copy(a)
id(a), id(b)


a ==b


a = [1, 2, 3]
a[1]+a[3]


a = [1, 2, 3]
a[0]+a[2]


e = [1, 2, ['life', 'is']]
e[2][1]


a = [1,2,3,4,5]
a[1::2]



if [1,2,3]:
...     print("참")
... else:
...     print("거짓")


c = 10
while True :
    m = int(input('돈 주세요: '))
    if m ==300:
           print('300원 ㄱㅅ 커피 여기')
           c = c-1
           print(f'{c}남았다') 
    elif m > 300:
            print('거스름돈 주고 커피 주고')
            c = c-1
            print(f'{c}남았다') 
    else: #m < 300
            print('돈 더 내놩')
    if c ==0:
            print('커피 품절')
            break


p=300
m=1000
c=10
while m:
    print(prompt)
    m = int(input())
    print("커피를 준다")
    c = c-1
    print(f'남은 커피는 {c}개')
    if c ==0:
        print ("커피 끝")
        break


>>> coffee = 10
>>> money = 300
>>> while money:
...     print("돈을 받았으니 커피를 줍니다.")
...     coffee = coffee -1
...     print("남은 커피의 양은 %d개입니다." % coffee)
...     if coffee == 0:
...         print("커피가 다 떨어졌습니다. 판매를 중지합니다.")
...         break
