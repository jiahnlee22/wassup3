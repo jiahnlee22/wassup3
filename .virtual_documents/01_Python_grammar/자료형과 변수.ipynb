


a = 123


a


a=-178


a


a=789
a


a=3
b=2
a+b


a-b


a/b


a**b


a%b


a//b


"hello world"


'"I am Jiahn." She says.'


'Jiahn\'s bag'


"hello \n world"


a = "hello \nworld"
a


print(a)


a = '''
hello
world
'''


print(a)


a= 'hello world'
a[3]


a = 'hello'
b = 'world'
a+b


a = 'hello world'
a[0:5]


a = 'hello world'
a[6:]


a= "20240101goood"
a[0:8], a[-5:]


a = "pithon"
b = a[0]+'y'+a[2:]
b


"I have %a dog" %2


"p %i thon" %'y'


num = 10
day = 'three'
"I have %d years old, %o dogs."%(num,day)


num = 10
day = "three"
"I have {} years old, {} dogs.".format(num, day)


"I eat {} apples".format(3)


name = "홍길동"
age = 30
f'나의 이름은 {name}입니다. 나이는 {age}입니다.'


name = "홍길동"
age = 30
f'나의 이름은 {name}입니다. 나이는 {age+1}입니다.'


a = 'hobby'
a.count('b')


a = "This apple is good"
a.find('a')


a = "This apple is good"
a.index('b')


a = 'hi'
a.upper()


a = "This apple is good"
a.split(' ')


a = 1
a, type(a)


a = [1, 2, 3]
b = a
id(a), id(b)


from copy import copy
a = [1, 2, 3]
b = copy(a)
id(a), id(b)


a ==b


a = [1, 2, 3]
a[1]+a[3]


a = [1, 2, 3]
a[0]+a[2]


e = [1, 2, ['life', 'is']]
e[2][1]


a = [1,2,3,4,5]
a[1::2]

