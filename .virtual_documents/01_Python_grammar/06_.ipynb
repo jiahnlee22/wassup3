


# abs
abs(-3)


# all 순서가 있는 자료 True, 없는 자료 False
all([])





# enumerate
for i, name in enumerate(['body', 'cool']):
    print(enumerate(['body', 'cool']))
    print(i,name)


# filter
list(filter(lambda x: x > 0, [1, -3, 2, 0, -5, 6]))


list(filter(lambda x: x>0, [1, -3, 2, 0, -5, 6]))


# map
def two_times(x): 
     return x*2

list(map(two_times, [1, 2, 3, 4]))


list(map(lambda x : x*2, [1, 2, 3, 4]))


# zip
>>> list(zip([1, 2, 3], [4, 5, 6]))





# datetime
import datetime
day1 = datetime.date(2024,5,2)
day2 = datetime.date(2024,6,18)


day1, day2


diff = day2 - day1
diff.days


day = datetime.date(2024, 6, 18)
day.weekday()


day.isoweekday()


import time
for i in range(10):
    print(i)
    time.sleep(1)


import random
print(random.randint(1,45))
print(random.randint(1,45))
print(random.randint(1,45))
print(random.randint(1,45))
print(random.randint(1,45))
print(random.randint(1,45))


import random
data = range(1,45)
로또 = random.sample(data, 6)
print(로또)


random.sample?


import glob
f = glob.glob('C:\\workspace\\wassup3\\01_Python_grammar/*ipynb')
f1 = [a.split('\\')[-1][:-6] for a in f]

for f2 in f1:
    print(f2)


import glob
glob.glob('C:\\workspace\\wassup3\\01_Python_grammar/*ipynb')


import glob
f = glob.glob('C:\\workspace\\wassup3\\01_Python_grammar/*ipynb')
f1 = [a.split('\\')[-1][:-6] for a in f]

for f2 in f1:
    print(f2)





myinfo = {
    "name": "홍길동",
    "birth": "0525",
    "age": 30
}


import json
data = {'name': '홍길동', 'birth': '0525', 'age': 30}
with open('myinfo.json', 'w') as f:
     json.dump(data, f)





# urllib
import urllib.request

def get_wikidocs(page):
    resource = 'https://wikidocs.net/{}'.format(page)
    with urllib.request.urlopen(resource) as s:
        with open('wikidocs_%s.html' % page, 'wb') as f:
            f.write(s.read())


get_wikidocs(33)


pip list


pip install Faker















