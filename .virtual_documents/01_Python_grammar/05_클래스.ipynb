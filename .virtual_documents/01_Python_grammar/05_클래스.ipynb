


result = 0

def add(num):
    global result
    result += num  # 결괏값(result)에 입력값(num) 더하기
    return result  # 결괏값 리턴

print(add(3))
print(add(4))


result1 = 0
result2 = 0

def add1(num):  # 계산기1
    global result1
    result1 += num
    return result1

def add2(num):  # 계산기2
    global result2
    result2 += num
    return result2

print(add1(3))
print(add1(4))
print(add2(3))
print(add2(7))


class Calculator:
    def __init__(self):
        self.result = 0

    def add(self, num):
        self.result += num
        return self.result

cal1 = Calculator()
cal2 = Calculator()

print(cal1.add(3))
print(cal1.add(4))
print(cal2.add(3))
print(cal2.add(7))





class Cookie:
    pass





class FourCal:
    pass
a = FourCal()
type(a)


class FourCal:
    def setdata(self, first, second):
        self.first = first
        self.second = second

    def add(self):
        result = self.first + self.second
        return result
    def mul(self):
        result = self.first * self.second
        return result
    def sub(self):
        result = self.first - self.second
        return result
    def div(self):
        result = self.first / self.second
        return result        


a = FourCal()


class FourCal1:
    def __init__(self, first, second): #__매직메서드__
        self.first = first
        self.second = second
    # def setdata(self, first, second):
    #     self.first = first
    #     self.second = second

    def add(self):
        result = self.first + self.second
        return result
    def mul(self):
        result = self.first * self.second
        return result
    def sub(self):
        result = self.first - self.second
        return result
    def div(self):
        result = self.first / self.second
        return result        


a = FourCal1(2,1)
a.add()





class MoreFourCal(FourCal):
    def pow(self):
        result = self.first ** self.second
        return result

a = MoreFourCal(4,2)
a.add(), a.div(), a.mul(), a.sub(), a.pow()





a.add(), a.div(), a.mul(), a.sub(), a.pow()





a = FourCal(4,0)
a.div()


class SafeFourCal(FourCal):
     def div(self):
         if self.second == 0:  # 나누는 값이 0인 경우 0을 리턴하도록 수정
             return 0
         else:
             return self.first / self.second


a = SafeFourCal(4,0)
a.div()





#1 종류 무관. 모든 에러에 except문으로 대응함
try:
    4/0
    f = open('없는 파일')
except :
    print(0)


#2 특정 발생오류 포함. 오류 원인을 찾기 좋음
try:
    4/0
except ZeroDivisionError :
    print(0)


#3 변수와 오류 변수까지 포함
try:
    4/0
except ZeroDivisionError as e:
    print(e)


# 작업 수행 중에 오류가 나도 무조건 실행!
try:
    f = open('foo.txt', 'w')
    # 무언가를 수행한다.
finally:
    f.close()  # 중간에 오류가 발생하더라도 무조건 실행된다.


# 오류 여럿 해결
try:
    a = [1,2]
    print(a[3])
    4/0
except ZeroDivisionError:
    print("0으로 나눌 수 없습니다.")
except IndexError:
    print("인덱싱 할 수 없습니다.")


# 에러가 없을 때 쓰는 정상 코드
try:
    age=int(input('나이를 입력하세요: '))
except:
    print('입력이 정확하지 않습니다.')
else:
    if age <= 18:
        print('미성년자는 출입금지입니다.')
    else:
        print('환영합니다.')


# 오류 회피 pass
try:
    f = open("나없는파일", 'r')
except FileNotFoundError:
    pass


# 일부러 오류내기
class Bird:
    def fly(self):
        raise NotImplementedError


# 예외 만들기
class MyError(Exception):
    pass


    def say_nick(nick):
        if nick == '바보':
            raise MyError()
    print(nick)






