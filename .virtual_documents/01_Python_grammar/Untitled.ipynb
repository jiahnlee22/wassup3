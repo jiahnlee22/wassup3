


print('Hello World')


print("Mary's cosmetics")


print('신씨가 소리질렀다. "도둑이야".')


print('C:\Windows')


print("안녕하세요.\n만나서\t\t반갑습니다.")
# \n 줄바꿈 , \t 들여쓰기


print ("오늘은", "일요일")
# 오늘은 일요일


print('naver','kakao','sk','samsung',sep=';')


print('naver','kakao','sk','samsung',sep='/')


print("first", end="");print("second")


print(5/3)








삼성전자 = 50000
총평가금액 = 삼성전자 * 10
print(총평가금액)


시가총액 = 298000000000000
현재가 =50000
PER = 15.79

print(시가총액)
print(현재가)
print(PER)


s = "hello"
t = "python"
print (s+'!',t)


2 + 2 * 3
#8


a = "132"
print (type(a))
#str


num_str = "720"
num_int = int(num_str)
print (type(num_int))


num = 100
num_str = str(num)
print (type(num_str))


num = '15.79'
num_1 = float(num)
print (type(num_1))


year = "2020"
year_int=int(year)
print(year_int-3,year_int-2,year_int-1)


cool = 48584
총금액 = cool*36
print(총금액)








letters = 'python'
print (letters[0],letters[2])


license_plate = "24가 2210"
print (license_plate[4:])


string = "홀짝홀짝홀짝"
print (string[::2])


string = "PYTHON"
print (string[::-1])


phone_number = "010-1111-2222"
phone_number1 = phone_number.replace("-", " ")
print(phone_number1)


phone_number2 = phone_number1.replace(" ", "")
print(phone_number2)


url = "http://sharebook.kr"
url1 = url.split('.')
print(url1[-1])


lang = 'python'
lang[0] = 'P'
print(lang)

#Error


string = 'abcdfe2a354a32a'
print(string.replace('a','A'))


string = 'abcd'
string.replace('b', 'B')
print(string)
# abcd








a = "3"
b = "4"
print(a + b)
#34


print("Hi" * 3)
#HiHiHi


a = '-'
print(a *80)


t1 = 'python'
t2 = 'java'
print((t1+' '+t2+' ')*4)


name1 = "김민수" 
age1 = 10
name2 = "이철희"
age2 = 13
print('이름: %s 나이:%d'%(name1,age1))
print('이름: %s 나이:%d'%(name2,age2))


name1 = "김민수" 
age1 = 10
name2 = "이철희"
age2 = 13
print('이름: {} 나이:{}'.format(name1,age1))
print('이름: {} 나이:{}'.format(name2,age2))


name1 = "김민수" 
age1 = 10
name2 = "이철희"
age2 = 13
print(f'이름: {name1} 나이:{age1}')
print(f'이름: {name2} 나이:{age2}')


상장주식수 = "5,969,782,550"
상장주식수1 = 상장주식수.replace(',','')
상장주식수2 = int(상장주식수1)
print(상장주식수2,type(상장주식수2))


분기 = "2020/03(E) (IFRS연결)"
print(분기[:7])


data = "   삼성전자    "
data.replace(' ','')








ticker = "btc_krw"
print(ticker.upper())


ticker = "BTC_KRW"
print(ticker.lower())


ticker = "hello"
print(ticker.capitalize())


file_name = "보고서.xlsx"
file_name.endswith("xlsx")


file_name = "보고서.xlsx"
file_name.endswith(("xlsx","xls"))


file_name = "2020_보고서.xlsx"
file_name.startswith("2020")


a = "hello world"
a.split()


ticker = "btc_krw"
ticker.split("_")


date = "2020-05-01"
date.split("-")


data = "039490     "
data.rstrip()








movie_rank = ["닥터 스트레인지", "스플릿", "럭키"]
movie_rank


movie_rank = ["닥터 스트레인지", "스플릿", "럭키"]
movie_rank.append('배트맨')
movie_rank


movie_rank = ['닥터 스트레인지', '스플릿', '럭키', '배트맨']
movie_rank.insert(1,'슈퍼맨')
movie_rank


movie_rank = ['닥터 스트레인지', '슈퍼맨', '스플릿', '럭키', '배트맨']
del movie_rank [3]
print(movie_rank)


movie_rank = ['닥터 스트레인지', '슈퍼맨', '스플릿', '배트맨']
del movie_rank [2:]
print(movie_rank)


lang1 = ["C", "C++", "JAVA"]
lang2 = ["Python", "Go", "C#"]
lang1 + lang2


nums = [1, 2, 3, 4, 5, 6, 7]
print("max: ",max(nums))
print("min: ",min(nums))


nums = [1, 2, 3, 4, 5]
print(sum(nums))


cook = ["피자", "김밥", "만두", "양념치킨", "족발", "피자", "김치만두", "쫄면", "소시지", "라면", "팥빙수", "김치전"]
len(cook)


nums = [1, 2, 3, 4, 5]
print(sum(nums)/len(nums))








price = ['20180728', 100, 130, 140, 150, 160, 170]
print(price[1:])


nums = [1, 2, 3, 4, 5, 6, 7, 8, 9, 10]
print(nums[0::2])


nums = [1, 2, 3, 4, 5, 6, 7, 8, 9, 10]
print(nums[1::2])


nums = [1, 2, 3, 4, 5]
print(nums[::-1])


interest = ['삼성전자', 'LG전자', 'Naver']
print(interest[0],interest[2])


interest = ['삼성전자', 'LG전자', 'Naver', 'SK하이닉스', '미래에셋대우']
print(" ".join(interest))


interest = ['삼성전자', 'LG전자', 'Naver', 'SK하이닉스', '미래에셋대우']
print("/".join(interest))


interest = ['삼성전자', 'LG전자', 'Naver', 'SK하이닉스', '미래에셋대우']
print("\n".join(interest))


string = "삼성전자/LG전자/Naver"
a=string.split('/')
a


data = [2, 4, 3, 1, 5, 10, 9]
data.sort()
print(data)








my_variable = ()
print(type(my_variable))


movie_rank = ('닥터 스트레인지', '스플릿', '럭키')
movie_rank


a = (1, )
a


t = (1, 2, 3)
t[0] = 'a'
# 리스트와 달리 원소값을 바꿀 수 없다


t = 1, 2, 3, 4
#튜플-소괄호없이 동작가능


t = ('A', 'b', 'c')
t


interest = ('삼성전자', 'LG전자', 'SK Hynix')
interest1= list(interest)
type(interest1)


interest = ['삼성전자', 'LG전자', 'SK Hynix']
interest1=tuple(interest)
type(interest1)


temp = ('apple', 'banana', 'cake')
a, b, c = temp
print(a, b, c)

#temp ??왜지


data = tuple(range(2, 100, 2))
print( data )
