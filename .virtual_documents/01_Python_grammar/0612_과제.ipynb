


국어 = 80
영어 = 75
수학 = 55
(국어+영어+수학)/3





#13에 나누기 2를 해서 나머지가 나오면 홀수, 나머지가 안나오면 짝수이다
13%2





pin = '881120-1068234'
yyyymmdd = '19'+pin[:6]
num =  pin[7:]
print(yyyymmdd) 
print(num)





print(pin[7])





a = "a:b:c:d"
b = a.replace(':',"#")
print(b)





a = [1, 3, 5, 4, 2]
a.sort()
a.reverse()
print(a)





a = ['Life', 'is', 'too', 'short']
print(' '.join(a))





a = (1, 2, 3)
a = a+(4,)
print(a)



























