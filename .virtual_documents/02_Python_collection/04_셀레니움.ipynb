# 셀레니움 라이브러리 설치
!pip install selenium


from selenium import webdriver
from selenium.webdriver.common.by import By
from selenium.webdriver.chrome.options import Options
import time

options = Options()
options.add_experimental_option("detach", True)


url = 'http://naver.com'
driver = webdriver.Chrome(options=options)


driver.get(url)
time.sleep(2) 





driver.back()


driver.forward()


driver.refresh()


title = driver.title
url = driver.current_url
handle = driver.current_window_handle
print(title, url, handle)


driver.find_element(By.ID, "query")


driver.find_element(By.ID, "query").send_keys('뉴진스')


driver.find_element(By.CLASS_NAME, "search_input").send_keys('블랙핑크')


driver.find_element(By.NAME, "query").send_keys('르세라핌')


driver.find_element(By.CSS_SELECTOR, ".search_input").send_keys('세븐틴')


driver.find_element(By.CSS_SELECTOR, "#query").send_keys('에스파')


driver.find_element(By.CSS_SELECTOR, "[title='검색어를 입력해 주세요.']").send_keys('트와이스')


driver.find_element(By.XPATH,"//*[@id='query']").send_keys('BTS')


driver.find_element(By.LINK_TEXT, '쇼핑')


driver.find_element(By.LINK_TEXT, '쇼핑').click()


driver.find_element(By.PARTIAL_LINK_TEXT, '쇼').click()


driver.find_element(By.TAG_NAME, 'div')


links = driver.find_elements(By.CSS_SELECTOR, '.link_service')
for link in links:
    print(link.get_attribute('href'))


url = 'file:///C:/workspace/wassup3/02_Python_collection/sample/signin.html'
driver = webdriver.Chrome(options=options)
driver.get(url)
time.sleep(2) 


u = driver.find_element(By.NAME, "username").send_keys('boomstar814')
up = driver.find_element(By.NAME, "password").send_keys('12341234')


login =  driver.find_element(By.XPATH, '//*[@id="loginForm"]/input[3]')
login.click()


driver.back()


login =  driver.find_element(By.CSS_SELECTOR, "#loginForm > input[type=submit]:nth-child(5)")
login.click()


driver.find_element(By.TAG_NAME, 'p').text


from selenium import webdriver
from selenium.webdriver.common.by import By
from selenium.webdriver.chrome.options import Options
import time

options = Options()
options.add_argument("--headless=new") 
# options.add_argument('--window-size= x, y') #실행되는 브라우저 크기를 지정할 수 있습니다.
# options.add_argument('--start-maximized') #브라우저가 최대화된 상태로 실행됩니다.
# options.add_argument('--start-fullscreen') #브라우저가 풀스크린 모드(F11)로 실행됩니다.
# options.add_argument('--blink-settings=imagesEnabled=false') #브라우저에서 이미지 로딩을 하지 않습니다.
# options.add_argument('--mute-audio') #브라우저에 음소거 옵션을 적용합니다.
# options.add_argument('incognito') #시크릿 모드의 브라우저가 실행됩니다.
options.add_experimental_option("detach", True) #특정함수안에서  드라이버 생성시 함수종료될 때 브라우저 같이 종료되는 


url = 'http://naver.com'
driver = webdriver.Chrome(options=options)
driver.get(url)
time.sleep(2)
#UI가 없고 백그라운드에서 동작. 속도와 메모리를 위한 방법.


print(driver.title)


driver.quit() # 탭 닫기 #전체 종료는 close


from selenium import webdriver
from selenium.webdriver.common.by import By
from selenium.webdriver.chrome.options import Options
import time

options = Options()
# options.add_argument("--start-maximized")
# options.add_argument("--headless=new") 
options.add_experimental_option("detach", True) #

url = 'http://naver.com'
driver = webdriver.Chrome(options=options)
driver.get(url)
time.sleep(2)


size = driver.get_window_size()
width = size.get("width")
height = size.get("height")

print(str(width)+"px"+" "+str(height)+"px")


driver.set_window_size(800, 600)


position = driver.get_window_position()
x = position.get('x')
y = position.get('y')

print("x : "+str(x)+" "+"y : "+str(y))


driver.set_window_position(200,200)


# 창 크기 최대화
driver.maximize_window()


# 스크린 샷
driver.save_screenshot('./image.png')


driver.close()


from selenium import webdriver
from selenium.webdriver.common.by import By
from selenium.webdriver.chrome.options import Options
import time, random, pandas as pd

options = Options()
options.add_argument('--window-size=974,1047')
options.add_argument('--window-position=-7,0')
options.add_experimental_option("detach", True)


# 웹드라이버 로드
driver = webdriver.Chrome( options = options)


# 조건 설정
where = 'blog'
query = '인공지능'
dateform = '20240101to20240625'
url = f'https://search.naver.com/search.naver?ssc=tab.{where}.all&query={query}&sm=tab_opt&nso=so%3Ar%2Cp%3Afrom{dateform}'
# url = f'https://search.naver.com/search.naver?where={where}&query={query}&sm=tab_op&nso=so:r,p:from{dateform}'
fname = f'{where}_{query}_{dateform}'


# url 접속
driver.get(url)
time.sleep(random.randint(2,3))


#네이버 뷰는 최대 1050까지만 노출
# 스크롤 10번
for i in range(10):
    driver.execute_script('window.scrollTo(0, document.body.scrollHeight);')
    time.sleep(random.randint(2, 3))


# get_view()
views = driver.find_elements(By.CSS_SELECTOR, '.lst_view .view_wrap')
result = []

for view in views:
    con_dict = {}
    con_dict['title'] = view.find_element(By.CSS_SELECTOR, '.title_area').text
    con_dict['text'] = view.find_element(By.CSS_SELECTOR, '.dsc_link').text
    con_dict['date'] = view.find_element(By.CSS_SELECTOR, '.sub').text
    result.append(con_dict)
    print(con_dict)
    
print('완료')


#저장된 게시물 리스트를 데이터프레임으로 변환후 csv로 저장
df = pd.DataFrame(result)
df


#데이터 프레임 저장
# csv는 sep 쉼표가 반드시 있어야 한글이 안깨짐
df.to_csv(f'./naver_{fname}.csv', sep=',', encoding='utf-8-sig')





from selenium import webdriver
from selenium.webdriver.common.by import By
from selenium.webdriver.chrome.options import Options
import time, random, pandas as pd

options = Options()
options.add_argument('--window-size=974,1047')
options.add_argument('--window-position=-7,0')
options.add_experimental_option("detach", True)

driver = webdriver.Chrome( options = options)
url = 'https://play.google.com/store/apps/details?id=com.estsoft.picnic'
driver.get(url)
time.sleep(random.randint(2,3))





for i in range(10):
    driver.execute_script('window.scrollTo(0, document.body.scrollHeight);')
    time.sleep(random.randint(2, 3))


for i in range(10):
    review_box = driver.find_element(By.CSS_SELECTOR, 'div.fysCi')
    driver.execute_script('arguments[0].scrollTop = arguments[0].scrollHeight', review_box )
    time.sleep(random.randint(2, 3))


rv = driver.find_elements(By.CSS_SELECTOR, 'div.RHo1pe')
rv


len(rv)


review_data = driver.find_elements(By.CSS_SELECTOR, 'div.RHo1pe')
result = []


for i in review_data:
    review = {}
    review['text'] = i.find_element(By.CSS_SELECTOR, '.h3YV2d').text
    review['star'] = len(i.find_elements(By.CSS_SELECTOR, '.Z1Dz7b'))
    review['date'] = i.find_element(By.CSS_SELECTOR, '.bp9Aid').text
    result.append(review)
    print(review)


from selenium import webdriver
from selenium.webdriver.common.by import By
from selenium.webdriver.chrome.options import Options
import math, time

options = Options()
options.add_argument('--window-size=974,1047')
options.add_argument('--window-position=-7,0')
options.add_experimental_option("detach", True)


search = input('검색어를 입력하세요.')


URL = 'https://korean.visitkorea.or.kr/search/search_list.do?keyword='+search

driver = webdriver.Chrome(options=options)
driver.get(URL)
time.sleep(3)


X ='//*[@id="s_recommend"]/div[2]'
driver.find_element(By.XPATH,X).click()


q = driver.find_element(By.XPATH,'//*[@id="search_result"]/ul/li[*]/div[1]/div[1]/a').text
q


X ='/html/body/div[3]/div/div[1]/div[14]/a[2]'
driver.find_element(By.XPATH,X).click()


driver.find_element(By.CSS_SELECTOR, "#s_recommend > .more_view > a").click()


result = driver.find_elements(By.CSS_SELECTOR, '.tit a')
result[0].text


result = driver.find_elements(By.CSS_SELECTOR, '.tit a')
for i in range(len(result)):
    print(result[i].text)


a = driver.find_element(By.XPATH, '//*[@id="search_result"]/ul/li[1]/div[1]/div[1]/a')
a.text


tit_xpath = '//*[@id="search_result"]/ul/li[*]/div[1]/div[1]/a'
result = driver.find_elements(By.XPATH, tit_xpath)
len(result), result[0].text, result[1].text


for i, title in enumerate(result, 1):
#     print(i, title.text)
    print(i, title.text)


driver.find_element(By.XPATH, '/html/body/div[3]/div/div[1]/div[14]/a[2]').click()


cnt = int(input('크롤링 할 건수는 몇건입니까?: '))
cnt


page_cnt = math.ceil(cnt / 10) # 크롤링 할 전체 페이지 수 (올림)
print(page_cnt)


#숙제
tit_xpath = '//*[@id="search_result"]/ul/li[*]/div[1]/div[1]/a'
no = 0

for x in range(1, page_cnt+1):
    print(f'========= {x} 페이지 작업 =========')
    mylist = driver.find_elements(By.XPATH, tit_xpath)
    
    for item in mylist:
        no += 1
        if no > cnt:
            break
        print(no, item.text)
    
    if no <= cnt:
        next_button = driver.find_element(By.CSS_SELECTOR, f"a[id='{x+1}']")
        driver.execute_script("arguments[0].click();", next_button)
        time.sleep(2)
        
print('========= 작업 완료 =========')
driver.close()



























