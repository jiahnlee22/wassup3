import numpy as np
np.__version__


a = np.array(0)


a, a.ndim, type(a)


a = np.array([2, 4, 6])
a, a.ndim, type(a)


a = [[1,2,3], [4,5,6]]
a


a = np.array( [[1,2,3], [4,5,6]] )
a, a.ndim, type(a)


a = np.array( [ [[1,2,3], [4,5,6]], [[1,2,3], [4,5,6]] ] )
a, a.ndim, type(a)


a.shape


a = np.array(3)
a, a.shape # 행렬아님


a = np.array([ 1, 3, 5, 7, 9 ])
a, a.shape


a = np.array( [[1,2,3], [4,5,6]] )
a, a.shape


a = np.array([[[0, 0, 0, 0], [0, 0, 0, 0], [0, 0, 0, 0]], [[0, 0, 0, 0], [0, 0, 0, 0], [0, 0, 0, 0]]])
a, a.shape # 2개의 3행 4열


# 1차원 리스트 객체(이터러블)
myList = [10, 56, 77, 23, 44]
print(myList, type(myList), len(myList))


myArr = np.array(myList)
print(myArr, type(myArr), len(myArr))
print(f'차원={myArr.ndim}, 구조={myArr.shape}, size={myArr.size}, 길이={len(myArr)}')


# 2차원 리스트 객체(이터러블)
myList2 = [[1,2,3 ],[10,20,30],[100,200,300]]
myArr2 = np.array(myList2)
print(myArr2, type(myArr2), len(myArr2))
print(f'차원= {myArr2.ndim}, 구조 = {myArr2.shape}, size = {myArr2.size}, 길이={len(myArr2)}' )


# 2차원 리스트에서 각 행의 수가 다를 경우?
myList21 = [ [1,2,3,4],[10,20,30,40,50],[100,200,]]
print(myList21, type(myList21), len(myList21))


# 길이가 달라 에러 리턴
myArr21 = np.array(myList21)
print(myArr21, type(myArr21), len(myArr21))
print(f'차원= {myArr21.ndim}, 구조 = {myArr21.shape}, size = {myArr21.size}')


# 리스트의 산술연산자 +, * 
listA = [10, 30, 50]
listB = [1, 2, 3]
print(listA + listB) # 리스트의 + 연산자는 조인역할
print(listA + 2) # 불가


print(listA * 2) # 해당 리스트의 반복
print(listA * listB) # 불가


# 넘파이의 산술연산
arrA = np.array([1, 2, 3])
print(arrA + 2)
print(arrA * 2)


arrB = np.array([4, 5, 6])
print(arrA + arrB)
print(arrA * arrB)
print(arrA / arrB)
print(arrA // arrB) # 몫
print(arrA % arrB) # 나머지


# 자료형 테스트
myList_c = ['안녕', 100, 3.14, True, False] # 리스트는 혼합된 형 그대로 유지
print(myList_c)


myArr_c = np.array(myList_c) # 넘파이배열은 '문자열'로 통일 자동형변환
print(myArr_c, type(myArr_c), myArr_c.dtype)


# 정수와 실수가 혼합된 넘파이 배열
myArr_d = np.array([100, 3.14, 23.5, 0])
print(myArr_d, type(myArr_d), myArr_d.dtype) # 정수와 실수 혼합시, 더 큰 실수형으로 통일 자동형변환





np.array([0, 1, -1, 0]) / np.array([1, 0, 0, 0])


np.log(0)


np.exp(-np.inf)





x = np.array([18,   5,  10,  23,  19,  -8,  10,   0,   0,   5,   2,  15,   8,
              2,   5,   4,  15,  -1,   4,  -7, -24,   7,   9,  -6,  23, -13])


np.mean(x)  # 평균


np.var(x)  # 분산


np.std(x)  # 표준 편차


np.max(x)  # 최댓값


np.min(x)  # 최소값


np.median(x)  # 중앙값





np.percentile(x, 0)  # 최소값


np.percentile(x, 25)  # 1사분위 수


np.percentile(x, 50)  # 2사분위 수


np.percentile(x, 75)  # 3사분위 수


np.percentile(x, 100)  # 최댓값





# 1로 메모리 초기화, 넘파이 함수로 배열을 만들때에는 디폴트가 실수형
print(np.ones(10), np.ones(10).dtype) 


print(np.ones((2,4)), np.ones((2,4)).dtype)


print(np.ones(10, dtype = int), np.ones(10, dtype = int).dtype)


# 1~20으로 구성된 4행 5열의 넘파이 배열print(np.array(list(range(1,21))), type(list(range(1,21))))
print(np.arange(20), type(np.arange(20)))
print(np.arange(1, 20), type(np.arange(1, 20)))
print(np.arange(1, 20, 2), type(np.arange(1, 20,2)))


# 0~49까지 구성된 넘파이 배열
arr = np.arange(50)
print(arr, len(arr), arr.size)


# linspace 명령이나 logspace 명령은 선형 구간 혹은 로그 구간을 지정한 구간의 수만큼 분할한다.
np.linspace(0, 100, 5)  # 시작, 끝(포함), 갯수


np.logspace(0.1, 1, 10)





arr, arr.ndim, arr.shape


arr = arr.reshape(10,5)
arr, arr.ndim, arr.shape


arr2 = arr.reshape(5,10)
arr2, arr2.ndim, arr2.shape


# 2차원 -> 1차원
# 넘파이배열.flatten()
arr3 = arr2.flatten()
arr3, arr3.shape, arr3.ndim


# 1~100 사이의 짝수로 된 넘파이 배열 생성
np.arange(2,101,2)


print(np.arange(2,101,2).reshape(5,10))


np.arange(1, 31)


# 2차원인데 1개 칼럼의 모형을 만들어보자
# reshape(-1, n) : 2차원 n개의 컬럼으로 구성, -1을 넣으면 자동으로 사이즈를 맞춰준다.
arr4 = np.arange(1, 31).reshape(-1, 1)
arr4, arr4.ndim, arr4.shape


# 4개 칼럼으로 배열 모형을 만들자
np.arange(1, 21).reshape(5, 4)


np.arange(1, 21).reshape(-1, 5)


# 사이즈가 맞아야 한다.
np.arange(1, 21).reshape(-1, 7)


a = np.arange(12)
a, a.shape


# 원본 값이 바뀜
a.shape = 2, -1
a, a.shape


a.shape = 3, -1
a, a.shape


a.shape = -1, 1
a, a.shape


a.shape = -1
a, a.shape





matrix1 = np.arange(1, 10)
matrix1, matrix1.dtype


# 정수형, 3행 3열
matrix = np.arange(1, 10).reshape(3,3)
matrix, matrix.dtype


# 실수형, 3행 3열
matrix = np.arange(1, 10, dtype=float).reshape(3,3)
matrix, matrix.dtype


# 문자열형, 3행 3열 -> 불가
matrix = np.arange(1, 10, dtype='str').reshape(3,3)
matrix, matrix.dtype


# 정수형 => 문자열
matrix.astype('<U5')


# 논리형으로 구성된 넘파이 배열 생성
matrix2 = np.array([True, False, True, True])
matrix2, matrix2.dtype


# 불린 -> 정수
matrix2.astype(int)


# 불린형 -> 문자열
matrix2.astype('<U5')


# 문자열 숫자 => 정수 , 실수
matrix3 = np.array(['3.14', '5.5', '0.78'])
matrix3, matrix3.dtype


print(matrix3.astype(float))

print(matrix3.astype(int)) # 불가
print(matrix3.astype(bool)) # 불가


matrix4 = np.array(['3', '5', '7'])
matrix4.astype(int)  # 가능, 값이 유효하기 때문





a = np.array([1, 3, 5, 7, 9])
a, a.ndim, a.shape, a.size


a[0]


a[2]


a[-1]


a[[0, 2, 4]]


# 행렬 구조로 인덱싱도 가능하다
b = np.array( [[1,3], [4,2]] )
b


a[b]





a = np.arange(15).reshape(3, 5)
a, a.ndim, a.shape, a.size


# 2차원 인덱싱할 때, 값을 하나면 넣으면 행인덱싱
a[0]


# 값이 2개 들어가면, 행/열 인덱싱
a[-1, 2]


a[1] = [1, 3, 5, 7, 9]
a


a[-1] = 10
a


a[0] += [1, 2, 3, 4, 5]
a


matrix_a = np.arange(10)
matrix_b = np.arange(12).reshape(3,4)

matrix_a, matrix_b





a = np.array([1, 3, 5, 7, 9])
a, a.ndim, a.shape, a.size


a[:]


a = np.arange(10)
a


# 홀수
a[1::2]


a[::-1]


a = np.arange(10, 25).reshape(3, 5)
a, a.ndim, a.shape, a.size


a[1:]


a[-3:] #인덱스 벗어나서 값이 안나옴


a[1:-1]


a[:, :] # 행의 범위, 열의 범위


a[:, 1:]


a[1, 2]





# 3행 2열
matrix_d = np.arange(1,7).reshape(3,2)
matrix_d


# 2행 3열로 변환
print(matrix_d.T)


# reshape과 transpose은 값이 다름을 유의
# reshape는 flatten이 선행된다.
print(matrix_d.reshape(2,3)) 





# 1~10 사이의 숫자중에서 10개 출력
np.random.randint(1, 10, 10)


# 2행 5열로 츨력
np.random.randint(1, 10, (2,5))


# 10개 무작위 값 만들기
matrix_e = np.arange(1,11)
matrix_e


np.random.shuffle(matrix_e)
matrix_e


num= np.arange(1,46)
np.random.shuffle(num)
num[:6]


np.random.randint(1,46,6)





matrix1 = np.random.randn(10) # 표준정규분포 0 ~ 분산1
matrix1


matrix2 = np.random.randn(4, 4)
matrix2


matrix1.max(), matrix1.min()





m1 = np.random.randint(1, 50, (5,5))
m1


np.sum(m1, axis=0) # (x)행 합계


np.sum(m1, axis=1) # 열(y) 합계


# 1번째행의 합계는
m1[0,:]


# 1번째행의 합계는
np.sum(m1[0,:], axis=0) # x축(행 방향) 합계


np.sum(m1[:,2], axis=0)





import numpy as np


# 정수 난수로 구성된 4x3
m2 = np.random.randint(1, 50,(4,3))
m2


np.sort(m2) # 행안에서 열정렬


np.sort(m2, axis=0) # 행방향 오름차순(요소별로)


np.sort(m2, axis=1) # 열방향 오름차순


m2[::-1, ::-1] 





x = np.array([9,5,4])
np.argsort(x) # 오름차순 정렬 4 5 9 의 인덱스 값 


x[np.argsort(x)] # 인덱스값으로 실제 값 출력





m3 = np.arange(1,11)
m3


np.insert(m3, 0, 100)


m3[0]


m3[-1]


np.insert(m3, -1, 500)  # 인덱싱/슬라이싱 end처럼 인식


np.insert(m3, len(m3), 500) 


array([  1,   2,   3,   4,   5,   6,   7,   8,   9,  10, 500])
m4 = np.arange(1,10).reshape(3,3)
m4


m4 = np.arange(1,10).reshape(3,3)
m4


np.insert(m4, 0, 100) # 2차원배열의 경우 axis 미설정시 1차원으로 변경되어 삽입


# 1열으로 [100,100,100] 삽입
np.insert(m4, 0, 100, axis=1)


# 리스트로 삽입
np.insert(m4, 0, [100,200,300], axis=1)


m4.shape, m4.shape[1], len(m4)


# 마지막 컬럼으로 삽입
# 배열명.shape[1] 칼럼 길이
np.insert(m4, m4.shape[1], [100,200,300], axis=1)


# 마지막 행에 삽입
np.insert(m4, m4.shape[0], [100,200,300], axis=0)


np.delete(m4, 0, axis=0)





a = np.array([1,2,3])
b = np.array([4,5,6])
np.vstack((a,b))


np.hstack((a,b))


c = np.array([[1,2,3]]) # 2차원
c, c.ndim, c.shape


d = np.array([[4,5,6]]) # 2차원
d, d.ndim, d.shape


f = np.concatenate((c,d), axis=0) #
f, f.ndim, f.shape


f = np.concatenate((c,d), axis=1) #
f, f.ndim, f.shape





matrix = np.arange(1, 21)
matrix


matrix > 10


matrix[matrix > 10]


(matrix > 10).sum()


matrix = np.random.randint(1, 100, 30)
matrix, matrix[(matrix < 70) & (matrix > 30)]


# ~ 은 reverse를 의미
num[~(num > 30) & (num < 70)]


matrix = np.random.randint(1, 100, 30)
matrix, matrix[(matrix < 10) | (matrix > 90)]





n = np.random.randint(1,100,30)
i = np.array([0, 2, 3, 10, 20])
n, n[i]





a = np.arange(10)
a, np.where(a < 5, a, 10*a)
# a가 5보다 작으면 a를, 아니면 10을 곱하여 출력


b = np.arange(20, 31)
b, np.where(b<25) # 조건을 하나만 주면 인덱스를 반환함
